{
  "cells": [
    {
      "cell_type": "markdown",
      "metadata": {
        "id": "view-in-github",
        "colab_type": "text"
      },
      "source": [
        "<a href=\"https://colab.research.google.com/github/DancheG14/Hack2023_CheckOut/blob/main/First_parser%2Bgraph_plot.ipynb\" target=\"_parent\"><img src=\"https://colab.research.google.com/assets/colab-badge.svg\" alt=\"Open In Colab\"/></a>"
      ]
    },
    {
      "cell_type": "code",
      "source": [
        "#!pip install networkx\n",
        "#!pip install --upgrade networkx\n",
        "#!pip install pygraphviz pydot lxml\n",
        "#!pip install pygraphviz\n",
        "#!pytest networkx\n",
        "#!pytest --pyargs networkx"
      ],
      "metadata": {
        "id": "2utBaHY61IxZ"
      },
      "id": "2utBaHY61IxZ",
      "execution_count": null,
      "outputs": []
    },
    {
      "cell_type": "code",
      "source": [
        "!pip install pyg-nightly\n",
        "!pip install 'scipy>=1.8'"
      ],
      "metadata": {
        "id": "3BRWEP5l5AI4",
        "colab": {
          "base_uri": "https://localhost:8080/"
        },
        "outputId": "8a1a625f-1b25-4853-ceca-d51262bbddd1"
      },
      "id": "3BRWEP5l5AI4",
      "execution_count": 174,
      "outputs": [
        {
          "output_type": "stream",
          "name": "stdout",
          "text": [
            "Looking in indexes: https://pypi.org/simple, https://us-python.pkg.dev/colab-wheels/public/simple/\n",
            "Requirement already satisfied: pyg-nightly in /usr/local/lib/python3.8/dist-packages (2.3.0.dev20230122)\n",
            "Requirement already satisfied: numpy in /usr/local/lib/python3.8/dist-packages (from pyg-nightly) (1.21.6)\n",
            "Requirement already satisfied: tqdm in /usr/local/lib/python3.8/dist-packages (from pyg-nightly) (4.64.1)\n",
            "Requirement already satisfied: jinja2 in /usr/local/lib/python3.8/dist-packages (from pyg-nightly) (2.11.3)\n",
            "Requirement already satisfied: torchmetrics in /usr/local/lib/python3.8/dist-packages (from pyg-nightly) (0.11.0)\n",
            "Requirement already satisfied: psutil>=5.8.0 in /usr/local/lib/python3.8/dist-packages (from pyg-nightly) (5.9.4)\n",
            "Requirement already satisfied: pyparsing in /usr/local/lib/python3.8/dist-packages (from pyg-nightly) (3.0.9)\n",
            "Requirement already satisfied: requests in /usr/local/lib/python3.8/dist-packages (from pyg-nightly) (2.25.1)\n",
            "Requirement already satisfied: scikit-learn in /usr/local/lib/python3.8/dist-packages (from pyg-nightly) (1.0.2)\n",
            "Requirement already satisfied: scipy in /usr/local/lib/python3.8/dist-packages (from pyg-nightly) (1.10.0)\n",
            "Requirement already satisfied: MarkupSafe>=0.23 in /usr/local/lib/python3.8/dist-packages (from jinja2->pyg-nightly) (2.0.1)\n",
            "Requirement already satisfied: urllib3<1.27,>=1.21.1 in /usr/local/lib/python3.8/dist-packages (from requests->pyg-nightly) (1.24.3)\n",
            "Requirement already satisfied: certifi>=2017.4.17 in /usr/local/lib/python3.8/dist-packages (from requests->pyg-nightly) (2022.12.7)\n",
            "Requirement already satisfied: chardet<5,>=3.0.2 in /usr/local/lib/python3.8/dist-packages (from requests->pyg-nightly) (4.0.0)\n",
            "Requirement already satisfied: idna<3,>=2.5 in /usr/local/lib/python3.8/dist-packages (from requests->pyg-nightly) (2.10)\n",
            "Requirement already satisfied: threadpoolctl>=2.0.0 in /usr/local/lib/python3.8/dist-packages (from scikit-learn->pyg-nightly) (3.1.0)\n",
            "Requirement already satisfied: joblib>=0.11 in /usr/local/lib/python3.8/dist-packages (from scikit-learn->pyg-nightly) (1.2.0)\n",
            "Requirement already satisfied: packaging in /usr/local/lib/python3.8/dist-packages (from torchmetrics->pyg-nightly) (21.3)\n",
            "Requirement already satisfied: torch>=1.8.1 in /usr/local/lib/python3.8/dist-packages (from torchmetrics->pyg-nightly) (1.13.1+cu116)\n",
            "Requirement already satisfied: typing-extensions in /usr/local/lib/python3.8/dist-packages (from torchmetrics->pyg-nightly) (4.4.0)\n",
            "Looking in indexes: https://pypi.org/simple, https://us-python.pkg.dev/colab-wheels/public/simple/\n",
            "Requirement already satisfied: scipy>=1.8 in /usr/local/lib/python3.8/dist-packages (1.10.0)\n",
            "Requirement already satisfied: numpy<1.27.0,>=1.19.5 in /usr/local/lib/python3.8/dist-packages (from scipy>=1.8) (1.21.6)\n"
          ]
        }
      ]
    },
    {
      "cell_type": "code",
      "source": [
        "!pip install python-docx"
      ],
      "metadata": {
        "colab": {
          "base_uri": "https://localhost:8080/"
        },
        "id": "45Rg9A4C3bPH",
        "outputId": "fbe8ad3c-5fa4-4309-e8be-b41646b9fd21"
      },
      "id": "45Rg9A4C3bPH",
      "execution_count": 2,
      "outputs": [
        {
          "output_type": "stream",
          "name": "stdout",
          "text": [
            "Looking in indexes: https://pypi.org/simple, https://us-python.pkg.dev/colab-wheels/public/simple/\n",
            "Collecting python-docx\n",
            "  Downloading python-docx-0.8.11.tar.gz (5.6 MB)\n",
            "\u001b[2K     \u001b[90m━━━━━━━━━━━━━━━━━━━━━━━━━━━━━━━━━━━━━━━━\u001b[0m \u001b[32m5.6/5.6 MB\u001b[0m \u001b[31m92.2 MB/s\u001b[0m eta \u001b[36m0:00:00\u001b[0m\n",
            "\u001b[?25h  Preparing metadata (setup.py) ... \u001b[?25l\u001b[?25hdone\n",
            "Requirement already satisfied: lxml>=2.3.2 in /usr/local/lib/python3.8/dist-packages (from python-docx) (4.9.2)\n",
            "Building wheels for collected packages: python-docx\n",
            "  Building wheel for python-docx (setup.py) ... \u001b[?25l\u001b[?25hdone\n",
            "  Created wheel for python-docx: filename=python_docx-0.8.11-py3-none-any.whl size=184505 sha256=58fc792804db270180a6490200bd78548df253a07aaf97514500ba5e41faf041\n",
            "  Stored in directory: /root/.cache/pip/wheels/32/b8/b2/c4c2b95765e615fe139b0b17b5ea7c0e1b6519b0a9ec8fb34d\n",
            "Successfully built python-docx\n",
            "Installing collected packages: python-docx\n",
            "Successfully installed python-docx-0.8.11\n"
          ]
        }
      ]
    },
    {
      "cell_type": "code",
      "execution_count": 3,
      "id": "2d4ae203-eaff-447b-ae5b-09a142c8ad89",
      "metadata": {
        "id": "2d4ae203-eaff-447b-ae5b-09a142c8ad89"
      },
      "outputs": [],
      "source": [
        "import os\n",
        "import re\n",
        "import json\n",
        "import pandas as pd\n",
        "from itertools import repeat\n",
        "import docx\n",
        "from docx import Document\n",
        "#from termcolor import colored\n",
        "\n",
        "import networkx as nx\n",
        "from networkx.readwrite import json_graph\n",
        "import matplotlib.pyplot as plt"
      ]
    },
    {
      "cell_type": "code",
      "source": [
        "!wget \"https://www.dropbox.com/s/1uq4qo7jfjp94z5/json.zip\""
      ],
      "metadata": {
        "id": "bMEsO-yQQak1"
      },
      "id": "bMEsO-yQQak1",
      "execution_count": null,
      "outputs": []
    },
    {
      "cell_type": "code",
      "source": [
        "!wget \"https://www.dropbox.com/s/effqkwx14dogn1k/merged_data%20%28output_decres%29.json\""
      ],
      "metadata": {
        "id": "okG7OC6bYvN6"
      },
      "id": "okG7OC6bYvN6",
      "execution_count": null,
      "outputs": []
    },
    {
      "cell_type": "code",
      "source": [
        "!wget \"https://www.dropbox.com/s/2osnp0i9k8i4gbs/docx.zip\""
      ],
      "metadata": {
        "id": "Ikrkz188RCHT"
      },
      "id": "Ikrkz188RCHT",
      "execution_count": null,
      "outputs": []
    },
    {
      "cell_type": "code",
      "source": [
        "!wget \"https://www.dropbox.com/s/wr9qeus1ngcbr58/output_decrees.zip\""
      ],
      "metadata": {
        "id": "52oC-tEmluZA"
      },
      "id": "52oC-tEmluZA",
      "execution_count": null,
      "outputs": []
    },
    {
      "cell_type": "code",
      "execution_count": 6,
      "id": "493a153c-9ba4-45ea-9998-4714c6a17ab0",
      "metadata": {
        "id": "493a153c-9ba4-45ea-9998-4714c6a17ab0"
      },
      "outputs": [],
      "source": [
        "!unzip -q json.zip\n",
        "!unzip -q docx.zip\n"
      ]
    },
    {
      "cell_type": "code",
      "source": [
        "directory = '/content/json/'\n",
        "data = []\n",
        "for n in range(9999):\n",
        "    name = str(n) + '.json'\n",
        "    try:\n",
        "      for i in range(1,10):\n",
        "        try:\n",
        "            with open(directory + name, \"r\") as readFile:\n",
        "                jsonData = json.load(readFile)\n",
        "                jsonData[\"id\"] = n\n",
        "                data.append(jsonData)\n",
        "        except KeyError:\n",
        "          continue               \n",
        "    except ValueError:\n",
        "        continue"
      ],
      "metadata": {
        "id": "1mRi9PZT_c87"
      },
      "id": "1mRi9PZT_c87",
      "execution_count": 38,
      "outputs": []
    },
    {
      "cell_type": "code",
      "source": [
        "list(jsonData['Tasks']) "
      ],
      "metadata": {
        "colab": {
          "base_uri": "https://localhost:8080/"
        },
        "id": "393SSq7X_a2Q",
        "outputId": "d4b5bb82-1e89-4fe8-f38e-5b8dcbdfed72"
      },
      "id": "393SSq7X_a2Q",
      "execution_count": 39,
      "outputs": [
        {
          "output_type": "execute_result",
          "data": {
            "text/plain": [
              "['Task1',\n",
              " 'Task2',\n",
              " 'Task3',\n",
              " 'Task4',\n",
              " 'Task5',\n",
              " 'Task6',\n",
              " 'Task7',\n",
              " 'Global_supervisor',\n",
              " 'Global_deadline']"
            ]
          },
          "metadata": {},
          "execution_count": 39
        }
      ]
    },
    {
      "cell_type": "code",
      "source": [
        "data[2].keys()"
      ],
      "metadata": {
        "id": "-1-HeonCPTgV",
        "colab": {
          "base_uri": "https://localhost:8080/"
        },
        "outputId": "83a4f8ba-d199-4df0-b561-e03152cd2026"
      },
      "id": "-1-HeonCPTgV",
      "execution_count": 40,
      "outputs": [
        {
          "output_type": "execute_result",
          "data": {
            "text/plain": [
              "dict_keys(['Tasks', 'id'])"
            ]
          },
          "metadata": {},
          "execution_count": 40
        }
      ]
    },
    {
      "cell_type": "code",
      "execution_count": 42,
      "id": "c98a19f9-8c32-4c7f-91bd-7b0f4fefd17e",
      "metadata": {
        "id": "c98a19f9-8c32-4c7f-91bd-7b0f4fefd17e"
      },
      "outputs": [],
      "source": [
        "with open('merged_data.json', \"w\") as outfile:\n",
        "    json.dump(data, outfile)"
      ]
    },
    {
      "cell_type": "code",
      "execution_count": null,
      "id": "28d9ed24-2d60-49cd-aece-6ea8a7f97a22",
      "metadata": {
        "id": "28d9ed24-2d60-49cd-aece-6ea8a7f97a22"
      },
      "outputs": [],
      "source": [
        "with open('merged_data.json', \"r\") as readFile:\n",
        "            merge_data = json.load(readFile, encoding='utf-8')\n",
        "\n",
        "merge_data"
      ]
    },
    {
      "cell_type": "code",
      "source": [
        "merge_data[9999].keys()"
      ],
      "metadata": {
        "colab": {
          "base_uri": "https://localhost:8080/"
        },
        "id": "f8188MkX8nAz",
        "outputId": "eb7a31f1-2ddb-4206-bcf9-d3f36e324e91"
      },
      "id": "f8188MkX8nAz",
      "execution_count": 54,
      "outputs": [
        {
          "output_type": "execute_result",
          "data": {
            "text/plain": [
              "dict_keys(['Tasks', 'id'])"
            ]
          },
          "metadata": {},
          "execution_count": 54
        }
      ]
    },
    {
      "cell_type": "markdown",
      "source": [
        "### Выделяем по ключам из .json отделы, задачи и ответственных сотрудников с должностью вместе"
      ],
      "metadata": {
        "id": "e9uCoWNN9Crp"
      },
      "id": "e9uCoWNN9Crp"
    },
    {
      "cell_type": "code",
      "source": [
        "departments = []\n",
        "persons = []\n",
        "tasks = []\n",
        "supervisors = []\n",
        "for n in range(9999):\n",
        "    try:\n",
        "        for i in range (1,10):\n",
        "          try:\n",
        "              departments.append(merge_data[n]['Tasks']['Task{}'.format(i)]['task_responsibles_groups'])\n",
        "              persons.append(merge_data[n]['Tasks']['Task{}'.format(i)]['task_responsibles_people'])\n",
        "              supervisors.append(merge_data[n]['Tasks'].get('Global_supervisor'))\n",
        "              tasks.append(merge_data[n]['Tasks']['Task{}'.format(i)]['task_text'])\n",
        "          except KeyError:\n",
        "              continue\n",
        "    except IndexError:\n",
        "        continue"
      ],
      "metadata": {
        "id": "DSv0CQ286BHq"
      },
      "id": "DSv0CQ286BHq",
      "execution_count": 19,
      "outputs": []
    },
    {
      "cell_type": "code",
      "source": [
        "departments"
      ],
      "metadata": {
        "id": "onkX4flqNW56"
      },
      "id": "onkX4flqNW56",
      "execution_count": null,
      "outputs": []
    },
    {
      "cell_type": "code",
      "source": [
        "persons"
      ],
      "metadata": {
        "id": "TLgePo6MubEM"
      },
      "id": "TLgePo6MubEM",
      "execution_count": null,
      "outputs": []
    },
    {
      "cell_type": "code",
      "source": [
        "tasks"
      ],
      "metadata": {
        "id": "Rre2--Z7ufsZ"
      },
      "id": "Rre2--Z7ufsZ",
      "execution_count": null,
      "outputs": []
    },
    {
      "cell_type": "code",
      "source": [
        "supervisors"
      ],
      "metadata": {
        "id": "2jqpaSFRulVe"
      },
      "id": "2jqpaSFRulVe",
      "execution_count": null,
      "outputs": []
    },
    {
      "cell_type": "markdown",
      "source": [
        "## Преобразуем .json в DataFrame"
      ],
      "metadata": {
        "id": "njfba_xeZFE3"
      },
      "id": "njfba_xeZFE3"
    },
    {
      "cell_type": "code",
      "source": [
        "df = pd.DataFrame(merge_data)\n",
        "\n",
        "     \n",
        "\n",
        "df.set_index('id', inplace=True)\n",
        "df.sort_index(inplace=True) # сортировка по индексу=id \n",
        "     \n",
        "\n",
        "df.columns = df.columns.str.replace(\"Tasks.\", \"\")"
      ],
      "metadata": {
        "colab": {
          "base_uri": "https://localhost:8080/"
        },
        "id": "vEu3MZvIXTyt",
        "outputId": "69537a06-4c60-40c8-de46-059e0891fc7e"
      },
      "id": "vEu3MZvIXTyt",
      "execution_count": 46,
      "outputs": [
        {
          "output_type": "stream",
          "name": "stderr",
          "text": [
            "<ipython-input-46-71efab3bc457>:9: FutureWarning: The default value of regex will change from True to False in a future version.\n",
            "  df.columns = df.columns.str.replace(\"Tasks.\", \"\")\n"
          ]
        }
      ]
    },
    {
      "cell_type": "code",
      "source": [
        "df[:10]"
      ],
      "metadata": {
        "colab": {
          "base_uri": "https://localhost:8080/",
          "height": 394
        },
        "id": "3bP-kTrse0FR",
        "outputId": "f40a85c6-2d3e-401c-de82-0d78fecfb9b2"
      },
      "id": "3bP-kTrse0FR",
      "execution_count": 47,
      "outputs": [
        {
          "output_type": "execute_result",
          "data": {
            "text/plain": [
              "                                                Tasks\n",
              "id                                                   \n",
              "0   {'Task1': {'task_text': 'Закупить книги. Срок ...\n",
              "0   {'Task1': {'task_text': 'Закупить книги. Срок ...\n",
              "0   {'Task1': {'task_text': 'Закупить книги. Срок ...\n",
              "0   {'Task1': {'task_text': 'Закупить книги. Срок ...\n",
              "0   {'Task1': {'task_text': 'Закупить книги. Срок ...\n",
              "0   {'Task1': {'task_text': 'Закупить книги. Срок ...\n",
              "0   {'Task1': {'task_text': 'Закупить книги. Срок ...\n",
              "0   {'Task1': {'task_text': 'Закупить книги. Срок ...\n",
              "0   {'Task1': {'task_text': 'Закупить книги. Срок ...\n",
              "1   {'Task1': {'task_text': 'Провести анализ поста..."
            ],
            "text/html": [
              "\n",
              "  <div id=\"df-63ec8b87-2fcd-4aed-b9c1-a477b2637f2a\">\n",
              "    <div class=\"colab-df-container\">\n",
              "      <div>\n",
              "<style scoped>\n",
              "    .dataframe tbody tr th:only-of-type {\n",
              "        vertical-align: middle;\n",
              "    }\n",
              "\n",
              "    .dataframe tbody tr th {\n",
              "        vertical-align: top;\n",
              "    }\n",
              "\n",
              "    .dataframe thead th {\n",
              "        text-align: right;\n",
              "    }\n",
              "</style>\n",
              "<table border=\"1\" class=\"dataframe\">\n",
              "  <thead>\n",
              "    <tr style=\"text-align: right;\">\n",
              "      <th></th>\n",
              "      <th>Tasks</th>\n",
              "    </tr>\n",
              "    <tr>\n",
              "      <th>id</th>\n",
              "      <th></th>\n",
              "    </tr>\n",
              "  </thead>\n",
              "  <tbody>\n",
              "    <tr>\n",
              "      <th>0</th>\n",
              "      <td>{'Task1': {'task_text': 'Закупить книги. Срок ...</td>\n",
              "    </tr>\n",
              "    <tr>\n",
              "      <th>0</th>\n",
              "      <td>{'Task1': {'task_text': 'Закупить книги. Срок ...</td>\n",
              "    </tr>\n",
              "    <tr>\n",
              "      <th>0</th>\n",
              "      <td>{'Task1': {'task_text': 'Закупить книги. Срок ...</td>\n",
              "    </tr>\n",
              "    <tr>\n",
              "      <th>0</th>\n",
              "      <td>{'Task1': {'task_text': 'Закупить книги. Срок ...</td>\n",
              "    </tr>\n",
              "    <tr>\n",
              "      <th>0</th>\n",
              "      <td>{'Task1': {'task_text': 'Закупить книги. Срок ...</td>\n",
              "    </tr>\n",
              "    <tr>\n",
              "      <th>0</th>\n",
              "      <td>{'Task1': {'task_text': 'Закупить книги. Срок ...</td>\n",
              "    </tr>\n",
              "    <tr>\n",
              "      <th>0</th>\n",
              "      <td>{'Task1': {'task_text': 'Закупить книги. Срок ...</td>\n",
              "    </tr>\n",
              "    <tr>\n",
              "      <th>0</th>\n",
              "      <td>{'Task1': {'task_text': 'Закупить книги. Срок ...</td>\n",
              "    </tr>\n",
              "    <tr>\n",
              "      <th>0</th>\n",
              "      <td>{'Task1': {'task_text': 'Закупить книги. Срок ...</td>\n",
              "    </tr>\n",
              "    <tr>\n",
              "      <th>1</th>\n",
              "      <td>{'Task1': {'task_text': 'Провести анализ поста...</td>\n",
              "    </tr>\n",
              "  </tbody>\n",
              "</table>\n",
              "</div>\n",
              "      <button class=\"colab-df-convert\" onclick=\"convertToInteractive('df-63ec8b87-2fcd-4aed-b9c1-a477b2637f2a')\"\n",
              "              title=\"Convert this dataframe to an interactive table.\"\n",
              "              style=\"display:none;\">\n",
              "        \n",
              "  <svg xmlns=\"http://www.w3.org/2000/svg\" height=\"24px\"viewBox=\"0 0 24 24\"\n",
              "       width=\"24px\">\n",
              "    <path d=\"M0 0h24v24H0V0z\" fill=\"none\"/>\n",
              "    <path d=\"M18.56 5.44l.94 2.06.94-2.06 2.06-.94-2.06-.94-.94-2.06-.94 2.06-2.06.94zm-11 1L8.5 8.5l.94-2.06 2.06-.94-2.06-.94L8.5 2.5l-.94 2.06-2.06.94zm10 10l.94 2.06.94-2.06 2.06-.94-2.06-.94-.94-2.06-.94 2.06-2.06.94z\"/><path d=\"M17.41 7.96l-1.37-1.37c-.4-.4-.92-.59-1.43-.59-.52 0-1.04.2-1.43.59L10.3 9.45l-7.72 7.72c-.78.78-.78 2.05 0 2.83L4 21.41c.39.39.9.59 1.41.59.51 0 1.02-.2 1.41-.59l7.78-7.78 2.81-2.81c.8-.78.8-2.07 0-2.86zM5.41 20L4 18.59l7.72-7.72 1.47 1.35L5.41 20z\"/>\n",
              "  </svg>\n",
              "      </button>\n",
              "      \n",
              "  <style>\n",
              "    .colab-df-container {\n",
              "      display:flex;\n",
              "      flex-wrap:wrap;\n",
              "      gap: 12px;\n",
              "    }\n",
              "\n",
              "    .colab-df-convert {\n",
              "      background-color: #E8F0FE;\n",
              "      border: none;\n",
              "      border-radius: 50%;\n",
              "      cursor: pointer;\n",
              "      display: none;\n",
              "      fill: #1967D2;\n",
              "      height: 32px;\n",
              "      padding: 0 0 0 0;\n",
              "      width: 32px;\n",
              "    }\n",
              "\n",
              "    .colab-df-convert:hover {\n",
              "      background-color: #E2EBFA;\n",
              "      box-shadow: 0px 1px 2px rgba(60, 64, 67, 0.3), 0px 1px 3px 1px rgba(60, 64, 67, 0.15);\n",
              "      fill: #174EA6;\n",
              "    }\n",
              "\n",
              "    [theme=dark] .colab-df-convert {\n",
              "      background-color: #3B4455;\n",
              "      fill: #D2E3FC;\n",
              "    }\n",
              "\n",
              "    [theme=dark] .colab-df-convert:hover {\n",
              "      background-color: #434B5C;\n",
              "      box-shadow: 0px 1px 3px 1px rgba(0, 0, 0, 0.15);\n",
              "      filter: drop-shadow(0px 1px 2px rgba(0, 0, 0, 0.3));\n",
              "      fill: #FFFFFF;\n",
              "    }\n",
              "  </style>\n",
              "\n",
              "      <script>\n",
              "        const buttonEl =\n",
              "          document.querySelector('#df-63ec8b87-2fcd-4aed-b9c1-a477b2637f2a button.colab-df-convert');\n",
              "        buttonEl.style.display =\n",
              "          google.colab.kernel.accessAllowed ? 'block' : 'none';\n",
              "\n",
              "        async function convertToInteractive(key) {\n",
              "          const element = document.querySelector('#df-63ec8b87-2fcd-4aed-b9c1-a477b2637f2a');\n",
              "          const dataTable =\n",
              "            await google.colab.kernel.invokeFunction('convertToInteractive',\n",
              "                                                     [key], {});\n",
              "          if (!dataTable) return;\n",
              "\n",
              "          const docLinkHtml = 'Like what you see? Visit the ' +\n",
              "            '<a target=\"_blank\" href=https://colab.research.google.com/notebooks/data_table.ipynb>data table notebook</a>'\n",
              "            + ' to learn more about interactive tables.';\n",
              "          element.innerHTML = '';\n",
              "          dataTable['output_type'] = 'display_data';\n",
              "          await google.colab.output.renderOutput(dataTable, element);\n",
              "          const docLink = document.createElement('div');\n",
              "          docLink.innerHTML = docLinkHtml;\n",
              "          element.appendChild(docLink);\n",
              "        }\n",
              "      </script>\n",
              "    </div>\n",
              "  </div>\n",
              "  "
            ]
          },
          "metadata": {},
          "execution_count": 47
        }
      ]
    },
    {
      "cell_type": "markdown",
      "source": [
        "#### Извлекаем ФИО и должность руководителя из документа Word"
      ],
      "metadata": {
        "id": "MpVB_gPWC78s"
      },
      "id": "MpVB_gPWC78s"
    },
    {
      "cell_type": "code",
      "source": [
        "dir = '/content/docx/'\n",
        "fileText = []\n",
        "\n",
        "for fileIndex in range(9999):\n",
        "     name = str(fileIndex) + '.docx' \n",
        "     doctext = []\n",
        "     doc = Document(dir + name)\n",
        "     for paragraph in doc.paragraphs:\n",
        "         if paragraph.text != \"\":\n",
        "             doctext.append([paragraph.text.replace(\"\\n\",\"\")])  \n",
        "     fileText.append(doctext)       \n",
        "\n"
      ],
      "metadata": {
        "id": "3AmKKA0FC7AB"
      },
      "id": "3AmKKA0FC7AB",
      "execution_count": 120,
      "outputs": []
    },
    {
      "cell_type": "code",
      "source": [
        "dir = '/content/docx/'"
      ],
      "metadata": {
        "id": "sQVzI-av0jDz"
      },
      "id": "sQVzI-av0jDz",
      "execution_count": 150,
      "outputs": []
    },
    {
      "cell_type": "code",
      "source": [
        "fileText = []\n",
        "ids = []\n",
        "for index in range(9999):\n",
        "     name = str(index) + '.docx'\n",
        "     ids.append(index)\n",
        "     doctext = [] \n",
        "     doc = Document(dir + name)\n",
        "     for paragraph in doc.paragraphs:\n",
        "         if paragraph.text != \"\":\n",
        "             doctext.append(paragraph.text.replace(\"\\n\",\"\"))  \n",
        "     fileText.append(doctext)  "
      ],
      "metadata": {
        "id": "0BTebKbbwOHB"
      },
      "id": "0BTebKbbwOHB",
      "execution_count": 186,
      "outputs": []
    },
    {
      "cell_type": "code",
      "source": [
        "fileText\n",
        "fileText[0]"
      ],
      "metadata": {
        "colab": {
          "base_uri": "https://localhost:8080/"
        },
        "id": "WVHKkaTDwwJy",
        "outputId": "adae2462-f019-4561-85f7-9428f7d08aa7"
      },
      "id": "WVHKkaTDwwJy",
      "execution_count": 187,
      "outputs": [
        {
          "output_type": "execute_result",
          "data": {
            "text/plain": [
              "['ООО \"Мегасофт\"',\n",
              " 'Приказ',\n",
              " 'Для организации мероприятия \"День заказчика\" приказываю:',\n",
              " 'a. Закупить книги. Срок завершения: 19 апр 15.',\n",
              " 'Ответственность за исполнение распоряжения возложить на специалиста первой категории административно-хозяйственного отдела Кравцову И.Е.',\n",
              " 'и.о. генерального директора Сердитый А.И.11 апреля 2013 года']"
            ]
          },
          "metadata": {},
          "execution_count": 187
        }
      ]
    },
    {
      "cell_type": "code",
      "source": [
        "fileText = []\n",
        "for index in range(9999):\n",
        "    name = str(index) + '.docx'\n",
        "    document = docx.Document(dir + name)\n",
        "    for paragraphIndex, paragraph in enumerate(document.paragraphs):\n",
        "         fileText += paragraph.text"
      ],
      "metadata": {
        "id": "isTbF5RKr-BJ"
      },
      "id": "isTbF5RKr-BJ",
      "execution_count": 169,
      "outputs": []
    },
    {
      "cell_type": "code",
      "source": [
        "doc_df = pd.DataFrame({\"id\": ids, \"text\": fileText}, columns=[\"id\", \"text\"])"
      ],
      "metadata": {
        "id": "3qV6ySRLXGKM"
      },
      "id": "3qV6ySRLXGKM",
      "execution_count": 183,
      "outputs": []
    },
    {
      "cell_type": "code",
      "source": [
        "doc_df[:10]"
      ],
      "metadata": {
        "id": "4-EBqXHxVrQl"
      },
      "id": "4-EBqXHxVrQl",
      "execution_count": null,
      "outputs": []
    },
    {
      "cell_type": "code",
      "source": [],
      "metadata": {
        "id": "nKaEs5e0C1kD"
      },
      "id": "nKaEs5e0C1kD",
      "execution_count": null,
      "outputs": []
    },
    {
      "cell_type": "markdown",
      "source": [
        "### Находим уникальные значения департаментов,сотрудников и задач:"
      ],
      "metadata": {
        "id": "OBLTl1bwMyrD"
      },
      "id": "OBLTl1bwMyrD"
    },
    {
      "cell_type": "code",
      "source": [
        "departments_set = set(departments)\n",
        "departments_Unique_list = list(departments_set)\n",
        "departments_Unique_list"
      ],
      "metadata": {
        "id": "kXmzptyd6vWG",
        "colab": {
          "base_uri": "https://localhost:8080/"
        },
        "outputId": "5b53d8fc-00bf-4fc1-9b13-0a07230b97b5"
      },
      "id": "kXmzptyd6vWG",
      "execution_count": null,
      "outputs": [
        {
          "output_type": "execute_result",
          "data": {
            "text/plain": [
              "['Отдел проектирования',\n",
              " 'Административно-хозяйственный отдел',\n",
              " 'Отдел тестирования',\n",
              " 'Отдел разработки систем',\n",
              " 'Бухгалтерия',\n",
              " 'Отдел архитектуры',\n",
              " 'Служба ИТ',\n",
              " 'Отдел эксплуатации']"
            ]
          },
          "metadata": {},
          "execution_count": 15
        }
      ]
    },
    {
      "cell_type": "code",
      "source": [
        "persons_task_text_set = set(persons)\n",
        "persons_Unique_list = list(persons_task_text_set)\n",
        "len(persons_Unique_list)\n",
        "persons_Unique_list"
      ],
      "metadata": {
        "id": "6aFp6WeTOz6y"
      },
      "id": "6aFp6WeTOz6y",
      "execution_count": null,
      "outputs": []
    },
    {
      "cell_type": "code",
      "source": [
        "tasks_set = set(tasks)\n",
        "tasks_Unique_list = list(tasks_set)\n",
        "len(tasks_Unique_list)"
      ],
      "metadata": {
        "colab": {
          "base_uri": "https://localhost:8080/"
        },
        "id": "4QPowgpACrr1",
        "outputId": "78ac39c1-eb2f-4bf9-edf9-2852c1946dd8"
      },
      "id": "4QPowgpACrr1",
      "execution_count": null,
      "outputs": [
        {
          "output_type": "execute_result",
          "data": {
            "text/plain": [
              "50441"
            ]
          },
          "metadata": {},
          "execution_count": 17
        }
      ]
    },
    {
      "cell_type": "markdown",
      "source": [
        "### Пробуем строить граф:"
      ],
      "metadata": {
        "id": "iWStqEc8YgUn"
      },
      "id": "iWStqEc8YgUn"
    },
    {
      "cell_type": "code",
      "source": [
        "DG = nx.DiGraph()\n",
        "\n",
        "for g in range(int(len(departments_Unique_list))):\n",
        "    try:\n",
        "      DG.add_edge('ООО \"Мегасофт\"', departments_Unique_list[g]) \n",
        "      for i in range(int(len(persons_Unique_list))):\n",
        "          DG.add_edge(departments_Unique_list[g], persons_Unique_list[i])  \n",
        "          for t in range(425): #int(len(persons_Unique_list))):\n",
        "                DG.add_edge(persons_Unique_list[g], tasks_Unique_list[t])\n",
        "    except IndexError:\n",
        "      continue\n",
        "\n",
        "nx.draw(DG, with_labels=False, font_weight='k')"
      ],
      "metadata": {
        "colab": {
          "base_uri": "https://localhost:8080/",
          "height": 319
        },
        "id": "alq5ontdWWet",
        "outputId": "da3414c1-b5dd-4d13-eb95-a6d3a74893d2"
      },
      "id": "alq5ontdWWet",
      "execution_count": null,
      "outputs": [
        {
          "output_type": "display_data",
          "data": {
            "text/plain": [
              "<Figure size 432x288 with 1 Axes>"
            ],
            "image/png": "[encoded data removed]"
          },
          "metadata": {}
        }
      ]
    },
    {
      "cell_type": "code",
      "source": [
        "def append_value(dict_obj, key, value):\n",
        "    # Check if key exist in dict or not\n",
        "    if key in dict_obj:\n",
        "        # Key exist in dict.\n",
        "        # Check if type of value of key is list or not\n",
        "        if not isinstance(dict_obj[key], list):\n",
        "            # If type is not list then make it list\n",
        "            dict_obj[key] = [dict_obj[key]]\n",
        "        # Append the value in list\n",
        "        dict_obj[key].append(value)\n",
        "    else:\n",
        "        # As key is not in dict,\n",
        "        # so, add key-value pair\n",
        "        dict_obj[key] = value"
      ],
      "metadata": {
        "id": "kxRi2C9pHWj7"
      },
      "id": "kxRi2C9pHWj7",
      "execution_count": null,
      "outputs": []
    },
    {
      "cell_type": "code",
      "source": [
        "departments_Unique_list"
      ],
      "metadata": {
        "colab": {
          "base_uri": "https://localhost:8080/"
        },
        "id": "LWyz0HEMB3_R",
        "outputId": "82f30acd-5b63-4b25-b7f7-423634eebc2a"
      },
      "id": "LWyz0HEMB3_R",
      "execution_count": null,
      "outputs": [
        {
          "output_type": "execute_result",
          "data": {
            "text/plain": [
              "['Отдел проектирования',\n",
              " 'Административно-хозяйственный отдел',\n",
              " 'Отдел тестирования',\n",
              " 'Отдел разработки систем',\n",
              " 'Бухгалтерия',\n",
              " 'Отдел архитектуры',\n",
              " 'Служба ИТ',\n",
              " 'Отдел эксплуатации']"
            ]
          },
          "metadata": {},
          "execution_count": 50
        }
      ]
    },
    {
      "cell_type": "code",
      "source": [
        "voc = {'ООО \"Мегасофт\"':\"\"}\n",
        "voc.keys()"
      ],
      "metadata": {
        "colab": {
          "base_uri": "https://localhost:8080/"
        },
        "id": "3eLO5mnhDIZb",
        "outputId": "e788e145-b6e8-46cf-ef5a-f5c9ab5d289e"
      },
      "id": "3eLO5mnhDIZb",
      "execution_count": null,
      "outputs": [
        {
          "output_type": "execute_result",
          "data": {
            "text/plain": [
              "dict_keys(['ООО \"Мегасофт\"'])"
            ]
          },
          "metadata": {},
          "execution_count": 48
        }
      ]
    },
    {
      "cell_type": "code",
      "source": [
        "voc['ООО \"Мегасофт\"'] = departments_Unique_list"
      ],
      "metadata": {
        "id": "C4Rhyl8zG-ei"
      },
      "id": "C4Rhyl8zG-ei",
      "execution_count": null,
      "outputs": []
    },
    {
      "cell_type": "code",
      "source": [
        "{'Административно-хозяйственный отдел':[\"Исаев\", \"Чертов\", \"Гагарин\"]}"
      ],
      "metadata": {
        "colab": {
          "base_uri": "https://localhost:8080/"
        },
        "id": "bngb7C6jQKpI",
        "outputId": "f1f5ead9-a8ee-4087-ee86-59a2231bb888"
      },
      "id": "bngb7C6jQKpI",
      "execution_count": null,
      "outputs": [
        {
          "output_type": "execute_result",
          "data": {
            "text/plain": [
              "{'Административно-хозяйственный отдел': ['Исаев', 'Чертов', 'Гагарин']}"
            ]
          },
          "metadata": {},
          "execution_count": 58
        }
      ]
    },
    {
      "cell_type": "code",
      "source": [
        "persons = {\"Граф\":{'ООО \"Мегасофт\"':\n",
        "              {'Отдел проектирования':[\"Иванов\", \"Петров\", \"Мун\"]},\n",
        "              {'Административно-хозяйственный отдел': [\"Исаев\", \"Чертов\",\"Гагарин\"]},\n",
        "              {'Отдел тестирования': ['Маринов']},\n",
        "              {'Отдел разработки систем': [\"Жопин\"]}\n",
        "           }\n",
        "          }"
      ],
      "metadata": {
        "id": "fTbWuHpzHnpU"
      },
      "id": "fTbWuHpzHnpU",
      "execution_count": null,
      "outputs": []
    },
    {
      "cell_type": "code",
      "source": [
        "persons = {\"Граф\":{'ООО \"Мегасофт\"':\n",
        "              {'Отдел проектирования':[\"Иванов\", \"Петров\", \"Мун\"]},\n",
        "              {'Административно-хозяйственный отдел': [\"Исаев\", \"Чертов\",\"Гагарин\"]}\n",
        "           }\n",
        "          }"
      ],
      "metadata": {
        "colab": {
          "base_uri": "https://localhost:8080/",
          "height": 131
        },
        "id": "QONMJaABRNSi",
        "outputId": "a4a47262-aca3-46ea-858a-9389c2a52974"
      },
      "id": "QONMJaABRNSi",
      "execution_count": null,
      "outputs": [
        {
          "output_type": "error",
          "ename": "SyntaxError",
          "evalue": "ignored",
          "traceback": [
            "\u001b[0;36m  File \u001b[0;32m\"<ipython-input-70-01b25b498c43>\"\u001b[0;36m, line \u001b[0;32m4\u001b[0m\n\u001b[0;31m    }\u001b[0m\n\u001b[0m    ^\u001b[0m\n\u001b[0;31mSyntaxError\u001b[0m\u001b[0;31m:\u001b[0m invalid syntax\n"
          ]
        }
      ]
    },
    {
      "cell_type": "code",
      "source": [
        "voc = {\"Отделы\": {\"IT\":{\"Paul\":{\"developing\":\"\"}},\n",
        "                 \"Fin\": {\"Jack\":{\"selling\":\"\"}},\n",
        "                 \"Dev\":{\"Mary\": {\"coding\":\"\"}}\n",
        "                 }\n",
        "       }"
      ],
      "metadata": {
        "id": "QPK5NRpfRe2P"
      },
      "id": "QPK5NRpfRe2P",
      "execution_count": null,
      "outputs": []
    },
    {
      "cell_type": "code",
      "source": [
        "list(voc.keys())"
      ],
      "metadata": {
        "colab": {
          "base_uri": "https://localhost:8080/"
        },
        "id": "OtjBAg47X2EE",
        "outputId": "afce4652-8914-445c-ae8e-100dde1bd0bd"
      },
      "id": "OtjBAg47X2EE",
      "execution_count": null,
      "outputs": [
        {
          "output_type": "execute_result",
          "data": {
            "text/plain": [
              "['Отделы']"
            ]
          },
          "metadata": {},
          "execution_count": 114
        }
      ]
    },
    {
      "cell_type": "code",
      "source": [
        "DG = nx.DiGraph()\n",
        "\n",
        "for k,v in voc.items():\n",
        "  DG.add_edge('ООО \"Мегасофт\"', k)\n",
        "  for dep, sotr in v.items():\n",
        "    DG.add_edge( k, dep)\n",
        "    for resp, _ in sotr.items():\n",
        "      DG.add_edge(dep, resp)\n",
        "      for res\n",
        "\n",
        "\n",
        "nx.draw(DG, with_labels=True)"
      ],
      "metadata": {
        "colab": {
          "base_uri": "https://localhost:8080/",
          "height": 319
        },
        "id": "GLUxt83sV24z",
        "outputId": "b7a6475d-34df-475c-8f57-f7e309d75caf"
      },
      "id": "GLUxt83sV24z",
      "execution_count": null,
      "outputs": [
        {
          "output_type": "display_data",
          "data": {
            "text/plain": [
              "<Figure size 432x288 with 1 Axes>"
            ],
            "image/png": "[encoded data removed]"
          },
          "metadata": {}
        }
      ]
    },
    {
      "cell_type": "code",
      "source": [],
      "metadata": {
        "id": "ReCRzZurhmgl"
      },
      "id": "ReCRzZurhmgl",
      "execution_count": null,
      "outputs": []
    },
    {
      "cell_type": "code",
      "source": [
        "DG = nx.DiGraph()\n",
        "\n",
        "for main_1, value in voc.items():\n",
        "  DG.add_edge('ООО \"Мегасофт\"', main_1)\n",
        "\n",
        "  for main_2, dep in value.items():\n",
        "    DG.add_edge(main_1, main_2)\n",
        "    \n",
        "    for main_3, sotr in dep.items():\n",
        "      DG.add_edge(main_2, main_3)\n",
        "\n",
        "      for main_4, _ in sotr.items():\n",
        "        DG.add_edge(main_3, main_4)\n",
        "\n",
        "pos = graphviz_layout(, prog=\"twopi\")\n",
        "nx.draw(T, pos)\n",
        "plt.show()"
      ],
      "metadata": {
        "colab": {
          "base_uri": "https://localhost:8080/",
          "height": 130
        },
        "id": "8HTvn22VcQCP",
        "outputId": "ef475e62-9f31-495b-9dc9-c20a0e965e33"
      },
      "id": "8HTvn22VcQCP",
      "execution_count": null,
      "outputs": [
        {
          "output_type": "error",
          "ename": "SyntaxError",
          "evalue": "ignored",
          "traceback": [
            "\u001b[0;36m  File \u001b[0;32m\"<ipython-input-203-0ff34b33003d>\"\u001b[0;36m, line \u001b[0;32m15\u001b[0m\n\u001b[0;31m    pos = graphviz_layout(, prog=\"twopi\")\u001b[0m\n\u001b[0m                          ^\u001b[0m\n\u001b[0;31mSyntaxError\u001b[0m\u001b[0;31m:\u001b[0m invalid syntax\n"
          ]
        }
      ]
    },
    {
      "cell_type": "code",
      "source": [
        "pos = {'ООО \"Мегасофт\"': (1, 1), 'Отделы': (2,5)} \n",
        "DG = nx.DiGraph()\n",
        "\n",
        "\n",
        "DG.add_node('ООО \"Мегасофт\"')\n",
        "DG.add_node('Отделы')\n",
        "\n",
        "    \n",
        "nx.draw(DG, pos=pos, with_labels=True)"
      ],
      "metadata": {
        "colab": {
          "base_uri": "https://localhost:8080/",
          "height": 319
        },
        "id": "sRE1Ay6nhrf5",
        "outputId": "70366cb2-0c03-4181-abc1-31d9eea57f99"
      },
      "id": "sRE1Ay6nhrf5",
      "execution_count": null,
      "outputs": [
        {
          "output_type": "display_data",
          "data": {
            "text/plain": [
              "<Figure size 432x288 with 1 Axes>"
            ],
            "image/png": "[encoded data removed]"
          },
          "metadata": {}
        }
      ]
    },
    {
      "cell_type": "code",
      "source": [
        "import networkx as nx\n",
        "import numpy as np\n",
        "\n",
        "G = nx.path_graph(20)  # An example graph\n",
        "center_node = 'ООО \"Мегасофт\"'  # Or any other node to be in the center\n",
        "edge_nodes = set(G) - {center_node}\n",
        "# Ensures the nodes around the circle are evenly distributed\n",
        "pos = nx.circular_layout(G.subgraph(edge_nodes))\n",
        "pos[center_node] = np.array([0, 0])  # manually specify node position\n",
        "nx.draw(G, pos, with_labels=True)"
      ],
      "metadata": {
        "colab": {
          "base_uri": "https://localhost:8080/",
          "height": 319
        },
        "id": "HeEXgRZUlnOP",
        "outputId": "b78d8013-8836-4fad-e3e9-d242650ff203"
      },
      "id": "HeEXgRZUlnOP",
      "execution_count": null,
      "outputs": [
        {
          "output_type": "display_data",
          "data": {
            "text/plain": [
              "<Figure size 432x288 with 1 Axes>"
            ],
            "image/png": "[encoded data removed]"
          },
          "metadata": {}
        }
      ]
    },
    {
      "cell_type": "code",
      "source": [
        "DG.add_edge('ООО \"Мегасофт\"', list(voc.keys())[0])\n",
        "nx.draw(DG, with_labels=True)"
      ],
      "metadata": {
        "id": "pHrzWV2wZQIU"
      },
      "id": "pHrzWV2wZQIU",
      "execution_count": null,
      "outputs": []
    },
    {
      "cell_type": "code",
      "source": [
        "DG = nx.DiGraph()\n",
        "\n",
        "DG.add_edge('ООО \"Мегасофт\"', departments_Unique_list[0])\n",
        "for dep in range(len(departments_Unique_list)):\n",
        "  DG.add_edge('ООО \"Мегасофт\"', departments_Unique_list[dep]) \n",
        "\n",
        "\n",
        "\"\"\"\n",
        "for g in range(int(len(departments_Unique_list))):\n",
        "    try:\n",
        "      DG.add_edge('ООО \"Мегасофт\"', departments_Unique_list[g]) \n",
        "      for i in range(int(len(departments_Unique_list))):\n",
        "          DG.add_edge(departments_Unique_list[g], persons_Unique_list[i])  \n",
        "        \n",
        "    except IndexError:\n",
        "      continue\n",
        "\"\"\"\n",
        "nx.draw(DG, with_labels=False, font_weight='k')"
      ],
      "metadata": {
        "colab": {
          "base_uri": "https://localhost:8080/",
          "height": 319
        },
        "id": "wdVfexywAaGd",
        "outputId": "1fc2ffb1-fb4b-4b7a-9286-7204ba507756"
      },
      "id": "wdVfexywAaGd",
      "execution_count": null,
      "outputs": [
        {
          "output_type": "display_data",
          "data": {
            "text/plain": [
              "<Figure size 432x288 with 1 Axes>"
            ],
            "image/png": "[encoded data removed]"
          },
          "metadata": {}
        }
      ]
    }
  ],
  "metadata": {
    "kernelspec": {
      "display_name": "Python 3 (ipykernel)",
      "language": "python",
      "name": "python3"
    },
    "language_info": {
      "codemirror_mode": {
        "name": "ipython",
        "version": 3
      },
      "file_extension": ".py",
      "mimetype": "text/x-python",
      "name": "python",
      "nbconvert_exporter": "python",
      "pygments_lexer": "ipython3",
      "version": "3.8.13"
    },
    "colab": {
      "provenance": [],
      "include_colab_link": true
    }
  },
  "nbformat": 4,
  "nbformat_minor": 5
}