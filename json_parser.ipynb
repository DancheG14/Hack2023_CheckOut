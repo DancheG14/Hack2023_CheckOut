{
 "cells": [
  {
   "cell_type": "code",
   "execution_count": 45,
   "metadata": {
    "collapsed": true
   },
   "outputs": [],
   "source": [
    "import os\n",
    "import re\n",
    "import json"
   ]
  },
  {
   "cell_type": "code",
   "execution_count": 42,
   "outputs": [
    {
     "ename": "FileNotFoundError",
     "evalue": "[Errno 2] No such file or directory: '8440.json'",
     "output_type": "error",
     "traceback": [
      "\u001B[0;31m---------------------------------------------------------------------------\u001B[0m",
      "\u001B[0;31mFileNotFoundError\u001B[0m                         Traceback (most recent call last)",
      "Cell \u001B[0;32mIn[42], line 5\u001B[0m\n\u001B[1;32m      2\u001B[0m data \u001B[38;5;241m=\u001B[39m {}\n\u001B[1;32m      4\u001B[0m \u001B[38;5;28;01mfor\u001B[39;00m fileIndex, fileName \u001B[38;5;129;01min\u001B[39;00m \u001B[38;5;28menumerate\u001B[39m(os\u001B[38;5;241m.\u001B[39mlistdir(directory)):\n\u001B[0;32m----> 5\u001B[0m     \u001B[38;5;28;01mwith\u001B[39;00m \u001B[38;5;28;43mopen\u001B[39;49m\u001B[43m(\u001B[49m\u001B[43mfileName\u001B[49m\u001B[43m,\u001B[49m\u001B[43m \u001B[49m\u001B[38;5;124;43m\"\u001B[39;49m\u001B[38;5;124;43mr\u001B[39;49m\u001B[38;5;124;43m\"\u001B[39;49m\u001B[43m)\u001B[49m \u001B[38;5;28;01mas\u001B[39;00m readFile:\n\u001B[1;32m      6\u001B[0m         jsonData \u001B[38;5;241m=\u001B[39m json\u001B[38;5;241m.\u001B[39mload(readFile)\n\u001B[1;32m      7\u001B[0m     \u001B[38;5;28mprint\u001B[39m(fileName)\n",
      "File \u001B[0;32m/usr/local/lib/python3.10/dist-packages/IPython/core/interactiveshell.py:282\u001B[0m, in \u001B[0;36m_modified_open\u001B[0;34m(file, *args, **kwargs)\u001B[0m\n\u001B[1;32m    275\u001B[0m \u001B[38;5;28;01mif\u001B[39;00m file \u001B[38;5;129;01min\u001B[39;00m {\u001B[38;5;241m0\u001B[39m, \u001B[38;5;241m1\u001B[39m, \u001B[38;5;241m2\u001B[39m}:\n\u001B[1;32m    276\u001B[0m     \u001B[38;5;28;01mraise\u001B[39;00m \u001B[38;5;167;01mValueError\u001B[39;00m(\n\u001B[1;32m    277\u001B[0m         \u001B[38;5;124mf\u001B[39m\u001B[38;5;124m\"\u001B[39m\u001B[38;5;124mIPython won\u001B[39m\u001B[38;5;124m'\u001B[39m\u001B[38;5;124mt let you open fd=\u001B[39m\u001B[38;5;132;01m{\u001B[39;00mfile\u001B[38;5;132;01m}\u001B[39;00m\u001B[38;5;124m by default \u001B[39m\u001B[38;5;124m\"\u001B[39m\n\u001B[1;32m    278\u001B[0m         \u001B[38;5;124m\"\u001B[39m\u001B[38;5;124mas it is likely to crash IPython. If you know what you are doing, \u001B[39m\u001B[38;5;124m\"\u001B[39m\n\u001B[1;32m    279\u001B[0m         \u001B[38;5;124m\"\u001B[39m\u001B[38;5;124myou can use builtins\u001B[39m\u001B[38;5;124m'\u001B[39m\u001B[38;5;124m open.\u001B[39m\u001B[38;5;124m\"\u001B[39m\n\u001B[1;32m    280\u001B[0m     )\n\u001B[0;32m--> 282\u001B[0m \u001B[38;5;28;01mreturn\u001B[39;00m \u001B[43mio_open\u001B[49m\u001B[43m(\u001B[49m\u001B[43mfile\u001B[49m\u001B[43m,\u001B[49m\u001B[43m \u001B[49m\u001B[38;5;241;43m*\u001B[39;49m\u001B[43margs\u001B[49m\u001B[43m,\u001B[49m\u001B[43m \u001B[49m\u001B[38;5;241;43m*\u001B[39;49m\u001B[38;5;241;43m*\u001B[39;49m\u001B[43mkwargs\u001B[49m\u001B[43m)\u001B[49m\n",
      "\u001B[0;31mFileNotFoundError\u001B[0m: [Errno 2] No such file or directory: '8440.json'"
     ]
    }
   ],
   "source": [
    "directory = 'json'\n",
    "data = {}\n",
    "\n",
    "for fileIndex, fileName in enumerate(os.listdir(directory)):\n",
    "    with open(fileName, \"r\") as readFile:\n",
    "        jsonData = json.load(readFile)\n",
    "\n",
    "    staffs = {}\n",
    "    departments = {}\n",
    "    for taskIndex, task in enumerate(jsonData['Tasks']):\n",
    "        staff = {\n",
    "            re.split(r'\\b([А-Я]{1}[а-я]+\\s[А-Я]{1}[а-я]+\\s[А-Я]{1}[а-я]+)\\b', task['task_responsibles_people']): True\n",
    "            # Регулярку почти закончил, а спарсить должность не смог\n",
    "        }\n",
    "        departments.update({\n",
    "            task['task_responsibles_groups']: staff\n",
    "        })\n",
    "\n",
    "    for department in departments:\n",
    "        data.update({\n",
    "            fileIndex: {\n",
    "                department\n",
    "            }\n",
    "        })\n",
    "    # До каких-то нормальных результатов дойти не смог"
   ],
   "metadata": {
    "collapsed": false
   }
  },
  {
   "cell_type": "code",
   "execution_count": 22,
   "outputs": [],
   "source": [
    "# data = {\n",
    "#     \"Отдел_1\": {\n",
    "#         \"Сотрудники\": {\n",
    "#             \"ФИО\": \"Должность\",\n",
    "#             \"ФИО\": \"Должность\",\n",
    "#             \"ФИО\": \"Должность\",\n",
    "#         }\n",
    "#     },\n",
    "#     \"Отдел_2\": {\n",
    "#         \"Сотрудники\": {\n",
    "#            \"ФИО\": \"Должность\",\n",
    "#            \"ФИО\": \"Должность\",\n",
    "#            \"ФИО\": \"Должность\",\n",
    "#            \"ФИО\": \"Должность\",\n",
    "#         }\n",
    "#     },\n",
    "# }"
   ],
   "metadata": {
    "collapsed": false
   }
  }
 ],
 "metadata": {
  "kernelspec": {
   "display_name": "Python 3",
   "language": "python",
   "name": "python3"
  },
  "language_info": {
   "codemirror_mode": {
    "name": "ipython",
    "version": 2
   },
   "file_extension": ".py",
   "mimetype": "text/x-python",
   "name": "python",
   "nbconvert_exporter": "python",
   "pygments_lexer": "ipython2",
   "version": "2.7.6"
  }
 },
 "nbformat": 4,
 "nbformat_minor": 0
}
