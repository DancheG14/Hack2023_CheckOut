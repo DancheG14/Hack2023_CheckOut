{
 "cells": [
  {
   "cell_type": "markdown",
   "id": "174d5ffe-9636-412a-ac3d-1a9a5a9a4465",
   "metadata": {},
   "source": [
    "\n",
    "\n",
    "Задача № 3 (для 2 курса)\n",
    " \n",
    "Название: Автоматизация обработки машиночитаемых документов.\n",
    " \n",
    "Описание: Вам будет выдан набор данных документов из системы документооборота небольшой вымышленной компании. На основе этого набора данных вам нужно построить граф знаний о компании, который включает:\n",
    "\n",
    "● \tОрганизационную структуру (список подразделений). Есть\n",
    "\n",
    "● \tСписок сотрудников \n",
    "\n",
    "●  и их должностей. \n",
    "\n",
    "● \tДолжностные обязанности и полномочия сотрудников.\n",
    "\n",
    "На основе построенного графа знаний нужно разработать систему, которая ищет ошибки в проверочных документах (10 правильных документов, 10 документов с ошибками), например:\n",
    "\n",
    "● \tОпечатки в названиях подразделений или ФИО сотрудников.\n",
    "\n",
    "● \tНесуществующие подразделения или сотрудники, ошибки в должностях.\n",
    "\n",
    "● \tНесоответствие тематики документа подразделению, в которое он направлен для исполнения (в бухгалтерию направлен документ с задачей по ИТ).\n",
    " \n",
    "Ссылка на набор данных – https://www.dropbox.com/sh/d5h5f3yrql8x392/AACQ2WYa5qYCqjC8QuVZ5TJ4a?dl=1 \n",
    "\n",
    "Вам будет передана открытая часть датасета с разметкой, закрытая часть датасета без разметки и проверочные документы (20 документов для подзадачи обнаружения ошибок в документах).\n",
    " \n",
    "Требования к решению:\n",
    "1.   Код программы построения графа знаний о компании (ссылка на GitHub), с помощью которого можно ответить на вопросы:\n",
    "a.   Количество отделов.\n",
    "b.   Количество сотрудников.\n",
    "c.\tК какому отделу относится конкретная задача.\n",
    "2.   Код программы поиска документов с ошибками на основе графа знаний (ссылка на GitHub).\n",
    "3.   Документы, в которых найдены ошибки.\n",
    " \n",
    "Критерии оценки:\n",
    "● \tЗа каждый найденный документ с ошибкой начисляется 10 баллов.\n",
    "● \tЗа каждый документ, представленный как ошибочный, но в котором ошибки на самом деле нет, назначается штраф -1 балл.\n",
    " \n",
    "Советы по реализации:\n",
    "1.   Извлечь именованные сущности (NER) из текста можно с помощью библиотеки spacy (https://spacy.io/), pullenti, natasha или соответствующих моделей с huggingface (https://huggingface.co/).\n",
    "2.   Для сущностей, для которых не удастся найти типовые предобученные модели (например, сущность «Задача» или «Департамент») организовать обучение модели с использованием открытой части датасета.\n",
    "3.   Для построения графа связей в организации рекомендуется использовать библиотеку NetworkX - https://networkx.org/\n",
    "\n"
   ]
  },
  {
   "cell_type": "markdown",
   "id": "74b7058e-acea-4f99-8b8b-15aa39dca187",
   "metadata": {},
   "source": [
    "### Устанавливаем библиотеки \n"
   ]
  },
  {
   "cell_type": "markdown",
   "id": "ae73bdcc-09a9-4fa4-8719-7bf900da97db",
   "metadata": {},
   "source": [
    "# Решение.\n",
    "\n",
    "1. task_text: разбить на предложения. Выявить функционал. FIO_POSITION: ФИО, должность, функционал, отдел (не необходимо).\n",
    "2. task_responsibles_people: - вывявить ФИО, должность, task_responsibles_groups: добавить отдел.\n",
    "3. Собрать мешок слов: ФИО, должность, функционал, отдел.\n",
    "4. Векторизировать мешок слов.\n",
    "5. Из отделов построить 8 классов.\n",
    "6. Обучить реккурентную нейросеть LSTM или GRU.\n",
    "7. Протестировать на тестовом наборе данных.\n",
    "8. Построить граф знаний.\n",
    "9. Написать функцию соответствия предсказания с графом знаний.\n",
    "10. Сделать презентацию проекта.\n"
   ]
  },
  {
   "cell_type": "code",
   "execution_count": null,
   "id": "02d66d60-e4a7-476f-bbf6-ee5a286ab22c",
   "metadata": {},
   "outputs": [],
   "source": [
    "#!pip install networkx\n",
    "#!pip install --upgrade networkx\n",
    "#!pip install pygraphviz pydot lxml\n",
    "#!pip install pygraphviz\n",
    "#!pytest networkx\n",
    "#!pytest --pyargs networkx\n",
    "#! pip install pymorphy2\n",
    "#! pip install -U pip setuptools wheel\n",
    "#! pip install -U spacy \n",
    "#! python -m spacy download en_core_web_sm\n",
    "#! python -m spacy download ru_core_news_sm\n",
    "#! pip install --user -U nltk\n",
    "#! pip install -U liblinear-official\n",
    "#! pip install natasha\n",
    "#! pip install ipymarkup\n",
    "#! pip install transformers sentencepiece sacremoses\n",
    "#!pip install pymorphy2[fast]\n",
    "#!pip install natasha spacy==3.3\n",
    "\n",
    "#!python -m spacy download ru_core_news_sm\n",
    "#!pip install tensorflow-text spacy==3.3\n",
    "#!python -m spacy download ru_core_news_sm\n",
    "#!pip install pymorphy2[fast] \n",
    "#!pip install python-docx\n",
    "\n"
   ]
  },
  {
   "cell_type": "code",
   "execution_count": 97,
   "id": "3652d991-12f0-439a-9d10-45ac12ea7beb",
   "metadata": {},
   "outputs": [],
   "source": [
    "import json\n",
    "import networkx as nx\n",
    "import matplotlib.pyplot as plt\n",
    "import numpy as np\n",
    "import pandas as pd\n",
    "\n",
    "from yargy.tokenizer import MorphTokenizer\n",
    "from yargy import rule, or_, Parser\n",
    "from yargy.predicates import eq, type as _t, normalized, gram\n",
    "from ipymarkup import show_span_box_markup, show_span_line_markup\n",
    "from yargy.pipelines import morph_pipeline as mp, caseless_pipeline as cp\n",
    "from yargy.interpretation import fact\n",
    "from IPython.display import display\n",
    "\n",
    "# Морфологический анализ\n",
    "import pymorphy2\n",
    "\n",
    "# Синтаксический анализ\n",
    "import spacy\n",
    "from spacy import displacy\n",
    "from spacy.symbols import nsubj, VERB\n",
    "\n",
    "import nltk\n",
    "from nltk.corpus import stopwords\n",
    "from nltk.tokenize import sent_tokenize, word_tokenize\n",
    "\n",
    "import io\n",
    "import re\n",
    "import string\n",
    "import tqdm\n",
    "\n",
    "import requests\n",
    "\n",
    "import tensorflow as tf\n",
    "import tensorflow_text as tf_text\n",
    "from tensorflow.keras import layers\n",
    "import gensim.models\n",
    "\n",
    "from transformers import pipeline, AutoTokenizer, AutoConfig, AutoModelForTokenClassification\n",
    "\n",
    "from docx import Document"
   ]
  },
  {
   "cell_type": "code",
   "execution_count": 3,
   "id": "ef525a55-2675-42f6-ab00-7b8d9a809a18",
   "metadata": {},
   "outputs": [],
   "source": [
    "directory = 'hackaton_2023_01/task_3/full_dataset/json/'\n",
    "data = []\n",
    "for n in range(9999):\n",
    "    name = str(n) + '.json'\n",
    "    try:\n",
    "        with open(directory + name, \"r\") as readFile:\n",
    "            jsonData = json.load(readFile)\n",
    "            jsonData[\"id\"] = n\n",
    "            data.append(jsonData)\n",
    "    except ValueError:\n",
    "        continue"
   ]
  },
  {
   "cell_type": "code",
   "execution_count": 4,
   "id": "038d3959-5c21-4a26-8abb-9be0f8044f90",
   "metadata": {},
   "outputs": [],
   "source": [
    "with open('merged_data.json', \"r\") as readFile:\n",
    "            merge_data = json.load(readFile)"
   ]
  },
  {
   "cell_type": "markdown",
   "id": "5fdedeb9-f25a-4cb1-a815-d51b0a277969",
   "metadata": {},
   "source": [
    "### Определяем количество департаментов в компании"
   ]
  },
  {
   "cell_type": "code",
   "execution_count": 5,
   "id": "881c5a60-8bae-4b0f-a12e-63c6a84759e1",
   "metadata": {},
   "outputs": [],
   "source": [
    "DEPARTMENTS = []\n",
    "for n in range(10000):\n",
    "    try:\n",
    "        for i in range(1,30):\n",
    "            DEPARTMENTS.append(data[n]['Tasks']['Task{}'.format(i)]['task_responsibles_groups'])\n",
    "    except KeyError:\n",
    "        continue\n",
    "    except IndexError:\n",
    "        continue\n"
   ]
  },
  {
   "cell_type": "code",
   "execution_count": 6,
   "id": "c45083da-2600-411f-9f37-2724d997e2dc",
   "metadata": {},
   "outputs": [],
   "source": [
    "FIO_POSITION = []\n",
    "for n in range(10000):\n",
    "    try:\n",
    "        for i in range(1,20):\n",
    "            FIO_POSITION.append(data[n]['Tasks']['Task{}'.format(i)]['task_responsibles_people'])\n",
    "    except KeyError:\n",
    "        continue\n",
    "    except IndexError:\n",
    "        continue"
   ]
  },
  {
   "cell_type": "code",
   "execution_count": 7,
   "id": "5d89081d-c417-4ba2-99b0-c22ab7b7593d",
   "metadata": {},
   "outputs": [],
   "source": [
    "TASK = []\n",
    "for n in range(10000):\n",
    "    try:\n",
    "        for i in range(1,30):\n",
    "            TASK.append(data[n]['Tasks']['Task{}'.format(i)]['task_text'])\n",
    "    except KeyError:\n",
    "        continue\n",
    "    except IndexError:\n",
    "        continue"
   ]
  },
  {
   "cell_type": "code",
   "execution_count": 8,
   "id": "dee9f29a-af7f-4025-9b1e-e911565e1a4f",
   "metadata": {},
   "outputs": [],
   "source": [
    "POSITION = []\n",
    "for n in range(10000):\n",
    "    try:\n",
    "        for i in range(1,30):\n",
    "            POSITION.append(data[n]['Tasks']['Global_supervisor'][i])\n",
    "    except KeyError:\n",
    "        continue\n",
    "    except IndexError:\n",
    "        continue"
   ]
  },
  {
   "cell_type": "markdown",
   "id": "ab5abf53-8eaa-487b-8742-2098c7664c61",
   "metadata": {},
   "source": [
    "### Очищаем данные"
   ]
  },
  {
   "cell_type": "code",
   "execution_count": 9,
   "id": "3c4de681-ad7a-4005-a902-e84147b20de7",
   "metadata": {},
   "outputs": [],
   "source": [
    "def text_split(text: str):\n",
    "    pouch_of_words = []\n",
    "    for line in text:\n",
    "        line = line.split()\n",
    "        pouch_of_words.append(line)\n",
    "    return pouch_of_words\n",
    "     "
   ]
  },
  {
   "cell_type": "code",
   "execution_count": 11,
   "id": "d29e3a91-cfa4-4207-9d21-377d0066aa8f",
   "metadata": {},
   "outputs": [],
   "source": [
    "#text_split(FIO_POSITION[:2])"
   ]
  },
  {
   "cell_type": "code",
   "execution_count": 13,
   "id": "c5dffc84-108f-4582-babb-f75a793f8ab4",
   "metadata": {},
   "outputs": [],
   "source": [
    "def token_words_split(text: str):\n",
    "    pouch_of_words = []\n",
    "    if type(text) == list:\n",
    "        for line in text:\n",
    "            TOKENIZER = word_tokenize(line)\n",
    "            pouch_of_words.append(TOKENIZER)\n",
    "        return pouch_of_words\n",
    "\n",
    "#pouch_of_words = token_words_split(FIO_POSITION[:2])\n",
    "#pouch_of_words"
   ]
  },
  {
   "cell_type": "code",
   "execution_count": 17,
   "id": "314fc52f-577b-416f-b7bc-1ee93dddf9f4",
   "metadata": {},
   "outputs": [],
   "source": [
    "def split_spacy(text: str):\n",
    "    pouch_of_words = []\n",
    "    nlp = spacy.load('ru_core_news_sm')\n",
    "    if type(text) == list:\n",
    "        for line in text:\n",
    "            doc = nlp(line)\n",
    "            for token in doc:\n",
    "                pouch_of_words.append(token)\n",
    "    return pouch_of_words"
   ]
  },
  {
   "cell_type": "code",
   "execution_count": null,
   "id": "291a36cf-1e71-4e71-9b4e-4c0217cea5d1",
   "metadata": {},
   "outputs": [],
   "source": [
    "#split_spacy(FIO_POSITION[:2])"
   ]
  },
  {
   "cell_type": "code",
   "execution_count": 19,
   "id": "406ac96b-a240-486a-a078-22e440b7cb3f",
   "metadata": {},
   "outputs": [
    {
     "name": "stderr",
     "output_type": "stream",
     "text": [
      "[nltk_data] Downloading package punkt to /Users/macbook/nltk_data...\n",
      "[nltk_data]   Package punkt is already up-to-date!\n"
     ]
    }
   ],
   "source": [
    "nltk.download('punkt')\n",
    "def sentence(text: str):\n",
    "    sentences = sent_tokenize(text)\n",
    "    return sentences"
   ]
  },
  {
   "cell_type": "markdown",
   "id": "e001be42-9e01-4d46-84eb-d1266a40bd35",
   "metadata": {},
   "source": [
    "### Морфологический анализ"
   ]
  },
  {
   "cell_type": "code",
   "execution_count": 20,
   "id": "c9847f24-2c25-44b1-ad3a-833b92164331",
   "metadata": {},
   "outputs": [],
   "source": [
    "morph = pymorphy2.MorphAnalyzer()"
   ]
  },
  {
   "cell_type": "code",
   "execution_count": 22,
   "id": "60395f35-a7de-4b2e-b7ea-9afaf43f336b",
   "metadata": {},
   "outputs": [],
   "source": [
    "def morph_word(words: str):\n",
    "    words = split_spacy(words)\n",
    "    morph_words = []\n",
    "    for word in words:\n",
    "        print(word)\n",
    "\n",
    "#morph_word(POSITION[:1])"
   ]
  },
  {
   "cell_type": "markdown",
   "id": "cf7bfaab-481e-4149-b652-e5be17cd01d6",
   "metadata": {},
   "source": [
    "### Синтаксический анализ"
   ]
  },
  {
   "cell_type": "markdown",
   "id": "758170b0-6131-465f-8019-37d511f442ae",
   "metadata": {},
   "source": [
    "### Разделяем текст на предложения."
   ]
  },
  {
   "cell_type": "code",
   "execution_count": 25,
   "id": "6429f4cc-6a65-4c37-a558-610f4b8b68e9",
   "metadata": {},
   "outputs": [
    {
     "name": "stderr",
     "output_type": "stream",
     "text": [
      "[nltk_data] Downloading package punkt to /Users/macbook/nltk_data...\n",
      "[nltk_data]   Package punkt is already up-to-date!\n"
     ]
    },
    {
     "data": {
      "text/plain": [
       "\"[['Контроль над выполнением настоящего распоряжения оставляю за собой'], ['Обеспечение выполнения возложить на специалиста третей категории бухгалтерии Александрова А.С.']]\""
      ]
     },
     "execution_count": 25,
     "metadata": {},
     "output_type": "execute_result"
    }
   ],
   "source": [
    "nltk.download('punkt')\n",
    "def sentence(text: str):\n",
    "    pouch_of_sentence = []\n",
    "    if type(text) == list:\n",
    "        for line in text:\n",
    "            sentences = sent_tokenize(line)\n",
    "            pouch_of_sentence.append(sentences)\n",
    "    return str(pouch_of_sentence)\n",
    "    \n",
    "text = sentence(FIO_POSITION[10:12])\n",
    "text"
   ]
  },
  {
   "cell_type": "code",
   "execution_count": 26,
   "id": "88777769-bfff-4aa7-996c-2771e3d36b9c",
   "metadata": {},
   "outputs": [],
   "source": [
    "### Использование библиотеки natasha в данные момент дорабатываются."
   ]
  },
  {
   "cell_type": "code",
   "execution_count": 31,
   "id": "ecf8761f-2c66-4288-aabb-d4d196934e56",
   "metadata": {},
   "outputs": [],
   "source": [
    "from natasha import (\n",
    "    Segmenter,\n",
    "    MorphVocab,\n",
    "    \n",
    "    NewsEmbedding,\n",
    "    NewsMorphTagger,\n",
    "    NewsSyntaxParser,\n",
    "    \n",
    "    NewsNERTagger,\n",
    "    \n",
    "    PER,\n",
    "    LOC,\n",
    "    NamesExtractor,\n",
    "    DatesExtractor,\n",
    "    MoneyExtractor,\n",
    "    AddrExtractor,\n",
    " \n",
    "    Doc\n",
    ")\n"
   ]
  },
  {
   "cell_type": "code",
   "execution_count": 28,
   "id": "e54bf6e0-436b-40be-bfb9-3bfa4c4dc434",
   "metadata": {},
   "outputs": [],
   "source": [
    "#segmenter = Segmenter()\n",
    "#morph_vocab = MorphVocab()\n",
    "\n",
    "#emb = NewsEmbedding()\n",
    "#morph_tagger = NewsMorphTagger(emb)\n",
    "#syntax_parser = NewsSyntaxParser(emb)\n",
    "#ner_tagger = NewsNERTagger(emb)\n",
    "\n",
    "#names_extractor = NamesExtractor(morph_vocab)\n",
    "#dates_extractor = DatesExtractor(morph_vocab)\n",
    "#money_extractor = MoneyExtractor(morph_vocab)\n",
    "#addr_extractor = AddrExtractor(morph_vocab)"
   ]
  },
  {
   "cell_type": "code",
   "execution_count": 29,
   "id": "f1da78ec-9c1f-43ea-9597-b6ce4556632d",
   "metadata": {},
   "outputs": [],
   "source": [
    "#syntax_parser = NewsSyntaxParser(emb)\n"
   ]
  },
  {
   "cell_type": "code",
   "execution_count": 30,
   "id": "bedf55ce-5641-46ea-aa2f-009cc74b1330",
   "metadata": {},
   "outputs": [],
   "source": [
    "#doc_n = Doc(text)"
   ]
  },
  {
   "cell_type": "code",
   "execution_count": null,
   "id": "3b294365-295f-4241-95dd-a8319a740197",
   "metadata": {},
   "outputs": [],
   "source": [
    "#for tocken in doc_n.tokens:\n",
    "#    print(tocken)"
   ]
  },
  {
   "cell_type": "code",
   "execution_count": null,
   "id": "f38821db-3e52-41ca-8520-c31746fd2f2d",
   "metadata": {},
   "outputs": [],
   "source": [
    "#doc_n.parse_syntax(syntax_parser)"
   ]
  },
  {
   "cell_type": "code",
   "execution_count": null,
   "id": "1efb5161-3938-412d-aa77-fa7393ab46be",
   "metadata": {},
   "outputs": [],
   "source": [
    "#for tocken in doc_n.tokens:\n",
    "#    print(tocken)"
   ]
  },
  {
   "cell_type": "code",
   "execution_count": null,
   "id": "aec95c8a-f571-4d1e-9367-8263d6fc586c",
   "metadata": {},
   "outputs": [],
   "source": [
    "#doc_n.sents[0].syntax.print()"
   ]
  },
  {
   "cell_type": "markdown",
   "id": "d0493dfd-4f4c-45ac-a228-b13a78523b76",
   "metadata": {},
   "source": [
    "### Выявление ФИО, должности, специализации.\n"
   ]
  },
  {
   "cell_type": "code",
   "execution_count": 32,
   "id": "82e62351-4f05-4854-b73c-897e466ca57b",
   "metadata": {},
   "outputs": [],
   "source": [
    "#FIO = []\n",
    "\n",
    "#for tocken in doc_n.tokens:\n",
    "#    if tocken.rel == 'flat:name' or tocken.rel == 'appos':\n",
    "#        if tocken.rel == 'appos':\n",
    "#            surn = tocken.text \n",
    "#            if surn in FIO:\n",
    "#                pass\n",
    "#            else:\n",
    "#                FIO.append(surn)\n",
    "#        elif tocken.rel == 'flat:name':\n",
    "#            IO = tocken.text + '.'      \n",
    "#            FIO.append(IO)\n",
    "           \n"
   ]
  },
  {
   "cell_type": "code",
   "execution_count": null,
   "id": "40678c19-4a34-430f-95e5-ebb693e16fd4",
   "metadata": {},
   "outputs": [],
   "source": [
    "#doc_n.segment(segmenter) "
   ]
  },
  {
   "cell_type": "code",
   "execution_count": null,
   "id": "1581aa45-90d4-49c4-b938-350c5e93c487",
   "metadata": {},
   "outputs": [],
   "source": [
    "#doc_n.tag_morph(morph_tagger)"
   ]
  },
  {
   "cell_type": "code",
   "execution_count": null,
   "id": "4c085c32-01d3-4698-b4b6-a69b13b6488b",
   "metadata": {},
   "outputs": [],
   "source": [
    "#doc_n.tag_ner(ner_tagger)"
   ]
  },
  {
   "cell_type": "code",
   "execution_count": null,
   "id": "7100e7ea-88dd-4c19-8b19-15b59ae2f539",
   "metadata": {},
   "outputs": [],
   "source": [
    "#doc_n.parse_syntax(syntax_parser)"
   ]
  },
  {
   "cell_type": "code",
   "execution_count": null,
   "id": "509f0a54-bdf9-45ce-9e72-e0b29c291170",
   "metadata": {},
   "outputs": [],
   "source": [
    "#display(doc_n.tokens[:5])"
   ]
  },
  {
   "cell_type": "code",
   "execution_count": null,
   "id": "bb932d03-ef36-486f-b2ea-865ed793ff29",
   "metadata": {},
   "outputs": [],
   "source": [
    "#display(doc_n.sents)"
   ]
  },
  {
   "cell_type": "code",
   "execution_count": null,
   "id": "6ffb3e30-86aa-4941-b3b2-da84fe218218",
   "metadata": {},
   "outputs": [],
   "source": [
    "#display(doc_n.tokens)"
   ]
  },
  {
   "cell_type": "code",
   "execution_count": 33,
   "id": "ccf38647-28da-4477-9488-99a018fedb1f",
   "metadata": {},
   "outputs": [],
   "source": [
    "#for span in doc_n.spans:\n",
    "#    span.normalize(morph_vocab)\n",
    "   \n",
    "#\n",
    "#keywords = {_.text: _.normal for _ in doc_n.spans if _.text != _.normal}\n",
    "#print(span)"
   ]
  },
  {
   "cell_type": "code",
   "execution_count": 34,
   "id": "f182124c-5f19-4408-93e6-fccd5c63a363",
   "metadata": {},
   "outputs": [],
   "source": [
    "#for token in doc_n.tokens:\n",
    "#    token.lemmatize(morph_vocab)\n",
    "    \n",
    "#{_.text: _.lemma for _ in doc_n.tokens}"
   ]
  },
  {
   "cell_type": "markdown",
   "id": "f1b893ff-a51f-4c2e-a486-44fdde171f90",
   "metadata": {},
   "source": [
    "### Создание дистрибутивно-семантической модели."
   ]
  },
  {
   "cell_type": "code",
   "execution_count": null,
   "id": "b974abc6-59fc-461f-8647-dee598b07da6",
   "metadata": {},
   "outputs": [],
   "source": [
    "#!pip install navec"
   ]
  },
  {
   "cell_type": "code",
   "execution_count": null,
   "id": "33809636-0bf8-4e34-8acd-1cbd4121f145",
   "metadata": {},
   "outputs": [],
   "source": [
    "#!curl https://storage.yandexcloud.net/natasha-navec/packs/navec_hudlit_v1_12B_500K_300d_100q.tar -O navec_hudlit_v1_12B_500K_300d_100q.tar"
   ]
  },
  {
   "cell_type": "code",
   "execution_count": null,
   "id": "966d5d4b-9f66-491f-ac55-8c2963cbc437",
   "metadata": {},
   "outputs": [],
   "source": [
    "#from navec import Navec"
   ]
  },
  {
   "cell_type": "code",
   "execution_count": null,
   "id": "179795b8-c8d1-4ede-b7d3-cc19bc3f4c9e",
   "metadata": {},
   "outputs": [],
   "source": [
    "#navec = Navec.load('navec_hudlit_v1_12B_500K_300d_100q.tar')"
   ]
  },
  {
   "cell_type": "code",
   "execution_count": null,
   "id": "db0c719d-4791-4703-bfa6-2e2d898bcda4",
   "metadata": {},
   "outputs": [],
   "source": [
    "#navec['абакумов']"
   ]
  },
  {
   "cell_type": "code",
   "execution_count": null,
   "id": "ebbfec21-12d0-4dea-b668-62becee9646e",
   "metadata": {},
   "outputs": [],
   "source": [
    "#!pip install pymorphy2[fast] "
   ]
  },
  {
   "cell_type": "markdown",
   "id": "f2557f9e-c01b-4c1b-a250-2bbd65b02800",
   "metadata": {},
   "source": [
    "### Построение датафрейма"
   ]
  },
  {
   "cell_type": "markdown",
   "id": "8e25a39d-3393-4dd4-b951-45263ea0bda7",
   "metadata": {},
   "source": [
    "#### Определение числа департаментов и их классиикация."
   ]
  },
  {
   "cell_type": "code",
   "execution_count": 35,
   "id": "ce16d439-ca13-4c8e-899b-dd5e620fe5c3",
   "metadata": {},
   "outputs": [],
   "source": [
    "DEPARTMENTS = set(DEPARTMENTS)\n",
    "DEPARTMENTS_list = list(DEPARTMENTS)"
   ]
  },
  {
   "cell_type": "code",
   "execution_count": 37,
   "id": "4f05fd8a-a20d-4694-8393-c933ddce8d8e",
   "metadata": {},
   "outputs": [],
   "source": [
    "value = []\n",
    "for i in range(1,9):\n",
    "    value.append(i)"
   ]
  },
  {
   "cell_type": "code",
   "execution_count": 38,
   "id": "5a44af49-ad5a-4cb9-8088-34c23070c67c",
   "metadata": {},
   "outputs": [],
   "source": [
    "def classes(list: list) -> dict:\n",
    "    result = {}\n",
    "\n",
    "    for n in range(8):\n",
    "        dep = list[n]\n",
    "        result[dep] = value[n]\n",
    "\n",
    "    return result"
   ]
  },
  {
   "cell_type": "code",
   "execution_count": 40,
   "id": "17d55add-15df-4d86-abf3-df5a42b67101",
   "metadata": {},
   "outputs": [],
   "source": [
    "classes_dep = classes(DEPARTMENTS_list)"
   ]
  },
  {
   "cell_type": "markdown",
   "id": "8058a6d1-2692-43d7-a941-17a76c08ed9b",
   "metadata": {},
   "source": [
    "### Начало работы с моделью."
   ]
  },
  {
   "cell_type": "code",
   "execution_count": 41,
   "id": "53e91487-ae0c-4f7f-81be-141f2c966c6f",
   "metadata": {},
   "outputs": [
    {
     "name": "stderr",
     "output_type": "stream",
     "text": [
      "/var/folders/5g/7vyd0lbj2w52qz6789tj57hc0000gn/T/ipykernel_5482/2129567716.py:9: FutureWarning: The default value of regex will change from True to False in a future version.\n",
      "  df.columns = df.columns.str.replace(\"Tasks.\", \"\")\n"
     ]
    }
   ],
   "source": [
    "df = pd.json_normalize(merge_data)\n",
    "\n",
    "     \n",
    "\n",
    "df.set_index('id', inplace=True)\n",
    "df.sort_index(inplace=True) # сортировка по индексу=id \n",
    "     \n",
    "\n",
    "df.columns = df.columns.str.replace(\"Tasks.\", \"\")"
   ]
  },
  {
   "cell_type": "code",
   "execution_count": 46,
   "id": "7173cd04-b9f3-4ed4-a60b-10ed39ae7bb3",
   "metadata": {},
   "outputs": [
    {
     "data": {
      "text/html": [
       "<div>\n",
       "<style scoped>\n",
       "    .dataframe tbody tr th:only-of-type {\n",
       "        vertical-align: middle;\n",
       "    }\n",
       "\n",
       "    .dataframe tbody tr th {\n",
       "        vertical-align: top;\n",
       "    }\n",
       "\n",
       "    .dataframe thead th {\n",
       "        text-align: right;\n",
       "    }\n",
       "</style>\n",
       "<table border=\"1\" class=\"dataframe\">\n",
       "  <thead>\n",
       "    <tr style=\"text-align: right;\">\n",
       "      <th></th>\n",
       "      <th>Task1.task_text</th>\n",
       "      <th>Task1.task_responsibles_people</th>\n",
       "      <th>Task1.task_responsibles_groups</th>\n",
       "      <th>Task1.task_deadline</th>\n",
       "      <th>Global_supervisor</th>\n",
       "      <th>Global_deadline</th>\n",
       "      <th>Task2.task_text</th>\n",
       "      <th>Task2.task_responsibles_people</th>\n",
       "      <th>Task2.task_responsibles_groups</th>\n",
       "      <th>Task2.task_deadline</th>\n",
       "      <th>...</th>\n",
       "      <th>Task7.task_responsibles_groups</th>\n",
       "      <th>Task7.task_deadline</th>\n",
       "      <th>Task8.task_text</th>\n",
       "      <th>Task8.task_responsibles_people</th>\n",
       "      <th>Task8.task_responsibles_groups</th>\n",
       "      <th>Task8.task_deadline</th>\n",
       "      <th>Task9.task_text</th>\n",
       "      <th>Task9.task_responsibles_people</th>\n",
       "      <th>Task9.task_responsibles_groups</th>\n",
       "      <th>Task9.task_deadline</th>\n",
       "    </tr>\n",
       "    <tr>\n",
       "      <th>id</th>\n",
       "      <th></th>\n",
       "      <th></th>\n",
       "      <th></th>\n",
       "      <th></th>\n",
       "      <th></th>\n",
       "      <th></th>\n",
       "      <th></th>\n",
       "      <th></th>\n",
       "      <th></th>\n",
       "      <th></th>\n",
       "      <th></th>\n",
       "      <th></th>\n",
       "      <th></th>\n",
       "      <th></th>\n",
       "      <th></th>\n",
       "      <th></th>\n",
       "      <th></th>\n",
       "      <th></th>\n",
       "      <th></th>\n",
       "      <th></th>\n",
       "      <th></th>\n",
       "    </tr>\n",
       "  </thead>\n",
       "  <tbody>\n",
       "    <tr>\n",
       "      <th>0</th>\n",
       "      <td>Закупить книги. Срок завершения: 19 апр 15.</td>\n",
       "      <td>Ответственность за исполнение распоряжения воз...</td>\n",
       "      <td>Административно-хозяйственный отдел</td>\n",
       "      <td>[19 апр 15, 1429383600.0]</td>\n",
       "      <td>[Ответственность за исполнение распоряжения во...</td>\n",
       "      <td>[11 апреля 2013 года, 1365616800.0]</td>\n",
       "      <td>NaN</td>\n",
       "      <td>NaN</td>\n",
       "      <td>NaN</td>\n",
       "      <td>NaN</td>\n",
       "      <td>...</td>\n",
       "      <td>NaN</td>\n",
       "      <td>NaN</td>\n",
       "      <td>NaN</td>\n",
       "      <td>NaN</td>\n",
       "      <td>NaN</td>\n",
       "      <td>NaN</td>\n",
       "      <td>NaN</td>\n",
       "      <td>NaN</td>\n",
       "      <td>NaN</td>\n",
       "      <td>NaN</td>\n",
       "    </tr>\n",
       "    <tr>\n",
       "      <th>1</th>\n",
       "      <td>Провести анализ поставщиков для замены вышедше...</td>\n",
       "      <td>Ответственность за исполнение распоряжения воз...</td>\n",
       "      <td>Служба ИТ</td>\n",
       "      <td>[24 октября 12, 1351015200.0]</td>\n",
       "      <td>[Ответственность за исполнение распоряжения во...</td>\n",
       "      <td>[03 июня 2013 года, 1370196000.0]</td>\n",
       "      <td>Выполнить ремонт кабеля сети передачи данных м...</td>\n",
       "      <td>Контроль над выполнением приказа возложить на ...</td>\n",
       "      <td>Служба ИТ</td>\n",
       "      <td>[12 авг 13, 1376244000.0]</td>\n",
       "      <td>...</td>\n",
       "      <td>NaN</td>\n",
       "      <td>NaN</td>\n",
       "      <td>NaN</td>\n",
       "      <td>NaN</td>\n",
       "      <td>NaN</td>\n",
       "      <td>NaN</td>\n",
       "      <td>NaN</td>\n",
       "      <td>NaN</td>\n",
       "      <td>NaN</td>\n",
       "      <td>NaN</td>\n",
       "    </tr>\n",
       "    <tr>\n",
       "      <th>2</th>\n",
       "      <td>Провести рефакторинг программного обеспечения ...</td>\n",
       "      <td>Контроль над исполнением распоряжения оставить...</td>\n",
       "      <td>Отдел разработки систем</td>\n",
       "      <td>[24.12.20, 1608750000.0]</td>\n",
       "      <td>[Контроль над исполнением распоряжения оставит...</td>\n",
       "      <td>[08 окт 2014 г., 1412704800.0]</td>\n",
       "      <td>Провести рефакторинг программного обеспечения ...</td>\n",
       "      <td>Ответственным за исполнение настоящего приказа...</td>\n",
       "      <td>Отдел разработки систем</td>\n",
       "      <td>[01 января 2018 года, 1514746800.0]</td>\n",
       "      <td>...</td>\n",
       "      <td>NaN</td>\n",
       "      <td>NaN</td>\n",
       "      <td>NaN</td>\n",
       "      <td>NaN</td>\n",
       "      <td>NaN</td>\n",
       "      <td>NaN</td>\n",
       "      <td>NaN</td>\n",
       "      <td>NaN</td>\n",
       "      <td>NaN</td>\n",
       "      <td>NaN</td>\n",
       "    </tr>\n",
       "    <tr>\n",
       "      <th>3</th>\n",
       "      <td>Оплатить командировочные расходы.\\nОпределить ...</td>\n",
       "      <td>Контроль над выполнением настоящего распоряжен...</td>\n",
       "      <td>Бухгалтерия</td>\n",
       "      <td>[26 июля 2019 г., 1564081200.0]</td>\n",
       "      <td>[Контроль над выполнением настоящего распоряже...</td>\n",
       "      <td>[10.12.18, 1544382000.0]</td>\n",
       "      <td>Провести аудит персональных данных в информаци...</td>\n",
       "      <td>Обеспечение выполнения возложить на специалист...</td>\n",
       "      <td>Бухгалтерия</td>\n",
       "      <td>[17.09.13, 1379354400.0]</td>\n",
       "      <td>...</td>\n",
       "      <td>NaN</td>\n",
       "      <td>NaN</td>\n",
       "      <td>NaN</td>\n",
       "      <td>NaN</td>\n",
       "      <td>NaN</td>\n",
       "      <td>NaN</td>\n",
       "      <td>NaN</td>\n",
       "      <td>NaN</td>\n",
       "      <td>NaN</td>\n",
       "      <td>NaN</td>\n",
       "    </tr>\n",
       "    <tr>\n",
       "      <th>4</th>\n",
       "      <td>Согласовать смету на выполнение работ компание...</td>\n",
       "      <td>Контроль над выполнением настоящего распоряжен...</td>\n",
       "      <td>Бухгалтерия</td>\n",
       "      <td>[12 янв 2019 г., 1547233200.0]</td>\n",
       "      <td>[Контроль над выполнением настоящего распоряже...</td>\n",
       "      <td>[19.03.2016, 1458327600.0]</td>\n",
       "      <td>Выделить средства на проведение обучения.\\nУст...</td>\n",
       "      <td>Ответственным за исполнение настоящего приказа...</td>\n",
       "      <td>Бухгалтерия</td>\n",
       "      <td>[26.09.2016, 1474830000.0]</td>\n",
       "      <td>...</td>\n",
       "      <td>NaN</td>\n",
       "      <td>NaN</td>\n",
       "      <td>NaN</td>\n",
       "      <td>NaN</td>\n",
       "      <td>NaN</td>\n",
       "      <td>NaN</td>\n",
       "      <td>NaN</td>\n",
       "      <td>NaN</td>\n",
       "      <td>NaN</td>\n",
       "      <td>NaN</td>\n",
       "    </tr>\n",
       "  </tbody>\n",
       "</table>\n",
       "<p>5 rows × 38 columns</p>\n",
       "</div>"
      ],
      "text/plain": [
       "                                      Task1.task_text  \\\n",
       "id                                                      \n",
       "0         Закупить книги. Срок завершения: 19 апр 15.   \n",
       "1   Провести анализ поставщиков для замены вышедше...   \n",
       "2   Провести рефакторинг программного обеспечения ...   \n",
       "3   Оплатить командировочные расходы.\\nОпределить ...   \n",
       "4   Согласовать смету на выполнение работ компание...   \n",
       "\n",
       "                       Task1.task_responsibles_people  \\\n",
       "id                                                      \n",
       "0   Ответственность за исполнение распоряжения воз...   \n",
       "1   Ответственность за исполнение распоряжения воз...   \n",
       "2   Контроль над исполнением распоряжения оставить...   \n",
       "3   Контроль над выполнением настоящего распоряжен...   \n",
       "4   Контроль над выполнением настоящего распоряжен...   \n",
       "\n",
       "         Task1.task_responsibles_groups              Task1.task_deadline  \\\n",
       "id                                                                         \n",
       "0   Административно-хозяйственный отдел        [19 апр 15, 1429383600.0]   \n",
       "1                             Служба ИТ    [24 октября 12, 1351015200.0]   \n",
       "2               Отдел разработки систем         [24.12.20, 1608750000.0]   \n",
       "3                           Бухгалтерия  [26 июля 2019 г., 1564081200.0]   \n",
       "4                           Бухгалтерия   [12 янв 2019 г., 1547233200.0]   \n",
       "\n",
       "                                    Global_supervisor  \\\n",
       "id                                                      \n",
       "0   [Ответственность за исполнение распоряжения во...   \n",
       "1   [Ответственность за исполнение распоряжения во...   \n",
       "2   [Контроль над исполнением распоряжения оставит...   \n",
       "3   [Контроль над выполнением настоящего распоряже...   \n",
       "4   [Контроль над выполнением настоящего распоряже...   \n",
       "\n",
       "                        Global_deadline  \\\n",
       "id                                        \n",
       "0   [11 апреля 2013 года, 1365616800.0]   \n",
       "1     [03 июня 2013 года, 1370196000.0]   \n",
       "2        [08 окт 2014 г., 1412704800.0]   \n",
       "3              [10.12.18, 1544382000.0]   \n",
       "4            [19.03.2016, 1458327600.0]   \n",
       "\n",
       "                                      Task2.task_text  \\\n",
       "id                                                      \n",
       "0                                                 NaN   \n",
       "1   Выполнить ремонт кабеля сети передачи данных м...   \n",
       "2   Провести рефакторинг программного обеспечения ...   \n",
       "3   Провести аудит персональных данных в информаци...   \n",
       "4   Выделить средства на проведение обучения.\\nУст...   \n",
       "\n",
       "                       Task2.task_responsibles_people  \\\n",
       "id                                                      \n",
       "0                                                 NaN   \n",
       "1   Контроль над выполнением приказа возложить на ...   \n",
       "2   Ответственным за исполнение настоящего приказа...   \n",
       "3   Обеспечение выполнения возложить на специалист...   \n",
       "4   Ответственным за исполнение настоящего приказа...   \n",
       "\n",
       "   Task2.task_responsibles_groups                  Task2.task_deadline  ...  \\\n",
       "id                                                                      ...   \n",
       "0                             NaN                                  NaN  ...   \n",
       "1                       Служба ИТ            [12 авг 13, 1376244000.0]  ...   \n",
       "2         Отдел разработки систем  [01 января 2018 года, 1514746800.0]  ...   \n",
       "3                     Бухгалтерия             [17.09.13, 1379354400.0]  ...   \n",
       "4                     Бухгалтерия           [26.09.2016, 1474830000.0]  ...   \n",
       "\n",
       "   Task7.task_responsibles_groups Task7.task_deadline Task8.task_text  \\\n",
       "id                                                                      \n",
       "0                             NaN                 NaN             NaN   \n",
       "1                             NaN                 NaN             NaN   \n",
       "2                             NaN                 NaN             NaN   \n",
       "3                             NaN                 NaN             NaN   \n",
       "4                             NaN                 NaN             NaN   \n",
       "\n",
       "   Task8.task_responsibles_people Task8.task_responsibles_groups  \\\n",
       "id                                                                 \n",
       "0                             NaN                            NaN   \n",
       "1                             NaN                            NaN   \n",
       "2                             NaN                            NaN   \n",
       "3                             NaN                            NaN   \n",
       "4                             NaN                            NaN   \n",
       "\n",
       "   Task8.task_deadline Task9.task_text Task9.task_responsibles_people  \\\n",
       "id                                                                      \n",
       "0                  NaN             NaN                            NaN   \n",
       "1                  NaN             NaN                            NaN   \n",
       "2                  NaN             NaN                            NaN   \n",
       "3                  NaN             NaN                            NaN   \n",
       "4                  NaN             NaN                            NaN   \n",
       "\n",
       "   Task9.task_responsibles_groups Task9.task_deadline  \n",
       "id                                                     \n",
       "0                             NaN                 NaN  \n",
       "1                             NaN                 NaN  \n",
       "2                             NaN                 NaN  \n",
       "3                             NaN                 NaN  \n",
       "4                             NaN                 NaN  \n",
       "\n",
       "[5 rows x 38 columns]"
      ]
     },
     "execution_count": 46,
     "metadata": {},
     "output_type": "execute_result"
    }
   ],
   "source": [
    "df.head()"
   ]
  },
  {
   "cell_type": "code",
   "execution_count": 139,
   "id": "fd6a6d7f-c417-4b15-a338-f6b76bf69fc7",
   "metadata": {},
   "outputs": [],
   "source": [
    "#df = pd.read_csv('df_all.csv')"
   ]
  },
  {
   "cell_type": "code",
   "execution_count": 48,
   "id": "a3dafcb6-e8c4-4e42-ae00-1ef6ff72ba87",
   "metadata": {},
   "outputs": [],
   "source": [
    "df = df.replace(classes_dep)"
   ]
  },
  {
   "cell_type": "code",
   "execution_count": 49,
   "id": "86d7e74d-4329-4b1b-a43e-9ffa74cc6ae2",
   "metadata": {},
   "outputs": [],
   "source": [
    "df_not_dead_line = df.drop(['Global_deadline','Task1.task_deadline','Task2.task_deadline','Task3.task_deadline','Task4.task_deadline',\n",
    "              'Task5.task_deadline','Task6.task_deadline','Task7.task_deadline',\n",
    "             'Task8.task_deadline','Task9.task_deadline'], axis = 1)\n"
   ]
  },
  {
   "cell_type": "code",
   "execution_count": 51,
   "id": "818924af-7fdd-4a36-86c6-68365ea2126a",
   "metadata": {},
   "outputs": [],
   "source": [
    "df = df.fillna(0)"
   ]
  },
  {
   "cell_type": "code",
   "execution_count": null,
   "id": "69d30a32-1368-4419-87e6-9d55a77c5cc9",
   "metadata": {},
   "outputs": [],
   "source": [
    "### Разделение задания на предложения"
   ]
  },
  {
   "cell_type": "code",
   "execution_count": 55,
   "id": "ac0373ef-41e7-4fa2-a8df-15743445add6",
   "metadata": {},
   "outputs": [
    {
     "name": "stderr",
     "output_type": "stream",
     "text": [
      "/var/folders/5g/7vyd0lbj2w52qz6789tj57hc0000gn/T/ipykernel_5482/2788789353.py:3: SettingWithCopyWarning: \n",
      "A value is trying to be set on a copy of a slice from a DataFrame\n",
      "\n",
      "See the caveats in the documentation: https://pandas.pydata.org/pandas-docs/stable/user_guide/indexing.html#returning-a-view-versus-a-copy\n",
      "  df['Task{}.task_text'.format(n)][n] = df['Task{}.task_text'.format(n)][n].split('.')[0]\n"
     ]
    },
    {
     "data": {
      "text/html": [
       "<div>\n",
       "<style scoped>\n",
       "    .dataframe tbody tr th:only-of-type {\n",
       "        vertical-align: middle;\n",
       "    }\n",
       "\n",
       "    .dataframe tbody tr th {\n",
       "        vertical-align: top;\n",
       "    }\n",
       "\n",
       "    .dataframe thead th {\n",
       "        text-align: right;\n",
       "    }\n",
       "</style>\n",
       "<table border=\"1\" class=\"dataframe\">\n",
       "  <thead>\n",
       "    <tr style=\"text-align: right;\">\n",
       "      <th></th>\n",
       "      <th>Task1.task_text</th>\n",
       "      <th>Task1.task_responsibles_people</th>\n",
       "      <th>Task1.task_responsibles_groups</th>\n",
       "      <th>Task1.task_deadline</th>\n",
       "      <th>Global_supervisor</th>\n",
       "      <th>Global_deadline</th>\n",
       "      <th>Task2.task_text</th>\n",
       "      <th>Task2.task_responsibles_people</th>\n",
       "      <th>Task2.task_responsibles_groups</th>\n",
       "      <th>Task2.task_deadline</th>\n",
       "      <th>...</th>\n",
       "      <th>Task7.task_responsibles_groups</th>\n",
       "      <th>Task7.task_deadline</th>\n",
       "      <th>Task8.task_text</th>\n",
       "      <th>Task8.task_responsibles_people</th>\n",
       "      <th>Task8.task_responsibles_groups</th>\n",
       "      <th>Task8.task_deadline</th>\n",
       "      <th>Task9.task_text</th>\n",
       "      <th>Task9.task_responsibles_people</th>\n",
       "      <th>Task9.task_responsibles_groups</th>\n",
       "      <th>Task9.task_deadline</th>\n",
       "    </tr>\n",
       "    <tr>\n",
       "      <th>id</th>\n",
       "      <th></th>\n",
       "      <th></th>\n",
       "      <th></th>\n",
       "      <th></th>\n",
       "      <th></th>\n",
       "      <th></th>\n",
       "      <th></th>\n",
       "      <th></th>\n",
       "      <th></th>\n",
       "      <th></th>\n",
       "      <th></th>\n",
       "      <th></th>\n",
       "      <th></th>\n",
       "      <th></th>\n",
       "      <th></th>\n",
       "      <th></th>\n",
       "      <th></th>\n",
       "      <th></th>\n",
       "      <th></th>\n",
       "      <th></th>\n",
       "      <th></th>\n",
       "    </tr>\n",
       "  </thead>\n",
       "  <tbody>\n",
       "    <tr>\n",
       "      <th>0</th>\n",
       "      <td>Закупить книги. Срок завершения: 19 апр 15.</td>\n",
       "      <td>Ответственность за исполнение распоряжения воз...</td>\n",
       "      <td>5</td>\n",
       "      <td>[19 апр 15, 1429383600.0]</td>\n",
       "      <td>[Ответственность за исполнение распоряжения во...</td>\n",
       "      <td>[11 апреля 2013 года, 1365616800.0]</td>\n",
       "      <td>0</td>\n",
       "      <td>0</td>\n",
       "      <td>0.0</td>\n",
       "      <td>0</td>\n",
       "      <td>...</td>\n",
       "      <td>0.0</td>\n",
       "      <td>0</td>\n",
       "      <td>0</td>\n",
       "      <td>0</td>\n",
       "      <td>0.0</td>\n",
       "      <td>0</td>\n",
       "      <td>0</td>\n",
       "      <td>0</td>\n",
       "      <td>0.0</td>\n",
       "      <td>0</td>\n",
       "    </tr>\n",
       "    <tr>\n",
       "      <th>1</th>\n",
       "      <td>Провести анализ поставщиков для замены вышедше...</td>\n",
       "      <td>Ответственность за исполнение распоряжения воз...</td>\n",
       "      <td>7</td>\n",
       "      <td>[24 октября 12, 1351015200.0]</td>\n",
       "      <td>[Ответственность за исполнение распоряжения во...</td>\n",
       "      <td>[03 июня 2013 года, 1370196000.0]</td>\n",
       "      <td>Выполнить ремонт кабеля сети передачи данных м...</td>\n",
       "      <td>Контроль над выполнением приказа возложить на ...</td>\n",
       "      <td>7.0</td>\n",
       "      <td>[12 авг 13, 1376244000.0]</td>\n",
       "      <td>...</td>\n",
       "      <td>0.0</td>\n",
       "      <td>0</td>\n",
       "      <td>0</td>\n",
       "      <td>0</td>\n",
       "      <td>0.0</td>\n",
       "      <td>0</td>\n",
       "      <td>0</td>\n",
       "      <td>0</td>\n",
       "      <td>0.0</td>\n",
       "      <td>0</td>\n",
       "    </tr>\n",
       "    <tr>\n",
       "      <th>2</th>\n",
       "      <td>Провести рефакторинг программного обеспечения ...</td>\n",
       "      <td>Контроль над исполнением распоряжения оставить...</td>\n",
       "      <td>8</td>\n",
       "      <td>[24.12.20, 1608750000.0]</td>\n",
       "      <td>[Контроль над исполнением распоряжения оставит...</td>\n",
       "      <td>[08 окт 2014 г., 1412704800.0]</td>\n",
       "      <td>Провести рефакторинг программного обеспечения ...</td>\n",
       "      <td>Ответственным за исполнение настоящего приказа...</td>\n",
       "      <td>8.0</td>\n",
       "      <td>[01 января 2018 года, 1514746800.0]</td>\n",
       "      <td>...</td>\n",
       "      <td>0.0</td>\n",
       "      <td>0</td>\n",
       "      <td>0</td>\n",
       "      <td>0</td>\n",
       "      <td>0.0</td>\n",
       "      <td>0</td>\n",
       "      <td>0</td>\n",
       "      <td>0</td>\n",
       "      <td>0.0</td>\n",
       "      <td>0</td>\n",
       "    </tr>\n",
       "    <tr>\n",
       "      <th>3</th>\n",
       "      <td>Оплатить командировочные расходы.\\nОпределить ...</td>\n",
       "      <td>Контроль над выполнением настоящего распоряжен...</td>\n",
       "      <td>3</td>\n",
       "      <td>[26 июля 2019 г., 1564081200.0]</td>\n",
       "      <td>[Контроль над выполнением настоящего распоряже...</td>\n",
       "      <td>[10.12.18, 1544382000.0]</td>\n",
       "      <td>Провести аудит персональных данных в информаци...</td>\n",
       "      <td>Обеспечение выполнения возложить на специалист...</td>\n",
       "      <td>3.0</td>\n",
       "      <td>[17.09.13, 1379354400.0]</td>\n",
       "      <td>...</td>\n",
       "      <td>0.0</td>\n",
       "      <td>0</td>\n",
       "      <td>0</td>\n",
       "      <td>0</td>\n",
       "      <td>0.0</td>\n",
       "      <td>0</td>\n",
       "      <td>0</td>\n",
       "      <td>0</td>\n",
       "      <td>0.0</td>\n",
       "      <td>0</td>\n",
       "    </tr>\n",
       "    <tr>\n",
       "      <th>4</th>\n",
       "      <td>Согласовать смету на выполнение работ компание...</td>\n",
       "      <td>Контроль над выполнением настоящего распоряжен...</td>\n",
       "      <td>3</td>\n",
       "      <td>[12 янв 2019 г., 1547233200.0]</td>\n",
       "      <td>[Контроль над выполнением настоящего распоряже...</td>\n",
       "      <td>[19.03.2016, 1458327600.0]</td>\n",
       "      <td>Выделить средства на проведение обучения.\\nУст...</td>\n",
       "      <td>Ответственным за исполнение настоящего приказа...</td>\n",
       "      <td>3.0</td>\n",
       "      <td>[26.09.2016, 1474830000.0]</td>\n",
       "      <td>...</td>\n",
       "      <td>0.0</td>\n",
       "      <td>0</td>\n",
       "      <td>0</td>\n",
       "      <td>0</td>\n",
       "      <td>0.0</td>\n",
       "      <td>0</td>\n",
       "      <td>0</td>\n",
       "      <td>0</td>\n",
       "      <td>0.0</td>\n",
       "      <td>0</td>\n",
       "    </tr>\n",
       "    <tr>\n",
       "      <th>...</th>\n",
       "      <td>...</td>\n",
       "      <td>...</td>\n",
       "      <td>...</td>\n",
       "      <td>...</td>\n",
       "      <td>...</td>\n",
       "      <td>...</td>\n",
       "      <td>...</td>\n",
       "      <td>...</td>\n",
       "      <td>...</td>\n",
       "      <td>...</td>\n",
       "      <td>...</td>\n",
       "      <td>...</td>\n",
       "      <td>...</td>\n",
       "      <td>...</td>\n",
       "      <td>...</td>\n",
       "      <td>...</td>\n",
       "      <td>...</td>\n",
       "      <td>...</td>\n",
       "      <td>...</td>\n",
       "      <td>...</td>\n",
       "      <td>...</td>\n",
       "    </tr>\n",
       "    <tr>\n",
       "      <th>9994</th>\n",
       "      <td>Выполнить ремонт кабеля сети передачи данных м...</td>\n",
       "      <td>Ответственным за исполнение настоящего приказа...</td>\n",
       "      <td>7</td>\n",
       "      <td>[21 июня 20, 1592679600.0]</td>\n",
       "      <td>[Ответственным за исполнение настоящего приказ...</td>\n",
       "      <td>[11 января 2015 года, 1420916400.0]</td>\n",
       "      <td>Выполнить перезагрузку серверного оборудования...</td>\n",
       "      <td>За контроль над исполнением распоряжения назна...</td>\n",
       "      <td>7.0</td>\n",
       "      <td>[20.11.2021, 1637348400.0]</td>\n",
       "      <td>...</td>\n",
       "      <td>0.0</td>\n",
       "      <td>0</td>\n",
       "      <td>0</td>\n",
       "      <td>0</td>\n",
       "      <td>0.0</td>\n",
       "      <td>0</td>\n",
       "      <td>0</td>\n",
       "      <td>0</td>\n",
       "      <td>0.0</td>\n",
       "      <td>0</td>\n",
       "    </tr>\n",
       "    <tr>\n",
       "      <th>9995</th>\n",
       "      <td>Подготовить отчеты для налоговой службы.\\nПрис...</td>\n",
       "      <td>Ответственным за исполнение настоящего приказа...</td>\n",
       "      <td>3</td>\n",
       "      <td>[14 сен 2017 г., 1505329200.0]</td>\n",
       "      <td>[Ответственным за исполнение настоящего приказ...</td>\n",
       "      <td>[22 августа 2016 года, 1471806000.0]</td>\n",
       "      <td>Перечислить необходимые средства для проведени...</td>\n",
       "      <td>За контроль над исполнением распоряжения назна...</td>\n",
       "      <td>3.0</td>\n",
       "      <td>[20 июля 2013 г., 1374256800.0]</td>\n",
       "      <td>...</td>\n",
       "      <td>0.0</td>\n",
       "      <td>0</td>\n",
       "      <td>0</td>\n",
       "      <td>0</td>\n",
       "      <td>0.0</td>\n",
       "      <td>0</td>\n",
       "      <td>0</td>\n",
       "      <td>0</td>\n",
       "      <td>0.0</td>\n",
       "      <td>0</td>\n",
       "    </tr>\n",
       "    <tr>\n",
       "      <th>9996</th>\n",
       "      <td>Закупить необходимое количество лицензий офисн...</td>\n",
       "      <td>Контроль над исполнением распоряжения оставить...</td>\n",
       "      <td>7</td>\n",
       "      <td>[03 октября 2020 года, 1601665200.0]</td>\n",
       "      <td>[Контроль над исполнением распоряжения оставит...</td>\n",
       "      <td>[26 июля 12, 1343239200.0]</td>\n",
       "      <td>Закупить необходимое количество клавиатур и ма...</td>\n",
       "      <td>Ответственным за контролем над исполнением выш...</td>\n",
       "      <td>7.0</td>\n",
       "      <td>[16 августа 2012 года, 1345053600.0]</td>\n",
       "      <td>...</td>\n",
       "      <td>7.0</td>\n",
       "      <td>[02.12.14, 1417460400.0]</td>\n",
       "      <td>Подключить и настроить видеокамеру для работы ...</td>\n",
       "      <td>За контроль над исполнением распоряжения назна...</td>\n",
       "      <td>7.0</td>\n",
       "      <td>[07 апр 15, 1428346800.0]</td>\n",
       "      <td>Провести централизованную смену паролей для до...</td>\n",
       "      <td>Контроль над выполнением настоящего распоряжен...</td>\n",
       "      <td>7.0</td>\n",
       "      <td>[08.10.2019, 1570474800.0]</td>\n",
       "    </tr>\n",
       "    <tr>\n",
       "      <th>9997</th>\n",
       "      <td>Скорректировать проектно-сметную документацию ...</td>\n",
       "      <td>Контроль над выполнением настоящего распоряжен...</td>\n",
       "      <td>6</td>\n",
       "      <td>[04 мар 2012 г., 1330797600.0]</td>\n",
       "      <td>[Контроль над выполнением настоящего распоряже...</td>\n",
       "      <td>[10.02.18, 1518202800.0]</td>\n",
       "      <td>Подготовить спецификацию необходимого аппаратн...</td>\n",
       "      <td>Ответственность за исполнение распоряжения воз...</td>\n",
       "      <td>6.0</td>\n",
       "      <td>[19.04.2020, 1587236400.0]</td>\n",
       "      <td>...</td>\n",
       "      <td>0.0</td>\n",
       "      <td>0</td>\n",
       "      <td>0</td>\n",
       "      <td>0</td>\n",
       "      <td>0.0</td>\n",
       "      <td>0</td>\n",
       "      <td>0</td>\n",
       "      <td>0</td>\n",
       "      <td>0.0</td>\n",
       "      <td>0</td>\n",
       "    </tr>\n",
       "    <tr>\n",
       "      <th>9998</th>\n",
       "      <td>Доработать функцию сохранения информации в баз...</td>\n",
       "      <td>Обеспечение выполнения возложить на специалист...</td>\n",
       "      <td>8</td>\n",
       "      <td>[27.12.2012, 1356544800.0]</td>\n",
       "      <td>[Обеспечение выполнения возложить на специалис...</td>\n",
       "      <td>[14.03.15, 1426273200.0]</td>\n",
       "      <td>Провести анализ неисправности работы API и обе...</td>\n",
       "      <td>За контроль над исполнением распоряжения назна...</td>\n",
       "      <td>8.0</td>\n",
       "      <td>[20.01.21, 1611082800.0]</td>\n",
       "      <td>...</td>\n",
       "      <td>8.0</td>\n",
       "      <td>[04.01.13, 1357236000.0]</td>\n",
       "      <td>0</td>\n",
       "      <td>0</td>\n",
       "      <td>0.0</td>\n",
       "      <td>0</td>\n",
       "      <td>0</td>\n",
       "      <td>0</td>\n",
       "      <td>0.0</td>\n",
       "      <td>0</td>\n",
       "    </tr>\n",
       "  </tbody>\n",
       "</table>\n",
       "<p>9999 rows × 38 columns</p>\n",
       "</div>"
      ],
      "text/plain": [
       "                                        Task1.task_text  \\\n",
       "id                                                        \n",
       "0           Закупить книги. Срок завершения: 19 апр 15.   \n",
       "1     Провести анализ поставщиков для замены вышедше...   \n",
       "2     Провести рефакторинг программного обеспечения ...   \n",
       "3     Оплатить командировочные расходы.\\nОпределить ...   \n",
       "4     Согласовать смету на выполнение работ компание...   \n",
       "...                                                 ...   \n",
       "9994  Выполнить ремонт кабеля сети передачи данных м...   \n",
       "9995  Подготовить отчеты для налоговой службы.\\nПрис...   \n",
       "9996  Закупить необходимое количество лицензий офисн...   \n",
       "9997  Скорректировать проектно-сметную документацию ...   \n",
       "9998  Доработать функцию сохранения информации в баз...   \n",
       "\n",
       "                         Task1.task_responsibles_people  \\\n",
       "id                                                        \n",
       "0     Ответственность за исполнение распоряжения воз...   \n",
       "1     Ответственность за исполнение распоряжения воз...   \n",
       "2     Контроль над исполнением распоряжения оставить...   \n",
       "3     Контроль над выполнением настоящего распоряжен...   \n",
       "4     Контроль над выполнением настоящего распоряжен...   \n",
       "...                                                 ...   \n",
       "9994  Ответственным за исполнение настоящего приказа...   \n",
       "9995  Ответственным за исполнение настоящего приказа...   \n",
       "9996  Контроль над исполнением распоряжения оставить...   \n",
       "9997  Контроль над выполнением настоящего распоряжен...   \n",
       "9998  Обеспечение выполнения возложить на специалист...   \n",
       "\n",
       "      Task1.task_responsibles_groups                   Task1.task_deadline  \\\n",
       "id                                                                           \n",
       "0                                  5             [19 апр 15, 1429383600.0]   \n",
       "1                                  7         [24 октября 12, 1351015200.0]   \n",
       "2                                  8              [24.12.20, 1608750000.0]   \n",
       "3                                  3       [26 июля 2019 г., 1564081200.0]   \n",
       "4                                  3        [12 янв 2019 г., 1547233200.0]   \n",
       "...                              ...                                   ...   \n",
       "9994                               7            [21 июня 20, 1592679600.0]   \n",
       "9995                               3        [14 сен 2017 г., 1505329200.0]   \n",
       "9996                               7  [03 октября 2020 года, 1601665200.0]   \n",
       "9997                               6        [04 мар 2012 г., 1330797600.0]   \n",
       "9998                               8            [27.12.2012, 1356544800.0]   \n",
       "\n",
       "                                      Global_supervisor  \\\n",
       "id                                                        \n",
       "0     [Ответственность за исполнение распоряжения во...   \n",
       "1     [Ответственность за исполнение распоряжения во...   \n",
       "2     [Контроль над исполнением распоряжения оставит...   \n",
       "3     [Контроль над выполнением настоящего распоряже...   \n",
       "4     [Контроль над выполнением настоящего распоряже...   \n",
       "...                                                 ...   \n",
       "9994  [Ответственным за исполнение настоящего приказ...   \n",
       "9995  [Ответственным за исполнение настоящего приказ...   \n",
       "9996  [Контроль над исполнением распоряжения оставит...   \n",
       "9997  [Контроль над выполнением настоящего распоряже...   \n",
       "9998  [Обеспечение выполнения возложить на специалис...   \n",
       "\n",
       "                           Global_deadline  \\\n",
       "id                                           \n",
       "0      [11 апреля 2013 года, 1365616800.0]   \n",
       "1        [03 июня 2013 года, 1370196000.0]   \n",
       "2           [08 окт 2014 г., 1412704800.0]   \n",
       "3                 [10.12.18, 1544382000.0]   \n",
       "4               [19.03.2016, 1458327600.0]   \n",
       "...                                    ...   \n",
       "9994   [11 января 2015 года, 1420916400.0]   \n",
       "9995  [22 августа 2016 года, 1471806000.0]   \n",
       "9996            [26 июля 12, 1343239200.0]   \n",
       "9997              [10.02.18, 1518202800.0]   \n",
       "9998              [14.03.15, 1426273200.0]   \n",
       "\n",
       "                                        Task2.task_text  \\\n",
       "id                                                        \n",
       "0                                                     0   \n",
       "1     Выполнить ремонт кабеля сети передачи данных м...   \n",
       "2     Провести рефакторинг программного обеспечения ...   \n",
       "3     Провести аудит персональных данных в информаци...   \n",
       "4     Выделить средства на проведение обучения.\\nУст...   \n",
       "...                                                 ...   \n",
       "9994  Выполнить перезагрузку серверного оборудования...   \n",
       "9995  Перечислить необходимые средства для проведени...   \n",
       "9996  Закупить необходимое количество клавиатур и ма...   \n",
       "9997  Подготовить спецификацию необходимого аппаратн...   \n",
       "9998  Провести анализ неисправности работы API и обе...   \n",
       "\n",
       "                         Task2.task_responsibles_people  \\\n",
       "id                                                        \n",
       "0                                                     0   \n",
       "1     Контроль над выполнением приказа возложить на ...   \n",
       "2     Ответственным за исполнение настоящего приказа...   \n",
       "3     Обеспечение выполнения возложить на специалист...   \n",
       "4     Ответственным за исполнение настоящего приказа...   \n",
       "...                                                 ...   \n",
       "9994  За контроль над исполнением распоряжения назна...   \n",
       "9995  За контроль над исполнением распоряжения назна...   \n",
       "9996  Ответственным за контролем над исполнением выш...   \n",
       "9997  Ответственность за исполнение распоряжения воз...   \n",
       "9998  За контроль над исполнением распоряжения назна...   \n",
       "\n",
       "      Task2.task_responsibles_groups                   Task2.task_deadline  \\\n",
       "id                                                                           \n",
       "0                                0.0                                     0   \n",
       "1                                7.0             [12 авг 13, 1376244000.0]   \n",
       "2                                8.0   [01 января 2018 года, 1514746800.0]   \n",
       "3                                3.0              [17.09.13, 1379354400.0]   \n",
       "4                                3.0            [26.09.2016, 1474830000.0]   \n",
       "...                              ...                                   ...   \n",
       "9994                             7.0            [20.11.2021, 1637348400.0]   \n",
       "9995                             3.0       [20 июля 2013 г., 1374256800.0]   \n",
       "9996                             7.0  [16 августа 2012 года, 1345053600.0]   \n",
       "9997                             6.0            [19.04.2020, 1587236400.0]   \n",
       "9998                             8.0              [20.01.21, 1611082800.0]   \n",
       "\n",
       "      ... Task7.task_responsibles_groups       Task7.task_deadline  \\\n",
       "id    ...                                                            \n",
       "0     ...                            0.0                         0   \n",
       "1     ...                            0.0                         0   \n",
       "2     ...                            0.0                         0   \n",
       "3     ...                            0.0                         0   \n",
       "4     ...                            0.0                         0   \n",
       "...   ...                            ...                       ...   \n",
       "9994  ...                            0.0                         0   \n",
       "9995  ...                            0.0                         0   \n",
       "9996  ...                            7.0  [02.12.14, 1417460400.0]   \n",
       "9997  ...                            0.0                         0   \n",
       "9998  ...                            8.0  [04.01.13, 1357236000.0]   \n",
       "\n",
       "                                        Task8.task_text  \\\n",
       "id                                                        \n",
       "0                                                     0   \n",
       "1                                                     0   \n",
       "2                                                     0   \n",
       "3                                                     0   \n",
       "4                                                     0   \n",
       "...                                                 ...   \n",
       "9994                                                  0   \n",
       "9995                                                  0   \n",
       "9996  Подключить и настроить видеокамеру для работы ...   \n",
       "9997                                                  0   \n",
       "9998                                                  0   \n",
       "\n",
       "                         Task8.task_responsibles_people  \\\n",
       "id                                                        \n",
       "0                                                     0   \n",
       "1                                                     0   \n",
       "2                                                     0   \n",
       "3                                                     0   \n",
       "4                                                     0   \n",
       "...                                                 ...   \n",
       "9994                                                  0   \n",
       "9995                                                  0   \n",
       "9996  За контроль над исполнением распоряжения назна...   \n",
       "9997                                                  0   \n",
       "9998                                                  0   \n",
       "\n",
       "     Task8.task_responsibles_groups        Task8.task_deadline  \\\n",
       "id                                                               \n",
       "0                               0.0                          0   \n",
       "1                               0.0                          0   \n",
       "2                               0.0                          0   \n",
       "3                               0.0                          0   \n",
       "4                               0.0                          0   \n",
       "...                             ...                        ...   \n",
       "9994                            0.0                          0   \n",
       "9995                            0.0                          0   \n",
       "9996                            7.0  [07 апр 15, 1428346800.0]   \n",
       "9997                            0.0                          0   \n",
       "9998                            0.0                          0   \n",
       "\n",
       "                                        Task9.task_text  \\\n",
       "id                                                        \n",
       "0                                                     0   \n",
       "1                                                     0   \n",
       "2                                                     0   \n",
       "3                                                     0   \n",
       "4                                                     0   \n",
       "...                                                 ...   \n",
       "9994                                                  0   \n",
       "9995                                                  0   \n",
       "9996  Провести централизованную смену паролей для до...   \n",
       "9997                                                  0   \n",
       "9998                                                  0   \n",
       "\n",
       "                         Task9.task_responsibles_people  \\\n",
       "id                                                        \n",
       "0                                                     0   \n",
       "1                                                     0   \n",
       "2                                                     0   \n",
       "3                                                     0   \n",
       "4                                                     0   \n",
       "...                                                 ...   \n",
       "9994                                                  0   \n",
       "9995                                                  0   \n",
       "9996  Контроль над выполнением настоящего распоряжен...   \n",
       "9997                                                  0   \n",
       "9998                                                  0   \n",
       "\n",
       "     Task9.task_responsibles_groups         Task9.task_deadline  \n",
       "id                                                               \n",
       "0                               0.0                           0  \n",
       "1                               0.0                           0  \n",
       "2                               0.0                           0  \n",
       "3                               0.0                           0  \n",
       "4                               0.0                           0  \n",
       "...                             ...                         ...  \n",
       "9994                            0.0                           0  \n",
       "9995                            0.0                           0  \n",
       "9996                            7.0  [08.10.2019, 1570474800.0]  \n",
       "9997                            0.0                           0  \n",
       "9998                            0.0                           0  \n",
       "\n",
       "[9999 rows x 38 columns]"
      ]
     },
     "execution_count": 55,
     "metadata": {},
     "output_type": "execute_result"
    }
   ],
   "source": [
    "for n in range(len(df)):\n",
    "    try:\n",
    "        df['Task{}.task_text'.format(n)][n] = df['Task{}.task_text'.format(n)][n].split('.')[0]\n",
    "    except TypeError:\n",
    "        continue\n",
    "    except AttributeError:\n",
    "        continue\n",
    "    except IndexError:\n",
    "        continue\n",
    "    except KeyError:\n",
    "        continue\n"
   ]
  },
  {
   "cell_type": "code",
   "execution_count": null,
   "id": "463891da-e882-426b-b7b6-1d325defd155",
   "metadata": {},
   "outputs": [],
   "source": [
    "#df_no_deadline.to_csv('df_no_deadline.csv')"
   ]
  },
  {
   "cell_type": "markdown",
   "id": "61bb7390-87f2-48f9-8724-d37718a5a9da",
   "metadata": {},
   "source": [
    "## Построение модели классификации (только по отделам)."
   ]
  },
  {
   "cell_type": "code",
   "execution_count": 57,
   "id": "1f6fd5eb-62d3-445e-b8f5-153c156eb8c7",
   "metadata": {},
   "outputs": [],
   "source": [
    "#!install tensorflow_version 2.x\n",
    "from tensorflow.keras.models import Sequential\n",
    "from tensorflow.keras.layers import Dense, Embedding, GRU, LSTM\n",
    "from tensorflow.keras import utils\n",
    "from tensorflow.keras.preprocessing.sequence import pad_sequences\n",
    "from tensorflow.keras.preprocessing.text import Tokenizer\n",
    "from tensorflow.keras.callbacks import ModelCheckpoint\n",
    "import pandas as pd\n",
    "import numpy as np\n",
    "import matplotlib.pyplot as plt\n",
    "%matplotlib inline \n",
    "\n",
    "from sklearn.model_selection import train_test_split"
   ]
  },
  {
   "cell_type": "code",
   "execution_count": 60,
   "id": "4406e674-0875-4d51-9912-6ccbc252e38b",
   "metadata": {},
   "outputs": [
    {
     "data": {
      "text/html": [
       "<div>\n",
       "<style scoped>\n",
       "    .dataframe tbody tr th:only-of-type {\n",
       "        vertical-align: middle;\n",
       "    }\n",
       "\n",
       "    .dataframe tbody tr th {\n",
       "        vertical-align: top;\n",
       "    }\n",
       "\n",
       "    .dataframe thead th {\n",
       "        text-align: right;\n",
       "    }\n",
       "</style>\n",
       "<table border=\"1\" class=\"dataframe\">\n",
       "  <thead>\n",
       "    <tr style=\"text-align: right;\">\n",
       "      <th></th>\n",
       "      <th>Task1.task_text</th>\n",
       "      <th>Task1.task_responsibles_people</th>\n",
       "      <th>Task1.task_deadline</th>\n",
       "      <th>Global_supervisor</th>\n",
       "      <th>Global_deadline</th>\n",
       "      <th>Task2.task_text</th>\n",
       "      <th>Task2.task_responsibles_people</th>\n",
       "      <th>Task2.task_deadline</th>\n",
       "      <th>Task3.task_text</th>\n",
       "      <th>Task3.task_responsibles_people</th>\n",
       "      <th>...</th>\n",
       "      <th>Task6.task_deadline</th>\n",
       "      <th>Task7.task_text</th>\n",
       "      <th>Task7.task_responsibles_people</th>\n",
       "      <th>Task7.task_deadline</th>\n",
       "      <th>Task8.task_text</th>\n",
       "      <th>Task8.task_responsibles_people</th>\n",
       "      <th>Task8.task_deadline</th>\n",
       "      <th>Task9.task_text</th>\n",
       "      <th>Task9.task_responsibles_people</th>\n",
       "      <th>Task9.task_deadline</th>\n",
       "    </tr>\n",
       "    <tr>\n",
       "      <th>id</th>\n",
       "      <th></th>\n",
       "      <th></th>\n",
       "      <th></th>\n",
       "      <th></th>\n",
       "      <th></th>\n",
       "      <th></th>\n",
       "      <th></th>\n",
       "      <th></th>\n",
       "      <th></th>\n",
       "      <th></th>\n",
       "      <th></th>\n",
       "      <th></th>\n",
       "      <th></th>\n",
       "      <th></th>\n",
       "      <th></th>\n",
       "      <th></th>\n",
       "      <th></th>\n",
       "      <th></th>\n",
       "      <th></th>\n",
       "      <th></th>\n",
       "      <th></th>\n",
       "    </tr>\n",
       "  </thead>\n",
       "  <tbody>\n",
       "    <tr>\n",
       "      <th>0</th>\n",
       "      <td>Закупить книги. Срок завершения: 19 апр 15.</td>\n",
       "      <td>Ответственность за исполнение распоряжения воз...</td>\n",
       "      <td>[19 апр 15, 1429383600.0]</td>\n",
       "      <td>[Ответственность за исполнение распоряжения во...</td>\n",
       "      <td>[11 апреля 2013 года, 1365616800.0]</td>\n",
       "      <td>0</td>\n",
       "      <td>0</td>\n",
       "      <td>0</td>\n",
       "      <td>0</td>\n",
       "      <td>0</td>\n",
       "      <td>...</td>\n",
       "      <td>0</td>\n",
       "      <td>0</td>\n",
       "      <td>0</td>\n",
       "      <td>0</td>\n",
       "      <td>0</td>\n",
       "      <td>0</td>\n",
       "      <td>0</td>\n",
       "      <td>0</td>\n",
       "      <td>0</td>\n",
       "      <td>0</td>\n",
       "    </tr>\n",
       "    <tr>\n",
       "      <th>1</th>\n",
       "      <td>Провести анализ поставщиков для замены вышедше...</td>\n",
       "      <td>Ответственность за исполнение распоряжения воз...</td>\n",
       "      <td>[24 октября 12, 1351015200.0]</td>\n",
       "      <td>[Ответственность за исполнение распоряжения во...</td>\n",
       "      <td>[03 июня 2013 года, 1370196000.0]</td>\n",
       "      <td>Выполнить ремонт кабеля сети передачи данных м...</td>\n",
       "      <td>Контроль над выполнением приказа возложить на ...</td>\n",
       "      <td>[12 авг 13, 1376244000.0]</td>\n",
       "      <td>Создать и настроить виртуальную машину в соотв...</td>\n",
       "      <td>Контроль над исполнением распоряжения оставить...</td>\n",
       "      <td>...</td>\n",
       "      <td>0</td>\n",
       "      <td>0</td>\n",
       "      <td>0</td>\n",
       "      <td>0</td>\n",
       "      <td>0</td>\n",
       "      <td>0</td>\n",
       "      <td>0</td>\n",
       "      <td>0</td>\n",
       "      <td>0</td>\n",
       "      <td>0</td>\n",
       "    </tr>\n",
       "    <tr>\n",
       "      <th>2</th>\n",
       "      <td>Провести рефакторинг программного обеспечения ...</td>\n",
       "      <td>Контроль над исполнением распоряжения оставить...</td>\n",
       "      <td>[24.12.20, 1608750000.0]</td>\n",
       "      <td>[Контроль над исполнением распоряжения оставит...</td>\n",
       "      <td>[08 окт 2014 г., 1412704800.0]</td>\n",
       "      <td>Провести рефакторинг программного обеспечения ...</td>\n",
       "      <td>Ответственным за исполнение настоящего приказа...</td>\n",
       "      <td>[01 января 2018 года, 1514746800.0]</td>\n",
       "      <td>Провести анализ накопленного технического долг...</td>\n",
       "      <td>За контроль над исполнением распоряжения назна...</td>\n",
       "      <td>...</td>\n",
       "      <td>[18.11.17, 1510945200.0]</td>\n",
       "      <td>0</td>\n",
       "      <td>0</td>\n",
       "      <td>0</td>\n",
       "      <td>0</td>\n",
       "      <td>0</td>\n",
       "      <td>0</td>\n",
       "      <td>0</td>\n",
       "      <td>0</td>\n",
       "      <td>0</td>\n",
       "    </tr>\n",
       "    <tr>\n",
       "      <th>3</th>\n",
       "      <td>Оплатить командировочные расходы.\\nОпределить ...</td>\n",
       "      <td>Контроль над выполнением настоящего распоряжен...</td>\n",
       "      <td>[26 июля 2019 г., 1564081200.0]</td>\n",
       "      <td>[Контроль над выполнением настоящего распоряже...</td>\n",
       "      <td>[10.12.18, 1544382000.0]</td>\n",
       "      <td>Провести аудит персональных данных в информаци...</td>\n",
       "      <td>Обеспечение выполнения возложить на специалист...</td>\n",
       "      <td>[17.09.13, 1379354400.0]</td>\n",
       "      <td>Перечислить необходимые средства на закупку об...</td>\n",
       "      <td>Контроль над выполнением настоящего распоряжен...</td>\n",
       "      <td>...</td>\n",
       "      <td>0</td>\n",
       "      <td>0</td>\n",
       "      <td>0</td>\n",
       "      <td>0</td>\n",
       "      <td>0</td>\n",
       "      <td>0</td>\n",
       "      <td>0</td>\n",
       "      <td>0</td>\n",
       "      <td>0</td>\n",
       "      <td>0</td>\n",
       "    </tr>\n",
       "    <tr>\n",
       "      <th>4</th>\n",
       "      <td>Согласовать смету на выполнение работ компание...</td>\n",
       "      <td>Контроль над выполнением настоящего распоряжен...</td>\n",
       "      <td>[12 янв 2019 г., 1547233200.0]</td>\n",
       "      <td>[Контроль над выполнением настоящего распоряже...</td>\n",
       "      <td>[19.03.2016, 1458327600.0]</td>\n",
       "      <td>Выделить средства на проведение обучения.\\nУст...</td>\n",
       "      <td>Ответственным за исполнение настоящего приказа...</td>\n",
       "      <td>[26.09.2016, 1474830000.0]</td>\n",
       "      <td>0</td>\n",
       "      <td>0</td>\n",
       "      <td>...</td>\n",
       "      <td>0</td>\n",
       "      <td>0</td>\n",
       "      <td>0</td>\n",
       "      <td>0</td>\n",
       "      <td>0</td>\n",
       "      <td>0</td>\n",
       "      <td>0</td>\n",
       "      <td>0</td>\n",
       "      <td>0</td>\n",
       "      <td>0</td>\n",
       "    </tr>\n",
       "  </tbody>\n",
       "</table>\n",
       "<p>5 rows × 29 columns</p>\n",
       "</div>"
      ],
      "text/plain": [
       "                                      Task1.task_text  \\\n",
       "id                                                      \n",
       "0         Закупить книги. Срок завершения: 19 апр 15.   \n",
       "1   Провести анализ поставщиков для замены вышедше...   \n",
       "2   Провести рефакторинг программного обеспечения ...   \n",
       "3   Оплатить командировочные расходы.\\nОпределить ...   \n",
       "4   Согласовать смету на выполнение работ компание...   \n",
       "\n",
       "                       Task1.task_responsibles_people  \\\n",
       "id                                                      \n",
       "0   Ответственность за исполнение распоряжения воз...   \n",
       "1   Ответственность за исполнение распоряжения воз...   \n",
       "2   Контроль над исполнением распоряжения оставить...   \n",
       "3   Контроль над выполнением настоящего распоряжен...   \n",
       "4   Контроль над выполнением настоящего распоряжен...   \n",
       "\n",
       "                Task1.task_deadline  \\\n",
       "id                                    \n",
       "0         [19 апр 15, 1429383600.0]   \n",
       "1     [24 октября 12, 1351015200.0]   \n",
       "2          [24.12.20, 1608750000.0]   \n",
       "3   [26 июля 2019 г., 1564081200.0]   \n",
       "4    [12 янв 2019 г., 1547233200.0]   \n",
       "\n",
       "                                    Global_supervisor  \\\n",
       "id                                                      \n",
       "0   [Ответственность за исполнение распоряжения во...   \n",
       "1   [Ответственность за исполнение распоряжения во...   \n",
       "2   [Контроль над исполнением распоряжения оставит...   \n",
       "3   [Контроль над выполнением настоящего распоряже...   \n",
       "4   [Контроль над выполнением настоящего распоряже...   \n",
       "\n",
       "                        Global_deadline  \\\n",
       "id                                        \n",
       "0   [11 апреля 2013 года, 1365616800.0]   \n",
       "1     [03 июня 2013 года, 1370196000.0]   \n",
       "2        [08 окт 2014 г., 1412704800.0]   \n",
       "3              [10.12.18, 1544382000.0]   \n",
       "4            [19.03.2016, 1458327600.0]   \n",
       "\n",
       "                                      Task2.task_text  \\\n",
       "id                                                      \n",
       "0                                                   0   \n",
       "1   Выполнить ремонт кабеля сети передачи данных м...   \n",
       "2   Провести рефакторинг программного обеспечения ...   \n",
       "3   Провести аудит персональных данных в информаци...   \n",
       "4   Выделить средства на проведение обучения.\\nУст...   \n",
       "\n",
       "                       Task2.task_responsibles_people  \\\n",
       "id                                                      \n",
       "0                                                   0   \n",
       "1   Контроль над выполнением приказа возложить на ...   \n",
       "2   Ответственным за исполнение настоящего приказа...   \n",
       "3   Обеспечение выполнения возложить на специалист...   \n",
       "4   Ответственным за исполнение настоящего приказа...   \n",
       "\n",
       "                    Task2.task_deadline  \\\n",
       "id                                        \n",
       "0                                     0   \n",
       "1             [12 авг 13, 1376244000.0]   \n",
       "2   [01 января 2018 года, 1514746800.0]   \n",
       "3              [17.09.13, 1379354400.0]   \n",
       "4            [26.09.2016, 1474830000.0]   \n",
       "\n",
       "                                      Task3.task_text  \\\n",
       "id                                                      \n",
       "0                                                   0   \n",
       "1   Создать и настроить виртуальную машину в соотв...   \n",
       "2   Провести анализ накопленного технического долг...   \n",
       "3   Перечислить необходимые средства на закупку об...   \n",
       "4                                                   0   \n",
       "\n",
       "                       Task3.task_responsibles_people  ...  \\\n",
       "id                                                     ...   \n",
       "0                                                   0  ...   \n",
       "1   Контроль над исполнением распоряжения оставить...  ...   \n",
       "2   За контроль над исполнением распоряжения назна...  ...   \n",
       "3   Контроль над выполнением настоящего распоряжен...  ...   \n",
       "4                                                   0  ...   \n",
       "\n",
       "         Task6.task_deadline Task7.task_text Task7.task_responsibles_people  \\\n",
       "id                                                                            \n",
       "0                          0               0                              0   \n",
       "1                          0               0                              0   \n",
       "2   [18.11.17, 1510945200.0]               0                              0   \n",
       "3                          0               0                              0   \n",
       "4                          0               0                              0   \n",
       "\n",
       "   Task7.task_deadline Task8.task_text Task8.task_responsibles_people  \\\n",
       "id                                                                      \n",
       "0                    0               0                              0   \n",
       "1                    0               0                              0   \n",
       "2                    0               0                              0   \n",
       "3                    0               0                              0   \n",
       "4                    0               0                              0   \n",
       "\n",
       "   Task8.task_deadline Task9.task_text Task9.task_responsibles_people  \\\n",
       "id                                                                      \n",
       "0                    0               0                              0   \n",
       "1                    0               0                              0   \n",
       "2                    0               0                              0   \n",
       "3                    0               0                              0   \n",
       "4                    0               0                              0   \n",
       "\n",
       "   Task9.task_deadline  \n",
       "id                      \n",
       "0                    0  \n",
       "1                    0  \n",
       "2                    0  \n",
       "3                    0  \n",
       "4                    0  \n",
       "\n",
       "[5 rows x 29 columns]"
      ]
     },
     "execution_count": 60,
     "metadata": {},
     "output_type": "execute_result"
    }
   ],
   "source": [
    "X = df.drop(['Task1.task_responsibles_groups','Task2.task_responsibles_groups','Task3.task_responsibles_groups',\n",
    "             'Task4.task_responsibles_groups',\n",
    "            'Task5.task_responsibles_groups','Task6.task_responsibles_groups','Task7.task_responsibles_groups',\n",
    "            'Task8.task_responsibles_groups','Task9.task_responsibles_groups'], axis = 1)\n",
    "X.head()"
   ]
  },
  {
   "cell_type": "markdown",
   "id": "ec293ebc-aedd-436c-9aa5-0b0db61552bc",
   "metadata": {},
   "source": [
    "### Определение целевой переменной."
   ]
  },
  {
   "cell_type": "code",
   "execution_count": 63,
   "id": "3dbcad1d-b162-4d4f-aa3e-9dd87f03dede",
   "metadata": {},
   "outputs": [
    {
     "data": {
      "text/plain": [
       "id\n",
       "0    5\n",
       "1    7\n",
       "2    8\n",
       "3    3\n",
       "4    3\n",
       "Name: Task1.task_responsibles_groups, dtype: int64"
      ]
     },
     "execution_count": 63,
     "metadata": {},
     "output_type": "execute_result"
    }
   ],
   "source": [
    "y = df['Task1.task_responsibles_groups']\n",
    "y.head()"
   ]
  },
  {
   "cell_type": "code",
   "execution_count": 64,
   "id": "91b60ead-7148-451d-aea9-04b416127f7a",
   "metadata": {},
   "outputs": [
    {
     "data": {
      "text/plain": [
       "((9999, 29), (9999,))"
      ]
     },
     "execution_count": 64,
     "metadata": {},
     "output_type": "execute_result"
    }
   ],
   "source": [
    "X.shape, y.shape"
   ]
  },
  {
   "cell_type": "markdown",
   "id": "1ad3e2c1-9678-4da4-aa89-063a2f64a121",
   "metadata": {},
   "source": [
    "## Определение словарей для токенизации и векторизация слов."
   ]
  },
  {
   "cell_type": "code",
   "execution_count": 66,
   "id": "286be3c5-fad8-448a-a455-f77fe6769515",
   "metadata": {},
   "outputs": [],
   "source": [
    "task_1 = X['Task1.task_text']\n",
    "task_2 = X['Task2.task_text']\n",
    "task_3 = X['Task3.task_text']\n",
    "task_4 = X['Task4.task_text']\n",
    "task_5 = X['Task5.task_text']\n",
    "task_6 = X['Task6.task_text']\n",
    "task_7 = X['Task7.task_text']\n",
    "task_8 = X['Task8.task_text']\n",
    "task_9 = X['Task9.task_text']\n",
    "\n",
    "Task1_task_responsibles_people = X['Task1.task_responsibles_people']\n",
    "Task2_task_responsibles_people = X['Task2.task_responsibles_people']\n",
    "Task3_task_responsibles_people = X['Task3.task_responsibles_people']\n",
    "Task4_task_responsibles_people = X['Task4.task_responsibles_people']\n",
    "Task5_task_responsibles_people = X['Task5.task_responsibles_people']\n",
    "Task6_task_responsibles_people = X['Task6.task_responsibles_people']\n",
    "Task7_task_responsibles_people = X['Task7.task_responsibles_people']\n",
    "Task8_task_responsibles_people = X['Task8.task_responsibles_people']\n",
    "Task9_task_responsibles_people = X['Task9.task_responsibles_people']\n",
    "\n",
    "Global_supervisor = X['Global_supervisor']"
   ]
  },
  {
   "cell_type": "markdown",
   "id": "c0bbd231-aaf8-4ae9-9398-9e3a231f534a",
   "metadata": {},
   "source": [
    "### Токенизация и векторизация слов и предложений."
   ]
  },
  {
   "cell_type": "code",
   "execution_count": 70,
   "id": "6c0fe492-dd7c-47c5-836c-377ca1867b3a",
   "metadata": {},
   "outputs": [],
   "source": [
    "tokenizer = Tokenizer(num_words=num_words)"
   ]
  },
  {
   "cell_type": "code",
   "execution_count": 71,
   "id": "01594160-91ff-44e2-85ba-411f8d5a0774",
   "metadata": {},
   "outputs": [],
   "source": [
    "tokenizer.fit_on_texts(Task1_task_responsibles_people)"
   ]
  },
  {
   "cell_type": "code",
   "execution_count": 72,
   "id": "e3bf1194-782c-4c2f-ad77-09ed316ff1ed",
   "metadata": {},
   "outputs": [],
   "source": [
    "sequences = tokenizer.texts_to_sequences(Task1_task_responsibles_people)"
   ]
  },
  {
   "cell_type": "code",
   "execution_count": 73,
   "id": "8c4f962c-5cca-4b8d-a742-f1f5d72fddba",
   "metadata": {},
   "outputs": [],
   "source": [
    "X = pad_sequences(sequences, maxlen=max_review_len)"
   ]
  },
  {
   "cell_type": "markdown",
   "id": "3c926668-2fa4-451a-8ec2-28f704f10ec7",
   "metadata": {},
   "source": [
    "### Разбиение датасета на тренировчную и тестовую выборки."
   ]
  },
  {
   "cell_type": "code",
   "execution_count": 76,
   "id": "9e055081-48c1-4e5c-b6a4-c8182509de0e",
   "metadata": {},
   "outputs": [
    {
     "data": {
      "text/plain": [
       "((8999, 100), (8999,))"
      ]
     },
     "execution_count": 76,
     "metadata": {},
     "output_type": "execute_result"
    }
   ],
   "source": [
    "X_train, X_test, y_train, y_test = train_test_split(X,\n",
    "                                                    y,\n",
    "                                                    \n",
    "                                                    test_size=0.1,\n",
    "                                                    random_state=50)\n",
    "X_train.shape, y_train.shape"
   ]
  },
  {
   "cell_type": "code",
   "execution_count": 78,
   "id": "a46acf3d-fb6e-42f0-8e44-e06211e80836",
   "metadata": {},
   "outputs": [],
   "source": [
    "### Приведение данные к другому типу и категоризация классов."
   ]
  },
  {
   "cell_type": "code",
   "execution_count": 79,
   "id": "07aead23-e5c0-4744-9f1c-e54760a25e1a",
   "metadata": {},
   "outputs": [
    {
     "data": {
      "text/plain": [
       "((8999, 100), (8999, 8))"
      ]
     },
     "execution_count": 79,
     "metadata": {},
     "output_type": "execute_result"
    }
   ],
   "source": [
    "X_train = np.asarray(X_train).astype(np.float32)\n",
    "y_train = np.asarray(y_train).astype(np.float32)\n",
    "y_train = utils.to_categorical(y_train - 1, nb_classes)\n",
    "y_test = utils.to_categorical(y_test - 1, nb_classes)\n",
    "X_train.shape, y_train.shape\n"
   ]
  },
  {
   "cell_type": "markdown",
   "id": "6113f24a-69fe-4172-88e4-bcdeb95c31ba",
   "metadata": {},
   "source": [
    "## Создаём нейросеть"
   ]
  },
  {
   "cell_type": "markdown",
   "id": "c6f64f39-f7f4-4e8e-a7ee-9a1335eb949e",
   "metadata": {},
   "source": [
    "### Загрузка библиотек"
   ]
  },
  {
   "cell_type": "code",
   "execution_count": 81,
   "id": "46d686a9-370f-45e3-afd5-f1be49be9a47",
   "metadata": {},
   "outputs": [],
   "source": [
    "from tensorflow.keras.models import Sequential\n",
    "from tensorflow.keras.layers import Dense, Embedding, MaxPooling1D, Conv1D, GlobalMaxPooling1D, Dropout, LSTM, GRU\n",
    "from tensorflow.keras import utils\n",
    "from tensorflow.keras.preprocessing.sequence import pad_sequences\n",
    "from tensorflow.keras.preprocessing.text import Tokenizer\n",
    "from tensorflow.keras.callbacks import ModelCheckpoint\n",
    "from tensorflow.keras import utils\n",
    "import pandas as pd\n",
    "import numpy as np\n",
    "import matplotlib.pyplot as plt\n",
    "%matplotlib inline \n",
    "from keras.utils import to_categorical"
   ]
  },
  {
   "cell_type": "markdown",
   "id": "64157ca8-c6c2-48bf-924f-687186f73e07",
   "metadata": {},
   "source": [
    "### Определение гиперпараметров модели."
   ]
  },
  {
   "cell_type": "code",
   "execution_count": 82,
   "id": "dbfae7a1-beab-4c4c-8d96-7ced8e4f40f1",
   "metadata": {},
   "outputs": [],
   "source": [
    "# Максимальное количество слов \n",
    "num_words = 10000\n",
    "# Максимальная длина задания\n",
    "max_news_len = 100\n",
    "# Количество классов отделов\n",
    "nb_classes = 8"
   ]
  },
  {
   "cell_type": "markdown",
   "id": "ddaa38a4-0e37-4652-b654-60886081f062",
   "metadata": {},
   "source": [
    "### Простая свёрточная сеть\n"
   ]
  },
  {
   "cell_type": "code",
   "execution_count": 83,
   "id": "27612331-7403-433f-bae1-ccbe3f4f3c83",
   "metadata": {},
   "outputs": [
    {
     "name": "stdout",
     "output_type": "stream",
     "text": [
      "Epoch 1/5\n"
     ]
    },
    {
     "name": "stderr",
     "output_type": "stream",
     "text": [
      "2023-01-22 20:01:47.525677: I tensorflow/core/platform/cpu_feature_guard.cc:193] This TensorFlow binary is optimized with oneAPI Deep Neural Network Library (oneDNN) to use the following CPU instructions in performance-critical operations:  AVX2 AVX512F AVX512_VNNI FMA\n",
      "To enable them in other operations, rebuild TensorFlow with the appropriate compiler flags.\n"
     ]
    },
    {
     "name": "stdout",
     "output_type": "stream",
     "text": [
      "64/64 [==============================] - 4s 44ms/step - loss: 1.3482 - accuracy: 0.5872 - val_loss: 0.5191 - val_accuracy: 0.8533\n",
      "Epoch 2/5\n",
      "64/64 [==============================] - 3s 39ms/step - loss: 0.3087 - accuracy: 0.8957 - val_loss: 0.1760 - val_accuracy: 0.9311\n",
      "Epoch 3/5\n",
      "64/64 [==============================] - 3s 40ms/step - loss: 0.2064 - accuracy: 0.9169 - val_loss: 0.1715 - val_accuracy: 0.9311\n",
      "Epoch 4/5\n",
      "64/64 [==============================] - 3s 41ms/step - loss: 0.2017 - accuracy: 0.9169 - val_loss: 0.1654 - val_accuracy: 0.9311\n",
      "Epoch 5/5\n",
      "64/64 [==============================] - 3s 39ms/step - loss: 0.2005 - accuracy: 0.9162 - val_loss: 0.1635 - val_accuracy: 0.9211\n"
     ]
    }
   ],
   "source": [
    "model_cnn = Sequential()\n",
    "model_cnn.add(Embedding(num_words, 32, input_length=max_news_len))\n",
    "model_cnn.add(Conv1D(250, 5, padding='valid', activation='relu'))\n",
    "model_cnn.add(GlobalMaxPooling1D())\n",
    "model_cnn.add(Dense(128, activation='relu'))\n",
    "model_cnn.add(Dense(8, activation='softmax'))\n",
    "\n",
    "model_cnn.compile(optimizer='adam', \n",
    "              loss='categorical_crossentropy', \n",
    "              metrics=['accuracy'])\n",
    "\n",
    "history_cnn = model_cnn.fit(X_train, \n",
    "                            y_train, \n",
    "                            epochs=5,\n",
    "                            batch_size=128,\n",
    "                            validation_split=0.1,\n",
    "                            )"
   ]
  },
  {
   "cell_type": "code",
   "execution_count": 84,
   "id": "86d22060-62b9-440a-acba-286cae10dd33",
   "metadata": {},
   "outputs": [
    {
     "name": "stdout",
     "output_type": "stream",
     "text": [
      "Model: \"sequential\"\n",
      "_________________________________________________________________\n",
      " Layer (type)                Output Shape              Param #   \n",
      "=================================================================\n",
      " embedding (Embedding)       (None, 100, 32)           320000    \n",
      "                                                                 \n",
      " conv1d (Conv1D)             (None, 96, 250)           40250     \n",
      "                                                                 \n",
      " global_max_pooling1d (Globa  (None, 250)              0         \n",
      " lMaxPooling1D)                                                  \n",
      "                                                                 \n",
      " dense (Dense)               (None, 128)               32128     \n",
      "                                                                 \n",
      " dense_1 (Dense)             (None, 8)                 1032      \n",
      "                                                                 \n",
      "=================================================================\n",
      "Total params: 393,410\n",
      "Trainable params: 393,410\n",
      "Non-trainable params: 0\n",
      "_________________________________________________________________\n"
     ]
    }
   ],
   "source": [
    "model_cnn.summary()"
   ]
  },
  {
   "cell_type": "markdown",
   "id": "27f77304-3dde-4ad1-8db5-5e884ed6c480",
   "metadata": {},
   "source": [
    "### Смотрим графики по визуализации предсказаний для определения переобучения модели."
   ]
  },
  {
   "cell_type": "code",
   "execution_count": 85,
   "id": "d5c2515b-5db5-4501-8096-2f9b8f3a0614",
   "metadata": {},
   "outputs": [
    {
     "data": {
      "image/png": "[encoded data removed]",
      "text/plain": [
       "<Figure size 640x480 with 1 Axes>"
      ]
     },
     "metadata": {},
     "output_type": "display_data"
    }
   ],
   "source": [
    "plt.plot(history_cnn.history['accuracy'], \n",
    "         label='Доля верных ответов на обучающем наборе')\n",
    "plt.plot(history_cnn.history['val_accuracy'], \n",
    "         label='Доля верных ответов на проверочном наборе')\n",
    "plt.xlabel('Эпоха обучения')\n",
    "plt.ylabel('Доля верных ответов')\n",
    "plt.legend()\n",
    "plt.show()"
   ]
  },
  {
   "cell_type": "markdown",
   "id": "b1dd0f4b-6eaf-4dfa-bb43-a646672232e5",
   "metadata": {},
   "source": [
    "# Сеть LSTM"
   ]
  },
  {
   "cell_type": "code",
   "execution_count": 86,
   "id": "34ec20a8-0daf-414f-9baf-6ac68d8b7d46",
   "metadata": {},
   "outputs": [],
   "source": [
    "model_lstm = Sequential()\n",
    "model_lstm.add(Embedding(num_words, 32, input_length=max_news_len))\n",
    "model_lstm.add(LSTM(16))\n",
    "model_lstm.add(Dense(8, activation='softmax'))"
   ]
  },
  {
   "cell_type": "code",
   "execution_count": 87,
   "id": "0c7acbd3-5e62-4a52-9485-8cf622229ae6",
   "metadata": {},
   "outputs": [],
   "source": [
    "model_lstm.compile(optimizer='adam', \n",
    "              loss='categorical_crossentropy', \n",
    "              metrics=['accuracy'])"
   ]
  },
  {
   "cell_type": "code",
   "execution_count": 88,
   "id": "65733e77-97a2-4f52-b63e-744f6811bc9e",
   "metadata": {},
   "outputs": [
    {
     "name": "stdout",
     "output_type": "stream",
     "text": [
      "Epoch 1/5\n",
      "64/64 [==============================] - 5s 42ms/step - loss: 1.8643 - accuracy: 0.5548 - val_loss: 1.5285 - val_accuracy: 0.7256\n",
      "Epoch 2/5\n",
      "64/64 [==============================] - 2s 36ms/step - loss: 1.1485 - accuracy: 0.7189 - val_loss: 0.7759 - val_accuracy: 0.7700\n",
      "Epoch 3/5\n",
      "64/64 [==============================] - 2s 35ms/step - loss: 0.6511 - accuracy: 0.8413 - val_loss: 0.4983 - val_accuracy: 0.9033\n",
      "Epoch 4/5\n",
      "64/64 [==============================] - 2s 35ms/step - loss: 0.4540 - accuracy: 0.9070 - val_loss: 0.3721 - val_accuracy: 0.9211\n",
      "Epoch 5/5\n",
      "64/64 [==============================] - 2s 33ms/step - loss: 0.3426 - accuracy: 0.9136 - val_loss: 0.2717 - val_accuracy: 0.9311\n"
     ]
    }
   ],
   "source": [
    "history_lstm = model_lstm.fit(X_train, \n",
    "                              y_train, \n",
    "                              epochs=5,\n",
    "                              batch_size=128,\n",
    "                              validation_split=0.1,\n",
    "                              )"
   ]
  },
  {
   "cell_type": "code",
   "execution_count": 89,
   "id": "5c55d166-e2f3-473f-848c-007aa30bba35",
   "metadata": {},
   "outputs": [
    {
     "name": "stdout",
     "output_type": "stream",
     "text": [
      "Model: \"sequential_1\"\n",
      "_________________________________________________________________\n",
      " Layer (type)                Output Shape              Param #   \n",
      "=================================================================\n",
      " embedding_1 (Embedding)     (None, 100, 32)           320000    \n",
      "                                                                 \n",
      " lstm (LSTM)                 (None, 16)                3136      \n",
      "                                                                 \n",
      " dense_2 (Dense)             (None, 8)                 136       \n",
      "                                                                 \n",
      "=================================================================\n",
      "Total params: 323,272\n",
      "Trainable params: 323,272\n",
      "Non-trainable params: 0\n",
      "_________________________________________________________________\n"
     ]
    }
   ],
   "source": [
    "model_lstm.summary()"
   ]
  },
  {
   "cell_type": "markdown",
   "id": "617b27e4-a056-4049-87c0-8e835a2ec82e",
   "metadata": {},
   "source": [
    "### Смотрим графики по визуализации предсказаний для определения переобучения модели."
   ]
  },
  {
   "cell_type": "code",
   "execution_count": 166,
   "id": "c2f50094-be0e-444d-8e0a-9cc85054f168",
   "metadata": {},
   "outputs": [
    {
     "data": {
      "image/png": "[encoded data removed]",
      "text/plain": [
       "<Figure size 640x480 with 1 Axes>"
      ]
     },
     "metadata": {},
     "output_type": "display_data"
    }
   ],
   "source": [
    "plt.plot(history_lstm.history['accuracy'], \n",
    "         label='Доля верных ответов на обучающем наборе')\n",
    "plt.plot(history_lstm.history['val_accuracy'], \n",
    "         label='Доля верных ответов на проверочном наборе')\n",
    "plt.xlabel('Эпоха обучения')\n",
    "plt.ylabel('Доля верных ответов')\n",
    "plt.legend()\n",
    "plt.show()"
   ]
  },
  {
   "cell_type": "markdown",
   "id": "9fb59b3e-59f1-486e-ac5f-77082074d0db",
   "metadata": {},
   "source": [
    "### Сеть GRU"
   ]
  },
  {
   "cell_type": "code",
   "execution_count": 90,
   "id": "fc08f86c-6516-4659-9d36-78b4d5fee441",
   "metadata": {},
   "outputs": [],
   "source": [
    "model_gru = Sequential()\n",
    "model_gru.add(Embedding(num_words, 32, input_length=max_news_len))\n",
    "model_gru.add(GRU(32))\n",
    "model_gru.add(Dense(8, activation='softmax'))"
   ]
  },
  {
   "cell_type": "code",
   "execution_count": 91,
   "id": "e6d20758-8508-4eda-bf81-fee60c74099a",
   "metadata": {},
   "outputs": [],
   "source": [
    "model_gru.compile(optimizer='adam', \n",
    "              loss='categorical_crossentropy', \n",
    "              metrics=['accuracy'])"
   ]
  },
  {
   "cell_type": "code",
   "execution_count": 92,
   "id": "baa44a3e-3f05-4604-a066-9813b880b8c0",
   "metadata": {},
   "outputs": [
    {
     "name": "stdout",
     "output_type": "stream",
     "text": [
      "Model: \"sequential_2\"\n",
      "_________________________________________________________________\n",
      " Layer (type)                Output Shape              Param #   \n",
      "=================================================================\n",
      " embedding_2 (Embedding)     (None, 100, 32)           320000    \n",
      "                                                                 \n",
      " gru (GRU)                   (None, 32)                6336      \n",
      "                                                                 \n",
      " dense_3 (Dense)             (None, 8)                 264       \n",
      "                                                                 \n",
      "=================================================================\n",
      "Total params: 326,600\n",
      "Trainable params: 326,600\n",
      "Non-trainable params: 0\n",
      "_________________________________________________________________\n"
     ]
    }
   ],
   "source": [
    "model_gru.summary()"
   ]
  },
  {
   "cell_type": "code",
   "execution_count": 93,
   "id": "87669ac4-c1b9-4045-b51d-9a7befd4aafa",
   "metadata": {},
   "outputs": [
    {
     "name": "stdout",
     "output_type": "stream",
     "text": [
      "Epoch 1/10\n",
      "64/64 [==============================] - 6s 48ms/step - loss: 1.7581 - accuracy: 0.5304 - val_loss: 1.1950 - val_accuracy: 0.7178\n",
      "Epoch 2/10\n",
      "64/64 [==============================] - 2s 39ms/step - loss: 0.7302 - accuracy: 0.7926 - val_loss: 0.4421 - val_accuracy: 0.8711\n",
      "Epoch 3/10\n",
      "64/64 [==============================] - 3s 40ms/step - loss: 0.3842 - accuracy: 0.8841 - val_loss: 0.2786 - val_accuracy: 0.9156\n",
      "Epoch 4/10\n",
      "64/64 [==============================] - 3s 44ms/step - loss: 0.2675 - accuracy: 0.9120 - val_loss: 0.2019 - val_accuracy: 0.9378\n",
      "Epoch 5/10\n",
      "64/64 [==============================] - 3s 40ms/step - loss: 0.2235 - accuracy: 0.9168 - val_loss: 0.1801 - val_accuracy: 0.9378\n",
      "Epoch 6/10\n",
      "64/64 [==============================] - 3s 40ms/step - loss: 0.2151 - accuracy: 0.9153 - val_loss: 0.1740 - val_accuracy: 0.9233\n",
      "Epoch 7/10\n",
      "64/64 [==============================] - 2s 39ms/step - loss: 0.2082 - accuracy: 0.9149 - val_loss: 0.1721 - val_accuracy: 0.9211\n",
      "Epoch 8/10\n",
      "64/64 [==============================] - 3s 39ms/step - loss: 0.2069 - accuracy: 0.9148 - val_loss: 0.1765 - val_accuracy: 0.9311\n",
      "Epoch 9/10\n",
      "64/64 [==============================] - 3s 39ms/step - loss: 0.2047 - accuracy: 0.9170 - val_loss: 0.1673 - val_accuracy: 0.9233\n",
      "Epoch 10/10\n",
      "64/64 [==============================] - 3s 40ms/step - loss: 0.2049 - accuracy: 0.9152 - val_loss: 0.1721 - val_accuracy: 0.9311\n"
     ]
    }
   ],
   "source": [
    "history_gru = model_gru.fit(X_train, \n",
    "                              y_train, \n",
    "                              epochs=10,\n",
    "                              batch_size=128,\n",
    "                              validation_split=0.1,\n",
    "                              )"
   ]
  },
  {
   "cell_type": "markdown",
   "id": "781b36ce-1f71-452d-803e-a996f13f2121",
   "metadata": {},
   "source": [
    "### Смотрим графики по визуализации предсказаний для определения переобучения модели."
   ]
  },
  {
   "cell_type": "code",
   "execution_count": 94,
   "id": "e3a4a6aa-3a4a-4036-ad87-3d59019f0436",
   "metadata": {},
   "outputs": [
    {
     "data": {
      "image/png": "[encoded data removed]",
      "text/plain": [
       "<Figure size 640x480 with 1 Axes>"
      ]
     },
     "metadata": {},
     "output_type": "display_data"
    }
   ],
   "source": [
    "plt.plot(history_gru.history['accuracy'], \n",
    "         label='Доля верных ответов на обучающем наборе')\n",
    "plt.plot(history_gru.history['val_accuracy'], \n",
    "         label='Доля верных ответов на проверочном наборе')\n",
    "plt.xlabel('Эпоха обучения')\n",
    "plt.ylabel('Доля верных ответов')\n",
    "plt.legend()\n",
    "plt.show()"
   ]
  },
  {
   "cell_type": "markdown",
   "id": "fcf15417-15c9-45d7-85ba-11ac1fff4db3",
   "metadata": {},
   "source": [
    "### Метрики тестовой выборки для свёрточной нейросети сети."
   ]
  },
  {
   "cell_type": "code",
   "execution_count": 172,
   "id": "2c596814-7599-4600-99b8-d1df1abe0e75",
   "metadata": {},
   "outputs": [
    {
     "name": "stdout",
     "output_type": "stream",
     "text": [
      "32/32 [==============================] - 0s 4ms/step - loss: 0.1880 - accuracy: 0.9240\n"
     ]
    },
    {
     "data": {
      "text/plain": [
       "[0.18800990283489227, 0.9240000247955322]"
      ]
     },
     "execution_count": 172,
     "metadata": {},
     "output_type": "execute_result"
    }
   ],
   "source": [
    "model_cnn.evaluate(X_test, y_test, verbose=1)"
   ]
  },
  {
   "cell_type": "markdown",
   "id": "35d33ef3-73fc-4ad5-9f80-be8cc37d0406",
   "metadata": {},
   "source": [
    "### Метрики тестовой выборки для сети LSTM."
   ]
  },
  {
   "cell_type": "code",
   "execution_count": 95,
   "id": "061a3c02-45e1-4f4e-b399-d938cde413e6",
   "metadata": {},
   "outputs": [
    {
     "name": "stdout",
     "output_type": "stream",
     "text": [
      "32/32 [==============================] - 1s 7ms/step - loss: 0.2867 - accuracy: 0.9270\n"
     ]
    },
    {
     "data": {
      "text/plain": [
       "[0.28674453496932983, 0.9269999861717224]"
      ]
     },
     "execution_count": 95,
     "metadata": {},
     "output_type": "execute_result"
    }
   ],
   "source": [
    "model_lstm.evaluate(X_test, y_test, verbose=1)"
   ]
  },
  {
   "cell_type": "markdown",
   "id": "be0eb423-cc1a-43e1-866f-6e95dbf50b97",
   "metadata": {},
   "source": [
    "### Метрики тестовой выборки для сети GRU."
   ]
  },
  {
   "cell_type": "code",
   "execution_count": 96,
   "id": "8de959b5-7723-4fd0-8f66-a97b3c2acb0c",
   "metadata": {},
   "outputs": [
    {
     "name": "stdout",
     "output_type": "stream",
     "text": [
      "32/32 [==============================] - 1s 7ms/step - loss: 0.1851 - accuracy: 0.9270\n"
     ]
    },
    {
     "data": {
      "text/plain": [
       "[0.18506701290607452, 0.9269999861717224]"
      ]
     },
     "execution_count": 96,
     "metadata": {},
     "output_type": "execute_result"
    }
   ],
   "source": [
    "model_gru.evaluate(X_test, y_test, verbose=1)"
   ]
  },
  {
   "cell_type": "markdown",
   "id": "0339c7a6-db66-4798-bbaa-9370e35a8b9d",
   "metadata": {},
   "source": [
    "### Проверка документа из датасетов output_decrees."
   ]
  },
  {
   "cell_type": "code",
   "execution_count": 129,
   "id": "b492ff27-71f7-441d-a97b-9dbce94c056c",
   "metadata": {},
   "outputs": [
    {
     "name": "stdout",
     "output_type": "stream",
     "text": [
      "Введите название файла: \n"
     ]
    },
    {
     "name": "stdin",
     "output_type": "stream",
     "text": [
      " 160.docx\n"
     ]
    },
    {
     "name": "stdout",
     "output_type": "stream",
     "text": [
      "\n",
      "Отдел тестирования Департамента разработки\n",
      "\n",
      "\n",
      "О закупке\n",
      "\n",
      "i.. Внести в Регламент, утвержденный приказом Генерального директора от 11.05.2016 N 276, изменение, исключив из пункта 1.11 слова \"а также деятельность Руководителя удаленного офиса\".\n",
      "Ответственность за исполнение задачи возложить на Контент менеджера Роговцова Беньямина.\n",
      "Установить срок выполнения задачи до 19.08.22.\n",
      "\n",
      "ii. пункт 5.1.2 дополнить абзацем четвертым следующего содержания:\n",
      "\"При официальной переписке с межгосударственными (международными) органами, компетентными органами и должностными лицами иностранных государств, иностранными гражданами и организациями используется отдельный бланк с продольным расположением реквизитов на двух языках - русском и английском (приложение N 61).\" Определить срок исполнения задачи вплоть до 0.\n",
      "Контроль над выполнением вышеуказанного поручения возложить на Контент менеджера Олабухина Этьена.\n",
      "\n",
      "iii. пункт 2.4.1.3 изложить в следующей редакции:\n",
      "\"2.4.1.3. Входящие документы на иностранных языках регистрируются только после осуществления их перевода в сроки, указанные в пункте 2.4.1.2, за исключением документов, поступающих из межгосударственных органов, иностранных и международных (межгосударственных) судов, иностранных и международных третейских судов (арбитражей) по вопросам обеспечения представительства и защиты интересов Российской Федерации, которые без перевода на русский язык регистрируются в отделе документационного обеспечения Главного управления международно-правового сотрудничества.\" Определить срок исполнения задачи вплоть до 06 февраля 2014 года. Контроль над выполнением задачи возложить на системного аналитика Сыроварова Акифа.\n",
      "\n",
      "Андроников Георгий Артемович\n",
      "22 мая 2013 г.\n",
      "\n",
      "\n",
      "\n"
     ]
    }
   ],
   "source": [
    "directory = 'hackaton_2023_01/task_3/output_decrees/docx/'\n",
    "series = []\n",
    "filesText = []\n",
    "\n",
    "print(\"Введите название файла: \")\n",
    "\n",
    "name = str(input())\n",
    "\n",
    "def file(name):\n",
    "    \n",
    "\n",
    "    fileText = ''\n",
    "\n",
    "    document = Document(directory + name)\n",
    "    for paragraph in document.paragraphs:\n",
    "        fileText += paragraph.text + '\\n'\n",
    "    \n",
    "    filesText.append(fileText)\n",
    "    print(fileText)\n",
    "    return fileText\n",
    "\n",
    "fileText = file(name)"
   ]
  },
  {
   "cell_type": "markdown",
   "id": "91f9d09e-1b18-4d20-a7d4-e8e2a933c563",
   "metadata": {},
   "source": [
    "# Векторизация текста"
   ]
  },
  {
   "cell_type": "code",
   "execution_count": 130,
   "id": "366e73d1-01d4-413e-bbc0-97a4675f0b3a",
   "metadata": {},
   "outputs": [],
   "source": [
    "sequence = tokenizer.texts_to_sequences([fileText])"
   ]
  },
  {
   "cell_type": "code",
   "execution_count": 131,
   "id": "ccb97bbc-0978-48cb-8d5d-b9ac75859e38",
   "metadata": {},
   "outputs": [],
   "source": [
    "data = pad_sequences(sequence, maxlen=max_review_len)"
   ]
  },
  {
   "cell_type": "markdown",
   "id": "3d8b2a80-d19a-4cfc-926a-025c56557b3c",
   "metadata": {},
   "source": [
    "### Предсказание модели cnn"
   ]
  },
  {
   "cell_type": "code",
   "execution_count": 132,
   "id": "e26a133e-6762-4fab-b144-b39b3abd7b15",
   "metadata": {},
   "outputs": [
    {
     "name": "stdout",
     "output_type": "stream",
     "text": [
      "1/1 [==============================] - 0s 27ms/step\n"
     ]
    }
   ],
   "source": [
    "result = model_cnn.predict(data)"
   ]
  },
  {
   "cell_type": "markdown",
   "id": "39cbf591-9844-4168-8743-a00c5328c244",
   "metadata": {},
   "source": [
    "### Вывод результата"
   ]
  },
  {
   "cell_type": "code",
   "execution_count": 133,
   "id": "f2453029-cc11-4fca-8c2d-b7a3a7e0423b",
   "metadata": {},
   "outputs": [
    {
     "data": {
      "text/plain": [
       "array([[0.57, 0.08, 0.14, 0.04, 0.06, 0.03, 0.04, 0.05]], dtype=float32)"
      ]
     },
     "execution_count": 133,
     "metadata": {},
     "output_type": "execute_result"
    }
   ],
   "source": [
    "np.round(result, 2)"
   ]
  },
  {
   "cell_type": "code",
   "execution_count": 134,
   "id": "72006145-766d-491e-8188-e72f1e23314a",
   "metadata": {},
   "outputs": [
    {
     "data": {
      "text/plain": [
       "{'Отдел тестирования': 1,\n",
       " 'Отдел архитектуры': 2,\n",
       " 'Бухгалтерия': 3,\n",
       " 'Отдел эксплуатации': 4,\n",
       " 'Административно-хозяйственный отдел': 5,\n",
       " 'Отдел проектирования': 6,\n",
       " 'Служба ИТ': 7,\n",
       " 'Отдел разработки систем': 8}"
      ]
     },
     "execution_count": 134,
     "metadata": {},
     "output_type": "execute_result"
    }
   ],
   "source": [
    "classes_dep"
   ]
  },
  {
   "cell_type": "markdown",
   "id": "702f13d3-0faa-4d2e-8870-6b18c2cbcb81",
   "metadata": {},
   "source": [
    "### Модель LSTM"
   ]
  },
  {
   "cell_type": "code",
   "execution_count": 135,
   "id": "b2d3e28f-347e-473e-8b35-76c80e94a37c",
   "metadata": {},
   "outputs": [
    {
     "name": "stdout",
     "output_type": "stream",
     "text": [
      "1/1 [==============================] - 0s 32ms/step\n"
     ]
    }
   ],
   "source": [
    "result = model_lstm.predict(data)\n"
   ]
  },
  {
   "cell_type": "code",
   "execution_count": 136,
   "id": "af737ca8-f1c4-4bb7-a9ca-6b41dff5cb98",
   "metadata": {},
   "outputs": [
    {
     "data": {
      "text/plain": [
       "array([[0.01, 0.13, 0.34, 0.03, 0.02, 0.04, 0.32, 0.1 ]], dtype=float32)"
      ]
     },
     "execution_count": 136,
     "metadata": {},
     "output_type": "execute_result"
    }
   ],
   "source": [
    "np.round(result, 2)"
   ]
  },
  {
   "cell_type": "code",
   "execution_count": 125,
   "id": "2c623b9c-6c15-4b8b-ba69-6195cd25c008",
   "metadata": {},
   "outputs": [
    {
     "data": {
      "text/plain": [
       "{'Отдел тестирования': 1,\n",
       " 'Отдел архитектуры': 2,\n",
       " 'Бухгалтерия': 3,\n",
       " 'Отдел эксплуатации': 4,\n",
       " 'Административно-хозяйственный отдел': 5,\n",
       " 'Отдел проектирования': 6,\n",
       " 'Служба ИТ': 7,\n",
       " 'Отдел разработки систем': 8}"
      ]
     },
     "execution_count": 125,
     "metadata": {},
     "output_type": "execute_result"
    }
   ],
   "source": [
    "classes_dep"
   ]
  },
  {
   "cell_type": "markdown",
   "id": "fbcb6b4e-c5ba-4bb2-9ad9-aa4140d168a6",
   "metadata": {},
   "source": [
    "### Предсказание модели GRU"
   ]
  },
  {
   "cell_type": "code",
   "execution_count": 137,
   "id": "5ae0937a-c161-4783-b601-ca297ee28d69",
   "metadata": {},
   "outputs": [
    {
     "name": "stdout",
     "output_type": "stream",
     "text": [
      "1/1 [==============================] - 0s 29ms/step\n"
     ]
    }
   ],
   "source": [
    "result = model_gru.predict(data)\n"
   ]
  },
  {
   "cell_type": "code",
   "execution_count": 138,
   "id": "4656c50d-87cb-4431-a9fa-ac8eb418d647",
   "metadata": {},
   "outputs": [
    {
     "data": {
      "text/plain": [
       "array([[0.01, 0.03, 0.04, 0.  , 0.05, 0.03, 0.57, 0.26]], dtype=float32)"
      ]
     },
     "execution_count": 138,
     "metadata": {},
     "output_type": "execute_result"
    }
   ],
   "source": [
    "np.round(result, 2)"
   ]
  },
  {
   "cell_type": "code",
   "execution_count": 112,
   "id": "531e909c-e1cd-4b9f-aba5-23c329d6fc66",
   "metadata": {},
   "outputs": [
    {
     "data": {
      "text/plain": [
       "{'Отдел тестирования': 1,\n",
       " 'Отдел архитектуры': 2,\n",
       " 'Бухгалтерия': 3,\n",
       " 'Отдел эксплуатации': 4,\n",
       " 'Административно-хозяйственный отдел': 5,\n",
       " 'Отдел проектирования': 6,\n",
       " 'Служба ИТ': 7,\n",
       " 'Отдел разработки систем': 8}"
      ]
     },
     "execution_count": 112,
     "metadata": {},
     "output_type": "execute_result"
    }
   ],
   "source": [
    "classes_dep"
   ]
  },
  {
   "cell_type": "markdown",
   "id": "e84f5813-a53e-45fa-ac7b-88a4ee277936",
   "metadata": {},
   "source": [
    "# Выводы:\n",
    "\n",
    "На документах, не учавствовавших в в обучении модели предсказывают классы по большему \n",
    "синтаксическому совпадению слов в загруженном документе, а также по частотности слов, \n",
    "относящихся к классам при обучении модели,\n",
    "в этом документе. \n",
    "\n",
    "Для улучшения нейросети необходимо:\n",
    "    \n",
    "    1. Провести семантический анализ предложения. Использовать словарь синонимов к ключевым словам.\n",
    "    \n",
    "    2. Использовать порядок слов в предложении.\n",
    "    \n",
    "    3. Применить лямбда исчисления и разбить слова предложения на примитивы.\n",
    "    \n",
    "        - Слово.\n",
    "        \n",
    "        - Его определение.\n",
    "        \n",
    "        - Пример сочетания заданного слова с другими.\n",
    "        \n",
    "        - Составление фраз и предложений с этим словом.\n",
    "        \n",
    "    4. Определить связи между собой различными смысловыми отношениями: соединительными, \n",
    "пояснительными, противительными, временными и пр. \n",
    "\n",
    "    5. Определить основные виды связи:\n",
    "    \n",
    "        Параллельные связи:\n",
    "\n",
    "        - Одинаковый порядок слов. \n",
    "\n",
    "        - Одинаковые грамматические формы слов.\n",
    "\n",
    "        - Вводные слова и наречия места, времени. \t\n",
    "\n",
    "        Цепнык связи:\n",
    "        \n",
    "        - Повтор ключевого слова. \n",
    "\n",
    "        - Замена его синонимом, синонимическим оборотом, местоимением или однокоренным словом. \n",
    "        Для этого сделать или хагрузить словарь синонимов.\n",
    "\n",
    "        - Повтор того или иного члена предложения.\n",
    "\n",
    "        - Семантические и ассоциативные связи (найти и создать правила в блиблотеки yargy).\n",
    "\n",
    "    6. Провести смысловой анализ текста.\n",
    "    7. Провести смысловой анализ предложения. (Некоторые пункты пересекаются.)"
   ]
  },
  {
   "cell_type": "markdown",
   "id": "f41654f5-343a-4ae3-a005-04b02e84e7ee",
   "metadata": {},
   "source": [
    "### Строим однонаправленный граф. (В процессе разработки.)"
   ]
  },
  {
   "cell_type": "code",
   "execution_count": 142,
   "id": "72f8da09-5275-4802-80fc-b0b2d1a605a3",
   "metadata": {},
   "outputs": [
    {
     "data": {
      "image/png": "[encoded data removed]",
      "text/plain": [
       "<Figure size 640x480 with 1 Axes>"
      ]
     },
     "metadata": {},
     "output_type": "display_data"
    }
   ],
   "source": [
    "DG = nx.DiGraph()\n",
    "\n",
    "\n",
    "DG.add_edge('ООО \"Мегасофт\"', DEPARTMENTS_list[0]) \n",
    "DG.add_edge('ООО \"Мегасофт\"', DEPARTMENTS_list[1]) \n",
    "DG.add_edge('ООО \"Мегасофт\"', DEPARTMENTS_list[2]) \n",
    "DG.add_edge('ООО \"Мегасофт\"', DEPARTMENTS_list[3]) \n",
    "DG.add_edge('ООО \"Мегасофт\"', DEPARTMENTS_list[4]) \n",
    "DG.add_edge('ООО \"Мегасофт\"', DEPARTMENTS_list[5]) \n",
    "DG.add_edge('ООО \"Мегасофт\"', DEPARTMENTS_list[6]) \n",
    "DG.add_edge('ООО \"Мегасофт\"', DEPARTMENTS_list[7]) \n",
    "\n",
    "nx.draw(DG, with_labels=True, font_weight='bold')"
   ]
  },
  {
   "cell_type": "code",
   "execution_count": null,
   "id": "1e798429-fe15-4a43-8405-128498fe6499",
   "metadata": {},
   "outputs": [],
   "source": []
  }
 ],
 "metadata": {
  "kernelspec": {
   "display_name": "Python 3 (ipykernel)",
   "language": "python",
   "name": "python3"
  },
  "language_info": {
   "codemirror_mode": {
    "name": "ipython",
    "version": 3
   },
   "file_extension": ".py",
   "mimetype": "text/x-python",
   "name": "python",
   "nbconvert_exporter": "python",
   "pygments_lexer": "ipython3",
   "version": "3.8.13"
  }
 },
 "nbformat": 4,
 "nbformat_minor": 5
}
