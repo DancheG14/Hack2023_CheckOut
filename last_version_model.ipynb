{
 "cells": [
  {
   "cell_type": "markdown",
   "id": "174d5ffe-9636-412a-ac3d-1a9a5a9a4465",
   "metadata": {},
   "source": [
    "## Задача № 3 (для 2 курса)\n",
    "\n",
    "Название: Автоматизация обработки машиночитаемых документов.\n",
    " \n",
    "Описание: Вам будет выдан набор данных документов из системы документооборота небольшой вымышленной компании. На основе этого набора данных вам нужно построить граф знаний о компании, который включает:\n",
    "\n",
    "● \tОрганизационную структуру (список подразделений). Есть\n",
    "\n",
    "● \tСписок сотрудников \n",
    "\n",
    "●  и их должностей. \n",
    "\n",
    "● \tДолжностные обязанности и полномочия сотрудников.\n",
    "\n",
    "На основе построенного графа знаний нужно разработать систему, которая ищет ошибки в проверочных документах (10 правильных документов, 10 документов с ошибками), например:\n",
    "\n",
    "● \tОпечатки в названиях подразделений или ФИО сотрудников.\n",
    "\n",
    "● \tНесуществующие подразделения или сотрудники, ошибки в должностях.\n",
    "\n",
    "● \tНесоответствие тематики документа подразделению, в которое он направлен для исполнения (в бухгалтерию направлен документ с задачей по ИТ).\n",
    " \n",
    "Ссылка на набор данных – https://www.dropbox.com/sh/d5h5f3yrql8x392/AACQ2WYa5qYCqjC8QuVZ5TJ4a?dl=1 \n",
    "\n",
    "Вам будет передана открытая часть датасета с разметкой, закрытая часть датасета без разметки и проверочные документы (20 документов для подзадачи обнаружения ошибок в документах).\n",
    " \n",
    "Требования к решению:\n",
    "1.   Код программы построения графа знаний о компании (ссылка на GitHub), с помощью которого можно ответить на вопросы:\n",
    "a.   Количество отделов.\n",
    "b.   Количество сотрудников.\n",
    "c.\tК какому отделу относится конкретная задача.\n",
    "2.   Код программы поиска документов с ошибками на основе графа знаний (ссылка на GitHub).\n",
    "3.   Документы, в которых найдены ошибки.\n",
    " \n",
    "Критерии оценки:\n",
    "● \tЗа каждый найденный документ с ошибкой начисляется 10 баллов.\n",
    "● \tЗа каждый документ, представленный как ошибочный, но в котором ошибки на самом деле нет, назначается штраф -1 балл.\n",
    " \n",
    "Советы по реализации:\n",
    "1.   Извлечь именованные сущности (NER) из текста можно с помощью библиотеки spacy (https://spacy.io/), pullenti, natasha или соответствующих моделей с huggingface (https://huggingface.co/).\n",
    "2.   Для сущностей, для которых не удастся найти типовые предобученные модели (например, сущность «Задача» или «Департамент») организовать обучение модели с использованием открытой части датасета.\n",
    "3.   Для построения графа связей в организации рекомендуется использовать библиотеку NetworkX - https://networkx.org/"
   ]
  },
  {
   "cell_type": "markdown",
   "id": "74b7058e-acea-4f99-8b8b-15aa39dca187",
   "metadata": {},
   "source": [
    "### Устанавливаем библиотеки"
   ]
  },
  {
   "cell_type": "markdown",
   "id": "ae73bdcc-09a9-4fa4-8719-7bf900da97db",
   "metadata": {},
   "source": [
    "# Решение\n",
    "\n",
    "1. task_text: разбить на предложения. Выявить функционал. FIO_POSITION: ФИО, должность, функционал, отдел (не необходимо).\n",
    "2. task_responsibles_people: - вывявить ФИО, должность, task_responsibles_groups: добавить отдел.\n",
    "3. Собрать мешок слов: ФИО, должность, функционал, отдел.\n",
    "4. Векторизировать мешок слов.\n",
    "5. Из отделов построить 8 классов.\n",
    "6. Обучить реккурентную нейросеть LSTM или GRU.\n",
    "7. Протестировать на тестовом наборе данных.\n",
    "8. Построить граф знаний.\n",
    "9. Написать функцию соответствия предсказания с графом знаний.\n",
    "10. Сделать презентацию проекта."
   ]
  },
  {
   "cell_type": "code",
   "execution_count": 2,
   "id": "02d66d60-e4a7-476f-bbf6-ee5a286ab22c",
   "metadata": {},
   "outputs": [
    {
     "name": "stdout",
     "output_type": "stream",
     "text": [
      "Requirement already satisfied: nltk in ./venv/lib/python3.10/site-packages (3.8.1)\r\n",
      "Requirement already satisfied: tqdm in ./venv/lib/python3.10/site-packages (from nltk) (4.64.1)\r\n",
      "Requirement already satisfied: regex>=2021.8.3 in ./venv/lib/python3.10/site-packages (from nltk) (2022.10.31)\r\n",
      "Requirement already satisfied: click in ./venv/lib/python3.10/site-packages (from nltk) (8.1.3)\r\n",
      "Requirement already satisfied: joblib in ./venv/lib/python3.10/site-packages (from nltk) (1.2.0)\r\n",
      "Requirement already satisfied: navec in ./venv/lib/python3.10/site-packages (0.10.0)\r\n",
      "Requirement already satisfied: numpy in ./venv/lib/python3.10/site-packages (from navec) (1.24.1)\r\n",
      "Requirement already satisfied: pandas in ./venv/lib/python3.10/site-packages (1.5.3)\r\n",
      "Requirement already satisfied: pytz>=2020.1 in ./venv/lib/python3.10/site-packages (from pandas) (2022.7.1)\r\n",
      "Requirement already satisfied: numpy>=1.21.0 in ./venv/lib/python3.10/site-packages (from pandas) (1.24.1)\r\n",
      "Requirement already satisfied: python-dateutil>=2.8.1 in ./venv/lib/python3.10/site-packages (from pandas) (2.8.2)\r\n",
      "Requirement already satisfied: six>=1.5 in ./venv/lib/python3.10/site-packages (from python-dateutil>=2.8.1->pandas) (1.16.0)\r\n",
      "Requirement already satisfied: natasha in ./venv/lib/python3.10/site-packages (1.4.0)\r\n",
      "Requirement already satisfied: razdel>=0.5.0 in ./venv/lib/python3.10/site-packages (from natasha) (0.5.0)\r\n",
      "Requirement already satisfied: navec>=0.9.0 in ./venv/lib/python3.10/site-packages (from natasha) (0.10.0)\r\n",
      "Requirement already satisfied: slovnet>=0.3.0 in ./venv/lib/python3.10/site-packages (from natasha) (0.5.0)\r\n",
      "Requirement already satisfied: ipymarkup>=0.8.0 in ./venv/lib/python3.10/site-packages (from natasha) (0.9.0)\r\n",
      "Requirement already satisfied: pymorphy2 in ./venv/lib/python3.10/site-packages (from natasha) (0.9.1)\r\n",
      "Requirement already satisfied: yargy>=0.14.0 in ./venv/lib/python3.10/site-packages (from natasha) (0.15.1)\r\n",
      "Requirement already satisfied: intervaltree>=3 in ./venv/lib/python3.10/site-packages (from ipymarkup>=0.8.0->natasha) (3.1.0)\r\n",
      "Requirement already satisfied: numpy in ./venv/lib/python3.10/site-packages (from navec>=0.9.0->natasha) (1.24.1)\r\n",
      "Requirement already satisfied: docopt>=0.6 in ./venv/lib/python3.10/site-packages (from pymorphy2->natasha) (0.6.2)\r\n",
      "Requirement already satisfied: pymorphy2-dicts-ru<3.0,>=2.4 in ./venv/lib/python3.10/site-packages (from pymorphy2->natasha) (2.4.417127.4579844)\r\n",
      "Requirement already satisfied: dawg-python>=0.7.1 in ./venv/lib/python3.10/site-packages (from pymorphy2->natasha) (0.7.2)\r\n",
      "Requirement already satisfied: sortedcontainers<3.0,>=2.0 in ./venv/lib/python3.10/site-packages (from intervaltree>=3->ipymarkup>=0.8.0->natasha) (2.4.0)\r\n",
      "Requirement already satisfied: matplotlib in ./venv/lib/python3.10/site-packages (3.6.3)\r\n",
      "Requirement already satisfied: pyparsing>=2.2.1 in ./venv/lib/python3.10/site-packages (from matplotlib) (3.0.9)\r\n",
      "Requirement already satisfied: cycler>=0.10 in ./venv/lib/python3.10/site-packages (from matplotlib) (0.11.0)\r\n",
      "Requirement already satisfied: pillow>=6.2.0 in ./venv/lib/python3.10/site-packages (from matplotlib) (9.4.0)\r\n",
      "Requirement already satisfied: fonttools>=4.22.0 in ./venv/lib/python3.10/site-packages (from matplotlib) (4.38.0)\r\n",
      "Requirement already satisfied: python-dateutil>=2.7 in ./venv/lib/python3.10/site-packages (from matplotlib) (2.8.2)\r\n",
      "Requirement already satisfied: contourpy>=1.0.1 in ./venv/lib/python3.10/site-packages (from matplotlib) (1.0.7)\r\n",
      "Requirement already satisfied: packaging>=20.0 in ./venv/lib/python3.10/site-packages (from matplotlib) (23.0)\r\n",
      "Requirement already satisfied: numpy>=1.19 in ./venv/lib/python3.10/site-packages (from matplotlib) (1.24.1)\r\n",
      "Requirement already satisfied: kiwisolver>=1.0.1 in ./venv/lib/python3.10/site-packages (from matplotlib) (1.4.4)\r\n",
      "Requirement already satisfied: six>=1.5 in ./venv/lib/python3.10/site-packages (from python-dateutil>=2.7->matplotlib) (1.16.0)\r\n",
      "Requirement already satisfied: python-docx in ./venv/lib/python3.10/site-packages (0.8.11)\r\n",
      "Requirement already satisfied: lxml>=2.3.2 in ./venv/lib/python3.10/site-packages (from python-docx) (4.9.2)\r\n",
      "Requirement already satisfied: scikit-learn in ./venv/lib/python3.10/site-packages (1.2.0)\r\n",
      "Requirement already satisfied: joblib>=1.1.1 in ./venv/lib/python3.10/site-packages (from scikit-learn) (1.2.0)\r\n",
      "Requirement already satisfied: numpy>=1.17.3 in ./venv/lib/python3.10/site-packages (from scikit-learn) (1.24.1)\r\n",
      "Requirement already satisfied: threadpoolctl>=2.0.0 in ./venv/lib/python3.10/site-packages (from scikit-learn) (3.1.0)\r\n",
      "Requirement already satisfied: scipy>=1.3.2 in ./venv/lib/python3.10/site-packages (from scikit-learn) (1.10.0)\r\n",
      "Requirement already satisfied: spacy in ./venv/lib/python3.10/site-packages (3.5.0)\r\n",
      "Requirement already satisfied: spacy-loggers<2.0.0,>=1.0.0 in ./venv/lib/python3.10/site-packages (from spacy) (1.0.4)\r\n",
      "Requirement already satisfied: packaging>=20.0 in ./venv/lib/python3.10/site-packages (from spacy) (23.0)\r\n",
      "Requirement already satisfied: typer<0.8.0,>=0.3.0 in ./venv/lib/python3.10/site-packages (from spacy) (0.7.0)\r\n",
      "Requirement already satisfied: murmurhash<1.1.0,>=0.28.0 in ./venv/lib/python3.10/site-packages (from spacy) (1.0.9)\r\n",
      "Requirement already satisfied: langcodes<4.0.0,>=3.2.0 in ./venv/lib/python3.10/site-packages (from spacy) (3.3.0)\r\n",
      "Requirement already satisfied: numpy>=1.15.0 in ./venv/lib/python3.10/site-packages (from spacy) (1.24.1)\r\n",
      "Requirement already satisfied: wasabi<1.2.0,>=0.9.1 in ./venv/lib/python3.10/site-packages (from spacy) (1.1.1)\r\n",
      "Requirement already satisfied: cymem<2.1.0,>=2.0.2 in ./venv/lib/python3.10/site-packages (from spacy) (2.0.7)\r\n",
      "Requirement already satisfied: preshed<3.1.0,>=3.0.2 in ./venv/lib/python3.10/site-packages (from spacy) (3.0.8)\r\n",
      "Requirement already satisfied: srsly<3.0.0,>=2.4.3 in ./venv/lib/python3.10/site-packages (from spacy) (2.4.5)\r\n",
      "Requirement already satisfied: thinc<8.2.0,>=8.1.0 in ./venv/lib/python3.10/site-packages (from spacy) (8.1.7)\r\n",
      "Requirement already satisfied: catalogue<2.1.0,>=2.0.6 in ./venv/lib/python3.10/site-packages (from spacy) (2.0.8)\r\n",
      "Requirement already satisfied: requests<3.0.0,>=2.13.0 in ./venv/lib/python3.10/site-packages (from spacy) (2.28.2)\r\n",
      "Requirement already satisfied: jinja2 in ./venv/lib/python3.10/site-packages (from spacy) (3.1.2)\r\n",
      "Requirement already satisfied: setuptools in ./venv/lib/python3.10/site-packages (from spacy) (65.5.1)\r\n",
      "Requirement already satisfied: pathy>=0.10.0 in ./venv/lib/python3.10/site-packages (from spacy) (0.10.1)\r\n",
      "Requirement already satisfied: smart-open<7.0.0,>=5.2.1 in ./venv/lib/python3.10/site-packages (from spacy) (6.3.0)\r\n",
      "Requirement already satisfied: tqdm<5.0.0,>=4.38.0 in ./venv/lib/python3.10/site-packages (from spacy) (4.64.1)\r\n",
      "Requirement already satisfied: spacy-legacy<3.1.0,>=3.0.11 in ./venv/lib/python3.10/site-packages (from spacy) (3.0.11)\r\n",
      "Requirement already satisfied: pydantic!=1.8,!=1.8.1,<1.11.0,>=1.7.4 in ./venv/lib/python3.10/site-packages (from spacy) (1.10.4)\r\n",
      "Requirement already satisfied: typing-extensions>=4.2.0 in ./venv/lib/python3.10/site-packages (from pydantic!=1.8,!=1.8.1,<1.11.0,>=1.7.4->spacy) (4.4.0)\r\n",
      "Requirement already satisfied: certifi>=2017.4.17 in ./venv/lib/python3.10/site-packages (from requests<3.0.0,>=2.13.0->spacy) (2022.12.7)\r\n",
      "Requirement already satisfied: idna<4,>=2.5 in ./venv/lib/python3.10/site-packages (from requests<3.0.0,>=2.13.0->spacy) (3.4)\r\n",
      "Requirement already satisfied: charset-normalizer<4,>=2 in ./venv/lib/python3.10/site-packages (from requests<3.0.0,>=2.13.0->spacy) (3.0.1)\r\n",
      "Requirement already satisfied: urllib3<1.27,>=1.21.1 in ./venv/lib/python3.10/site-packages (from requests<3.0.0,>=2.13.0->spacy) (1.26.14)\r\n",
      "Requirement already satisfied: confection<1.0.0,>=0.0.1 in ./venv/lib/python3.10/site-packages (from thinc<8.2.0,>=8.1.0->spacy) (0.0.4)\r\n",
      "Requirement already satisfied: blis<0.8.0,>=0.7.8 in ./venv/lib/python3.10/site-packages (from thinc<8.2.0,>=8.1.0->spacy) (0.7.9)\r\n",
      "Requirement already satisfied: click<9.0.0,>=7.1.1 in ./venv/lib/python3.10/site-packages (from typer<0.8.0,>=0.3.0->spacy) (8.1.3)\r\n",
      "Requirement already satisfied: MarkupSafe>=2.0 in ./venv/lib/python3.10/site-packages (from jinja2->spacy) (2.1.2)\r\n",
      "2023-01-22 23:35:54.963038: I tensorflow/core/platform/cpu_feature_guard.cc:193] This TensorFlow binary is optimized with oneAPI Deep Neural Network Library (oneDNN) to use the following CPU instructions in performance-critical operations:  AVX2 FMA\r\n",
      "To enable them in other operations, rebuild TensorFlow with the appropriate compiler flags.\r\n",
      "2023-01-22 23:35:57.243935: W tensorflow/compiler/xla/stream_executor/platform/default/dso_loader.cc:64] Could not load dynamic library 'libcudart.so.11.0'; dlerror: libcudart.so.11.0: cannot open shared object file: No such file or directory\r\n",
      "2023-01-22 23:35:57.243970: I tensorflow/compiler/xla/stream_executor/cuda/cudart_stub.cc:29] Ignore above cudart dlerror if you do not have a GPU set up on your machine.\r\n",
      "2023-01-22 23:36:03.719414: W tensorflow/compiler/xla/stream_executor/platform/default/dso_loader.cc:64] Could not load dynamic library 'libnvinfer.so.7'; dlerror: libnvinfer.so.7: cannot open shared object file: No such file or directory\r\n",
      "2023-01-22 23:36:03.724957: W tensorflow/compiler/xla/stream_executor/platform/default/dso_loader.cc:64] Could not load dynamic library 'libnvinfer_plugin.so.7'; dlerror: libnvinfer_plugin.so.7: cannot open shared object file: No such file or directory\r\n",
      "2023-01-22 23:36:03.725071: W tensorflow/compiler/tf2tensorrt/utils/py_utils.cc:38] TF-TRT Warning: Cannot dlopen some TensorRT libraries. If you would like to use Nvidia GPU with TensorRT, please make sure the missing libraries mentioned above are installed properly.\r\n",
      "2023-01-22 23:36:10.125520: W tensorflow/compiler/xla/stream_executor/platform/default/dso_loader.cc:64] Could not load dynamic library 'libcuda.so.1'; dlerror: libcuda.so.1: cannot open shared object file: No such file or directory\r\n",
      "2023-01-22 23:36:10.132445: W tensorflow/compiler/xla/stream_executor/cuda/cuda_driver.cc:265] failed call to cuInit: UNKNOWN ERROR (303)\r\n",
      "2023-01-22 23:36:10.132481: I tensorflow/compiler/xla/stream_executor/cuda/cuda_diagnostics.cc:156] kernel driver does not appear to be running on this host (home130): /proc/driver/nvidia/version does not exist\r\n",
      "Collecting en-core-web-sm==3.5.0\r\n",
      "  Downloading https://github.com/explosion/spacy-models/releases/download/en_core_web_sm-3.5.0/en_core_web_sm-3.5.0-py3-none-any.whl (12.8 MB)\r\n",
      "\u001B[2K     \u001B[90m━━━━━━━━━━━━━━━━━━━━━━━━━━━━━━━━━━━━━━━━\u001B[0m \u001B[32m12.8/12.8 MB\u001B[0m \u001B[31m6.0 MB/s\u001B[0m eta \u001B[36m0:00:00\u001B[0m00:01\u001B[0m00:01\u001B[0m\r\n",
      "\u001B[?25hRequirement already satisfied: spacy<3.6.0,>=3.5.0 in ./venv/lib/python3.10/site-packages (from en-core-web-sm==3.5.0) (3.5.0)\r\n",
      "Requirement already satisfied: murmurhash<1.1.0,>=0.28.0 in ./venv/lib/python3.10/site-packages (from spacy<3.6.0,>=3.5.0->en-core-web-sm==3.5.0) (1.0.9)\r\n",
      "Requirement already satisfied: cymem<2.1.0,>=2.0.2 in ./venv/lib/python3.10/site-packages (from spacy<3.6.0,>=3.5.0->en-core-web-sm==3.5.0) (2.0.7)\r\n",
      "Requirement already satisfied: typer<0.8.0,>=0.3.0 in ./venv/lib/python3.10/site-packages (from spacy<3.6.0,>=3.5.0->en-core-web-sm==3.5.0) (0.7.0)\r\n",
      "Requirement already satisfied: thinc<8.2.0,>=8.1.0 in ./venv/lib/python3.10/site-packages (from spacy<3.6.0,>=3.5.0->en-core-web-sm==3.5.0) (8.1.7)\r\n",
      "Requirement already satisfied: srsly<3.0.0,>=2.4.3 in ./venv/lib/python3.10/site-packages (from spacy<3.6.0,>=3.5.0->en-core-web-sm==3.5.0) (2.4.5)\r\n",
      "Requirement already satisfied: spacy-loggers<2.0.0,>=1.0.0 in ./venv/lib/python3.10/site-packages (from spacy<3.6.0,>=3.5.0->en-core-web-sm==3.5.0) (1.0.4)\r\n",
      "Requirement already satisfied: wasabi<1.2.0,>=0.9.1 in ./venv/lib/python3.10/site-packages (from spacy<3.6.0,>=3.5.0->en-core-web-sm==3.5.0) (1.1.1)\r\n",
      "Requirement already satisfied: setuptools in ./venv/lib/python3.10/site-packages (from spacy<3.6.0,>=3.5.0->en-core-web-sm==3.5.0) (65.5.1)\r\n",
      "Requirement already satisfied: catalogue<2.1.0,>=2.0.6 in ./venv/lib/python3.10/site-packages (from spacy<3.6.0,>=3.5.0->en-core-web-sm==3.5.0) (2.0.8)\r\n",
      "Requirement already satisfied: pydantic!=1.8,!=1.8.1,<1.11.0,>=1.7.4 in ./venv/lib/python3.10/site-packages (from spacy<3.6.0,>=3.5.0->en-core-web-sm==3.5.0) (1.10.4)\r\n",
      "Requirement already satisfied: smart-open<7.0.0,>=5.2.1 in ./venv/lib/python3.10/site-packages (from spacy<3.6.0,>=3.5.0->en-core-web-sm==3.5.0) (6.3.0)\r\n",
      "Requirement already satisfied: langcodes<4.0.0,>=3.2.0 in ./venv/lib/python3.10/site-packages (from spacy<3.6.0,>=3.5.0->en-core-web-sm==3.5.0) (3.3.0)\r\n",
      "Requirement already satisfied: requests<3.0.0,>=2.13.0 in ./venv/lib/python3.10/site-packages (from spacy<3.6.0,>=3.5.0->en-core-web-sm==3.5.0) (2.28.2)\r\n",
      "Requirement already satisfied: packaging>=20.0 in ./venv/lib/python3.10/site-packages (from spacy<3.6.0,>=3.5.0->en-core-web-sm==3.5.0) (23.0)\r\n",
      "Requirement already satisfied: numpy>=1.15.0 in ./venv/lib/python3.10/site-packages (from spacy<3.6.0,>=3.5.0->en-core-web-sm==3.5.0) (1.24.1)\r\n",
      "Requirement already satisfied: spacy-legacy<3.1.0,>=3.0.11 in ./venv/lib/python3.10/site-packages (from spacy<3.6.0,>=3.5.0->en-core-web-sm==3.5.0) (3.0.11)\r\n",
      "Requirement already satisfied: pathy>=0.10.0 in ./venv/lib/python3.10/site-packages (from spacy<3.6.0,>=3.5.0->en-core-web-sm==3.5.0) (0.10.1)\r\n",
      "Requirement already satisfied: jinja2 in ./venv/lib/python3.10/site-packages (from spacy<3.6.0,>=3.5.0->en-core-web-sm==3.5.0) (3.1.2)\r\n",
      "Requirement already satisfied: tqdm<5.0.0,>=4.38.0 in ./venv/lib/python3.10/site-packages (from spacy<3.6.0,>=3.5.0->en-core-web-sm==3.5.0) (4.64.1)\r\n",
      "Requirement already satisfied: preshed<3.1.0,>=3.0.2 in ./venv/lib/python3.10/site-packages (from spacy<3.6.0,>=3.5.0->en-core-web-sm==3.5.0) (3.0.8)\r\n",
      "Requirement already satisfied: typing-extensions>=4.2.0 in ./venv/lib/python3.10/site-packages (from pydantic!=1.8,!=1.8.1,<1.11.0,>=1.7.4->spacy<3.6.0,>=3.5.0->en-core-web-sm==3.5.0) (4.4.0)\r\n",
      "Requirement already satisfied: idna<4,>=2.5 in ./venv/lib/python3.10/site-packages (from requests<3.0.0,>=2.13.0->spacy<3.6.0,>=3.5.0->en-core-web-sm==3.5.0) (3.4)\r\n",
      "Requirement already satisfied: charset-normalizer<4,>=2 in ./venv/lib/python3.10/site-packages (from requests<3.0.0,>=2.13.0->spacy<3.6.0,>=3.5.0->en-core-web-sm==3.5.0) (3.0.1)\r\n",
      "Requirement already satisfied: urllib3<1.27,>=1.21.1 in ./venv/lib/python3.10/site-packages (from requests<3.0.0,>=2.13.0->spacy<3.6.0,>=3.5.0->en-core-web-sm==3.5.0) (1.26.14)\r\n",
      "Requirement already satisfied: certifi>=2017.4.17 in ./venv/lib/python3.10/site-packages (from requests<3.0.0,>=2.13.0->spacy<3.6.0,>=3.5.0->en-core-web-sm==3.5.0) (2022.12.7)\r\n",
      "Requirement already satisfied: confection<1.0.0,>=0.0.1 in ./venv/lib/python3.10/site-packages (from thinc<8.2.0,>=8.1.0->spacy<3.6.0,>=3.5.0->en-core-web-sm==3.5.0) (0.0.4)\r\n",
      "Requirement already satisfied: blis<0.8.0,>=0.7.8 in ./venv/lib/python3.10/site-packages (from thinc<8.2.0,>=8.1.0->spacy<3.6.0,>=3.5.0->en-core-web-sm==3.5.0) (0.7.9)\r\n",
      "Requirement already satisfied: click<9.0.0,>=7.1.1 in ./venv/lib/python3.10/site-packages (from typer<0.8.0,>=0.3.0->spacy<3.6.0,>=3.5.0->en-core-web-sm==3.5.0) (8.1.3)\r\n",
      "Requirement already satisfied: MarkupSafe>=2.0 in ./venv/lib/python3.10/site-packages (from jinja2->spacy<3.6.0,>=3.5.0->en-core-web-sm==3.5.0) (2.1.2)\r\n",
      "\u001B[38;5;2m✔ Download and installation successful\u001B[0m\r\n",
      "You can now load the package via spacy.load('en_core_web_sm')\r\n",
      "2023-01-22 23:36:23.745484: I tensorflow/core/platform/cpu_feature_guard.cc:193] This TensorFlow binary is optimized with oneAPI Deep Neural Network Library (oneDNN) to use the following CPU instructions in performance-critical operations:  AVX2 FMA\r\n",
      "To enable them in other operations, rebuild TensorFlow with the appropriate compiler flags.\r\n",
      "2023-01-22 23:36:24.000184: W tensorflow/compiler/xla/stream_executor/platform/default/dso_loader.cc:64] Could not load dynamic library 'libcudart.so.11.0'; dlerror: libcudart.so.11.0: cannot open shared object file: No such file or directory\r\n",
      "2023-01-22 23:36:24.000211: I tensorflow/compiler/xla/stream_executor/cuda/cudart_stub.cc:29] Ignore above cudart dlerror if you do not have a GPU set up on your machine.\r\n",
      "2023-01-22 23:36:24.764448: W tensorflow/compiler/xla/stream_executor/platform/default/dso_loader.cc:64] Could not load dynamic library 'libnvinfer.so.7'; dlerror: libnvinfer.so.7: cannot open shared object file: No such file or directory\r\n",
      "2023-01-22 23:36:24.764541: W tensorflow/compiler/xla/stream_executor/platform/default/dso_loader.cc:64] Could not load dynamic library 'libnvinfer_plugin.so.7'; dlerror: libnvinfer_plugin.so.7: cannot open shared object file: No such file or directory\r\n",
      "2023-01-22 23:36:24.764555: W tensorflow/compiler/tf2tensorrt/utils/py_utils.cc:38] TF-TRT Warning: Cannot dlopen some TensorRT libraries. If you would like to use Nvidia GPU with TensorRT, please make sure the missing libraries mentioned above are installed properly.\r\n",
      "2023-01-22 23:36:25.741701: W tensorflow/compiler/xla/stream_executor/platform/default/dso_loader.cc:64] Could not load dynamic library 'libcuda.so.1'; dlerror: libcuda.so.1: cannot open shared object file: No such file or directory\r\n",
      "2023-01-22 23:36:25.741727: W tensorflow/compiler/xla/stream_executor/cuda/cuda_driver.cc:265] failed call to cuInit: UNKNOWN ERROR (303)\r\n",
      "2023-01-22 23:36:25.741750: I tensorflow/compiler/xla/stream_executor/cuda/cuda_diagnostics.cc:156] kernel driver does not appear to be running on this host (home130): /proc/driver/nvidia/version does not exist\r\n",
      "Collecting ru-core-news-sm==3.5.0\r\n",
      "  Downloading https://github.com/explosion/spacy-models/releases/download/ru_core_news_sm-3.5.0/ru_core_news_sm-3.5.0-py3-none-any.whl (15.3 MB)\r\n",
      "\u001B[2K     \u001B[90m━━━━━━━━━━━━━━━━━━━━━━━━━━━━━━━━━━━━━━━━\u001B[0m \u001B[32m15.3/15.3 MB\u001B[0m \u001B[31m3.9 MB/s\u001B[0m eta \u001B[36m0:00:00\u001B[0m00:01\u001B[0m00:01\u001B[0m\r\n",
      "\u001B[?25hRequirement already satisfied: spacy<3.6.0,>=3.5.0 in ./venv/lib/python3.10/site-packages (from ru-core-news-sm==3.5.0) (3.5.0)\r\n",
      "Requirement already satisfied: pymorphy3>=1.0.0 in ./venv/lib/python3.10/site-packages (from ru-core-news-sm==3.5.0) (1.2.0)\r\n",
      "Requirement already satisfied: dawg-python>=0.7.1 in ./venv/lib/python3.10/site-packages (from pymorphy3>=1.0.0->ru-core-news-sm==3.5.0) (0.7.2)\r\n",
      "Requirement already satisfied: pymorphy3-dicts-ru in ./venv/lib/python3.10/site-packages (from pymorphy3>=1.0.0->ru-core-news-sm==3.5.0) (2.4.417150.4580142)\r\n",
      "Requirement already satisfied: docopt>=0.6 in ./venv/lib/python3.10/site-packages (from pymorphy3>=1.0.0->ru-core-news-sm==3.5.0) (0.6.2)\r\n",
      "Requirement already satisfied: wasabi<1.2.0,>=0.9.1 in ./venv/lib/python3.10/site-packages (from spacy<3.6.0,>=3.5.0->ru-core-news-sm==3.5.0) (1.1.1)\r\n",
      "Requirement already satisfied: typer<0.8.0,>=0.3.0 in ./venv/lib/python3.10/site-packages (from spacy<3.6.0,>=3.5.0->ru-core-news-sm==3.5.0) (0.7.0)\r\n",
      "Requirement already satisfied: requests<3.0.0,>=2.13.0 in ./venv/lib/python3.10/site-packages (from spacy<3.6.0,>=3.5.0->ru-core-news-sm==3.5.0) (2.28.2)\r\n",
      "Requirement already satisfied: cymem<2.1.0,>=2.0.2 in ./venv/lib/python3.10/site-packages (from spacy<3.6.0,>=3.5.0->ru-core-news-sm==3.5.0) (2.0.7)\r\n",
      "Requirement already satisfied: preshed<3.1.0,>=3.0.2 in ./venv/lib/python3.10/site-packages (from spacy<3.6.0,>=3.5.0->ru-core-news-sm==3.5.0) (3.0.8)\r\n",
      "Requirement already satisfied: spacy-legacy<3.1.0,>=3.0.11 in ./venv/lib/python3.10/site-packages (from spacy<3.6.0,>=3.5.0->ru-core-news-sm==3.5.0) (3.0.11)\r\n",
      "Requirement already satisfied: jinja2 in ./venv/lib/python3.10/site-packages (from spacy<3.6.0,>=3.5.0->ru-core-news-sm==3.5.0) (3.1.2)\r\n",
      "Requirement already satisfied: srsly<3.0.0,>=2.4.3 in ./venv/lib/python3.10/site-packages (from spacy<3.6.0,>=3.5.0->ru-core-news-sm==3.5.0) (2.4.5)\r\n",
      "Requirement already satisfied: langcodes<4.0.0,>=3.2.0 in ./venv/lib/python3.10/site-packages (from spacy<3.6.0,>=3.5.0->ru-core-news-sm==3.5.0) (3.3.0)\r\n",
      "Requirement already satisfied: setuptools in ./venv/lib/python3.10/site-packages (from spacy<3.6.0,>=3.5.0->ru-core-news-sm==3.5.0) (65.5.1)\r\n",
      "Requirement already satisfied: murmurhash<1.1.0,>=0.28.0 in ./venv/lib/python3.10/site-packages (from spacy<3.6.0,>=3.5.0->ru-core-news-sm==3.5.0) (1.0.9)\r\n",
      "Requirement already satisfied: spacy-loggers<2.0.0,>=1.0.0 in ./venv/lib/python3.10/site-packages (from spacy<3.6.0,>=3.5.0->ru-core-news-sm==3.5.0) (1.0.4)\r\n",
      "Requirement already satisfied: smart-open<7.0.0,>=5.2.1 in ./venv/lib/python3.10/site-packages (from spacy<3.6.0,>=3.5.0->ru-core-news-sm==3.5.0) (6.3.0)\r\n",
      "Requirement already satisfied: numpy>=1.15.0 in ./venv/lib/python3.10/site-packages (from spacy<3.6.0,>=3.5.0->ru-core-news-sm==3.5.0) (1.24.1)\r\n",
      "Requirement already satisfied: thinc<8.2.0,>=8.1.0 in ./venv/lib/python3.10/site-packages (from spacy<3.6.0,>=3.5.0->ru-core-news-sm==3.5.0) (8.1.7)\r\n",
      "Requirement already satisfied: pathy>=0.10.0 in ./venv/lib/python3.10/site-packages (from spacy<3.6.0,>=3.5.0->ru-core-news-sm==3.5.0) (0.10.1)\r\n",
      "Requirement already satisfied: pydantic!=1.8,!=1.8.1,<1.11.0,>=1.7.4 in ./venv/lib/python3.10/site-packages (from spacy<3.6.0,>=3.5.0->ru-core-news-sm==3.5.0) (1.10.4)\r\n",
      "Requirement already satisfied: packaging>=20.0 in ./venv/lib/python3.10/site-packages (from spacy<3.6.0,>=3.5.0->ru-core-news-sm==3.5.0) (23.0)\r\n",
      "Requirement already satisfied: tqdm<5.0.0,>=4.38.0 in ./venv/lib/python3.10/site-packages (from spacy<3.6.0,>=3.5.0->ru-core-news-sm==3.5.0) (4.64.1)\r\n",
      "Requirement already satisfied: catalogue<2.1.0,>=2.0.6 in ./venv/lib/python3.10/site-packages (from spacy<3.6.0,>=3.5.0->ru-core-news-sm==3.5.0) (2.0.8)\r\n",
      "Requirement already satisfied: typing-extensions>=4.2.0 in ./venv/lib/python3.10/site-packages (from pydantic!=1.8,!=1.8.1,<1.11.0,>=1.7.4->spacy<3.6.0,>=3.5.0->ru-core-news-sm==3.5.0) (4.4.0)\r\n",
      "Requirement already satisfied: certifi>=2017.4.17 in ./venv/lib/python3.10/site-packages (from requests<3.0.0,>=2.13.0->spacy<3.6.0,>=3.5.0->ru-core-news-sm==3.5.0) (2022.12.7)\r\n",
      "Requirement already satisfied: urllib3<1.27,>=1.21.1 in ./venv/lib/python3.10/site-packages (from requests<3.0.0,>=2.13.0->spacy<3.6.0,>=3.5.0->ru-core-news-sm==3.5.0) (1.26.14)\r\n",
      "Requirement already satisfied: idna<4,>=2.5 in ./venv/lib/python3.10/site-packages (from requests<3.0.0,>=2.13.0->spacy<3.6.0,>=3.5.0->ru-core-news-sm==3.5.0) (3.4)\r\n",
      "Requirement already satisfied: charset-normalizer<4,>=2 in ./venv/lib/python3.10/site-packages (from requests<3.0.0,>=2.13.0->spacy<3.6.0,>=3.5.0->ru-core-news-sm==3.5.0) (3.0.1)\r\n",
      "Requirement already satisfied: confection<1.0.0,>=0.0.1 in ./venv/lib/python3.10/site-packages (from thinc<8.2.0,>=8.1.0->spacy<3.6.0,>=3.5.0->ru-core-news-sm==3.5.0) (0.0.4)\r\n",
      "Requirement already satisfied: blis<0.8.0,>=0.7.8 in ./venv/lib/python3.10/site-packages (from thinc<8.2.0,>=8.1.0->spacy<3.6.0,>=3.5.0->ru-core-news-sm==3.5.0) (0.7.9)\r\n",
      "Requirement already satisfied: click<9.0.0,>=7.1.1 in ./venv/lib/python3.10/site-packages (from typer<0.8.0,>=0.3.0->spacy<3.6.0,>=3.5.0->ru-core-news-sm==3.5.0) (8.1.3)\r\n",
      "Requirement already satisfied: MarkupSafe>=2.0 in ./venv/lib/python3.10/site-packages (from jinja2->spacy<3.6.0,>=3.5.0->ru-core-news-sm==3.5.0) (2.1.2)\r\n",
      "\u001B[38;5;2m✔ Download and installation successful\u001B[0m\r\n",
      "You can now load the package via spacy.load('ru_core_news_sm')\r\n",
      "Requirement already satisfied: networkx in ./venv/lib/python3.10/site-packages (3.0)\r\n",
      "Requirement already satisfied: pymorphy2 in ./venv/lib/python3.10/site-packages (0.9.1)\r\n",
      "Requirement already satisfied: dawg-python>=0.7.1 in ./venv/lib/python3.10/site-packages (from pymorphy2) (0.7.2)\r\n",
      "Requirement already satisfied: docopt>=0.6 in ./venv/lib/python3.10/site-packages (from pymorphy2) (0.6.2)\r\n",
      "Requirement already satisfied: pymorphy2-dicts-ru<3.0,>=2.4 in ./venv/lib/python3.10/site-packages (from pymorphy2) (2.4.417127.4579844)\r\n"
     ]
    }
   ],
   "source": [
    "!pip install nltk\n",
    "!pip install navec\n",
    "!pip install pandas\n",
    "!pip install natasha\n",
    "!pip install matplotlib\n",
    "!pip install python-docx\n",
    "!pip install scikit-learn\n",
    "\n",
    "!pip install spacy\n",
    "!python -m spacy download en_core_web_sm\n",
    "!python -m spacy download ru_core_news_sm\n",
    "\n",
    "!pip install networkx\n",
    "#!pytest networkx\n",
    "#!pytest --pyargs networkx\n",
    "\n",
    "!pip install pymorphy2"
   ]
  },
  {
   "cell_type": "code",
   "execution_count": 3,
   "id": "3652d991-12f0-439a-9d10-45ac12ea7beb",
   "metadata": {},
   "outputs": [
    {
     "name": "stderr",
     "output_type": "stream",
     "text": [
      "2023-01-22 23:36:46.247525: I tensorflow/core/platform/cpu_feature_guard.cc:193] This TensorFlow binary is optimized with oneAPI Deep Neural Network Library (oneDNN) to use the following CPU instructions in performance-critical operations:  AVX2 FMA\n",
      "To enable them in other operations, rebuild TensorFlow with the appropriate compiler flags.\n",
      "2023-01-22 23:36:46.391744: W tensorflow/compiler/xla/stream_executor/platform/default/dso_loader.cc:64] Could not load dynamic library 'libcudart.so.11.0'; dlerror: libcudart.so.11.0: cannot open shared object file: No such file or directory\n",
      "2023-01-22 23:36:46.391765: I tensorflow/compiler/xla/stream_executor/cuda/cudart_stub.cc:29] Ignore above cudart dlerror if you do not have a GPU set up on your machine.\n",
      "2023-01-22 23:36:47.192541: W tensorflow/compiler/xla/stream_executor/platform/default/dso_loader.cc:64] Could not load dynamic library 'libnvinfer.so.7'; dlerror: libnvinfer.so.7: cannot open shared object file: No such file or directory\n",
      "2023-01-22 23:36:47.192621: W tensorflow/compiler/xla/stream_executor/platform/default/dso_loader.cc:64] Could not load dynamic library 'libnvinfer_plugin.so.7'; dlerror: libnvinfer_plugin.so.7: cannot open shared object file: No such file or directory\n",
      "2023-01-22 23:36:47.192630: W tensorflow/compiler/tf2tensorrt/utils/py_utils.cc:38] TF-TRT Warning: Cannot dlopen some TensorRT libraries. If you would like to use Nvidia GPU with TensorRT, please make sure the missing libraries mentioned above are installed properly.\n",
      "2023-01-22 23:36:48.002098: W tensorflow/compiler/xla/stream_executor/platform/default/dso_loader.cc:64] Could not load dynamic library 'libcuda.so.1'; dlerror: libcuda.so.1: cannot open shared object file: No such file or directory\n",
      "2023-01-22 23:36:48.002120: W tensorflow/compiler/xla/stream_executor/cuda/cuda_driver.cc:265] failed call to cuInit: UNKNOWN ERROR (303)\n",
      "2023-01-22 23:36:48.002137: I tensorflow/compiler/xla/stream_executor/cuda/cuda_diagnostics.cc:156] kernel driver does not appear to be running on this host (home130): /proc/driver/nvidia/version does not exist\n"
     ]
    }
   ],
   "source": [
    "import json\n",
    "import numpy as np\n",
    "import pandas as pd\n",
    "import networkx as nx\n",
    "import matplotlib.pyplot as plt\n",
    "%matplotlib inline\n",
    "\n",
    "from nltk import download\n",
    "from nltk.tokenize import sent_tokenize, word_tokenize\n",
    "\n",
    "from navec import Navec\n",
    "from docx import Document\n",
    "from IPython.display import display\n",
    "from sklearn.model_selection import train_test_split\n",
    "\n",
    "from natasha import (\n",
    "    Segmenter,\n",
    "    MorphVocab,\n",
    "    NewsEmbedding,\n",
    "    NewsMorphTagger,\n",
    "    NewsSyntaxParser,\n",
    "    NewsNERTagger,\n",
    "    NamesExtractor,\n",
    "    DatesExtractor,\n",
    "    MoneyExtractor,\n",
    "    AddrExtractor,\n",
    "    Doc\n",
    ")\n",
    "\n",
    "from keras import utils\n",
    "from keras.models import Sequential\n",
    "from keras.layers import Dense, Embedding, Conv1D, GlobalMaxPooling1D, LSTM, GRU\n",
    "from keras.preprocessing.text import Tokenizer\n",
    "\n",
    "# Морфологический анализ\n",
    "from pymorphy2 import MorphAnalyzer\n",
    "\n",
    "# Синтаксический анализ\n",
    "from spacy import load"
   ]
  },
  {
   "cell_type": "code",
   "execution_count": 4,
   "id": "ef525a55-2675-42f6-ab00-7b8d9a809a18",
   "metadata": {},
   "outputs": [],
   "source": [
    "directory = 'hackaton_2023_01/task_3/full_dataset/json/'\n",
    "data = []\n",
    "for n in range(9999):\n",
    "    name = str(n) + '.json'\n",
    "    try:\n",
    "        with open(directory + name, \"r\") as readFile:\n",
    "            jsonData = json.load(readFile)\n",
    "            jsonData[\"id\"] = n\n",
    "            data.append(jsonData)\n",
    "    except ValueError:\n",
    "        continue"
   ]
  },
  {
   "cell_type": "code",
   "execution_count": 22,
   "id": "038d3959-5c21-4a26-8abb-9be0f8044f90",
   "metadata": {},
   "outputs": [],
   "source": [
    "with open('merged_data.json', \"r\") as readFile:\n",
    "    merge_data = json.load(readFile)"
   ]
  },
  {
   "cell_type": "markdown",
   "id": "5fdedeb9-f25a-4cb1-a815-d51b0a277969",
   "metadata": {},
   "source": [
    "### Определяем количество департаментов в компании"
   ]
  },
  {
   "cell_type": "code",
   "execution_count": 23,
   "id": "881c5a60-8bae-4b0f-a12e-63c6a84759e1",
   "metadata": {},
   "outputs": [],
   "source": [
    "DEPARTMENTS = []\n",
    "for n in range(10000):\n",
    "    try:\n",
    "        for i in range(1,30):\n",
    "            DEPARTMENTS.append(merge_data[n]['Tasks']['Task{}'.format(i)]['task_responsibles_groups'])\n",
    "    except KeyError:\n",
    "        continue\n",
    "    except IndexError:\n",
    "        continue"
   ]
  },
  {
   "cell_type": "code",
   "execution_count": 24,
   "id": "c45083da-2600-411f-9f37-2724d997e2dc",
   "metadata": {},
   "outputs": [],
   "source": [
    "FIO_POSITION = []\n",
    "for n in range(10000):\n",
    "    try:\n",
    "        for i in range(1,20):\n",
    "            FIO_POSITION.append(merge_data[n]['Tasks']['Task{}'.format(i)]['task_responsibles_people'])\n",
    "    except KeyError:\n",
    "        continue\n",
    "    except IndexError:\n",
    "        continue"
   ]
  },
  {
   "cell_type": "code",
   "execution_count": 25,
   "id": "5d89081d-c417-4ba2-99b0-c22ab7b7593d",
   "metadata": {},
   "outputs": [],
   "source": [
    "TASK = []\n",
    "for n in range(10000):\n",
    "    try:\n",
    "        for i in range(1,30):\n",
    "            TASK.append(merge_data[n]['Tasks']['Task{}'.format(i)]['task_text'])\n",
    "    except KeyError:\n",
    "        continue\n",
    "    except IndexError:\n",
    "        continue"
   ]
  },
  {
   "cell_type": "code",
   "execution_count": 26,
   "id": "dee9f29a-af7f-4025-9b1e-e911565e1a4f",
   "metadata": {},
   "outputs": [],
   "source": [
    "POSITION = []\n",
    "for n in range(10000):\n",
    "    try:\n",
    "        for i in range(1,30):\n",
    "            POSITION.append(merge_data[n]['Tasks']['Global_supervisor'][i])\n",
    "    except KeyError:\n",
    "        continue\n",
    "    except IndexError:\n",
    "        continue"
   ]
  },
  {
   "cell_type": "markdown",
   "id": "ab5abf53-8eaa-487b-8742-2098c7664c61",
   "metadata": {},
   "source": [
    "### Очищаем данные"
   ]
  },
  {
   "cell_type": "code",
   "execution_count": 27,
   "id": "3c4de681-ad7a-4005-a902-e84147b20de7",
   "metadata": {},
   "outputs": [],
   "source": [
    "def text_split(text: str):\n",
    "    pouch_of_words = []\n",
    "    for line in text:\n",
    "        line = line.split()\n",
    "        pouch_of_words.append(line)\n",
    "    return pouch_of_words"
   ]
  },
  {
   "cell_type": "code",
   "execution_count": 11,
   "id": "d29e3a91-cfa4-4207-9d21-377d0066aa8f",
   "metadata": {},
   "outputs": [],
   "source": [
    "#text_split(FIO_POSITION[:2])"
   ]
  },
  {
   "cell_type": "code",
   "execution_count": 28,
   "id": "c5dffc84-108f-4582-babb-f75a793f8ab4",
   "metadata": {},
   "outputs": [],
   "source": [
    "def token_words_split(text: str):\n",
    "    pouch_of_words = []\n",
    "    if type(text) == list:\n",
    "        for line in text:\n",
    "            TOKENIZER = word_tokenize(line)\n",
    "            pouch_of_words.append(TOKENIZER)\n",
    "        return pouch_of_words\n",
    "\n",
    "#pouch_of_words = token_words_split(FIO_POSITION[:2])\n",
    "#pouch_of_words"
   ]
  },
  {
   "cell_type": "code",
   "execution_count": 29,
   "id": "314fc52f-577b-416f-b7bc-1ee93dddf9f4",
   "metadata": {},
   "outputs": [],
   "source": [
    "def split_spacy(text: str):\n",
    "    pouch_of_words = []\n",
    "    nlp = load('ru_core_news_sm')\n",
    "    if type(text) == list:\n",
    "        for line in text:\n",
    "            doc = nlp(line)\n",
    "            for token in doc:\n",
    "                pouch_of_words.append(token)\n",
    "    return pouch_of_words"
   ]
  },
  {
   "cell_type": "code",
   "execution_count": null,
   "id": "291a36cf-1e71-4e71-9b4e-4c0217cea5d1",
   "metadata": {},
   "outputs": [],
   "source": [
    "#split_spacy(FIO_POSITION[:2])"
   ]
  },
  {
   "cell_type": "code",
   "execution_count": 30,
   "id": "406ac96b-a240-486a-a078-22e440b7cb3f",
   "metadata": {},
   "outputs": [
    {
     "name": "stderr",
     "output_type": "stream",
     "text": [
      "[nltk_data] Downloading package punkt to /home/user/nltk_data...\n",
      "[nltk_data]   Package punkt is already up-to-date!\n"
     ]
    }
   ],
   "source": [
    "download('punkt')\n",
    "def sentence(text: str):\n",
    "    sentences = sent_tokenize(text)\n",
    "    return sentences"
   ]
  },
  {
   "cell_type": "markdown",
   "id": "e001be42-9e01-4d46-84eb-d1266a40bd35",
   "metadata": {},
   "source": [
    "### Морфологический анализ"
   ]
  },
  {
   "cell_type": "code",
   "execution_count": 31,
   "id": "c9847f24-2c25-44b1-ad3a-833b92164331",
   "metadata": {},
   "outputs": [],
   "source": [
    "morph = MorphAnalyzer()"
   ]
  },
  {
   "cell_type": "code",
   "execution_count": 32,
   "id": "60395f35-a7de-4b2e-b7ea-9afaf43f336b",
   "metadata": {},
   "outputs": [],
   "source": [
    "def morph_word(words: str):\n",
    "    words = split_spacy(words)\n",
    "    morph_words = []\n",
    "    for word in words:\n",
    "        print(word)\n",
    "\n",
    "#morph_word(POSITION[:1])"
   ]
  },
  {
   "cell_type": "markdown",
   "id": "cf7bfaab-481e-4149-b652-e5be17cd01d6",
   "metadata": {},
   "source": [
    "### Синтаксический анализ"
   ]
  },
  {
   "cell_type": "markdown",
   "id": "758170b0-6131-465f-8019-37d511f442ae",
   "metadata": {},
   "source": [
    "### Разделяем текст на предложения"
   ]
  },
  {
   "cell_type": "code",
   "execution_count": 33,
   "id": "6429f4cc-6a65-4c37-a558-610f4b8b68e9",
   "metadata": {},
   "outputs": [
    {
     "name": "stderr",
     "output_type": "stream",
     "text": [
      "[nltk_data] Downloading package punkt to /home/user/nltk_data...\n",
      "[nltk_data]   Package punkt is already up-to-date!\n"
     ]
    },
    {
     "data": {
      "text/plain": "\"[['Контроль над выполнением настоящего распоряжения оставляю за собой'], ['Обеспечение выполнения возложить на специалиста третей категории бухгалтерии Александрова А.С.']]\""
     },
     "execution_count": 33,
     "metadata": {},
     "output_type": "execute_result"
    }
   ],
   "source": [
    "download('punkt')\n",
    "def sentence(text: str):\n",
    "    pouch_of_sentence = []\n",
    "    if type(text) == list:\n",
    "        for line in text:\n",
    "            sentences = sent_tokenize(line)\n",
    "            pouch_of_sentence.append(sentences)\n",
    "    return str(pouch_of_sentence)\n",
    "    \n",
    "text = sentence(FIO_POSITION[10:12])\n",
    "text"
   ]
  },
  {
   "cell_type": "markdown",
   "source": [
    "### Использование библиотеки natasha в данный момент дорабатывается"
   ],
   "metadata": {
    "collapsed": false
   }
  },
  {
   "cell_type": "code",
   "execution_count": 28,
   "id": "e54bf6e0-436b-40be-bfb9-3bfa4c4dc434",
   "metadata": {},
   "outputs": [],
   "source": [
    "#segmenter = Segmenter()\n",
    "#morph_vocab = MorphVocab()\n",
    "\n",
    "#emb = NewsEmbedding()\n",
    "#morph_tagger = NewsMorphTagger(emb)\n",
    "#syntax_parser = NewsSyntaxParser(emb)\n",
    "#ner_tagger = NewsNERTagger(emb)\n",
    "\n",
    "#names_extractor = NamesExtractor(morph_vocab)\n",
    "#dates_extractor = DatesExtractor(morph_vocab)\n",
    "#money_extractor = MoneyExtractor(morph_vocab)\n",
    "#addr_extractor = AddrExtractor(morph_vocab)"
   ]
  },
  {
   "cell_type": "code",
   "execution_count": 29,
   "id": "f1da78ec-9c1f-43ea-9597-b6ce4556632d",
   "metadata": {},
   "outputs": [],
   "source": [
    "#syntax_parser = NewsSyntaxParser(emb)"
   ]
  },
  {
   "cell_type": "code",
   "execution_count": 30,
   "id": "bedf55ce-5641-46ea-aa2f-009cc74b1330",
   "metadata": {},
   "outputs": [],
   "source": [
    "#doc_n = Doc(text)"
   ]
  },
  {
   "cell_type": "code",
   "execution_count": null,
   "id": "3b294365-295f-4241-95dd-a8319a740197",
   "metadata": {},
   "outputs": [],
   "source": [
    "#for tocken in doc_n.tokens:\n",
    "#    print(tocken)"
   ]
  },
  {
   "cell_type": "code",
   "execution_count": null,
   "id": "f38821db-3e52-41ca-8520-c31746fd2f2d",
   "metadata": {},
   "outputs": [],
   "source": [
    "#doc_n.parse_syntax(syntax_parser)"
   ]
  },
  {
   "cell_type": "code",
   "execution_count": null,
   "id": "1efb5161-3938-412d-aa77-fa7393ab46be",
   "metadata": {},
   "outputs": [],
   "source": [
    "#for tocken in doc_n.tokens:\n",
    "#    print(tocken)"
   ]
  },
  {
   "cell_type": "code",
   "execution_count": null,
   "id": "aec95c8a-f571-4d1e-9367-8263d6fc586c",
   "metadata": {},
   "outputs": [],
   "source": [
    "#doc_n.sents[0].syntax.print()"
   ]
  },
  {
   "cell_type": "markdown",
   "id": "d0493dfd-4f4c-45ac-a228-b13a78523b76",
   "metadata": {},
   "source": [
    "### Выявление ФИО, должности, специализации"
   ]
  },
  {
   "cell_type": "code",
   "execution_count": 32,
   "id": "82e62351-4f05-4854-b73c-897e466ca57b",
   "metadata": {},
   "outputs": [],
   "source": [
    "#FIO = []\n",
    "\n",
    "#for tocken in doc_n.tokens:\n",
    "#    if tocken.rel == 'flat:name' or tocken.rel == 'appos':\n",
    "#        if tocken.rel == 'appos':\n",
    "#            surn = tocken.text \n",
    "#            if surn in FIO:\n",
    "#                pass\n",
    "#            else:\n",
    "#                FIO.append(surn)\n",
    "#        elif tocken.rel == 'flat:name':\n",
    "#            IO = tocken.text + '.'      \n",
    "#            FIO.append(IO)"
   ]
  },
  {
   "cell_type": "code",
   "execution_count": null,
   "id": "40678c19-4a34-430f-95e5-ebb693e16fd4",
   "metadata": {},
   "outputs": [],
   "source": [
    "#doc_n.segment(segmenter) "
   ]
  },
  {
   "cell_type": "code",
   "execution_count": null,
   "id": "1581aa45-90d4-49c4-b938-350c5e93c487",
   "metadata": {},
   "outputs": [],
   "source": [
    "#doc_n.tag_morph(morph_tagger)"
   ]
  },
  {
   "cell_type": "code",
   "execution_count": null,
   "id": "4c085c32-01d3-4698-b4b6-a69b13b6488b",
   "metadata": {},
   "outputs": [],
   "source": [
    "#doc_n.tag_ner(ner_tagger)"
   ]
  },
  {
   "cell_type": "code",
   "execution_count": null,
   "id": "7100e7ea-88dd-4c19-8b19-15b59ae2f539",
   "metadata": {},
   "outputs": [],
   "source": [
    "#doc_n.parse_syntax(syntax_parser)"
   ]
  },
  {
   "cell_type": "code",
   "execution_count": null,
   "id": "509f0a54-bdf9-45ce-9e72-e0b29c291170",
   "metadata": {},
   "outputs": [],
   "source": [
    "#display(doc_n.tokens[:5])"
   ]
  },
  {
   "cell_type": "code",
   "execution_count": null,
   "id": "bb932d03-ef36-486f-b2ea-865ed793ff29",
   "metadata": {},
   "outputs": [],
   "source": [
    "#display(doc_n.sents)"
   ]
  },
  {
   "cell_type": "code",
   "execution_count": null,
   "id": "6ffb3e30-86aa-4941-b3b2-da84fe218218",
   "metadata": {},
   "outputs": [],
   "source": [
    "#display(doc_n.tokens)"
   ]
  },
  {
   "cell_type": "code",
   "execution_count": 33,
   "id": "ccf38647-28da-4477-9488-99a018fedb1f",
   "metadata": {},
   "outputs": [],
   "source": [
    "#for span in doc_n.spans:\n",
    "#    span.normalize(morph_vocab)\n",
    "   \n",
    "#\n",
    "#keywords = {_.text: _.normal for _ in doc_n.spans if _.text != _.normal}\n",
    "#print(span)"
   ]
  },
  {
   "cell_type": "code",
   "execution_count": 34,
   "id": "f182124c-5f19-4408-93e6-fccd5c63a363",
   "metadata": {},
   "outputs": [],
   "source": [
    "#for token in doc_n.tokens:\n",
    "#    token.lemmatize(morph_vocab)\n",
    "    \n",
    "#{_.text: _.lemma for _ in doc_n.tokens}"
   ]
  },
  {
   "cell_type": "markdown",
   "id": "f1b893ff-a51f-4c2e-a486-44fdde171f90",
   "metadata": {},
   "source": [
    "### Создание дистрибутивно-семантической модели"
   ]
  },
  {
   "cell_type": "code",
   "execution_count": null,
   "id": "33809636-0bf8-4e34-8acd-1cbd4121f145",
   "metadata": {},
   "outputs": [],
   "source": [
    "#!curl https://storage.yandexcloud.net/natasha-navec/packs/navec_hudlit_v1_12B_500K_300d_100q.tar -O navec_hudlit_v1_12B_500K_300d_100q.tar"
   ]
  },
  {
   "cell_type": "code",
   "execution_count": null,
   "id": "179795b8-c8d1-4ede-b7d3-cc19bc3f4c9e",
   "metadata": {},
   "outputs": [],
   "source": [
    "#navec = Navec.load('navec_hudlit_v1_12B_500K_300d_100q.tar')"
   ]
  },
  {
   "cell_type": "code",
   "execution_count": null,
   "id": "db0c719d-4791-4703-bfa6-2e2d898bcda4",
   "metadata": {},
   "outputs": [],
   "source": [
    "#navec['абакумов']"
   ]
  },
  {
   "cell_type": "markdown",
   "id": "f2557f9e-c01b-4c1b-a250-2bbd65b02800",
   "metadata": {},
   "source": [
    "### Построение датафрейма"
   ]
  },
  {
   "cell_type": "markdown",
   "id": "8e25a39d-3393-4dd4-b951-45263ea0bda7",
   "metadata": {},
   "source": [
    "#### Определение числа департаментов и их классиикация"
   ]
  },
  {
   "cell_type": "code",
   "execution_count": 34,
   "id": "ce16d439-ca13-4c8e-899b-dd5e620fe5c3",
   "metadata": {},
   "outputs": [],
   "source": [
    "DEPARTMENTS = set(DEPARTMENTS)\n",
    "DEPARTMENTS_list = list(DEPARTMENTS)"
   ]
  },
  {
   "cell_type": "code",
   "execution_count": 35,
   "id": "4f05fd8a-a20d-4694-8393-c933ddce8d8e",
   "metadata": {},
   "outputs": [],
   "source": [
    "value = []\n",
    "for i in range(1,9):\n",
    "    value.append(i)"
   ]
  },
  {
   "cell_type": "code",
   "execution_count": 36,
   "id": "5a44af49-ad5a-4cb9-8088-34c23070c67c",
   "metadata": {},
   "outputs": [],
   "source": [
    "def classes(list: list) -> dict:\n",
    "    result = {}\n",
    "\n",
    "    for n in range(8):\n",
    "        dep = list[n]\n",
    "        result[dep] = value[n]\n",
    "\n",
    "    return result"
   ]
  },
  {
   "cell_type": "code",
   "execution_count": 37,
   "id": "17d55add-15df-4d86-abf3-df5a42b67101",
   "metadata": {},
   "outputs": [],
   "source": [
    "classes_dep = classes(DEPARTMENTS_list)"
   ]
  },
  {
   "cell_type": "markdown",
   "id": "8058a6d1-2692-43d7-a941-17a76c08ed9b",
   "metadata": {},
   "source": [
    "### Начало работы с моделью"
   ]
  },
  {
   "cell_type": "code",
   "execution_count": 38,
   "id": "53e91487-ae0c-4f7f-81be-141f2c966c6f",
   "metadata": {},
   "outputs": [
    {
     "ename": "KeyError",
     "evalue": "\"None of ['id'] are in the columns\"",
     "output_type": "error",
     "traceback": [
      "\u001B[0;31m---------------------------------------------------------------------------\u001B[0m",
      "\u001B[0;31mKeyError\u001B[0m                                  Traceback (most recent call last)",
      "Cell \u001B[0;32mIn[38], line 3\u001B[0m\n\u001B[1;32m      1\u001B[0m df \u001B[38;5;241m=\u001B[39m pd\u001B[38;5;241m.\u001B[39mjson_normalize(merge_data)\n\u001B[0;32m----> 3\u001B[0m \u001B[43mdf\u001B[49m\u001B[38;5;241;43m.\u001B[39;49m\u001B[43mset_index\u001B[49m\u001B[43m(\u001B[49m\u001B[38;5;124;43m'\u001B[39;49m\u001B[38;5;124;43mid\u001B[39;49m\u001B[38;5;124;43m'\u001B[39;49m\u001B[43m,\u001B[49m\u001B[43m \u001B[49m\u001B[43minplace\u001B[49m\u001B[38;5;241;43m=\u001B[39;49m\u001B[38;5;28;43;01mTrue\u001B[39;49;00m\u001B[43m)\u001B[49m\n\u001B[1;32m      4\u001B[0m df\u001B[38;5;241m.\u001B[39msort_index(inplace\u001B[38;5;241m=\u001B[39m\u001B[38;5;28;01mTrue\u001B[39;00m) \u001B[38;5;66;03m# сортировка по индексу=id \u001B[39;00m\n\u001B[1;32m      6\u001B[0m df\u001B[38;5;241m.\u001B[39mcolumns \u001B[38;5;241m=\u001B[39m df\u001B[38;5;241m.\u001B[39mcolumns\u001B[38;5;241m.\u001B[39mstr\u001B[38;5;241m.\u001B[39mreplace(\u001B[38;5;124m\"\u001B[39m\u001B[38;5;124mTasks.\u001B[39m\u001B[38;5;124m\"\u001B[39m, \u001B[38;5;124m\"\u001B[39m\u001B[38;5;124m\"\u001B[39m)\n",
      "File \u001B[0;32m~/PycharmProjects/Hack2023_CheckOut/venv/lib/python3.10/site-packages/pandas/util/_decorators.py:331\u001B[0m, in \u001B[0;36mdeprecate_nonkeyword_arguments.<locals>.decorate.<locals>.wrapper\u001B[0;34m(*args, **kwargs)\u001B[0m\n\u001B[1;32m    325\u001B[0m \u001B[38;5;28;01mif\u001B[39;00m \u001B[38;5;28mlen\u001B[39m(args) \u001B[38;5;241m>\u001B[39m num_allow_args:\n\u001B[1;32m    326\u001B[0m     warnings\u001B[38;5;241m.\u001B[39mwarn(\n\u001B[1;32m    327\u001B[0m         msg\u001B[38;5;241m.\u001B[39mformat(arguments\u001B[38;5;241m=\u001B[39m_format_argument_list(allow_args)),\n\u001B[1;32m    328\u001B[0m         \u001B[38;5;167;01mFutureWarning\u001B[39;00m,\n\u001B[1;32m    329\u001B[0m         stacklevel\u001B[38;5;241m=\u001B[39mfind_stack_level(),\n\u001B[1;32m    330\u001B[0m     )\n\u001B[0;32m--> 331\u001B[0m \u001B[38;5;28;01mreturn\u001B[39;00m \u001B[43mfunc\u001B[49m\u001B[43m(\u001B[49m\u001B[38;5;241;43m*\u001B[39;49m\u001B[43margs\u001B[49m\u001B[43m,\u001B[49m\u001B[43m \u001B[49m\u001B[38;5;241;43m*\u001B[39;49m\u001B[38;5;241;43m*\u001B[39;49m\u001B[43mkwargs\u001B[49m\u001B[43m)\u001B[49m\n",
      "File \u001B[0;32m~/PycharmProjects/Hack2023_CheckOut/venv/lib/python3.10/site-packages/pandas/core/frame.py:6012\u001B[0m, in \u001B[0;36mDataFrame.set_index\u001B[0;34m(self, keys, drop, append, inplace, verify_integrity)\u001B[0m\n\u001B[1;32m   6009\u001B[0m                 missing\u001B[38;5;241m.\u001B[39mappend(col)\n\u001B[1;32m   6011\u001B[0m \u001B[38;5;28;01mif\u001B[39;00m missing:\n\u001B[0;32m-> 6012\u001B[0m     \u001B[38;5;28;01mraise\u001B[39;00m \u001B[38;5;167;01mKeyError\u001B[39;00m(\u001B[38;5;124mf\u001B[39m\u001B[38;5;124m\"\u001B[39m\u001B[38;5;124mNone of \u001B[39m\u001B[38;5;132;01m{\u001B[39;00mmissing\u001B[38;5;132;01m}\u001B[39;00m\u001B[38;5;124m are in the columns\u001B[39m\u001B[38;5;124m\"\u001B[39m)\n\u001B[1;32m   6014\u001B[0m \u001B[38;5;28;01mif\u001B[39;00m inplace:\n\u001B[1;32m   6015\u001B[0m     frame \u001B[38;5;241m=\u001B[39m \u001B[38;5;28mself\u001B[39m\n",
      "\u001B[0;31mKeyError\u001B[0m: \"None of ['id'] are in the columns\""
     ]
    }
   ],
   "source": [
    "df = pd.json_normalize(merge_data)\n",
    "\n",
    "df.set_index('id', inplace=True)\n",
    "df.sort_index(inplace=True) # сортировка по индексу=id \n",
    "\n",
    "df.columns = df.columns.str.replace(\"Tasks.\", \"\")"
   ]
  },
  {
   "cell_type": "code",
   "execution_count": 39,
   "id": "7173cd04-b9f3-4ed4-a60b-10ed39ae7bb3",
   "metadata": {},
   "outputs": [
    {
     "data": {
      "text/plain": "                               Tasks.Task1.task_text  \\\n0        Закупить книги. Срок завершения: 19 апр 15.   \n1  Провести анализ поставщиков для замены вышедше...   \n2  Провести рефакторинг программного обеспечения ...   \n3  Оплатить командировочные расходы.\\nОпределить ...   \n4  Согласовать смету на выполнение работ компание...   \n\n                Tasks.Task1.task_responsibles_people  \\\n0  Ответственность за исполнение распоряжения воз...   \n1  Ответственность за исполнение распоряжения воз...   \n2  Контроль над исполнением распоряжения оставить...   \n3  Контроль над выполнением настоящего распоряжен...   \n4  Контроль над выполнением настоящего распоряжен...   \n\n  Tasks.Task1.task_responsibles_groups        Tasks.Task1.task_deadline  \\\n0  Административно-хозяйственный отдел        [19 апр 15, 1429383600.0]   \n1                            Служба ИТ    [24 октября 12, 1351015200.0]   \n2              Отдел разработки систем         [24.12.20, 1608750000.0]   \n3                          Бухгалтерия  [26 июля 2019 г., 1564081200.0]   \n4                          Бухгалтерия   [12 янв 2019 г., 1547233200.0]   \n\n                             Tasks.Global_supervisor  \\\n0  [Ответственность за исполнение распоряжения во...   \n1  [Ответственность за исполнение распоряжения во...   \n2  [Контроль над исполнением распоряжения оставит...   \n3  [Контроль над выполнением настоящего распоряже...   \n4  [Контроль над выполнением настоящего распоряже...   \n\n                 Tasks.Global_deadline  \\\n0  [11 апреля 2013 года, 1365616800.0]   \n1    [03 июня 2013 года, 1370196000.0]   \n2       [08 окт 2014 г., 1412704800.0]   \n3             [10.12.18, 1544382000.0]   \n4           [19.03.2016, 1458327600.0]   \n\n                               Tasks.Task2.task_text  \\\n0                                                NaN   \n1  Выполнить ремонт кабеля сети передачи данных м...   \n2  Провести рефакторинг программного обеспечения ...   \n3  Провести аудит персональных данных в информаци...   \n4  Выделить средства на проведение обучения.\\nУст...   \n\n                Tasks.Task2.task_responsibles_people  \\\n0                                                NaN   \n1  Контроль над выполнением приказа возложить на ...   \n2  Ответственным за исполнение настоящего приказа...   \n3  Обеспечение выполнения возложить на специалист...   \n4  Ответственным за исполнение настоящего приказа...   \n\n  Tasks.Task2.task_responsibles_groups            Tasks.Task2.task_deadline  \\\n0                                  NaN                                  NaN   \n1                            Служба ИТ            [12 авг 13, 1376244000.0]   \n2              Отдел разработки систем  [01 января 2018 года, 1514746800.0]   \n3                          Бухгалтерия             [17.09.13, 1379354400.0]   \n4                          Бухгалтерия           [26.09.2016, 1474830000.0]   \n\n   ... Tasks.Task7.task_responsibles_groups Tasks.Task7.task_deadline  \\\n0  ...                                  NaN                       NaN   \n1  ...                                  NaN                       NaN   \n2  ...                                  NaN                       NaN   \n3  ...                                  NaN                       NaN   \n4  ...                                  NaN                       NaN   \n\n  Tasks.Task8.task_text Tasks.Task8.task_responsibles_people  \\\n0                   NaN                                  NaN   \n1                   NaN                                  NaN   \n2                   NaN                                  NaN   \n3                   NaN                                  NaN   \n4                   NaN                                  NaN   \n\n  Tasks.Task8.task_responsibles_groups Tasks.Task8.task_deadline  \\\n0                                  NaN                       NaN   \n1                                  NaN                       NaN   \n2                                  NaN                       NaN   \n3                                  NaN                       NaN   \n4                                  NaN                       NaN   \n\n  Tasks.Task9.task_text Tasks.Task9.task_responsibles_people  \\\n0                   NaN                                  NaN   \n1                   NaN                                  NaN   \n2                   NaN                                  NaN   \n3                   NaN                                  NaN   \n4                   NaN                                  NaN   \n\n  Tasks.Task9.task_responsibles_groups Tasks.Task9.task_deadline  \n0                                  NaN                       NaN  \n1                                  NaN                       NaN  \n2                                  NaN                       NaN  \n3                                  NaN                       NaN  \n4                                  NaN                       NaN  \n\n[5 rows x 38 columns]",
      "text/html": "<div>\n<style scoped>\n    .dataframe tbody tr th:only-of-type {\n        vertical-align: middle;\n    }\n\n    .dataframe tbody tr th {\n        vertical-align: top;\n    }\n\n    .dataframe thead th {\n        text-align: right;\n    }\n</style>\n<table border=\"1\" class=\"dataframe\">\n  <thead>\n    <tr style=\"text-align: right;\">\n      <th></th>\n      <th>Tasks.Task1.task_text</th>\n      <th>Tasks.Task1.task_responsibles_people</th>\n      <th>Tasks.Task1.task_responsibles_groups</th>\n      <th>Tasks.Task1.task_deadline</th>\n      <th>Tasks.Global_supervisor</th>\n      <th>Tasks.Global_deadline</th>\n      <th>Tasks.Task2.task_text</th>\n      <th>Tasks.Task2.task_responsibles_people</th>\n      <th>Tasks.Task2.task_responsibles_groups</th>\n      <th>Tasks.Task2.task_deadline</th>\n      <th>...</th>\n      <th>Tasks.Task7.task_responsibles_groups</th>\n      <th>Tasks.Task7.task_deadline</th>\n      <th>Tasks.Task8.task_text</th>\n      <th>Tasks.Task8.task_responsibles_people</th>\n      <th>Tasks.Task8.task_responsibles_groups</th>\n      <th>Tasks.Task8.task_deadline</th>\n      <th>Tasks.Task9.task_text</th>\n      <th>Tasks.Task9.task_responsibles_people</th>\n      <th>Tasks.Task9.task_responsibles_groups</th>\n      <th>Tasks.Task9.task_deadline</th>\n    </tr>\n  </thead>\n  <tbody>\n    <tr>\n      <th>0</th>\n      <td>Закупить книги. Срок завершения: 19 апр 15.</td>\n      <td>Ответственность за исполнение распоряжения воз...</td>\n      <td>Административно-хозяйственный отдел</td>\n      <td>[19 апр 15, 1429383600.0]</td>\n      <td>[Ответственность за исполнение распоряжения во...</td>\n      <td>[11 апреля 2013 года, 1365616800.0]</td>\n      <td>NaN</td>\n      <td>NaN</td>\n      <td>NaN</td>\n      <td>NaN</td>\n      <td>...</td>\n      <td>NaN</td>\n      <td>NaN</td>\n      <td>NaN</td>\n      <td>NaN</td>\n      <td>NaN</td>\n      <td>NaN</td>\n      <td>NaN</td>\n      <td>NaN</td>\n      <td>NaN</td>\n      <td>NaN</td>\n    </tr>\n    <tr>\n      <th>1</th>\n      <td>Провести анализ поставщиков для замены вышедше...</td>\n      <td>Ответственность за исполнение распоряжения воз...</td>\n      <td>Служба ИТ</td>\n      <td>[24 октября 12, 1351015200.0]</td>\n      <td>[Ответственность за исполнение распоряжения во...</td>\n      <td>[03 июня 2013 года, 1370196000.0]</td>\n      <td>Выполнить ремонт кабеля сети передачи данных м...</td>\n      <td>Контроль над выполнением приказа возложить на ...</td>\n      <td>Служба ИТ</td>\n      <td>[12 авг 13, 1376244000.0]</td>\n      <td>...</td>\n      <td>NaN</td>\n      <td>NaN</td>\n      <td>NaN</td>\n      <td>NaN</td>\n      <td>NaN</td>\n      <td>NaN</td>\n      <td>NaN</td>\n      <td>NaN</td>\n      <td>NaN</td>\n      <td>NaN</td>\n    </tr>\n    <tr>\n      <th>2</th>\n      <td>Провести рефакторинг программного обеспечения ...</td>\n      <td>Контроль над исполнением распоряжения оставить...</td>\n      <td>Отдел разработки систем</td>\n      <td>[24.12.20, 1608750000.0]</td>\n      <td>[Контроль над исполнением распоряжения оставит...</td>\n      <td>[08 окт 2014 г., 1412704800.0]</td>\n      <td>Провести рефакторинг программного обеспечения ...</td>\n      <td>Ответственным за исполнение настоящего приказа...</td>\n      <td>Отдел разработки систем</td>\n      <td>[01 января 2018 года, 1514746800.0]</td>\n      <td>...</td>\n      <td>NaN</td>\n      <td>NaN</td>\n      <td>NaN</td>\n      <td>NaN</td>\n      <td>NaN</td>\n      <td>NaN</td>\n      <td>NaN</td>\n      <td>NaN</td>\n      <td>NaN</td>\n      <td>NaN</td>\n    </tr>\n    <tr>\n      <th>3</th>\n      <td>Оплатить командировочные расходы.\\nОпределить ...</td>\n      <td>Контроль над выполнением настоящего распоряжен...</td>\n      <td>Бухгалтерия</td>\n      <td>[26 июля 2019 г., 1564081200.0]</td>\n      <td>[Контроль над выполнением настоящего распоряже...</td>\n      <td>[10.12.18, 1544382000.0]</td>\n      <td>Провести аудит персональных данных в информаци...</td>\n      <td>Обеспечение выполнения возложить на специалист...</td>\n      <td>Бухгалтерия</td>\n      <td>[17.09.13, 1379354400.0]</td>\n      <td>...</td>\n      <td>NaN</td>\n      <td>NaN</td>\n      <td>NaN</td>\n      <td>NaN</td>\n      <td>NaN</td>\n      <td>NaN</td>\n      <td>NaN</td>\n      <td>NaN</td>\n      <td>NaN</td>\n      <td>NaN</td>\n    </tr>\n    <tr>\n      <th>4</th>\n      <td>Согласовать смету на выполнение работ компание...</td>\n      <td>Контроль над выполнением настоящего распоряжен...</td>\n      <td>Бухгалтерия</td>\n      <td>[12 янв 2019 г., 1547233200.0]</td>\n      <td>[Контроль над выполнением настоящего распоряже...</td>\n      <td>[19.03.2016, 1458327600.0]</td>\n      <td>Выделить средства на проведение обучения.\\nУст...</td>\n      <td>Ответственным за исполнение настоящего приказа...</td>\n      <td>Бухгалтерия</td>\n      <td>[26.09.2016, 1474830000.0]</td>\n      <td>...</td>\n      <td>NaN</td>\n      <td>NaN</td>\n      <td>NaN</td>\n      <td>NaN</td>\n      <td>NaN</td>\n      <td>NaN</td>\n      <td>NaN</td>\n      <td>NaN</td>\n      <td>NaN</td>\n      <td>NaN</td>\n    </tr>\n  </tbody>\n</table>\n<p>5 rows × 38 columns</p>\n</div>"
     },
     "execution_count": 39,
     "metadata": {},
     "output_type": "execute_result"
    }
   ],
   "source": [
    "df.head()"
   ]
  },
  {
   "cell_type": "code",
   "execution_count": 40,
   "id": "fd6a6d7f-c417-4b15-a338-f6b76bf69fc7",
   "metadata": {},
   "outputs": [],
   "source": [
    "#df = pd.read_csv('df_all.csv')"
   ]
  },
  {
   "cell_type": "code",
   "execution_count": 41,
   "id": "a3dafcb6-e8c4-4e42-ae00-1ef6ff72ba87",
   "metadata": {},
   "outputs": [],
   "source": [
    "df = df.replace(classes_dep)"
   ]
  },
  {
   "cell_type": "code",
   "execution_count": 49,
   "id": "86d7e74d-4329-4b1b-a43e-9ffa74cc6ae2",
   "metadata": {},
   "outputs": [],
   "source": [
    "df_not_dead_line = df.drop(['Tasks.Global_deadline','Tasks.Task1.task_deadline','Tasks.Task2.task_deadline','Tasks.Task3.task_deadline',\n",
    "                            'Tasks.Task4.task_deadline','Tasks.Task5.task_deadline','Tasks.Task6.task_deadline','Tasks.Task7.task_deadline',\n",
    "                            'Tasks.Task8.task_deadline','Tasks.Task9.task_deadline'], axis = 1)"
   ]
  },
  {
   "cell_type": "code",
   "execution_count": 50,
   "id": "818924af-7fdd-4a36-86c6-68365ea2126a",
   "metadata": {},
   "outputs": [],
   "source": [
    "df = df.fillna(0)"
   ]
  },
  {
   "cell_type": "markdown",
   "source": [
    "### Разделение задания на предложения"
   ],
   "metadata": {
    "collapsed": false
   }
  },
  {
   "cell_type": "code",
   "execution_count": 51,
   "id": "ac0373ef-41e7-4fa2-a8df-15743445add6",
   "metadata": {},
   "outputs": [],
   "source": [
    "for n in range(len(df)):\n",
    "    try:\n",
    "        df['Task{}.task_text'.format(n)][n] = df['Task{}.task_text'.format(n)][n].split('.')[0]\n",
    "    except TypeError:\n",
    "        continue\n",
    "    except AttributeError:\n",
    "        continue\n",
    "    except IndexError:\n",
    "        continue\n",
    "    except KeyError:\n",
    "        continue"
   ]
  },
  {
   "cell_type": "code",
   "execution_count": null,
   "id": "463891da-e882-426b-b7b6-1d325defd155",
   "metadata": {},
   "outputs": [],
   "source": [
    "#df_no_deadline.to_csv('df_no_deadline.csv')"
   ]
  },
  {
   "cell_type": "markdown",
   "id": "61bb7390-87f2-48f9-8724-d37718a5a9da",
   "metadata": {},
   "source": [
    "## Построение модели классификации (только по отделам)"
   ]
  },
  {
   "cell_type": "code",
   "execution_count": 57,
   "id": "4406e674-0875-4d51-9912-6ccbc252e38b",
   "metadata": {},
   "outputs": [
    {
     "data": {
      "text/plain": "                               Tasks.Task1.task_text  \\\n0        Закупить книги. Срок завершения: 19 апр 15.   \n1  Провести анализ поставщиков для замены вышедше...   \n2  Провести рефакторинг программного обеспечения ...   \n3  Оплатить командировочные расходы.\\nОпределить ...   \n4  Согласовать смету на выполнение работ компание...   \n\n                Tasks.Task1.task_responsibles_people  \\\n0  Ответственность за исполнение распоряжения воз...   \n1  Ответственность за исполнение распоряжения воз...   \n2  Контроль над исполнением распоряжения оставить...   \n3  Контроль над выполнением настоящего распоряжен...   \n4  Контроль над выполнением настоящего распоряжен...   \n\n         Tasks.Task1.task_deadline  \\\n0        [19 апр 15, 1429383600.0]   \n1    [24 октября 12, 1351015200.0]   \n2         [24.12.20, 1608750000.0]   \n3  [26 июля 2019 г., 1564081200.0]   \n4   [12 янв 2019 г., 1547233200.0]   \n\n                             Tasks.Global_supervisor  \\\n0  [Ответственность за исполнение распоряжения во...   \n1  [Ответственность за исполнение распоряжения во...   \n2  [Контроль над исполнением распоряжения оставит...   \n3  [Контроль над выполнением настоящего распоряже...   \n4  [Контроль над выполнением настоящего распоряже...   \n\n                 Tasks.Global_deadline  \\\n0  [11 апреля 2013 года, 1365616800.0]   \n1    [03 июня 2013 года, 1370196000.0]   \n2       [08 окт 2014 г., 1412704800.0]   \n3             [10.12.18, 1544382000.0]   \n4           [19.03.2016, 1458327600.0]   \n\n                               Tasks.Task2.task_text  \\\n0                                                  0   \n1  Выполнить ремонт кабеля сети передачи данных м...   \n2  Провести рефакторинг программного обеспечения ...   \n3  Провести аудит персональных данных в информаци...   \n4  Выделить средства на проведение обучения.\\nУст...   \n\n                Tasks.Task2.task_responsibles_people  \\\n0                                                  0   \n1  Контроль над выполнением приказа возложить на ...   \n2  Ответственным за исполнение настоящего приказа...   \n3  Обеспечение выполнения возложить на специалист...   \n4  Ответственным за исполнение настоящего приказа...   \n\n             Tasks.Task2.task_deadline  \\\n0                                    0   \n1            [12 авг 13, 1376244000.0]   \n2  [01 января 2018 года, 1514746800.0]   \n3             [17.09.13, 1379354400.0]   \n4           [26.09.2016, 1474830000.0]   \n\n                               Tasks.Task3.task_text  \\\n0                                                  0   \n1  Создать и настроить виртуальную машину в соотв...   \n2  Провести анализ накопленного технического долг...   \n3  Перечислить необходимые средства на закупку об...   \n4                                                  0   \n\n                Tasks.Task3.task_responsibles_people  ...  \\\n0                                                  0  ...   \n1  Контроль над исполнением распоряжения оставить...  ...   \n2  За контроль над исполнением распоряжения назна...  ...   \n3  Контроль над выполнением настоящего распоряжен...  ...   \n4                                                  0  ...   \n\n  Tasks.Task6.task_deadline Tasks.Task7.task_text  \\\n0                         0                     0   \n1                         0                     0   \n2  [18.11.17, 1510945200.0]                     0   \n3                         0                     0   \n4                         0                     0   \n\n  Tasks.Task7.task_responsibles_people Tasks.Task7.task_deadline  \\\n0                                    0                         0   \n1                                    0                         0   \n2                                    0                         0   \n3                                    0                         0   \n4                                    0                         0   \n\n  Tasks.Task8.task_text Tasks.Task8.task_responsibles_people  \\\n0                     0                                    0   \n1                     0                                    0   \n2                     0                                    0   \n3                     0                                    0   \n4                     0                                    0   \n\n  Tasks.Task8.task_deadline Tasks.Task9.task_text  \\\n0                         0                     0   \n1                         0                     0   \n2                         0                     0   \n3                         0                     0   \n4                         0                     0   \n\n  Tasks.Task9.task_responsibles_people Tasks.Task9.task_deadline  \n0                                    0                         0  \n1                                    0                         0  \n2                                    0                         0  \n3                                    0                         0  \n4                                    0                         0  \n\n[5 rows x 29 columns]",
      "text/html": "<div>\n<style scoped>\n    .dataframe tbody tr th:only-of-type {\n        vertical-align: middle;\n    }\n\n    .dataframe tbody tr th {\n        vertical-align: top;\n    }\n\n    .dataframe thead th {\n        text-align: right;\n    }\n</style>\n<table border=\"1\" class=\"dataframe\">\n  <thead>\n    <tr style=\"text-align: right;\">\n      <th></th>\n      <th>Tasks.Task1.task_text</th>\n      <th>Tasks.Task1.task_responsibles_people</th>\n      <th>Tasks.Task1.task_deadline</th>\n      <th>Tasks.Global_supervisor</th>\n      <th>Tasks.Global_deadline</th>\n      <th>Tasks.Task2.task_text</th>\n      <th>Tasks.Task2.task_responsibles_people</th>\n      <th>Tasks.Task2.task_deadline</th>\n      <th>Tasks.Task3.task_text</th>\n      <th>Tasks.Task3.task_responsibles_people</th>\n      <th>...</th>\n      <th>Tasks.Task6.task_deadline</th>\n      <th>Tasks.Task7.task_text</th>\n      <th>Tasks.Task7.task_responsibles_people</th>\n      <th>Tasks.Task7.task_deadline</th>\n      <th>Tasks.Task8.task_text</th>\n      <th>Tasks.Task8.task_responsibles_people</th>\n      <th>Tasks.Task8.task_deadline</th>\n      <th>Tasks.Task9.task_text</th>\n      <th>Tasks.Task9.task_responsibles_people</th>\n      <th>Tasks.Task9.task_deadline</th>\n    </tr>\n  </thead>\n  <tbody>\n    <tr>\n      <th>0</th>\n      <td>Закупить книги. Срок завершения: 19 апр 15.</td>\n      <td>Ответственность за исполнение распоряжения воз...</td>\n      <td>[19 апр 15, 1429383600.0]</td>\n      <td>[Ответственность за исполнение распоряжения во...</td>\n      <td>[11 апреля 2013 года, 1365616800.0]</td>\n      <td>0</td>\n      <td>0</td>\n      <td>0</td>\n      <td>0</td>\n      <td>0</td>\n      <td>...</td>\n      <td>0</td>\n      <td>0</td>\n      <td>0</td>\n      <td>0</td>\n      <td>0</td>\n      <td>0</td>\n      <td>0</td>\n      <td>0</td>\n      <td>0</td>\n      <td>0</td>\n    </tr>\n    <tr>\n      <th>1</th>\n      <td>Провести анализ поставщиков для замены вышедше...</td>\n      <td>Ответственность за исполнение распоряжения воз...</td>\n      <td>[24 октября 12, 1351015200.0]</td>\n      <td>[Ответственность за исполнение распоряжения во...</td>\n      <td>[03 июня 2013 года, 1370196000.0]</td>\n      <td>Выполнить ремонт кабеля сети передачи данных м...</td>\n      <td>Контроль над выполнением приказа возложить на ...</td>\n      <td>[12 авг 13, 1376244000.0]</td>\n      <td>Создать и настроить виртуальную машину в соотв...</td>\n      <td>Контроль над исполнением распоряжения оставить...</td>\n      <td>...</td>\n      <td>0</td>\n      <td>0</td>\n      <td>0</td>\n      <td>0</td>\n      <td>0</td>\n      <td>0</td>\n      <td>0</td>\n      <td>0</td>\n      <td>0</td>\n      <td>0</td>\n    </tr>\n    <tr>\n      <th>2</th>\n      <td>Провести рефакторинг программного обеспечения ...</td>\n      <td>Контроль над исполнением распоряжения оставить...</td>\n      <td>[24.12.20, 1608750000.0]</td>\n      <td>[Контроль над исполнением распоряжения оставит...</td>\n      <td>[08 окт 2014 г., 1412704800.0]</td>\n      <td>Провести рефакторинг программного обеспечения ...</td>\n      <td>Ответственным за исполнение настоящего приказа...</td>\n      <td>[01 января 2018 года, 1514746800.0]</td>\n      <td>Провести анализ накопленного технического долг...</td>\n      <td>За контроль над исполнением распоряжения назна...</td>\n      <td>...</td>\n      <td>[18.11.17, 1510945200.0]</td>\n      <td>0</td>\n      <td>0</td>\n      <td>0</td>\n      <td>0</td>\n      <td>0</td>\n      <td>0</td>\n      <td>0</td>\n      <td>0</td>\n      <td>0</td>\n    </tr>\n    <tr>\n      <th>3</th>\n      <td>Оплатить командировочные расходы.\\nОпределить ...</td>\n      <td>Контроль над выполнением настоящего распоряжен...</td>\n      <td>[26 июля 2019 г., 1564081200.0]</td>\n      <td>[Контроль над выполнением настоящего распоряже...</td>\n      <td>[10.12.18, 1544382000.0]</td>\n      <td>Провести аудит персональных данных в информаци...</td>\n      <td>Обеспечение выполнения возложить на специалист...</td>\n      <td>[17.09.13, 1379354400.0]</td>\n      <td>Перечислить необходимые средства на закупку об...</td>\n      <td>Контроль над выполнением настоящего распоряжен...</td>\n      <td>...</td>\n      <td>0</td>\n      <td>0</td>\n      <td>0</td>\n      <td>0</td>\n      <td>0</td>\n      <td>0</td>\n      <td>0</td>\n      <td>0</td>\n      <td>0</td>\n      <td>0</td>\n    </tr>\n    <tr>\n      <th>4</th>\n      <td>Согласовать смету на выполнение работ компание...</td>\n      <td>Контроль над выполнением настоящего распоряжен...</td>\n      <td>[12 янв 2019 г., 1547233200.0]</td>\n      <td>[Контроль над выполнением настоящего распоряже...</td>\n      <td>[19.03.2016, 1458327600.0]</td>\n      <td>Выделить средства на проведение обучения.\\nУст...</td>\n      <td>Ответственным за исполнение настоящего приказа...</td>\n      <td>[26.09.2016, 1474830000.0]</td>\n      <td>0</td>\n      <td>0</td>\n      <td>...</td>\n      <td>0</td>\n      <td>0</td>\n      <td>0</td>\n      <td>0</td>\n      <td>0</td>\n      <td>0</td>\n      <td>0</td>\n      <td>0</td>\n      <td>0</td>\n      <td>0</td>\n    </tr>\n  </tbody>\n</table>\n<p>5 rows × 29 columns</p>\n</div>"
     },
     "execution_count": 57,
     "metadata": {},
     "output_type": "execute_result"
    }
   ],
   "source": [
    "X = df.drop(['Tasks.Task1.task_responsibles_groups','Tasks.Task2.task_responsibles_groups','Tasks.Task3.task_responsibles_groups',\n",
    "             'Tasks.Task4.task_responsibles_groups','Tasks.Task5.task_responsibles_groups','Tasks.Task6.task_responsibles_groups',\n",
    "             'Tasks.Task7.task_responsibles_groups','Tasks.Task8.task_responsibles_groups','Tasks.Task9.task_responsibles_groups'], axis = 1)\n",
    "X.head()"
   ]
  },
  {
   "cell_type": "markdown",
   "id": "ec293ebc-aedd-436c-9aa5-0b0db61552bc",
   "metadata": {},
   "source": [
    "### Определение целевой переменной"
   ]
  },
  {
   "cell_type": "code",
   "execution_count": 59,
   "id": "3dbcad1d-b162-4d4f-aa3e-9dd87f03dede",
   "metadata": {},
   "outputs": [
    {
     "data": {
      "text/plain": "0    3\n1    6\n2    1\n3    8\n4    8\nName: Tasks.Task1.task_responsibles_groups, dtype: int64"
     },
     "execution_count": 59,
     "metadata": {},
     "output_type": "execute_result"
    }
   ],
   "source": [
    "y = df['Tasks.Task1.task_responsibles_groups']\n",
    "y.head()"
   ]
  },
  {
   "cell_type": "code",
   "execution_count": 60,
   "id": "91b60ead-7148-451d-aea9-04b416127f7a",
   "metadata": {},
   "outputs": [
    {
     "data": {
      "text/plain": "((10000, 29), (10000,))"
     },
     "execution_count": 60,
     "metadata": {},
     "output_type": "execute_result"
    }
   ],
   "source": [
    "X.shape, y.shape"
   ]
  },
  {
   "cell_type": "markdown",
   "id": "1ad3e2c1-9678-4da4-aa89-063a2f64a121",
   "metadata": {},
   "source": [
    "## Определение словарей для токенизации и векторизации слов"
   ]
  },
  {
   "cell_type": "code",
   "execution_count": 62,
   "id": "286be3c5-fad8-448a-a455-f77fe6769515",
   "metadata": {},
   "outputs": [],
   "source": [
    "task_1 = X['Tasks.Task1.task_text']\n",
    "task_2 = X['Tasks.Task2.task_text']\n",
    "task_3 = X['Tasks.Task3.task_text']\n",
    "task_4 = X['Tasks.Task4.task_text']\n",
    "task_5 = X['Tasks.Task5.task_text']\n",
    "task_6 = X['Tasks.Task6.task_text']\n",
    "task_7 = X['Tasks.Task7.task_text']\n",
    "task_8 = X['Tasks.Task8.task_text']\n",
    "task_9 = X['Tasks.Task9.task_text']\n",
    "\n",
    "Task1_task_responsibles_people = X['Tasks.Task1.task_responsibles_people']\n",
    "Task2_task_responsibles_people = X['Tasks.Task2.task_responsibles_people']\n",
    "Task3_task_responsibles_people = X['Tasks.Task3.task_responsibles_people']\n",
    "Task4_task_responsibles_people = X['Tasks.Task4.task_responsibles_people']\n",
    "Task5_task_responsibles_people = X['Tasks.Task5.task_responsibles_people']\n",
    "Task6_task_responsibles_people = X['Tasks.Task6.task_responsibles_people']\n",
    "Task7_task_responsibles_people = X['Tasks.Task7.task_responsibles_people']\n",
    "Task8_task_responsibles_people = X['Tasks.Task8.task_responsibles_people']\n",
    "Task9_task_responsibles_people = X['Tasks.Task9.task_responsibles_people']\n",
    "\n",
    "Global_supervisor = X['Tasks.Global_supervisor']"
   ]
  },
  {
   "cell_type": "markdown",
   "id": "c0bbd231-aaf8-4ae9-9398-9e3a231f534a",
   "metadata": {},
   "source": [
    "### Токенизация и векторизация слов и предложений"
   ]
  },
  {
   "cell_type": "code",
   "execution_count": 69,
   "id": "6c0fe492-dd7c-47c5-836c-377ca1867b3a",
   "metadata": {},
   "outputs": [],
   "source": [
    "num_words = 10000\n",
    "max_review_len = 100\n",
    "tokenizer = Tokenizer(num_words=num_words)"
   ]
  },
  {
   "cell_type": "code",
   "execution_count": 70,
   "id": "01594160-91ff-44e2-85ba-411f8d5a0774",
   "metadata": {},
   "outputs": [],
   "source": [
    "tokenizer.fit_on_texts(Task1_task_responsibles_people)"
   ]
  },
  {
   "cell_type": "code",
   "execution_count": 71,
   "id": "e3bf1194-782c-4c2f-ad77-09ed316ff1ed",
   "metadata": {},
   "outputs": [],
   "source": [
    "sequences = tokenizer.texts_to_sequences(Task1_task_responsibles_people)"
   ]
  },
  {
   "cell_type": "code",
   "execution_count": 72,
   "id": "8c4f962c-5cca-4b8d-a742-f1f5d72fddba",
   "metadata": {},
   "outputs": [],
   "source": [
    "X = utils.pad_sequences(sequences, maxlen=max_review_len)"
   ]
  },
  {
   "cell_type": "markdown",
   "id": "3c926668-2fa4-451a-8ec2-28f704f10ec7",
   "metadata": {},
   "source": [
    "### Разбиение датасета на тренировчную и тестовую выборки"
   ]
  },
  {
   "cell_type": "code",
   "execution_count": 73,
   "id": "9e055081-48c1-4e5c-b6a4-c8182509de0e",
   "metadata": {},
   "outputs": [
    {
     "data": {
      "text/plain": "((9000, 100), (9000,))"
     },
     "execution_count": 73,
     "metadata": {},
     "output_type": "execute_result"
    }
   ],
   "source": [
    "X_train, X_test, y_train, y_test = train_test_split(X,\n",
    "                                                    y,\n",
    "                                                    \n",
    "                                                    test_size=0.1,\n",
    "                                                    random_state=50)\n",
    "X_train.shape, y_train.shape"
   ]
  },
  {
   "cell_type": "markdown",
   "source": [
    "### Приведение данных к другому типу и категоризация классов"
   ],
   "metadata": {
    "collapsed": false
   }
  },
  {
   "cell_type": "code",
   "execution_count": 74,
   "id": "07aead23-e5c0-4744-9f1c-e54760a25e1a",
   "metadata": {},
   "outputs": [
    {
     "data": {
      "text/plain": "((9000, 100), (9000, 8))"
     },
     "execution_count": 74,
     "metadata": {},
     "output_type": "execute_result"
    }
   ],
   "source": [
    "# Количество классов отделов\n",
    "nb_classes = 8\n",
    "\n",
    "X_train = np.asarray(X_train).astype(np.float32)\n",
    "y_train = np.asarray(y_train).astype(np.float32)\n",
    "y_train = utils.to_categorical(y_train - 1, nb_classes)\n",
    "y_test = utils.to_categorical(y_test - 1, nb_classes)\n",
    "X_train.shape, y_train.shape"
   ]
  },
  {
   "cell_type": "markdown",
   "id": "6113f24a-69fe-4172-88e4-bcdeb95c31ba",
   "metadata": {},
   "source": [
    "## Создаём нейросеть"
   ]
  },
  {
   "cell_type": "markdown",
   "source": [
    "### Определение гиперпараметров модели"
   ],
   "metadata": {
    "collapsed": false
   }
  },
  {
   "cell_type": "code",
   "execution_count": 75,
   "outputs": [],
   "source": [
    "# Максимальное количество слов\n",
    "num_words = 10000\n",
    "# Максимальная длина задания\n",
    "max_news_len = 100\n",
    "# Количество классов отделов\n",
    "nb_classes = 8"
   ],
   "metadata": {
    "collapsed": false
   }
  },
  {
   "cell_type": "markdown",
   "id": "ddaa38a4-0e37-4652-b654-60886081f062",
   "metadata": {},
   "source": [
    "### Простая свёрточная сеть"
   ]
  },
  {
   "cell_type": "code",
   "execution_count": 76,
   "id": "27612331-7403-433f-bae1-ccbe3f4f3c83",
   "metadata": {},
   "outputs": [
    {
     "name": "stderr",
     "output_type": "stream",
     "text": [
      "2023-01-22 23:53:44.177160: I tensorflow/core/platform/cpu_feature_guard.cc:193] This TensorFlow binary is optimized with oneAPI Deep Neural Network Library (oneDNN) to use the following CPU instructions in performance-critical operations:  AVX2 FMA\n",
      "To enable them in other operations, rebuild TensorFlow with the appropriate compiler flags.\n"
     ]
    },
    {
     "name": "stdout",
     "output_type": "stream",
     "text": [
      "Epoch 1/5\n",
      "64/64 [==============================] - 11s 123ms/step - loss: 1.2622 - accuracy: 0.6025 - val_loss: 0.4708 - val_accuracy: 0.8933\n",
      "Epoch 2/5\n",
      "64/64 [==============================] - 7s 105ms/step - loss: 0.2868 - accuracy: 0.9095 - val_loss: 0.1713 - val_accuracy: 0.9233\n",
      "Epoch 3/5\n",
      "64/64 [==============================] - 7s 107ms/step - loss: 0.2061 - accuracy: 0.9147 - val_loss: 0.1652 - val_accuracy: 0.9389\n",
      "Epoch 4/5\n",
      "64/64 [==============================] - 7s 105ms/step - loss: 0.2026 - accuracy: 0.9167 - val_loss: 0.1609 - val_accuracy: 0.9311\n",
      "Epoch 5/5\n",
      "64/64 [==============================] - 7s 109ms/step - loss: 0.2020 - accuracy: 0.9173 - val_loss: 0.1614 - val_accuracy: 0.9211\n"
     ]
    }
   ],
   "source": [
    "model_cnn = Sequential()\n",
    "model_cnn.add(Embedding(num_words, 32, input_length=max_news_len))\n",
    "model_cnn.add(Conv1D(250, 5, padding='valid', activation='relu'))\n",
    "model_cnn.add(GlobalMaxPooling1D())\n",
    "model_cnn.add(Dense(128, activation='relu'))\n",
    "model_cnn.add(Dense(8, activation='softmax'))\n",
    "\n",
    "model_cnn.compile(optimizer='adam', \n",
    "                  loss='categorical_crossentropy',\n",
    "                  metrics=['accuracy'])\n",
    "\n",
    "history_cnn = model_cnn.fit(X_train, \n",
    "                            y_train, \n",
    "                            epochs=5,\n",
    "                            batch_size=128,\n",
    "                            validation_split=0.1,\n",
    "                            )"
   ]
  },
  {
   "cell_type": "code",
   "execution_count": 77,
   "id": "86d22060-62b9-440a-acba-286cae10dd33",
   "metadata": {},
   "outputs": [
    {
     "name": "stdout",
     "output_type": "stream",
     "text": [
      "Model: \"sequential\"\n",
      "_________________________________________________________________\n",
      " Layer (type)                Output Shape              Param #   \n",
      "=================================================================\n",
      " embedding (Embedding)       (None, 100, 32)           320000    \n",
      "                                                                 \n",
      " conv1d (Conv1D)             (None, 96, 250)           40250     \n",
      "                                                                 \n",
      " global_max_pooling1d (Globa  (None, 250)              0         \n",
      " lMaxPooling1D)                                                  \n",
      "                                                                 \n",
      " dense (Dense)               (None, 128)               32128     \n",
      "                                                                 \n",
      " dense_1 (Dense)             (None, 8)                 1032      \n",
      "                                                                 \n",
      "=================================================================\n",
      "Total params: 393,410\n",
      "Trainable params: 393,410\n",
      "Non-trainable params: 0\n",
      "_________________________________________________________________\n"
     ]
    }
   ],
   "source": [
    "model_cnn.summary()"
   ]
  },
  {
   "cell_type": "markdown",
   "id": "27f77304-3dde-4ad1-8db5-5e884ed6c480",
   "metadata": {},
   "source": [
    "### Смотрим графики по визуализации предсказаний для определения переобучения модели"
   ]
  },
  {
   "cell_type": "code",
   "execution_count": 78,
   "id": "d5c2515b-5db5-4501-8096-2f9b8f3a0614",
   "metadata": {},
   "outputs": [
    {
     "data": {
      "text/plain": "<Figure size 640x480 with 1 Axes>",
      "image/png": "[encoded data removed]"
     },
     "metadata": {},
     "output_type": "display_data"
    }
   ],
   "source": [
    "plt.plot(history_cnn.history['accuracy'], \n",
    "         label='Доля верных ответов на обучающем наборе')\n",
    "plt.plot(history_cnn.history['val_accuracy'], \n",
    "         label='Доля верных ответов на проверочном наборе')\n",
    "plt.xlabel('Эпоха обучения')\n",
    "plt.ylabel('Доля верных ответов')\n",
    "plt.legend()\n",
    "plt.show()"
   ]
  },
  {
   "cell_type": "markdown",
   "id": "b1dd0f4b-6eaf-4dfa-bb43-a646672232e5",
   "metadata": {},
   "source": [
    "# Сеть LSTM"
   ]
  },
  {
   "cell_type": "code",
   "execution_count": 79,
   "id": "34ec20a8-0daf-414f-9baf-6ac68d8b7d46",
   "metadata": {},
   "outputs": [],
   "source": [
    "model_lstm = Sequential()\n",
    "model_lstm.add(Embedding(num_words, 32, input_length=max_news_len))\n",
    "model_lstm.add(LSTM(16))\n",
    "model_lstm.add(Dense(8, activation='softmax'))"
   ]
  },
  {
   "cell_type": "code",
   "execution_count": 80,
   "id": "0c7acbd3-5e62-4a52-9485-8cf622229ae6",
   "metadata": {},
   "outputs": [],
   "source": [
    "model_lstm.compile(optimizer='adam', \n",
    "              loss='categorical_crossentropy', \n",
    "              metrics=['accuracy'])"
   ]
  },
  {
   "cell_type": "code",
   "execution_count": 81,
   "id": "65733e77-97a2-4f52-b63e-744f6811bc9e",
   "metadata": {},
   "outputs": [
    {
     "name": "stdout",
     "output_type": "stream",
     "text": [
      "Epoch 1/5\n",
      "64/64 [==============================] - 9s 82ms/step - loss: 1.8396 - accuracy: 0.3538 - val_loss: 1.4005 - val_accuracy: 0.7167\n",
      "Epoch 2/5\n",
      "64/64 [==============================] - 5s 70ms/step - loss: 1.0275 - accuracy: 0.7278 - val_loss: 0.6747 - val_accuracy: 0.7444\n",
      "Epoch 3/5\n",
      "64/64 [==============================] - 4s 64ms/step - loss: 0.5630 - accuracy: 0.8009 - val_loss: 0.4181 - val_accuracy: 0.8756\n",
      "Epoch 4/5\n",
      "64/64 [==============================] - 4s 58ms/step - loss: 0.3909 - accuracy: 0.8881 - val_loss: 0.2962 - val_accuracy: 0.9311\n",
      "Epoch 5/5\n",
      "64/64 [==============================] - 4s 59ms/step - loss: 0.3029 - accuracy: 0.9163 - val_loss: 0.2344 - val_accuracy: 0.9389\n"
     ]
    }
   ],
   "source": [
    "history_lstm = model_lstm.fit(X_train, \n",
    "                              y_train, \n",
    "                              epochs=5,\n",
    "                              batch_size=128,\n",
    "                              validation_split=0.1,\n",
    "                              )"
   ]
  },
  {
   "cell_type": "code",
   "execution_count": 82,
   "id": "5c55d166-e2f3-473f-848c-007aa30bba35",
   "metadata": {},
   "outputs": [
    {
     "name": "stdout",
     "output_type": "stream",
     "text": [
      "Model: \"sequential_1\"\n",
      "_________________________________________________________________\n",
      " Layer (type)                Output Shape              Param #   \n",
      "=================================================================\n",
      " embedding_1 (Embedding)     (None, 100, 32)           320000    \n",
      "                                                                 \n",
      " lstm (LSTM)                 (None, 16)                3136      \n",
      "                                                                 \n",
      " dense_2 (Dense)             (None, 8)                 136       \n",
      "                                                                 \n",
      "=================================================================\n",
      "Total params: 323,272\n",
      "Trainable params: 323,272\n",
      "Non-trainable params: 0\n",
      "_________________________________________________________________\n"
     ]
    }
   ],
   "source": [
    "model_lstm.summary()"
   ]
  },
  {
   "cell_type": "markdown",
   "id": "617b27e4-a056-4049-87c0-8e835a2ec82e",
   "metadata": {},
   "source": [
    "### Смотрим графики по визуализации предсказаний для определения переобучения модели"
   ]
  },
  {
   "cell_type": "code",
   "execution_count": 83,
   "id": "c2f50094-be0e-444d-8e0a-9cc85054f168",
   "metadata": {},
   "outputs": [
    {
     "data": {
      "text/plain": "<Figure size 640x480 with 1 Axes>",
      "image/png": "[encoded data removed]"
     },
     "metadata": {},
     "output_type": "display_data"
    }
   ],
   "source": [
    "plt.plot(history_lstm.history['accuracy'], \n",
    "         label='Доля верных ответов на обучающем наборе')\n",
    "plt.plot(history_lstm.history['val_accuracy'], \n",
    "         label='Доля верных ответов на проверочном наборе')\n",
    "plt.xlabel('Эпоха обучения')\n",
    "plt.ylabel('Доля верных ответов')\n",
    "plt.legend()\n",
    "plt.show()"
   ]
  },
  {
   "cell_type": "markdown",
   "id": "9fb59b3e-59f1-486e-ac5f-77082074d0db",
   "metadata": {},
   "source": [
    "### Сеть GRU"
   ]
  },
  {
   "cell_type": "code",
   "execution_count": 84,
   "id": "fc08f86c-6516-4659-9d36-78b4d5fee441",
   "metadata": {},
   "outputs": [],
   "source": [
    "model_gru = Sequential()\n",
    "model_gru.add(Embedding(num_words, 32, input_length=max_news_len))\n",
    "model_gru.add(GRU(32))\n",
    "model_gru.add(Dense(8, activation='softmax'))"
   ]
  },
  {
   "cell_type": "code",
   "execution_count": 85,
   "id": "e6d20758-8508-4eda-bf81-fee60c74099a",
   "metadata": {},
   "outputs": [],
   "source": [
    "model_gru.compile(optimizer='adam',\n",
    "                  loss='categorical_crossentropy',\n",
    "                  metrics=['accuracy'])"
   ]
  },
  {
   "cell_type": "code",
   "execution_count": 86,
   "id": "baa44a3e-3f05-4604-a066-9813b880b8c0",
   "metadata": {},
   "outputs": [
    {
     "name": "stdout",
     "output_type": "stream",
     "text": [
      "Model: \"sequential_2\"\n",
      "_________________________________________________________________\n",
      " Layer (type)                Output Shape              Param #   \n",
      "=================================================================\n",
      " embedding_2 (Embedding)     (None, 100, 32)           320000    \n",
      "                                                                 \n",
      " gru (GRU)                   (None, 32)                6336      \n",
      "                                                                 \n",
      " dense_3 (Dense)             (None, 8)                 264       \n",
      "                                                                 \n",
      "=================================================================\n",
      "Total params: 326,600\n",
      "Trainable params: 326,600\n",
      "Non-trainable params: 0\n",
      "_________________________________________________________________\n"
     ]
    }
   ],
   "source": [
    "model_gru.summary()"
   ]
  },
  {
   "cell_type": "code",
   "execution_count": 87,
   "id": "87669ac4-c1b9-4045-b51d-9a7befd4aafa",
   "metadata": {},
   "outputs": [
    {
     "name": "stdout",
     "output_type": "stream",
     "text": [
      "Epoch 1/10\n",
      "64/64 [==============================] - 12s 99ms/step - loss: 1.7990 - accuracy: 0.3707 - val_loss: 1.2961 - val_accuracy: 0.7056\n",
      "Epoch 2/10\n",
      "64/64 [==============================] - 5s 82ms/step - loss: 0.7890 - accuracy: 0.7969 - val_loss: 0.4418 - val_accuracy: 0.8978\n",
      "Epoch 3/10\n",
      "64/64 [==============================] - 5s 79ms/step - loss: 0.3816 - accuracy: 0.9020 - val_loss: 0.2640 - val_accuracy: 0.9233\n",
      "Epoch 4/10\n",
      "64/64 [==============================] - 5s 78ms/step - loss: 0.2579 - accuracy: 0.9168 - val_loss: 0.1932 - val_accuracy: 0.9233\n",
      "Epoch 5/10\n",
      "64/64 [==============================] - 5s 76ms/step - loss: 0.2238 - accuracy: 0.9158 - val_loss: 0.1876 - val_accuracy: 0.9211\n",
      "Epoch 6/10\n",
      "64/64 [==============================] - 5s 72ms/step - loss: 0.2128 - accuracy: 0.9172 - val_loss: 0.1770 - val_accuracy: 0.9311\n",
      "Epoch 7/10\n",
      "64/64 [==============================] - 5s 75ms/step - loss: 0.2081 - accuracy: 0.9149 - val_loss: 0.1728 - val_accuracy: 0.9211\n",
      "Epoch 8/10\n",
      "64/64 [==============================] - 5s 76ms/step - loss: 0.2059 - accuracy: 0.9156 - val_loss: 0.1800 - val_accuracy: 0.9389\n",
      "Epoch 9/10\n",
      "64/64 [==============================] - 5s 74ms/step - loss: 0.2071 - accuracy: 0.9160 - val_loss: 0.1653 - val_accuracy: 0.9233\n",
      "Epoch 10/10\n",
      "64/64 [==============================] - 5s 83ms/step - loss: 0.2025 - accuracy: 0.9181 - val_loss: 0.1679 - val_accuracy: 0.9389\n"
     ]
    }
   ],
   "source": [
    "history_gru = model_gru.fit(X_train, \n",
    "                            y_train,\n",
    "                            epochs=10,\n",
    "                            batch_size=128,\n",
    "                            validation_split=0.1,\n",
    "                            )"
   ]
  },
  {
   "cell_type": "markdown",
   "id": "781b36ce-1f71-452d-803e-a996f13f2121",
   "metadata": {},
   "source": [
    "### Смотрим графики по визуализации предсказаний для определения переобучения модели"
   ]
  },
  {
   "cell_type": "code",
   "execution_count": 88,
   "id": "e3a4a6aa-3a4a-4036-ad87-3d59019f0436",
   "metadata": {},
   "outputs": [
    {
     "data": {
      "text/plain": "<Figure size 640x480 with 1 Axes>",
      "image/png": "[encoded data removed]"
     },
     "metadata": {},
     "output_type": "display_data"
    }
   ],
   "source": [
    "plt.plot(history_gru.history['accuracy'], \n",
    "         label='Доля верных ответов на обучающем наборе')\n",
    "plt.plot(history_gru.history['val_accuracy'], \n",
    "         label='Доля верных ответов на проверочном наборе')\n",
    "plt.xlabel('Эпоха обучения')\n",
    "plt.ylabel('Доля верных ответов')\n",
    "plt.legend()\n",
    "plt.show()"
   ]
  },
  {
   "cell_type": "markdown",
   "id": "fcf15417-15c9-45d7-85ba-11ac1fff4db3",
   "metadata": {},
   "source": [
    "### Метрики тестовой выборки для свёрточной нейросети сети"
   ]
  },
  {
   "cell_type": "code",
   "execution_count": 89,
   "id": "2c596814-7599-4600-99b8-d1df1abe0e75",
   "metadata": {},
   "outputs": [
    {
     "name": "stdout",
     "output_type": "stream",
     "text": [
      "32/32 [==============================] - 1s 13ms/step - loss: 0.1770 - accuracy: 0.9230\n"
     ]
    },
    {
     "data": {
      "text/plain": "[0.1769861876964569, 0.9229999780654907]"
     },
     "execution_count": 89,
     "metadata": {},
     "output_type": "execute_result"
    }
   ],
   "source": [
    "model_cnn.evaluate(X_test, y_test, verbose=1)"
   ]
  },
  {
   "cell_type": "markdown",
   "id": "35d33ef3-73fc-4ad5-9f80-be8cc37d0406",
   "metadata": {},
   "source": [
    "### Метрики тестовой выборки для сети LSTM"
   ]
  },
  {
   "cell_type": "code",
   "execution_count": 90,
   "id": "061a3c02-45e1-4f4e-b399-d938cde413e6",
   "metadata": {},
   "outputs": [
    {
     "name": "stdout",
     "output_type": "stream",
     "text": [
      "32/32 [==============================] - 2s 16ms/step - loss: 0.2448 - accuracy: 0.9290\n"
     ]
    },
    {
     "data": {
      "text/plain": "[0.24477005004882812, 0.9290000200271606]"
     },
     "execution_count": 90,
     "metadata": {},
     "output_type": "execute_result"
    }
   ],
   "source": [
    "model_lstm.evaluate(X_test, y_test, verbose=1)"
   ]
  },
  {
   "cell_type": "markdown",
   "id": "be0eb423-cc1a-43e1-866f-6e95dbf50b97",
   "metadata": {},
   "source": [
    "### Метрики тестовой выборки для сети GRU"
   ]
  },
  {
   "cell_type": "code",
   "execution_count": 91,
   "id": "8de959b5-7723-4fd0-8f66-a97b3c2acb0c",
   "metadata": {},
   "outputs": [
    {
     "name": "stdout",
     "output_type": "stream",
     "text": [
      "32/32 [==============================] - 2s 16ms/step - loss: 0.1797 - accuracy: 0.9290\n"
     ]
    },
    {
     "data": {
      "text/plain": "[0.17974741756916046, 0.9290000200271606]"
     },
     "execution_count": 91,
     "metadata": {},
     "output_type": "execute_result"
    }
   ],
   "source": [
    "model_gru.evaluate(X_test, y_test, verbose=1)"
   ]
  },
  {
   "cell_type": "markdown",
   "id": "0339c7a6-db66-4798-bbaa-9370e35a8b9d",
   "metadata": {},
   "source": [
    "### Проверка документа из датасетов output_decrees"
   ]
  },
  {
   "cell_type": "code",
   "execution_count": 92,
   "id": "b492ff27-71f7-441d-a97b-9dbce94c056c",
   "metadata": {},
   "outputs": [
    {
     "name": "stdout",
     "output_type": "stream",
     "text": [
      "Введите название файла: \n",
      "\n",
      "Бухгалтерия\n",
      "\n",
      "\n",
      "О закупке\n",
      "Для организации мероприятия \"День заказчика\" приказываю:\n",
      "a. Внести изменения в ОРД согласно прилагаемому Перечню.\n",
      "ПЕРЕЧЕНЬ ИЗМЕНЕНИЙ, ВНОСИМЫХ В ОРД\n",
      "\n",
      "\ta.. Внести в Регламент, утвержденный приказом Генерального директора от 11.05.2016 N 276, изменение, исключив из пункта 1.11 слова \"а также деятельность Руководителя удаленного офиса\".\n",
      "Ответственность за исполнение задачи возложить на Контент менеджера Роговцова Беньямина.\n",
      "Установить срок выполнения задачи до 19.08.22.\n",
      "\n",
      "\t\t○ пункт 5.1.2 дополнить абзацем четвертым следующего содержания:\n",
      "\"При официальной переписке с межгосударственными (международными) органами, компетентными органами и должностными лицами иностранных государств, иностранными гражданами и организациями используется отдельный бланк с продольным расположением реквизитов на двух языках - русском и английском (приложение N 61).\" Определить срок исполнения задачи вплоть до 0.\n",
      "\n",
      "b. пункт 2.4.1.3 изложить в следующей редакции:\n",
      "\"2.4.1.3. Входящие документы на иностранных языках регистрируются только после осуществления их перевода в сроки, указанные в пункте 2.4.1.2, за исключением документов, поступающих из межгосударственных органов, иностранных и международных (межгосударственных) судов, иностранных и международных третейских судов (арбитражей) по вопросам обеспечения представительства и защиты интересов Российской Федерации, которые без перевода на русский язык регистрируются в отделе документационного обеспечения Главного управления международно-правового сотрудничества.\"\n",
      "\n",
      "Ерохина М. И.\n",
      "22 августа 2018 года\n",
      "\n",
      "\n",
      "\n"
     ]
    }
   ],
   "source": [
    "directory = 'hackaton_2023_01/task_3/output_decrees/docx/'\n",
    "\n",
    "print(\"Введите название файла: \")\n",
    "name = str(input())\n",
    "\n",
    "def file(name):\n",
    "    fileText = ''\n",
    "\n",
    "    document = Document(directory + name)\n",
    "    for paragraph in document.paragraphs:\n",
    "        fileText += paragraph.text + '\\n'\n",
    "    print(fileText)\n",
    "    return fileText\n",
    "\n",
    "fileText = file(name)"
   ]
  },
  {
   "cell_type": "markdown",
   "id": "91f9d09e-1b18-4d20-a7d4-e8e2a933c563",
   "metadata": {},
   "source": [
    "# Векторизация текста"
   ]
  },
  {
   "cell_type": "code",
   "execution_count": 93,
   "id": "366e73d1-01d4-413e-bbc0-97a4675f0b3a",
   "metadata": {},
   "outputs": [],
   "source": [
    "sequence = tokenizer.texts_to_sequences([fileText])"
   ]
  },
  {
   "cell_type": "code",
   "execution_count": 94,
   "id": "ccb97bbc-0978-48cb-8d5d-b9ac75859e38",
   "metadata": {},
   "outputs": [],
   "source": [
    "data = utils.pad_sequences(sequence, maxlen=max_review_len)"
   ]
  },
  {
   "cell_type": "markdown",
   "id": "3d8b2a80-d19a-4cfc-926a-025c56557b3c",
   "metadata": {},
   "source": [
    "### Предсказание модели cnn"
   ]
  },
  {
   "cell_type": "code",
   "execution_count": 95,
   "id": "e26a133e-6762-4fab-b144-b39b3abd7b15",
   "metadata": {},
   "outputs": [
    {
     "name": "stdout",
     "output_type": "stream",
     "text": [
      "1/1 [==============================] - 0s 224ms/step\n"
     ]
    }
   ],
   "source": [
    "result = model_cnn.predict(data)"
   ]
  },
  {
   "cell_type": "markdown",
   "id": "39cbf591-9844-4168-8743-a00c5328c244",
   "metadata": {},
   "source": [
    "### Вывод результата"
   ]
  },
  {
   "cell_type": "code",
   "execution_count": 96,
   "id": "f2453029-cc11-4fca-8c2d-b7a3a7e0423b",
   "metadata": {},
   "outputs": [
    {
     "data": {
      "text/plain": "array([[0.03, 0.23, 0.01, 0.03, 0.01, 0.35, 0.01, 0.33]], dtype=float32)"
     },
     "execution_count": 96,
     "metadata": {},
     "output_type": "execute_result"
    }
   ],
   "source": [
    "np.round(result, 2)"
   ]
  },
  {
   "cell_type": "code",
   "execution_count": 97,
   "id": "72006145-766d-491e-8188-e72f1e23314a",
   "metadata": {},
   "outputs": [
    {
     "data": {
      "text/plain": "{'Отдел разработки систем': 1,\n 'Отдел архитектуры': 2,\n 'Административно-хозяйственный отдел': 3,\n 'Отдел проектирования': 4,\n 'Отдел тестирования': 5,\n 'Служба ИТ': 6,\n 'Отдел эксплуатации': 7,\n 'Бухгалтерия': 8}"
     },
     "execution_count": 97,
     "metadata": {},
     "output_type": "execute_result"
    }
   ],
   "source": [
    "classes_dep"
   ]
  },
  {
   "cell_type": "markdown",
   "id": "702f13d3-0faa-4d2e-8870-6b18c2cbcb81",
   "metadata": {},
   "source": [
    "### Модель LSTM"
   ]
  },
  {
   "cell_type": "code",
   "execution_count": 98,
   "id": "b2d3e28f-347e-473e-8b35-76c80e94a37c",
   "metadata": {},
   "outputs": [
    {
     "name": "stdout",
     "output_type": "stream",
     "text": [
      "1/1 [==============================] - 1s 1s/step\n"
     ]
    }
   ],
   "source": [
    "result = model_lstm.predict(data)"
   ]
  },
  {
   "cell_type": "code",
   "execution_count": 99,
   "id": "af737ca8-f1c4-4bb7-a9ca-6b41dff5cb98",
   "metadata": {},
   "outputs": [
    {
     "data": {
      "text/plain": "array([[0.07, 0.19, 0.12, 0.09, 0.15, 0.03, 0.2 , 0.15]], dtype=float32)"
     },
     "execution_count": 99,
     "metadata": {},
     "output_type": "execute_result"
    }
   ],
   "source": [
    "np.round(result, 2)"
   ]
  },
  {
   "cell_type": "code",
   "execution_count": 100,
   "id": "2c623b9c-6c15-4b8b-ba69-6195cd25c008",
   "metadata": {},
   "outputs": [
    {
     "data": {
      "text/plain": "{'Отдел разработки систем': 1,\n 'Отдел архитектуры': 2,\n 'Административно-хозяйственный отдел': 3,\n 'Отдел проектирования': 4,\n 'Отдел тестирования': 5,\n 'Служба ИТ': 6,\n 'Отдел эксплуатации': 7,\n 'Бухгалтерия': 8}"
     },
     "execution_count": 100,
     "metadata": {},
     "output_type": "execute_result"
    }
   ],
   "source": [
    "classes_dep"
   ]
  },
  {
   "cell_type": "markdown",
   "id": "fbcb6b4e-c5ba-4bb2-9ad9-aa4140d168a6",
   "metadata": {},
   "source": [
    "### Предсказание модели GRU"
   ]
  },
  {
   "cell_type": "code",
   "execution_count": 101,
   "id": "5ae0937a-c161-4783-b601-ca297ee28d69",
   "metadata": {},
   "outputs": [
    {
     "name": "stdout",
     "output_type": "stream",
     "text": [
      "1/1 [==============================] - 1s 1s/step\n"
     ]
    }
   ],
   "source": [
    "result = model_gru.predict(data)"
   ]
  },
  {
   "cell_type": "code",
   "execution_count": 102,
   "id": "4656c50d-87cb-4431-a9fa-ac8eb418d647",
   "metadata": {},
   "outputs": [
    {
     "data": {
      "text/plain": "array([[0.  , 0.01, 0.  , 0.92, 0.02, 0.  , 0.01, 0.04]], dtype=float32)"
     },
     "execution_count": 102,
     "metadata": {},
     "output_type": "execute_result"
    }
   ],
   "source": [
    "np.round(result, 2)"
   ]
  },
  {
   "cell_type": "code",
   "execution_count": 103,
   "id": "531e909c-e1cd-4b9f-aba5-23c329d6fc66",
   "metadata": {},
   "outputs": [
    {
     "data": {
      "text/plain": "{'Отдел разработки систем': 1,\n 'Отдел архитектуры': 2,\n 'Административно-хозяйственный отдел': 3,\n 'Отдел проектирования': 4,\n 'Отдел тестирования': 5,\n 'Служба ИТ': 6,\n 'Отдел эксплуатации': 7,\n 'Бухгалтерия': 8}"
     },
     "execution_count": 103,
     "metadata": {},
     "output_type": "execute_result"
    }
   ],
   "source": [
    "classes_dep"
   ]
  },
  {
   "cell_type": "markdown",
   "id": "e84f5813-a53e-45fa-ac7b-88a4ee277936",
   "metadata": {},
   "source": [
    "# Выводы:\n",
    "\n",
    "На документах, не учавствовавших в в обучении модели предсказывают классы по большему \n",
    "синтаксическому совпадению слов в загруженном документе, а также по частотности слов, \n",
    "относящихся к классам при обучении модели,\n",
    "в этом документе. \n",
    "\n",
    "Для улучшения нейросети необходимо:\n",
    "    \n",
    "    1. Провести семантический анализ предложения. Использовать словарь синонимов к ключевым словам.\n",
    "    \n",
    "    2. Использовать порядок слов в предложении.\n",
    "    \n",
    "    3. Применить лямбда исчисления и разбить слова предложения на примитивы.\n",
    "    \n",
    "        - Слово.\n",
    "        \n",
    "        - Его определение.\n",
    "        \n",
    "        - Пример сочетания заданного слова с другими.\n",
    "        \n",
    "        - Составление фраз и предложений с этим словом.\n",
    "        \n",
    "    4. Определить связи между собой различными смысловыми отношениями: соединительными, \n",
    "пояснительными, противительными, временными и пр. \n",
    "\n",
    "    5. Определить основные виды связи:\n",
    "    \n",
    "        Параллельные связи:\n",
    "\n",
    "        - Одинаковый порядок слов. \n",
    "\n",
    "        - Одинаковые грамматические формы слов.\n",
    "\n",
    "        - Вводные слова и наречия места, времени. \t\n",
    "\n",
    "        Цепнык связи:\n",
    "        \n",
    "        - Повтор ключевого слова. \n",
    "\n",
    "        - Замена его синонимом, синонимическим оборотом, местоимением или однокоренным словом. \n",
    "        Для этого сделать или хагрузить словарь синонимов.\n",
    "\n",
    "        - Повтор того или иного члена предложения.\n",
    "\n",
    "        - Семантические и ассоциативные связи (найти и создать правила в блиблотеки yargy).\n",
    "\n",
    "    6. Провести смысловой анализ текста.\n",
    "    7. Провести смысловой анализ предложения. (Некоторые пункты пересекаются.)"
   ]
  },
  {
   "cell_type": "markdown",
   "id": "f41654f5-343a-4ae3-a005-04b02e84e7ee",
   "metadata": {},
   "source": [
    "### Строим однонаправленный граф (В процессе разработки)"
   ]
  },
  {
   "cell_type": "code",
   "execution_count": 104,
   "id": "72f8da09-5275-4802-80fc-b0b2d1a605a3",
   "metadata": {},
   "outputs": [
    {
     "data": {
      "text/plain": "<Figure size 640x480 with 1 Axes>",
      "image/png": "[encoded data removed]"
     },
     "metadata": {},
     "output_type": "display_data"
    }
   ],
   "source": [
    "DG = nx.DiGraph()\n",
    "\n",
    "DG.add_edge('ООО \"Мегасофт\"', DEPARTMENTS_list[0]) \n",
    "DG.add_edge('ООО \"Мегасофт\"', DEPARTMENTS_list[1]) \n",
    "DG.add_edge('ООО \"Мегасофт\"', DEPARTMENTS_list[2]) \n",
    "DG.add_edge('ООО \"Мегасофт\"', DEPARTMENTS_list[3]) \n",
    "DG.add_edge('ООО \"Мегасофт\"', DEPARTMENTS_list[4]) \n",
    "DG.add_edge('ООО \"Мегасофт\"', DEPARTMENTS_list[5]) \n",
    "DG.add_edge('ООО \"Мегасофт\"', DEPARTMENTS_list[6]) \n",
    "DG.add_edge('ООО \"Мегасофт\"', DEPARTMENTS_list[7]) \n",
    "\n",
    "nx.draw(DG, with_labels=True, font_weight='bold')"
   ]
  },
  {
   "cell_type": "code",
   "execution_count": null,
   "outputs": [],
   "source": [],
   "metadata": {
    "collapsed": false
   }
  }
 ],
 "metadata": {
  "kernelspec": {
   "display_name": "Python 3 (ipykernel)",
   "language": "python",
   "name": "python3"
  },
  "language_info": {
   "codemirror_mode": {
    "name": "ipython",
    "version": 3
   },
   "file_extension": ".py",
   "mimetype": "text/x-python",
   "name": "python",
   "nbconvert_exporter": "python",
   "pygments_lexer": "ipython3",
   "version": "3.8.13"
  }
 },
 "nbformat": 4,
 "nbformat_minor": 5
}
