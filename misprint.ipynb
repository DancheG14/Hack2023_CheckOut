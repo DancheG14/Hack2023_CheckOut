{
 "cells": [
  {
   "cell_type": "code",
   "execution_count": 33,
   "id": "91c5ea11-f8fb-4657-8643-c8e6e2ae6a45",
   "metadata": {},
   "outputs": [],
   "source": [
    "#! pip install pymorphy2\n",
    "#! pip install -U pip setuptools wheel\n",
    "#! pip install -U spacy \n",
    "#! python -m spacy download en_core_web_sm\n",
    "#! python -m spacy download ru_core_news_sm\n",
    "#! pip install --user -U nltk\n",
    "#! pip install -U liblinear-official"
   ]
  },
  {
   "cell_type": "code",
   "execution_count": 1,
   "id": "b387bec2-c322-4a38-98b1-8e41a67ef3c2",
   "metadata": {},
   "outputs": [],
   "source": [
    "#! pip install natasha\n",
    "#! pip install ipymarkup\n"
   ]
  },
  {
   "cell_type": "code",
   "execution_count": 38,
   "id": "312ef1df-3b80-4e95-897f-a37d0a487132",
   "metadata": {},
   "outputs": [],
   "source": [
    "from yargy.tokenizer import MorphTokenizer\n",
    "from yargy import rule, or_, Parser\n",
    "from yargy.predicates import eq, type as _t, normalized, gram\n",
    "from ipymarkup import show_span_box_markup, show_span_line_markup\n",
    "from yargy.pipelines import morph_pipeline as mp\n",
    "from yargy.interpretation import fact\n",
    "from IPython.display import display"
   ]
  },
  {
   "cell_type": "code",
   "execution_count": 3,
   "id": "d651b727-d4d2-44f7-8630-73a31d373ab7",
   "metadata": {},
   "outputs": [],
   "source": [
    "TOKENIZER = MorphTokenizer()"
   ]
  },
  {
   "cell_type": "code",
   "execution_count": 243,
   "id": "4279d4cb-f97b-43c8-a27b-8da8a29cea35",
   "metadata": {},
   "outputs": [],
   "source": [
    "text = '''\n",
    "Ответственность за исполнение распоряжения возложить на специалиста первой категории \n",
    "административно-хозяйственного отдела Кравцову И.Е.\n",
    "'''"
   ]
  },
  {
   "cell_type": "code",
   "execution_count": 244,
   "id": "abee3224-2351-4caa-8a3b-2c2e0b714fd7",
   "metadata": {},
   "outputs": [],
   "source": [
    "list(TOKENIZER(text_1))"
   ]
  },
  {
   "cell_type": "code",
   "execution_count": 112,
   "id": "f0be142f-31cc-4ba3-85ab-450c72485294",
   "metadata": {},
   "outputs": [],
   "source": [
    "#Grams(NOUN,gent,inan,neut,sing)),\n",
    "#Grams(NOUN,inan,neut,nomn,plur)),\n",
    "#Grams(NOUN,accs,inan,neut,plur))\n",
    "# Определить сущности, определить словосочетания, добавить всё в mp, спарсить слова из Русблока.\n",
    "# Grams\n",
    "# Зафиксировать список\n",
    "\n",
    "\n",
    "ADVB = gram('ADVB')\n",
    "ADJF = gram('ADJF')\n",
    "INFN = gram('INFN')\n",
    "ADJF = gram('ADJF')\n",
    "NOUN = gram('NOUN')\n",
    "Surn = gram('Surn')\n",
    "Name = gram('Name')\n",
    "Patr = gram('Patr')\n",
    "ABR = gram('Abbr')\n",
    "#NOUN = ['административно-хозяйственного',]\n",
    "NAMES = ['Кравцову И.Е.']\n",
    "#SGTM = type('NOUN')"
   ]
  },
  {
   "cell_type": "code",
   "execution_count": 216,
   "id": "abaac341-66d5-47d1-b28a-48b7ef3519c5",
   "metadata": {},
   "outputs": [
    {
     "data": {
      "text/html": [
       "<div class=\"tex2jax_ignore\" style=\"white-space: pre-wrap\">ООО &quot;Мегасофт&quot;\n",
       "Приказ\n",
       "Для организации мероприятия &quot;День заказчика&quot; приказываю:\n",
       "1. ",
       "Провести анализ поставщиков для замены вышедшего <span style=\"padding: 2px; border-radius: 4px; border: 1px solid #bbdefb; background: #e3f2fd\">из</span> строя оборудования. Срок завершения: 24 октября 12.\n",
       "Ответственность за исполнение распоряжения возложить на специалиста третьей категории <span style=\"padding: 2px; border-radius: 4px; border: 1px solid #bbdefb; background: #e3f2fd\">Службы ИТ</span> <span style=\"padding: 2px; border-radius: 4px; border: 1px solid #bbdefb; background: #e3f2fd\">Кима</span> <span style=\"padding: 2px; border-radius: 4px; border: 1px solid #bbdefb; background: #e3f2fd\">Юрия</span> <span style=\"padding: 2px; border-radius: 4px; border: 1px solid #bbdefb; background: #e3f2fd\">Ивановича</span>\n",
       "2. ",
       "Выполнить ремонт кабеля сети передачи данных между этажами здания. Дата окончания: 12 авг 13.\n",
       "Контроль над выполнением приказа возложить на системного администратора <span style=\"padding: 2px; border-radius: 4px; border: 1px solid #bbdefb; background: #e3f2fd\">Сергеева</span> <span style=\"padding: 2px; border-radius: 4px; border: 1px solid #bbdefb; background: #e3f2fd\">Андрея</span>\n",
       "3. Создать и настроить виртуальную <span style=\"padding: 2px; border-radius: 4px; border: 1px solid #bbdefb; background: #e3f2fd\">машину</span> в соответствии с техническим заданием. ",
       "Установить срок выполнения задачи до 10 сен 19.\n",
       "Контроль над исполнением распоряжения оставить за специалистом третьей категории <span style=\"padding: 2px; border-radius: 4px; border: 1px solid #bbdefb; background: #e3f2fd\">Службы ИТ</span> <span style=\"padding: 2px; border-radius: 4px; border: 1px solid #bbdefb; background: #e3f2fd\">Кимом</span> <span style=\"padding: 2px; border-radius: 4px; border: 1px solid #bbdefb; background: #e3f2fd\">Юрием</span> <span style=\"padding: 2px; border-radius: 4px; border: 1px solid #bbdefb; background: #e3f2fd\">Ивановичем</span></div>"
      ],
      "text/plain": [
       "<IPython.core.display.HTML object>"
      ]
     },
     "metadata": {},
     "output_type": "display_data"
    }
   ],
   "source": [
    "DEPARTMENTS = mp(['Отдел проектирования',\n",
    " 'Бухгалтерия',\n",
    " 'Отдел эксплуатации',\n",
    " 'Отдел тестирования',\n",
    " 'Отдел разработки систем',\n",
    " 'Служба ИТ',\n",
    " 'Отдел архитектуры',\n",
    " 'Административно-хозяйственный отдел'])\n",
    "POSITION = ['системный администратор']\n",
    "\n",
    "RESPONSIBLE = rule(DEPARTMENTS, NOUN)\n",
    "ABR_NAMES = rule(Surn, ABR.repeatable().optional(), eq(\".\"), ABR.optional().repeatable(), eq(\".\"))\n",
    "#ONE_TWO_DEP = rule(NOUN_, eq('-'), NOUN_)\n",
    "#NAMES = mp['']\n",
    "#FUNC = mp['']\n",
    "NAMES_FULL = rule(or_(Surn,\n",
    "Name,\n",
    "Patr))\n",
    "parser = Parser(or_(NAMES_FULL, DEPARTMENTS))\n",
    "parse_departments = Parser(DEPARTMENTS)\n",
    "matches = list(parser.findall(text_1))\n",
    "matches_2 = list(parser.findall(text_1))\n",
    "spans = [_.span for _ in matches]\n",
    "spans_2 = [_.span for _ in matches_2]\n",
    "show_span_box_markup(text_1, spans)"
   ]
  },
  {
   "cell_type": "code",
   "execution_count": 215,
   "id": "a25f1e17-fadb-492b-8d81-c608668c1aab",
   "metadata": {},
   "outputs": [],
   "source": [
    "text_1 = \"\"\"ООО \"Мегасофт\"\n",
    "Приказ\n",
    "Для организации мероприятия \"День заказчика\" приказываю:\n",
    "1. ",
    "Провести анализ поставщиков для замены вышедшего из строя оборудования. Срок завершения: 24 октября 12.\n",
    "Ответственность за исполнение распоряжения возложить на специалиста третьей категории Службы ИТ Кима Юрия Ивановича\n",
    "2. ",
    "Выполнить ремонт кабеля сети передачи данных между этажами здания. Дата окончания: 12 авг 13.\n",
    "Контроль над выполнением приказа возложить на системного администратора Сергеева Андрея\n",
    "3. Создать и настроить виртуальную машину в соответствии с техническим заданием. ",
    "Установить срок выполнения задачи до 10 сен 19.\n",
    "Контроль над исполнением распоряжения оставить за специалистом третьей категории Службы ИТ Кимом Юрием Ивановичем\"\"\""
   ]
  },
  {
   "cell_type": "markdown",
   "id": "7eb57486-14da-4a1a-a94f-2ad19e15c598",
   "metadata": {},
   "source": [
    "### Структированное представление"
   ]
  },
  {
   "cell_type": "code",
   "execution_count": 217,
   "id": "a4fc63ee-dd32-4d56-a4ed-b95bf38474b2",
   "metadata": {},
   "outputs": [],
   "source": [
    "from IPython.display import display\n",
    "from yargy.parser import prepare_trees\n",
    "from yargy.predicates import (\n",
    "    lte,\n",
    "    gte,\n",
    "    dictionary\n",
    ")\n",
    "\n",
    "departments = {'Отдел проектирования',\n",
    " 'Бухгалтерия',\n",
    " 'Отдел эксплуатации',\n",
    " 'Отдел тестирования',\n",
    " 'Отдел разработки систем',\n",
    " 'Служба ИТ',\n",
    " 'Отдел архитектуры',\n",
    " 'Административно-хозяйственный отдел'}\n",
    "Departments = dictionary(departments)\n",
    "\n",
    "COMPANY = \"ООО 'МегаСофт'\"\n",
    "Num_departments = and_(\n",
    "    gte(0),\n",
    "    lte(8)\n",
    ").named(COMPANY)\n",
    "#parser = Parser(Num_departments)\n",
    "#match = parser.match(\"административно-хозяйственного отдела\")\n",
    "#match.tree.as_dot\n",
    "\n",
    "#text = '''\n",
    "#Ответственность за исполнение распоряжения возложить на специалиста \n",
    "#первой категории административно-хозяйственного отдела Кравцову И.Е.\n",
    "#'''\n",
    "#for line in text.splitlines():\n",
    "#    match = parser.match(line)\n",
    "#    display(match.tree.as_dot)\n",
    "#for match in parser.findall(text):\n",
    "#    match = parser.match(line)\n",
    "#    print([_.value for _ in match.tokens])\n",
    "#    display(match.tokens.tree.as_dot)\n",
    "#for match in parser.findall(text):\n",
    "#    print([_.value for _ in match.tokens])"
   ]
  },
  {
   "cell_type": "code",
   "execution_count": 219,
   "id": "cc47c99b-a71c-405b-9e69-61f2dc844502",
   "metadata": {},
   "outputs": [
    {
     "data": {
      "image/svg+xml": [
       "<?xml version=\"1.0\" encoding=\"UTF-8\" standalone=\"no\"?>\n",
       "<!DOCTYPE svg PUBLIC \"-//W3C//DTD SVG 1.1//EN\"\n",
       " \"http://www.w3.org/Graphics/SVG/1.1/DTD/svg11.dtd\">\n",
       "<!-- Generated by graphviz version 6.0.1 (20220911.1526)\n",
       " -->\n",
       "<!-- Title: G Pages: 1 -->\n",
       "<svg width=\"95pt\" height=\"135pt\"\n",
       " viewBox=\"0.00 0.00 95.00 135.00\" xmlns=\"http://www.w3.org/2000/svg\" xmlns:xlink=\"http://www.w3.org/1999/xlink\">\n",
       "<g id=\"graph0\" class=\"graph\" transform=\"scale(1 1) rotate(0) translate(4 131)\">\n",
       "<title>G</title>\n",
       "<polygon fill=\"white\" stroke=\"none\" points=\"-4,4 -4,-131 91,-131 91,4 -4,4\"/>\n",
       "<!-- 0 -->\n",
       "<g id=\"node1\" class=\"node\">\n",
       "<title>0</title>\n",
       "<polygon fill=\"#aec7e8\" stroke=\"none\" points=\"44,-127 15,-127 15,-108 44,-108 44,-127\"/>\n",
       "<text text-anchor=\"middle\" x=\"29.5\" y=\"-115\" font-family=\"sans\" font-size=\"10.00\">R0</text>\n",
       "</g>\n",
       "<!-- 1 -->\n",
       "<g id=\"node2\" class=\"node\">\n",
       "<title>1</title>\n",
       "<polygon fill=\"#aec7e8\" stroke=\"none\" points=\"29,-100 0,-100 0,-81 29,-81 29,-100\"/>\n",
       "<text text-anchor=\"middle\" x=\"14.5\" y=\"-88\" font-family=\"sans\" font-size=\"10.00\">R1</text>\n",
       "</g>\n",
       "<!-- 0&#45;&gt;1 -->\n",
       "<g id=\"edge1\" class=\"edge\">\n",
       "<title>0&#45;&gt;1</title>\n",
       "<path fill=\"none\" stroke=\"gray\" d=\"M24.25,-107.76C23.32,-106.21 22.34,-104.57 21.38,-102.96\"/>\n",
       "<polygon fill=\"gray\" stroke=\"gray\" points=\"22.11,-102.14 19.67,-100.11 20.31,-103.23 22.11,-102.14\"/>\n",
       "</g>\n",
       "<!-- 3 -->\n",
       "<g id=\"node4\" class=\"node\">\n",
       "<title>3</title>\n",
       "<polygon fill=\"#aec7e8\" stroke=\"none\" points=\"59,-100 30,-100 30,-81 59,-81 59,-100\"/>\n",
       "<text text-anchor=\"middle\" x=\"44.5\" y=\"-88\" font-family=\"sans\" font-size=\"10.00\">R0</text>\n",
       "</g>\n",
       "<!-- 0&#45;&gt;3 -->\n",
       "<g id=\"edge2\" class=\"edge\">\n",
       "<title>0&#45;&gt;3</title>\n",
       "<path fill=\"none\" stroke=\"gray\" d=\"M34.75,-107.76C35.68,-106.21 36.66,-104.57 37.62,-102.96\"/>\n",
       "<polygon fill=\"gray\" stroke=\"gray\" points=\"38.69,-103.23 39.33,-100.11 36.89,-102.14 38.69,-103.23\"/>\n",
       "</g>\n",
       "<!-- 2 -->\n",
       "<g id=\"node3\" class=\"node\">\n",
       "<title>2</title>\n",
       "<polygon fill=\"#eeeeee\" stroke=\"none\" points=\"25.5,-73 3.5,-73 3.5,-54 25.5,-54 25.5,-73\"/>\n",
       "<text text-anchor=\"middle\" x=\"14.5\" y=\"-61\" font-family=\"sans\" font-size=\"10.00\">a</text>\n",
       "</g>\n",
       "<!-- 1&#45;&gt;2 -->\n",
       "<g id=\"edge3\" class=\"edge\">\n",
       "<title>1&#45;&gt;2</title>\n",
       "<path fill=\"none\" stroke=\"gray\" d=\"M14.5,-80.76C14.5,-79.36 14.5,-77.9 14.5,-76.45\"/>\n",
       "<polygon fill=\"gray\" stroke=\"gray\" points=\"15.55,-76.11 14.5,-73.11 13.45,-76.11 15.55,-76.11\"/>\n",
       "</g>\n",
       "<!-- 4 -->\n",
       "<g id=\"node5\" class=\"node\">\n",
       "<title>4</title>\n",
       "<polygon fill=\"#aec7e8\" stroke=\"none\" points=\"57,-73 28,-73 28,-54 57,-54 57,-73\"/>\n",
       "<text text-anchor=\"middle\" x=\"42.5\" y=\"-61\" font-family=\"sans\" font-size=\"10.00\">R1</text>\n",
       "</g>\n",
       "<!-- 3&#45;&gt;4 -->\n",
       "<g id=\"edge4\" class=\"edge\">\n",
       "<title>3&#45;&gt;4</title>\n",
       "<path fill=\"none\" stroke=\"gray\" d=\"M43.8,-80.76C43.69,-79.36 43.57,-77.9 43.46,-76.45\"/>\n",
       "<polygon fill=\"gray\" stroke=\"gray\" points=\"44.47,-76.02 43.19,-73.11 42.38,-76.19 44.47,-76.02\"/>\n",
       "</g>\n",
       "<!-- 6 -->\n",
       "<g id=\"node7\" class=\"node\">\n",
       "<title>6</title>\n",
       "<polygon fill=\"#aec7e8\" stroke=\"none\" points=\"87,-73 58,-73 58,-54 87,-54 87,-73\"/>\n",
       "<text text-anchor=\"middle\" x=\"72.5\" y=\"-61\" font-family=\"sans\" font-size=\"10.00\">R0</text>\n",
       "</g>\n",
       "<!-- 3&#45;&gt;6 -->\n",
       "<g id=\"edge5\" class=\"edge\">\n",
       "<title>3&#45;&gt;6</title>\n",
       "<path fill=\"none\" stroke=\"gray\" d=\"M54.29,-80.76C56.29,-78.98 58.41,-77.08 60.47,-75.24\"/>\n",
       "<polygon fill=\"gray\" stroke=\"gray\" points=\"61.32,-75.89 62.85,-73.11 59.92,-74.33 61.32,-75.89\"/>\n",
       "</g>\n",
       "<!-- 5 -->\n",
       "<g id=\"node6\" class=\"node\">\n",
       "<title>5</title>\n",
       "<polygon fill=\"#eeeeee\" stroke=\"none\" points=\"53.5,-46 31.5,-46 31.5,-27 53.5,-27 53.5,-46\"/>\n",
       "<text text-anchor=\"middle\" x=\"42.5\" y=\"-34\" font-family=\"sans\" font-size=\"10.00\">a</text>\n",
       "</g>\n",
       "<!-- 4&#45;&gt;5 -->\n",
       "<g id=\"edge6\" class=\"edge\">\n",
       "<title>4&#45;&gt;5</title>\n",
       "<path fill=\"none\" stroke=\"gray\" d=\"M42.5,-53.76C42.5,-52.36 42.5,-50.9 42.5,-49.45\"/>\n",
       "<polygon fill=\"gray\" stroke=\"gray\" points=\"43.55,-49.11 42.5,-46.11 41.45,-49.11 43.55,-49.11\"/>\n",
       "</g>\n",
       "<!-- 7 -->\n",
       "<g id=\"node8\" class=\"node\">\n",
       "<title>7</title>\n",
       "<polygon fill=\"#aec7e8\" stroke=\"none\" points=\"87,-46 58,-46 58,-27 87,-27 87,-46\"/>\n",
       "<text text-anchor=\"middle\" x=\"72.5\" y=\"-34\" font-family=\"sans\" font-size=\"10.00\">R1</text>\n",
       "</g>\n",
       "<!-- 6&#45;&gt;7 -->\n",
       "<g id=\"edge7\" class=\"edge\">\n",
       "<title>6&#45;&gt;7</title>\n",
       "<path fill=\"none\" stroke=\"gray\" d=\"M72.5,-53.76C72.5,-52.36 72.5,-50.9 72.5,-49.45\"/>\n",
       "<polygon fill=\"gray\" stroke=\"gray\" points=\"73.55,-49.11 72.5,-46.11 71.45,-49.11 73.55,-49.11\"/>\n",
       "</g>\n",
       "<!-- 8 -->\n",
       "<g id=\"node9\" class=\"node\">\n",
       "<title>8</title>\n",
       "<polygon fill=\"#eeeeee\" stroke=\"none\" points=\"83.5,-19 61.5,-19 61.5,0 83.5,0 83.5,-19\"/>\n",
       "<text text-anchor=\"middle\" x=\"72.5\" y=\"-7\" font-family=\"sans\" font-size=\"10.00\">a</text>\n",
       "</g>\n",
       "<!-- 7&#45;&gt;8 -->\n",
       "<g id=\"edge8\" class=\"edge\">\n",
       "<title>7&#45;&gt;8</title>\n",
       "<path fill=\"none\" stroke=\"gray\" d=\"M72.5,-26.76C72.5,-25.36 72.5,-23.9 72.5,-22.45\"/>\n",
       "<polygon fill=\"gray\" stroke=\"gray\" points=\"73.55,-22.11 72.5,-19.11 71.45,-22.11 73.55,-22.11\"/>\n",
       "</g>\n",
       "</g>\n",
       "</svg>\n"
      ],
      "text/plain": [
       "Graph(nodes=[...], edges=[...])"
      ]
     },
     "execution_count": 219,
     "metadata": {},
     "output_type": "execute_result"
    }
   ],
   "source": [
    "# Черновик построения графа на основе входящих данных\n",
    "A = or_(\n",
    "    rule('a'),\n",
    "    rule('a', 'a')    \n",
    ")\n",
    "B = A.repeatable()\n",
    "\n",
    "parser = Parser(B)\n",
    "match = parser.match('a a a')\n",
    "match.tree.as_dot\n",
    "\n"
   ]
  },
  {
   "cell_type": "markdown",
   "id": "499d1758-3cd2-4560-9749-be37c5140d43",
   "metadata": {},
   "source": [
    "### Определение опечаток\n"
   ]
  },
  {
   "cell_type": "code",
   "execution_count": 228,
   "id": "ef45571c-17c1-49b0-9b91-6e72ad677006",
   "metadata": {},
   "outputs": [
    {
     "data": {
      "text/plain": [
       "('одминистративно-хозддддяйственный отдел', False)"
      ]
     },
     "execution_count": 228,
     "metadata": {},
     "output_type": "execute_result"
    }
   ],
   "source": [
    "from nltk import edit_distance\n",
    "\n",
    "\n",
    "def filter_text(text):\n",
    "    text = text.lower()\n",
    "    # text = text.lower().strip()\n",
    "    # Убирать разные символы\n",
    "    text = text.strip()\n",
    "    # Найти все знаки преминания и заменить их на пустоту\n",
    "    #expression = r'[^\\w\\s]'\n",
    "    #text = re.sub(expression, \"\", text)\n",
    "    # lambda t: re.sub(r'[^\\w\\s]', t.lower(), t.strip(),t) уточнить\n",
    "    return text\n",
    "\n",
    "\n",
    "def text_match(text, example):\n",
    "    text = filter_text(text)\n",
    "    example = filter_text(example)\n",
    "\n",
    "    distance = edit_distance(text, example)\n",
    "    avg_len = (len(text) + len(example)) / 2\n",
    "    # Процент опечаток\n",
    "    ratio = distance / avg_len\n",
    "    if distance > 3:\n",
    "        return False\n",
    "\n",
    "    elif ratio > 0.2:\n",
    "        return False\n",
    "\n",
    "    else:\n",
    "        return True\n",
    "\n",
    "\n",
    "\n",
    "    \n",
    "filter_text(text_3), text_match(text_3, text_4)"
   ]
  },
  {
   "cell_type": "code",
   "execution_count": 241,
   "id": "f7045da8-c637-4e63-86d4-64f063c689e9",
   "metadata": {},
   "outputs": [
    {
     "name": "stdout",
     "output_type": "stream",
     "text": [
      "Большая опечатка:  False\n",
      "Небольшая опечатка:  True\n"
     ]
    },
    {
     "data": {
      "text/plain": [
       "(None, None)"
      ]
     },
     "execution_count": 241,
     "metadata": {},
     "output_type": "execute_result"
    }
   ],
   "source": [
    "text_3 = \"Одминистративно-хозддддяйственный отдел\"\n",
    "text_4 = \"Админитративннок-хозяйственный отдел\"\n",
    "departments = ['Отдел проектирования',\n",
    " 'Бухгалтерия',\n",
    " 'Отдел эксплуатации',\n",
    " 'Отдел тестирования',\n",
    " 'Отдел разработки систем',\n",
    " 'Служба ИТ',\n",
    " 'Отдел архитектуры',\n",
    " 'Административно-хозяйственный отдел']\n",
    "text_5 = departments[7]\n",
    "\n",
    "print(\"Большая опечатка: \", text_match(text_3, text_5)), print(\"Небольшая опечатка: \", text_match(text_4, text_5))"
   ]
  },
  {
   "cell_type": "markdown",
   "id": "f11a3267-2146-4c58-8d34-e195beb3516f",
   "metadata": {},
   "source": [
    "### Создаём правила"
   ]
  }
 ],
 "metadata": {
  "kernelspec": {
   "display_name": "Python 3 (ipykernel)",
   "language": "python",
   "name": "python3"
  },
  "language_info": {
   "codemirror_mode": {
    "name": "ipython",
    "version": 3
   },
   "file_extension": ".py",
   "mimetype": "text/x-python",
   "name": "python",
   "nbconvert_exporter": "python",
   "pygments_lexer": "ipython3",
   "version": "3.8.13"
  }
 },
 "nbformat": 4,
 "nbformat_minor": 5
}
