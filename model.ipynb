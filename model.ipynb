{
 "cells": [
  {
   "cell_type": "markdown",
   "id": "174d5ffe-9636-412a-ac3d-1a9a5a9a4465",
   "metadata": {},
   "source": [
    "## Задача № 3 (для 2 курса)\n",
    " \n",
    "Название: Автоматизация обработки машиночитаемых документов.\n",
    " \n",
    "Описание: Вам будет выдан набор данных документов из системы документооборота небольшой вымышленной компании. На основе этого набора данных вам нужно построить граф знаний о компании, который включает:\n",
    "\n",
    "● \tОрганизационную структуру (список подразделений). Есть\n",
    "\n",
    "● \tСписок сотрудников \n",
    "\n",
    "●  и их должностей. \n",
    "\n",
    "● \tДолжностные обязанности и полномочия сотрудников.\n",
    "\n",
    "На основе построенного графа знаний нужно разработать систему, которая ищет ошибки в проверочных документах (10 правильных документов, 10 документов с ошибками), например:\n",
    "\n",
    "● \tОпечатки в названиях подразделений или ФИО сотрудников.\n",
    "\n",
    "● \tНесуществующие подразделения или сотрудники, ошибки в должностях.\n",
    "\n",
    "● \tНесоответствие тематики документа подразделению, в которое он направлен для исполнения (в бухгалтерию направлен документ с задачей по ИТ).\n",
    " \n",
    "Ссылка на набор данных – https://www.dropbox.com/sh/d5h5f3yrql8x392/AACQ2WYa5qYCqjC8QuVZ5TJ4a?dl=1 \n",
    "\n",
    "Вам будет передана открытая часть датасета с разметкой, закрытая часть датасета без разметки и проверочные документы (20 документов для подзадачи обнаружения ошибок в документах).\n",
    " \n",
    "Требования к решению:\n",
    "1.   Код программы построения графа знаний о компании (ссылка на GitHub), с помощью которого можно ответить на вопросы:\n",
    "a.   Количество отделов.\n",
    "b.   Количество сотрудников.\n",
    "c.\tК какому отделу относится конкретная задача.\n",
    "2.   Код программы поиска документов с ошибками на основе графа знаний (ссылка на GitHub).\n",
    "3.   Документы, в которых найдены ошибки.\n",
    " \n",
    "Критерии оценки:\n",
    "● \tЗа каждый найденный документ с ошибкой начисляется 10 баллов.\n",
    "● \tЗа каждый документ, представленный как ошибочный, но в котором ошибки на самом деле нет, назначается штраф -1 балл.\n",
    " \n",
    "Советы по реализации:\n",
    "1.   Извлечь именованные сущности (NER) из текста можно с помощью библиотеки spacy (https://spacy.io/), pullenti, natasha или соответствующих моделей с huggingface (https://huggingface.co/).\n",
    "2.   Для сущностей, для которых не удастся найти типовые предобученные модели (например, сущность «Задача» или «Департамент») организовать обучение модели с использованием открытой части датасета.\n",
    "3.   Для построения графа связей в организации рекомендуется использовать библиотеку NetworkX - https://networkx.org/"
   ]
  },
  {
   "cell_type": "markdown",
   "id": "ae73bdcc-09a9-4fa4-8719-7bf900da97db",
   "metadata": {},
   "source": [
    "# Решение.\n",
    "\n",
    "1. task_text: разбить на предложения. Выявить функционал. FIO_POSITION: ФИО, должность, функционал, отдел (не необходимо).\n",
    "2. task_responsibles_people: - вывявить ФИО, должность, task_responsibles_groups: добавить отдел.\n",
    "3. Собрать мешок слов: ФИО, должность, функционал, отдел.\n",
    "4. Векторизировать мешок слов.\n",
    "5. Из отделов построить 8 классов.\n",
    "6. Обучить реккурентную нейросеть LSTM или GRU.\n",
    "7. Протестировать на тестовом наборе данных.\n",
    "8. Построить граф знаний.\n",
    "9. Написать функцию соответствия предсказания с графом знаний.\n",
    "10. Сделать презентацию проекта."
   ]
  },
  {
   "cell_type": "markdown",
   "source": [
    "### Устанавливаем библиотеки"
   ],
   "metadata": {
    "collapsed": false
   }
  },
  {
   "cell_type": "code",
   "execution_count": 100,
   "id": "02d66d60-e4a7-476f-bbf6-ee5a286ab22c",
   "metadata": {},
   "outputs": [
    {
     "name": "stdout",
     "output_type": "stream",
     "text": [
      "Requirement already satisfied: nltk in ./venv/lib/python3.10/site-packages (3.8.1)\r\n",
      "Requirement already satisfied: tqdm in ./venv/lib/python3.10/site-packages (from nltk) (4.64.1)\r\n",
      "Requirement already satisfied: regex>=2021.8.3 in ./venv/lib/python3.10/site-packages (from nltk) (2022.10.31)\r\n",
      "Requirement already satisfied: click in ./venv/lib/python3.10/site-packages (from nltk) (8.1.3)\r\n",
      "Requirement already satisfied: joblib in ./venv/lib/python3.10/site-packages (from nltk) (1.2.0)\r\n",
      "Requirement already satisfied: navec in ./venv/lib/python3.10/site-packages (0.10.0)\r\n",
      "Requirement already satisfied: numpy in ./venv/lib/python3.10/site-packages (from navec) (1.24.1)\r\n",
      "Requirement already satisfied: pandas in ./venv/lib/python3.10/site-packages (1.5.3)\r\n",
      "Requirement already satisfied: python-dateutil>=2.8.1 in ./venv/lib/python3.10/site-packages (from pandas) (2.8.2)\r\n",
      "Requirement already satisfied: numpy>=1.21.0 in ./venv/lib/python3.10/site-packages (from pandas) (1.24.1)\r\n",
      "Requirement already satisfied: pytz>=2020.1 in ./venv/lib/python3.10/site-packages (from pandas) (2022.7.1)\r\n",
      "Requirement already satisfied: six>=1.5 in ./venv/lib/python3.10/site-packages (from python-dateutil>=2.8.1->pandas) (1.16.0)\r\n",
      "Requirement already satisfied: natasha in ./venv/lib/python3.10/site-packages (1.4.0)\r\n",
      "Requirement already satisfied: slovnet>=0.3.0 in ./venv/lib/python3.10/site-packages (from natasha) (0.5.0)\r\n",
      "Requirement already satisfied: ipymarkup>=0.8.0 in ./venv/lib/python3.10/site-packages (from natasha) (0.9.0)\r\n",
      "Requirement already satisfied: razdel>=0.5.0 in ./venv/lib/python3.10/site-packages (from natasha) (0.5.0)\r\n",
      "Requirement already satisfied: navec>=0.9.0 in ./venv/lib/python3.10/site-packages (from natasha) (0.10.0)\r\n",
      "Requirement already satisfied: yargy>=0.14.0 in ./venv/lib/python3.10/site-packages (from natasha) (0.15.1)\r\n",
      "Requirement already satisfied: pymorphy2 in ./venv/lib/python3.10/site-packages (from natasha) (0.9.1)\r\n",
      "Requirement already satisfied: intervaltree>=3 in ./venv/lib/python3.10/site-packages (from ipymarkup>=0.8.0->natasha) (3.1.0)\r\n",
      "Requirement already satisfied: numpy in ./venv/lib/python3.10/site-packages (from navec>=0.9.0->natasha) (1.24.1)\r\n",
      "Requirement already satisfied: docopt>=0.6 in ./venv/lib/python3.10/site-packages (from pymorphy2->natasha) (0.6.2)\r\n",
      "Requirement already satisfied: dawg-python>=0.7.1 in ./venv/lib/python3.10/site-packages (from pymorphy2->natasha) (0.7.2)\r\n",
      "Requirement already satisfied: pymorphy2-dicts-ru<3.0,>=2.4 in ./venv/lib/python3.10/site-packages (from pymorphy2->natasha) (2.4.417127.4579844)\r\n",
      "Requirement already satisfied: sortedcontainers<3.0,>=2.0 in ./venv/lib/python3.10/site-packages (from intervaltree>=3->ipymarkup>=0.8.0->natasha) (2.4.0)\r\n",
      "Requirement already satisfied: matplotlib in ./venv/lib/python3.10/site-packages (3.6.3)\r\n",
      "Requirement already satisfied: python-dateutil>=2.7 in ./venv/lib/python3.10/site-packages (from matplotlib) (2.8.2)\r\n",
      "Requirement already satisfied: numpy>=1.19 in ./venv/lib/python3.10/site-packages (from matplotlib) (1.24.1)\r\n",
      "Requirement already satisfied: packaging>=20.0 in ./venv/lib/python3.10/site-packages (from matplotlib) (23.0)\r\n",
      "Requirement already satisfied: kiwisolver>=1.0.1 in ./venv/lib/python3.10/site-packages (from matplotlib) (1.4.4)\r\n",
      "Requirement already satisfied: pillow>=6.2.0 in ./venv/lib/python3.10/site-packages (from matplotlib) (9.4.0)\r\n",
      "Requirement already satisfied: pyparsing>=2.2.1 in ./venv/lib/python3.10/site-packages (from matplotlib) (3.0.9)\r\n",
      "Requirement already satisfied: fonttools>=4.22.0 in ./venv/lib/python3.10/site-packages (from matplotlib) (4.38.0)\r\n",
      "Requirement already satisfied: cycler>=0.10 in ./venv/lib/python3.10/site-packages (from matplotlib) (0.11.0)\r\n",
      "Requirement already satisfied: contourpy>=1.0.1 in ./venv/lib/python3.10/site-packages (from matplotlib) (1.0.7)\r\n",
      "Requirement already satisfied: six>=1.5 in ./venv/lib/python3.10/site-packages (from python-dateutil>=2.7->matplotlib) (1.16.0)\r\n",
      "Requirement already satisfied: python-docx in ./venv/lib/python3.10/site-packages (0.8.11)\r\n",
      "Requirement already satisfied: lxml>=2.3.2 in ./venv/lib/python3.10/site-packages (from python-docx) (4.9.2)\r\n",
      "Requirement already satisfied: scikit-learn in ./venv/lib/python3.10/site-packages (1.2.0)\r\n",
      "Requirement already satisfied: threadpoolctl>=2.0.0 in ./venv/lib/python3.10/site-packages (from scikit-learn) (3.1.0)\r\n",
      "Requirement already satisfied: scipy>=1.3.2 in ./venv/lib/python3.10/site-packages (from scikit-learn) (1.10.0)\r\n",
      "Requirement already satisfied: numpy>=1.17.3 in ./venv/lib/python3.10/site-packages (from scikit-learn) (1.24.1)\r\n",
      "Requirement already satisfied: joblib>=1.1.1 in ./venv/lib/python3.10/site-packages (from scikit-learn) (1.2.0)\r\n",
      "Requirement already satisfied: spacy in ./venv/lib/python3.10/site-packages (3.5.0)\r\n",
      "Requirement already satisfied: langcodes<4.0.0,>=3.2.0 in ./venv/lib/python3.10/site-packages (from spacy) (3.3.0)\r\n",
      "Requirement already satisfied: murmurhash<1.1.0,>=0.28.0 in ./venv/lib/python3.10/site-packages (from spacy) (1.0.9)\r\n",
      "Requirement already satisfied: preshed<3.1.0,>=3.0.2 in ./venv/lib/python3.10/site-packages (from spacy) (3.0.8)\r\n",
      "Requirement already satisfied: catalogue<2.1.0,>=2.0.6 in ./venv/lib/python3.10/site-packages (from spacy) (2.0.8)\r\n",
      "Requirement already satisfied: tqdm<5.0.0,>=4.38.0 in ./venv/lib/python3.10/site-packages (from spacy) (4.64.1)\r\n",
      "Requirement already satisfied: thinc<8.2.0,>=8.1.0 in ./venv/lib/python3.10/site-packages (from spacy) (8.1.7)\r\n",
      "Requirement already satisfied: requests<3.0.0,>=2.13.0 in ./venv/lib/python3.10/site-packages (from spacy) (2.28.2)\r\n",
      "Requirement already satisfied: jinja2 in ./venv/lib/python3.10/site-packages (from spacy) (3.1.2)\r\n",
      "Requirement already satisfied: wasabi<1.2.0,>=0.9.1 in ./venv/lib/python3.10/site-packages (from spacy) (1.1.1)\r\n",
      "Requirement already satisfied: pydantic!=1.8,!=1.8.1,<1.11.0,>=1.7.4 in ./venv/lib/python3.10/site-packages (from spacy) (1.10.4)\r\n",
      "Requirement already satisfied: numpy>=1.15.0 in ./venv/lib/python3.10/site-packages (from spacy) (1.24.1)\r\n",
      "Requirement already satisfied: smart-open<7.0.0,>=5.2.1 in ./venv/lib/python3.10/site-packages (from spacy) (6.3.0)\r\n",
      "Requirement already satisfied: pathy>=0.10.0 in ./venv/lib/python3.10/site-packages (from spacy) (0.10.1)\r\n",
      "Requirement already satisfied: srsly<3.0.0,>=2.4.3 in ./venv/lib/python3.10/site-packages (from spacy) (2.4.5)\r\n",
      "Requirement already satisfied: packaging>=20.0 in ./venv/lib/python3.10/site-packages (from spacy) (23.0)\r\n",
      "Requirement already satisfied: spacy-loggers<2.0.0,>=1.0.0 in ./venv/lib/python3.10/site-packages (from spacy) (1.0.4)\r\n",
      "Requirement already satisfied: spacy-legacy<3.1.0,>=3.0.11 in ./venv/lib/python3.10/site-packages (from spacy) (3.0.11)\r\n",
      "Requirement already satisfied: cymem<2.1.0,>=2.0.2 in ./venv/lib/python3.10/site-packages (from spacy) (2.0.7)\r\n",
      "Requirement already satisfied: setuptools in ./venv/lib/python3.10/site-packages (from spacy) (65.5.1)\r\n",
      "Requirement already satisfied: typer<0.8.0,>=0.3.0 in ./venv/lib/python3.10/site-packages (from spacy) (0.7.0)\r\n",
      "Requirement already satisfied: typing-extensions>=4.2.0 in ./venv/lib/python3.10/site-packages (from pydantic!=1.8,!=1.8.1,<1.11.0,>=1.7.4->spacy) (4.4.0)\r\n",
      "Requirement already satisfied: idna<4,>=2.5 in ./venv/lib/python3.10/site-packages (from requests<3.0.0,>=2.13.0->spacy) (3.4)\r\n",
      "Requirement already satisfied: urllib3<1.27,>=1.21.1 in ./venv/lib/python3.10/site-packages (from requests<3.0.0,>=2.13.0->spacy) (1.26.14)\r\n",
      "Requirement already satisfied: certifi>=2017.4.17 in ./venv/lib/python3.10/site-packages (from requests<3.0.0,>=2.13.0->spacy) (2022.12.7)\r\n",
      "Requirement already satisfied: charset-normalizer<4,>=2 in ./venv/lib/python3.10/site-packages (from requests<3.0.0,>=2.13.0->spacy) (3.0.1)\r\n",
      "Requirement already satisfied: confection<1.0.0,>=0.0.1 in ./venv/lib/python3.10/site-packages (from thinc<8.2.0,>=8.1.0->spacy) (0.0.4)\r\n",
      "Requirement already satisfied: blis<0.8.0,>=0.7.8 in ./venv/lib/python3.10/site-packages (from thinc<8.2.0,>=8.1.0->spacy) (0.7.9)\r\n",
      "Requirement already satisfied: click<9.0.0,>=7.1.1 in ./venv/lib/python3.10/site-packages (from typer<0.8.0,>=0.3.0->spacy) (8.1.3)\r\n",
      "Requirement already satisfied: MarkupSafe>=2.0 in ./venv/lib/python3.10/site-packages (from jinja2->spacy) (2.1.2)\r\n",
      "2023-01-22 19:42:34.359150: I tensorflow/core/platform/cpu_feature_guard.cc:193] This TensorFlow binary is optimized with oneAPI Deep Neural Network Library (oneDNN) to use the following CPU instructions in performance-critical operations:  AVX2 FMA\r\n",
      "To enable them in other operations, rebuild TensorFlow with the appropriate compiler flags.\r\n",
      "2023-01-22 19:42:37.173052: W tensorflow/compiler/xla/stream_executor/platform/default/dso_loader.cc:64] Could not load dynamic library 'libcudart.so.11.0'; dlerror: libcudart.so.11.0: cannot open shared object file: No such file or directory\r\n",
      "2023-01-22 19:42:37.173081: I tensorflow/compiler/xla/stream_executor/cuda/cudart_stub.cc:29] Ignore above cudart dlerror if you do not have a GPU set up on your machine.\r\n",
      "2023-01-22 19:42:43.408791: W tensorflow/compiler/xla/stream_executor/platform/default/dso_loader.cc:64] Could not load dynamic library 'libnvinfer.so.7'; dlerror: libnvinfer.so.7: cannot open shared object file: No such file or directory\r\n",
      "2023-01-22 19:42:43.420796: W tensorflow/compiler/xla/stream_executor/platform/default/dso_loader.cc:64] Could not load dynamic library 'libnvinfer_plugin.so.7'; dlerror: libnvinfer_plugin.so.7: cannot open shared object file: No such file or directory\r\n",
      "2023-01-22 19:42:43.420843: W tensorflow/compiler/tf2tensorrt/utils/py_utils.cc:38] TF-TRT Warning: Cannot dlopen some TensorRT libraries. If you would like to use Nvidia GPU with TensorRT, please make sure the missing libraries mentioned above are installed properly.\r\n",
      "2023-01-22 19:42:48.588093: W tensorflow/compiler/xla/stream_executor/platform/default/dso_loader.cc:64] Could not load dynamic library 'libcuda.so.1'; dlerror: libcuda.so.1: cannot open shared object file: No such file or directory\r\n",
      "2023-01-22 19:42:48.595030: W tensorflow/compiler/xla/stream_executor/cuda/cuda_driver.cc:265] failed call to cuInit: UNKNOWN ERROR (303)\r\n",
      "2023-01-22 19:42:48.595100: I tensorflow/compiler/xla/stream_executor/cuda/cuda_diagnostics.cc:156] kernel driver does not appear to be running on this host (home130): /proc/driver/nvidia/version does not exist\r\n",
      "Collecting en-core-web-sm==3.5.0\r\n",
      "  Downloading https://github.com/explosion/spacy-models/releases/download/en_core_web_sm-3.5.0/en_core_web_sm-3.5.0-py3-none-any.whl (12.8 MB)\r\n",
      "\u001B[2K     \u001B[90m━━━━━━━━━━━━━━━━━━━━━━━━━━━━━━━━━━━━━━━━\u001B[0m \u001B[32m12.8/12.8 MB\u001B[0m \u001B[31m7.4 MB/s\u001B[0m eta \u001B[36m0:00:00\u001B[0m00:01\u001B[0m00:01\u001B[0mm\r\n",
      "\u001B[?25hRequirement already satisfied: spacy<3.6.0,>=3.5.0 in ./venv/lib/python3.10/site-packages (from en-core-web-sm==3.5.0) (3.5.0)\r\n",
      "Requirement already satisfied: typer<0.8.0,>=0.3.0 in ./venv/lib/python3.10/site-packages (from spacy<3.6.0,>=3.5.0->en-core-web-sm==3.5.0) (0.7.0)\r\n",
      "Requirement already satisfied: srsly<3.0.0,>=2.4.3 in ./venv/lib/python3.10/site-packages (from spacy<3.6.0,>=3.5.0->en-core-web-sm==3.5.0) (2.4.5)\r\n",
      "Requirement already satisfied: pydantic!=1.8,!=1.8.1,<1.11.0,>=1.7.4 in ./venv/lib/python3.10/site-packages (from spacy<3.6.0,>=3.5.0->en-core-web-sm==3.5.0) (1.10.4)\r\n",
      "Requirement already satisfied: numpy>=1.15.0 in ./venv/lib/python3.10/site-packages (from spacy<3.6.0,>=3.5.0->en-core-web-sm==3.5.0) (1.24.1)\r\n",
      "Requirement already satisfied: murmurhash<1.1.0,>=0.28.0 in ./venv/lib/python3.10/site-packages (from spacy<3.6.0,>=3.5.0->en-core-web-sm==3.5.0) (1.0.9)\r\n",
      "Requirement already satisfied: requests<3.0.0,>=2.13.0 in ./venv/lib/python3.10/site-packages (from spacy<3.6.0,>=3.5.0->en-core-web-sm==3.5.0) (2.28.2)\r\n",
      "Requirement already satisfied: smart-open<7.0.0,>=5.2.1 in ./venv/lib/python3.10/site-packages (from spacy<3.6.0,>=3.5.0->en-core-web-sm==3.5.0) (6.3.0)\r\n",
      "Requirement already satisfied: cymem<2.1.0,>=2.0.2 in ./venv/lib/python3.10/site-packages (from spacy<3.6.0,>=3.5.0->en-core-web-sm==3.5.0) (2.0.7)\r\n",
      "Requirement already satisfied: spacy-loggers<2.0.0,>=1.0.0 in ./venv/lib/python3.10/site-packages (from spacy<3.6.0,>=3.5.0->en-core-web-sm==3.5.0) (1.0.4)\r\n",
      "Requirement already satisfied: jinja2 in ./venv/lib/python3.10/site-packages (from spacy<3.6.0,>=3.5.0->en-core-web-sm==3.5.0) (3.1.2)\r\n",
      "Requirement already satisfied: langcodes<4.0.0,>=3.2.0 in ./venv/lib/python3.10/site-packages (from spacy<3.6.0,>=3.5.0->en-core-web-sm==3.5.0) (3.3.0)\r\n",
      "Requirement already satisfied: preshed<3.1.0,>=3.0.2 in ./venv/lib/python3.10/site-packages (from spacy<3.6.0,>=3.5.0->en-core-web-sm==3.5.0) (3.0.8)\r\n",
      "Requirement already satisfied: thinc<8.2.0,>=8.1.0 in ./venv/lib/python3.10/site-packages (from spacy<3.6.0,>=3.5.0->en-core-web-sm==3.5.0) (8.1.7)\r\n",
      "Requirement already satisfied: tqdm<5.0.0,>=4.38.0 in ./venv/lib/python3.10/site-packages (from spacy<3.6.0,>=3.5.0->en-core-web-sm==3.5.0) (4.64.1)\r\n",
      "Requirement already satisfied: catalogue<2.1.0,>=2.0.6 in ./venv/lib/python3.10/site-packages (from spacy<3.6.0,>=3.5.0->en-core-web-sm==3.5.0) (2.0.8)\r\n",
      "Requirement already satisfied: spacy-legacy<3.1.0,>=3.0.11 in ./venv/lib/python3.10/site-packages (from spacy<3.6.0,>=3.5.0->en-core-web-sm==3.5.0) (3.0.11)\r\n",
      "Requirement already satisfied: wasabi<1.2.0,>=0.9.1 in ./venv/lib/python3.10/site-packages (from spacy<3.6.0,>=3.5.0->en-core-web-sm==3.5.0) (1.1.1)\r\n",
      "Requirement already satisfied: packaging>=20.0 in ./venv/lib/python3.10/site-packages (from spacy<3.6.0,>=3.5.0->en-core-web-sm==3.5.0) (23.0)\r\n",
      "Requirement already satisfied: pathy>=0.10.0 in ./venv/lib/python3.10/site-packages (from spacy<3.6.0,>=3.5.0->en-core-web-sm==3.5.0) (0.10.1)\r\n",
      "Requirement already satisfied: setuptools in ./venv/lib/python3.10/site-packages (from spacy<3.6.0,>=3.5.0->en-core-web-sm==3.5.0) (65.5.1)\r\n",
      "Requirement already satisfied: typing-extensions>=4.2.0 in ./venv/lib/python3.10/site-packages (from pydantic!=1.8,!=1.8.1,<1.11.0,>=1.7.4->spacy<3.6.0,>=3.5.0->en-core-web-sm==3.5.0) (4.4.0)\r\n",
      "Requirement already satisfied: charset-normalizer<4,>=2 in ./venv/lib/python3.10/site-packages (from requests<3.0.0,>=2.13.0->spacy<3.6.0,>=3.5.0->en-core-web-sm==3.5.0) (3.0.1)\r\n",
      "Requirement already satisfied: urllib3<1.27,>=1.21.1 in ./venv/lib/python3.10/site-packages (from requests<3.0.0,>=2.13.0->spacy<3.6.0,>=3.5.0->en-core-web-sm==3.5.0) (1.26.14)\r\n",
      "Requirement already satisfied: idna<4,>=2.5 in ./venv/lib/python3.10/site-packages (from requests<3.0.0,>=2.13.0->spacy<3.6.0,>=3.5.0->en-core-web-sm==3.5.0) (3.4)\r\n",
      "Requirement already satisfied: certifi>=2017.4.17 in ./venv/lib/python3.10/site-packages (from requests<3.0.0,>=2.13.0->spacy<3.6.0,>=3.5.0->en-core-web-sm==3.5.0) (2022.12.7)\r\n",
      "Requirement already satisfied: confection<1.0.0,>=0.0.1 in ./venv/lib/python3.10/site-packages (from thinc<8.2.0,>=8.1.0->spacy<3.6.0,>=3.5.0->en-core-web-sm==3.5.0) (0.0.4)\r\n",
      "Requirement already satisfied: blis<0.8.0,>=0.7.8 in ./venv/lib/python3.10/site-packages (from thinc<8.2.0,>=8.1.0->spacy<3.6.0,>=3.5.0->en-core-web-sm==3.5.0) (0.7.9)\r\n",
      "Requirement already satisfied: click<9.0.0,>=7.1.1 in ./venv/lib/python3.10/site-packages (from typer<0.8.0,>=0.3.0->spacy<3.6.0,>=3.5.0->en-core-web-sm==3.5.0) (8.1.3)\r\n",
      "Requirement already satisfied: MarkupSafe>=2.0 in ./venv/lib/python3.10/site-packages (from jinja2->spacy<3.6.0,>=3.5.0->en-core-web-sm==3.5.0) (2.1.2)\r\n",
      "\u001B[38;5;2m✔ Download and installation successful\u001B[0m\r\n",
      "You can now load the package via spacy.load('en_core_web_sm')\r\n",
      "2023-01-22 19:42:58.999800: I tensorflow/core/platform/cpu_feature_guard.cc:193] This TensorFlow binary is optimized with oneAPI Deep Neural Network Library (oneDNN) to use the following CPU instructions in performance-critical operations:  AVX2 FMA\r\n",
      "To enable them in other operations, rebuild TensorFlow with the appropriate compiler flags.\r\n",
      "2023-01-22 19:42:59.160602: W tensorflow/compiler/xla/stream_executor/platform/default/dso_loader.cc:64] Could not load dynamic library 'libcudart.so.11.0'; dlerror: libcudart.so.11.0: cannot open shared object file: No such file or directory\r\n",
      "2023-01-22 19:42:59.160635: I tensorflow/compiler/xla/stream_executor/cuda/cudart_stub.cc:29] Ignore above cudart dlerror if you do not have a GPU set up on your machine.\r\n",
      "2023-01-22 19:42:59.900717: W tensorflow/compiler/xla/stream_executor/platform/default/dso_loader.cc:64] Could not load dynamic library 'libnvinfer.so.7'; dlerror: libnvinfer.so.7: cannot open shared object file: No such file or directory\r\n",
      "2023-01-22 19:42:59.900787: W tensorflow/compiler/xla/stream_executor/platform/default/dso_loader.cc:64] Could not load dynamic library 'libnvinfer_plugin.so.7'; dlerror: libnvinfer_plugin.so.7: cannot open shared object file: No such file or directory\r\n",
      "2023-01-22 19:42:59.900799: W tensorflow/compiler/tf2tensorrt/utils/py_utils.cc:38] TF-TRT Warning: Cannot dlopen some TensorRT libraries. If you would like to use Nvidia GPU with TensorRT, please make sure the missing libraries mentioned above are installed properly.\r\n",
      "2023-01-22 19:43:00.909454: W tensorflow/compiler/xla/stream_executor/platform/default/dso_loader.cc:64] Could not load dynamic library 'libcuda.so.1'; dlerror: libcuda.so.1: cannot open shared object file: No such file or directory\r\n",
      "2023-01-22 19:43:00.909487: W tensorflow/compiler/xla/stream_executor/cuda/cuda_driver.cc:265] failed call to cuInit: UNKNOWN ERROR (303)\r\n",
      "2023-01-22 19:43:00.909511: I tensorflow/compiler/xla/stream_executor/cuda/cuda_diagnostics.cc:156] kernel driver does not appear to be running on this host (home130): /proc/driver/nvidia/version does not exist\r\n",
      "Collecting ru-core-news-sm==3.5.0\r\n",
      "  Downloading https://github.com/explosion/spacy-models/releases/download/ru_core_news_sm-3.5.0/ru_core_news_sm-3.5.0-py3-none-any.whl (15.3 MB)\r\n",
      "\u001B[2K     \u001B[90m━━━━━━━━━━━━━━━━━━━━━━━━━━━━━━━━━━━━━━━━\u001B[0m \u001B[32m15.3/15.3 MB\u001B[0m \u001B[31m6.8 MB/s\u001B[0m eta \u001B[36m0:00:00\u001B[0m00:01\u001B[0m00:01\u001B[0m\r\n",
      "\u001B[?25hRequirement already satisfied: pymorphy3>=1.0.0 in ./venv/lib/python3.10/site-packages (from ru-core-news-sm==3.5.0) (1.2.0)\r\n",
      "Requirement already satisfied: spacy<3.6.0,>=3.5.0 in ./venv/lib/python3.10/site-packages (from ru-core-news-sm==3.5.0) (3.5.0)\r\n",
      "Requirement already satisfied: docopt>=0.6 in ./venv/lib/python3.10/site-packages (from pymorphy3>=1.0.0->ru-core-news-sm==3.5.0) (0.6.2)\r\n",
      "Requirement already satisfied: pymorphy3-dicts-ru in ./venv/lib/python3.10/site-packages (from pymorphy3>=1.0.0->ru-core-news-sm==3.5.0) (2.4.417150.4580142)\r\n",
      "Requirement already satisfied: dawg-python>=0.7.1 in ./venv/lib/python3.10/site-packages (from pymorphy3>=1.0.0->ru-core-news-sm==3.5.0) (0.7.2)\r\n",
      "Requirement already satisfied: setuptools in ./venv/lib/python3.10/site-packages (from spacy<3.6.0,>=3.5.0->ru-core-news-sm==3.5.0) (65.5.1)\r\n",
      "Requirement already satisfied: jinja2 in ./venv/lib/python3.10/site-packages (from spacy<3.6.0,>=3.5.0->ru-core-news-sm==3.5.0) (3.1.2)\r\n",
      "Requirement already satisfied: catalogue<2.1.0,>=2.0.6 in ./venv/lib/python3.10/site-packages (from spacy<3.6.0,>=3.5.0->ru-core-news-sm==3.5.0) (2.0.8)\r\n",
      "Requirement already satisfied: wasabi<1.2.0,>=0.9.1 in ./venv/lib/python3.10/site-packages (from spacy<3.6.0,>=3.5.0->ru-core-news-sm==3.5.0) (1.1.1)\r\n",
      "Requirement already satisfied: preshed<3.1.0,>=3.0.2 in ./venv/lib/python3.10/site-packages (from spacy<3.6.0,>=3.5.0->ru-core-news-sm==3.5.0) (3.0.8)\r\n",
      "Requirement already satisfied: langcodes<4.0.0,>=3.2.0 in ./venv/lib/python3.10/site-packages (from spacy<3.6.0,>=3.5.0->ru-core-news-sm==3.5.0) (3.3.0)\r\n",
      "Requirement already satisfied: cymem<2.1.0,>=2.0.2 in ./venv/lib/python3.10/site-packages (from spacy<3.6.0,>=3.5.0->ru-core-news-sm==3.5.0) (2.0.7)\r\n",
      "Requirement already satisfied: typer<0.8.0,>=0.3.0 in ./venv/lib/python3.10/site-packages (from spacy<3.6.0,>=3.5.0->ru-core-news-sm==3.5.0) (0.7.0)\r\n",
      "Requirement already satisfied: thinc<8.2.0,>=8.1.0 in ./venv/lib/python3.10/site-packages (from spacy<3.6.0,>=3.5.0->ru-core-news-sm==3.5.0) (8.1.7)\r\n",
      "Requirement already satisfied: murmurhash<1.1.0,>=0.28.0 in ./venv/lib/python3.10/site-packages (from spacy<3.6.0,>=3.5.0->ru-core-news-sm==3.5.0) (1.0.9)\r\n",
      "Requirement already satisfied: requests<3.0.0,>=2.13.0 in ./venv/lib/python3.10/site-packages (from spacy<3.6.0,>=3.5.0->ru-core-news-sm==3.5.0) (2.28.2)\r\n",
      "Requirement already satisfied: pathy>=0.10.0 in ./venv/lib/python3.10/site-packages (from spacy<3.6.0,>=3.5.0->ru-core-news-sm==3.5.0) (0.10.1)\r\n",
      "Requirement already satisfied: pydantic!=1.8,!=1.8.1,<1.11.0,>=1.7.4 in ./venv/lib/python3.10/site-packages (from spacy<3.6.0,>=3.5.0->ru-core-news-sm==3.5.0) (1.10.4)\r\n",
      "Requirement already satisfied: tqdm<5.0.0,>=4.38.0 in ./venv/lib/python3.10/site-packages (from spacy<3.6.0,>=3.5.0->ru-core-news-sm==3.5.0) (4.64.1)\r\n",
      "Requirement already satisfied: srsly<3.0.0,>=2.4.3 in ./venv/lib/python3.10/site-packages (from spacy<3.6.0,>=3.5.0->ru-core-news-sm==3.5.0) (2.4.5)\r\n",
      "Requirement already satisfied: packaging>=20.0 in ./venv/lib/python3.10/site-packages (from spacy<3.6.0,>=3.5.0->ru-core-news-sm==3.5.0) (23.0)\r\n",
      "Requirement already satisfied: spacy-loggers<2.0.0,>=1.0.0 in ./venv/lib/python3.10/site-packages (from spacy<3.6.0,>=3.5.0->ru-core-news-sm==3.5.0) (1.0.4)\r\n",
      "Requirement already satisfied: numpy>=1.15.0 in ./venv/lib/python3.10/site-packages (from spacy<3.6.0,>=3.5.0->ru-core-news-sm==3.5.0) (1.24.1)\r\n",
      "Requirement already satisfied: spacy-legacy<3.1.0,>=3.0.11 in ./venv/lib/python3.10/site-packages (from spacy<3.6.0,>=3.5.0->ru-core-news-sm==3.5.0) (3.0.11)\r\n",
      "Requirement already satisfied: smart-open<7.0.0,>=5.2.1 in ./venv/lib/python3.10/site-packages (from spacy<3.6.0,>=3.5.0->ru-core-news-sm==3.5.0) (6.3.0)\r\n",
      "Requirement already satisfied: typing-extensions>=4.2.0 in ./venv/lib/python3.10/site-packages (from pydantic!=1.8,!=1.8.1,<1.11.0,>=1.7.4->spacy<3.6.0,>=3.5.0->ru-core-news-sm==3.5.0) (4.4.0)\r\n",
      "Requirement already satisfied: charset-normalizer<4,>=2 in ./venv/lib/python3.10/site-packages (from requests<3.0.0,>=2.13.0->spacy<3.6.0,>=3.5.0->ru-core-news-sm==3.5.0) (3.0.1)\r\n",
      "Requirement already satisfied: urllib3<1.27,>=1.21.1 in ./venv/lib/python3.10/site-packages (from requests<3.0.0,>=2.13.0->spacy<3.6.0,>=3.5.0->ru-core-news-sm==3.5.0) (1.26.14)\r\n",
      "Requirement already satisfied: idna<4,>=2.5 in ./venv/lib/python3.10/site-packages (from requests<3.0.0,>=2.13.0->spacy<3.6.0,>=3.5.0->ru-core-news-sm==3.5.0) (3.4)\r\n",
      "Requirement already satisfied: certifi>=2017.4.17 in ./venv/lib/python3.10/site-packages (from requests<3.0.0,>=2.13.0->spacy<3.6.0,>=3.5.0->ru-core-news-sm==3.5.0) (2022.12.7)\r\n",
      "Requirement already satisfied: confection<1.0.0,>=0.0.1 in ./venv/lib/python3.10/site-packages (from thinc<8.2.0,>=8.1.0->spacy<3.6.0,>=3.5.0->ru-core-news-sm==3.5.0) (0.0.4)\r\n",
      "Requirement already satisfied: blis<0.8.0,>=0.7.8 in ./venv/lib/python3.10/site-packages (from thinc<8.2.0,>=8.1.0->spacy<3.6.0,>=3.5.0->ru-core-news-sm==3.5.0) (0.7.9)\r\n",
      "Requirement already satisfied: click<9.0.0,>=7.1.1 in ./venv/lib/python3.10/site-packages (from typer<0.8.0,>=0.3.0->spacy<3.6.0,>=3.5.0->ru-core-news-sm==3.5.0) (8.1.3)\r\n",
      "Requirement already satisfied: MarkupSafe>=2.0 in ./venv/lib/python3.10/site-packages (from jinja2->spacy<3.6.0,>=3.5.0->ru-core-news-sm==3.5.0) (2.1.2)\r\n",
      "\u001B[38;5;2m✔ Download and installation successful\u001B[0m\r\n",
      "You can now load the package via spacy.load('ru_core_news_sm')\r\n",
      "Requirement already satisfied: networkx in ./venv/lib/python3.10/site-packages (3.0)\r\n",
      "Requirement already satisfied: pymorphy2 in ./venv/lib/python3.10/site-packages (0.9.1)\r\n",
      "Requirement already satisfied: docopt>=0.6 in ./venv/lib/python3.10/site-packages (from pymorphy2) (0.6.2)\r\n",
      "Requirement already satisfied: dawg-python>=0.7.1 in ./venv/lib/python3.10/site-packages (from pymorphy2) (0.7.2)\r\n",
      "Requirement already satisfied: pymorphy2-dicts-ru<3.0,>=2.4 in ./venv/lib/python3.10/site-packages (from pymorphy2) (2.4.417127.4579844)\r\n"
     ]
    }
   ],
   "source": [
    "!pip install nltk\n",
    "!pip install navec\n",
    "!pip install pandas\n",
    "!pip install natasha\n",
    "!pip install matplotlib\n",
    "!pip install python-docx\n",
    "!pip install scikit-learn\n",
    "\n",
    "!pip install spacy\n",
    "!python -m spacy download en_core_web_sm\n",
    "!python -m spacy download ru_core_news_sm\n",
    "\n",
    "!pip install networkx\n",
    "#!pytest networkx\n",
    "#!pytest --pyargs networkx\n",
    "\n",
    "!pip install pymorphy2"
   ]
  },
  {
   "cell_type": "code",
   "execution_count": 101,
   "id": "3652d991-12f0-439a-9d10-45ac12ea7beb",
   "metadata": {},
   "outputs": [],
   "source": [
    "import json\n",
    "import numpy as np\n",
    "import pandas as pd\n",
    "import networkx as nx\n",
    "import matplotlib.pyplot as plt\n",
    "%matplotlib inline\n",
    "\n",
    "from nltk import download\n",
    "from nltk.tokenize import sent_tokenize, word_tokenize\n",
    "\n",
    "from navec import Navec\n",
    "from docx import Document\n",
    "from IPython.display import display\n",
    "from sklearn.model_selection import train_test_split\n",
    "\n",
    "from natasha import (\n",
    "    Segmenter,\n",
    "    MorphVocab,\n",
    "    NewsEmbedding,\n",
    "    NewsMorphTagger,\n",
    "    NewsSyntaxParser,\n",
    "    NewsNERTagger,\n",
    "    NamesExtractor,\n",
    "    DatesExtractor,\n",
    "    MoneyExtractor,\n",
    "    AddrExtractor,\n",
    "    Doc\n",
    ")\n",
    "\n",
    "from keras import utils\n",
    "from keras.models import Sequential\n",
    "from keras.layers import Dense, Embedding, Conv1D, GlobalMaxPooling1D, LSTM, GRU\n",
    "from keras.preprocessing.text import Tokenizer\n",
    "\n",
    "# Морфологический анализ\n",
    "from pymorphy2 import MorphAnalyzer\n",
    "\n",
    "# Синтаксический анализ\n",
    "from spacy import load"
   ]
  },
  {
   "cell_type": "code",
   "execution_count": 102,
   "id": "038d3959-5c21-4a26-8abb-9be0f8044f90",
   "metadata": {},
   "outputs": [],
   "source": [
    "with open('merged_data.json', \"r\") as readFile:\n",
    "    merge_data = json.load(readFile)"
   ]
  },
  {
   "cell_type": "markdown",
   "id": "5fdedeb9-f25a-4cb1-a815-d51b0a277969",
   "metadata": {},
   "source": [
    "### Определяем количество департаментов в компании"
   ]
  },
  {
   "cell_type": "code",
   "execution_count": 103,
   "id": "881c5a60-8bae-4b0f-a12e-63c6a84759e1",
   "metadata": {},
   "outputs": [],
   "source": [
    "DEPARTMENTS = []\n",
    "for n in range(10000):\n",
    "    try:\n",
    "        for i in range(1,30):\n",
    "            DEPARTMENTS.append(merge_data[n]['Tasks']['Task{}'.format(i)]['task_responsibles_groups'])\n",
    "    except KeyError:\n",
    "        continue\n",
    "    except IndexError:\n",
    "        continue"
   ]
  },
  {
   "cell_type": "code",
   "execution_count": 104,
   "id": "c45083da-2600-411f-9f37-2724d997e2dc",
   "metadata": {},
   "outputs": [],
   "source": [
    "FIO_POSITION = []\n",
    "for n in range(10000):\n",
    "    try:\n",
    "        for i in range(1,20):\n",
    "            FIO_POSITION.append(merge_data[n]['Tasks']['Task{}'.format(i)]['task_responsibles_people'])\n",
    "    except KeyError:\n",
    "        continue\n",
    "    except IndexError:\n",
    "        continue"
   ]
  },
  {
   "cell_type": "code",
   "execution_count": 105,
   "id": "5d89081d-c417-4ba2-99b0-c22ab7b7593d",
   "metadata": {},
   "outputs": [],
   "source": [
    "TASK = []\n",
    "for n in range(10000):\n",
    "    try:\n",
    "        for i in range(1,30):\n",
    "            TASK.append(merge_data[n]['Tasks']['Task{}'.format(i)]['task_text'])\n",
    "    except KeyError:\n",
    "        continue\n",
    "    except IndexError:\n",
    "        continue"
   ]
  },
  {
   "cell_type": "code",
   "execution_count": 106,
   "id": "dee9f29a-af7f-4025-9b1e-e911565e1a4f",
   "metadata": {},
   "outputs": [],
   "source": [
    "POSITION = []\n",
    "for n in range(10000):\n",
    "    try:\n",
    "        for i in range(1,30):\n",
    "            POSITION.append(merge_data[n]['Tasks']['Global_supervisor'][i])\n",
    "    except KeyError:\n",
    "        continue\n",
    "    except IndexError:\n",
    "        continue"
   ]
  },
  {
   "cell_type": "markdown",
   "id": "ab5abf53-8eaa-487b-8742-2098c7664c61",
   "metadata": {},
   "source": [
    "### Очищаем данные"
   ]
  },
  {
   "cell_type": "code",
   "execution_count": 107,
   "id": "3c4de681-ad7a-4005-a902-e84147b20de7",
   "metadata": {},
   "outputs": [],
   "source": [
    "def text_split(text: str):\n",
    "    pouch_of_words = []\n",
    "    for line in text:\n",
    "        line = line.split()\n",
    "        pouch_of_words.append(line)\n",
    "    return pouch_of_words"
   ]
  },
  {
   "cell_type": "code",
   "execution_count": 108,
   "id": "d29e3a91-cfa4-4207-9d21-377d0066aa8f",
   "metadata": {},
   "outputs": [],
   "source": [
    "pouch_of_words = text_split(FIO_POSITION[:2])"
   ]
  },
  {
   "cell_type": "code",
   "execution_count": 194,
   "id": "314fc52f-577b-416f-b7bc-1ee93dddf9f4",
   "metadata": {},
   "outputs": [],
   "source": [
    "def split_spacy(text: str):\n",
    "    pouch_of_words = []\n",
    "    nlp = load('ru_core_news_sm')\n",
    "    if type(text) == list:\n",
    "        for line in text:\n",
    "            doc = nlp(line)\n",
    "            for token in doc:\n",
    "                pouch_of_words.append(token)\n",
    "    return pouch_of_words"
   ]
  },
  {
   "cell_type": "code",
   "execution_count": 195,
   "id": "406ac96b-a240-486a-a078-22e440b7cb3f",
   "metadata": {},
   "outputs": [],
   "source": [
    "def sentence(text: str):\n",
    "    download('punkt')\n",
    "    sentences = sent_tokenize(text)\n",
    "    return sentences"
   ]
  },
  {
   "cell_type": "markdown",
   "id": "e001be42-9e01-4d46-84eb-d1266a40bd35",
   "metadata": {},
   "source": [
    "### Морфологический анализ"
   ]
  },
  {
   "cell_type": "code",
   "execution_count": 196,
   "id": "c9847f24-2c25-44b1-ad3a-833b92164331",
   "metadata": {},
   "outputs": [],
   "source": [
    "morph = MorphAnalyzer()"
   ]
  },
  {
   "cell_type": "code",
   "execution_count": 197,
   "id": "60395f35-a7de-4b2e-b7ea-9afaf43f336b",
   "metadata": {},
   "outputs": [
    {
     "name": "stdout",
     "output_type": "stream",
     "text": [
      "Контроль\n",
      "над\n",
      "выполнением\n",
      "приказа\n",
      "возложить\n",
      "на\n",
      "системного\n",
      "администратора\n",
      "Сергеева\n",
      "Андрея\n"
     ]
    }
   ],
   "source": [
    "def morph_word(words: str):\n",
    "    words = split_spacy(words)\n",
    "    morph_words = []\n",
    "    for word in words:\n",
    "       print(word)\n",
    "\n",
    "morph_word(POSITION[:1])"
   ]
  },
  {
   "cell_type": "markdown",
   "id": "cf7bfaab-481e-4149-b652-e5be17cd01d6",
   "metadata": {},
   "source": [
    "### Синтаксический анализ"
   ]
  },
  {
   "cell_type": "code",
   "execution_count": 198,
   "id": "d8202846-269f-410e-8298-2831691042f3",
   "metadata": {},
   "outputs": [],
   "source": [
    "#nlp_synt = load('ru_core_news_sm')"
   ]
  },
  {
   "cell_type": "markdown",
   "id": "758170b0-6131-465f-8019-37d511f442ae",
   "metadata": {},
   "source": [
    "### Разделяем текст на предложения."
   ]
  },
  {
   "cell_type": "code",
   "execution_count": 199,
   "id": "6429f4cc-6a65-4c37-a558-610f4b8b68e9",
   "metadata": {},
   "outputs": [
    {
     "name": "stderr",
     "output_type": "stream",
     "text": [
      "[nltk_data] Downloading package punkt to /home/user/nltk_data...\n",
      "[nltk_data]   Package punkt is already up-to-date!\n",
      "[nltk_data] Downloading package punkt to /home/user/nltk_data...\n",
      "[nltk_data]   Package punkt is already up-to-date!\n"
     ]
    }
   ],
   "source": [
    "def sentence(text: str):\n",
    "    pouch_of_sentence = []\n",
    "    if type(text) == list:\n",
    "        for line in text:\n",
    "            line = \" \".join(line)\n",
    "            download('punkt')\n",
    "            sentences = sent_tokenize(line)\n",
    "            pouch_of_sentence.append(sentences)\n",
    "    return str(pouch_of_sentence)\n",
    "    \n",
    "text = sentence(FIO_POSITION[10:12])"
   ]
  },
  {
   "cell_type": "code",
   "execution_count": 200,
   "id": "e54bf6e0-436b-40be-bfb9-3bfa4c4dc434",
   "metadata": {},
   "outputs": [],
   "source": [
    "segmenter = Segmenter()\n",
    "morph_vocab = MorphVocab()\n",
    "\n",
    "emb = NewsEmbedding()\n",
    "morph_tagger = NewsMorphTagger(emb)\n",
    "syntax_parser = NewsSyntaxParser(emb)\n",
    "ner_tagger = NewsNERTagger(emb)\n",
    "\n",
    "names_extractor = NamesExtractor(morph_vocab)\n",
    "dates_extractor = DatesExtractor(morph_vocab)\n",
    "money_extractor = MoneyExtractor(morph_vocab)\n",
    "addr_extractor = AddrExtractor(morph_vocab)"
   ]
  },
  {
   "cell_type": "code",
   "execution_count": 201,
   "id": "f1da78ec-9c1f-43ea-9597-b6ce4556632d",
   "metadata": {},
   "outputs": [],
   "source": [
    "syntax_parser = NewsSyntaxParser(emb)"
   ]
  },
  {
   "cell_type": "code",
   "execution_count": 202,
   "id": "bedf55ce-5641-46ea-aa2f-009cc74b1330",
   "metadata": {},
   "outputs": [],
   "source": [
    "doc_n = Doc(text)"
   ]
  },
  {
   "cell_type": "code",
   "execution_count": 15,
   "id": "3b294365-295f-4241-95dd-a8319a740197",
   "metadata": {},
   "outputs": [],
   "source": [
    "#for tocken in doc_n.tokens:\n",
    "#    print(tocken)"
   ]
  },
  {
   "cell_type": "code",
   "execution_count": 40,
   "id": "f38821db-3e52-41ca-8520-c31746fd2f2d",
   "metadata": {},
   "outputs": [],
   "source": [
    "#doc_n.parse_syntax(syntax_parser)"
   ]
  },
  {
   "cell_type": "code",
   "execution_count": 17,
   "id": "1efb5161-3938-412d-aa77-fa7393ab46be",
   "metadata": {},
   "outputs": [],
   "source": [
    "#for tocken in doc_n.tokens:\n",
    "#    print(tocken)"
   ]
  },
  {
   "cell_type": "code",
   "execution_count": 18,
   "id": "aec95c8a-f571-4d1e-9367-8263d6fc586c",
   "metadata": {},
   "outputs": [],
   "source": [
    "#doc_n.sents[0].syntax.print()"
   ]
  },
  {
   "cell_type": "markdown",
   "id": "d0493dfd-4f4c-45ac-a228-b13a78523b76",
   "metadata": {},
   "source": [
    "### Выявление ФИО"
   ]
  },
  {
   "cell_type": "code",
   "execution_count": 203,
   "id": "82e62351-4f05-4854-b73c-897e466ca57b",
   "metadata": {},
   "outputs": [
    {
     "ename": "TypeError",
     "evalue": "'NoneType' object is not iterable",
     "output_type": "error",
     "traceback": [
      "\u001B[0;31m---------------------------------------------------------------------------\u001B[0m",
      "\u001B[0;31mTypeError\u001B[0m                                 Traceback (most recent call last)",
      "Cell \u001B[0;32mIn[203], line 3\u001B[0m\n\u001B[1;32m      1\u001B[0m FIO \u001B[38;5;241m=\u001B[39m []\n\u001B[0;32m----> 3\u001B[0m \u001B[38;5;28;01mfor\u001B[39;00m tocken \u001B[38;5;129;01min\u001B[39;00m doc_n\u001B[38;5;241m.\u001B[39mtokens:\n\u001B[1;32m      4\u001B[0m     \u001B[38;5;28;01mif\u001B[39;00m tocken\u001B[38;5;241m.\u001B[39mrel \u001B[38;5;241m==\u001B[39m \u001B[38;5;124m'\u001B[39m\u001B[38;5;124mflat:name\u001B[39m\u001B[38;5;124m'\u001B[39m \u001B[38;5;129;01mor\u001B[39;00m tocken\u001B[38;5;241m.\u001B[39mrel \u001B[38;5;241m==\u001B[39m \u001B[38;5;124m'\u001B[39m\u001B[38;5;124mappos\u001B[39m\u001B[38;5;124m'\u001B[39m:\n\u001B[1;32m      5\u001B[0m         \u001B[38;5;28;01mif\u001B[39;00m tocken\u001B[38;5;241m.\u001B[39mrel \u001B[38;5;241m==\u001B[39m \u001B[38;5;124m'\u001B[39m\u001B[38;5;124mappos\u001B[39m\u001B[38;5;124m'\u001B[39m:\n",
      "\u001B[0;31mTypeError\u001B[0m: 'NoneType' object is not iterable"
     ]
    }
   ],
   "source": [
    "FIO = []\n",
    "\n",
    "for tocken in doc_n.tokens:\n",
    "    if tocken.rel == 'flat:name' or tocken.rel == 'appos':\n",
    "        if tocken.rel == 'appos':\n",
    "            surn = tocken.text \n",
    "            if surn in FIO:\n",
    "                pass\n",
    "            else:\n",
    "                FIO.append(surn)\n",
    "        elif tocken.rel == 'flat:name':\n",
    "            IO = tocken.text + '.'      \n",
    "            FIO.append(IO)"
   ]
  },
  {
   "cell_type": "code",
   "execution_count": 204,
   "id": "40678c19-4a34-430f-95e5-ebb693e16fd4",
   "metadata": {},
   "outputs": [],
   "source": [
    "doc_n.segment(segmenter) "
   ]
  },
  {
   "cell_type": "code",
   "execution_count": 205,
   "id": "1581aa45-90d4-49c4-b938-350c5e93c487",
   "metadata": {},
   "outputs": [],
   "source": [
    "doc_n.tag_morph(morph_tagger)"
   ]
  },
  {
   "cell_type": "code",
   "execution_count": 206,
   "id": "4c085c32-01d3-4698-b4b6-a69b13b6488b",
   "metadata": {},
   "outputs": [],
   "source": [
    "doc_n.tag_ner(ner_tagger)"
   ]
  },
  {
   "cell_type": "code",
   "execution_count": 207,
   "id": "7100e7ea-88dd-4c19-8b19-15b59ae2f539",
   "metadata": {},
   "outputs": [
    {
     "name": "stderr",
     "output_type": "stream",
     "text": [
      "/home/user/PycharmProjects/Hack2023_CheckOut/venv/lib/python3.10/site-packages/slovnet/exec/model.py:419: FutureWarning: In the future `np.long` will be defined as the corresponding NumPy scalar.  (This may have returned Python scalars in past versions.\n",
      "  zero = np.zeros((batch_size, 1), dtype=np.long)\n"
     ]
    },
    {
     "ename": "AttributeError",
     "evalue": "module 'numpy' has no attribute 'long'",
     "output_type": "error",
     "traceback": [
      "\u001B[0;31m---------------------------------------------------------------------------\u001B[0m",
      "\u001B[0;31mAttributeError\u001B[0m                            Traceback (most recent call last)",
      "Cell \u001B[0;32mIn[207], line 1\u001B[0m\n\u001B[0;32m----> 1\u001B[0m \u001B[43mdoc_n\u001B[49m\u001B[38;5;241;43m.\u001B[39;49m\u001B[43mparse_syntax\u001B[49m\u001B[43m(\u001B[49m\u001B[43msyntax_parser\u001B[49m\u001B[43m)\u001B[49m\n",
      "File \u001B[0;32m~/PycharmProjects/Hack2023_CheckOut/venv/lib/python3.10/site-packages/natasha/doc.py:139\u001B[0m, in \u001B[0;36mDoc.parse_syntax\u001B[0;34m(self, parser)\u001B[0m\n\u001B[1;32m    138\u001B[0m \u001B[38;5;28;01mdef\u001B[39;00m \u001B[38;5;21mparse_syntax\u001B[39m(\u001B[38;5;28mself\u001B[39m, parser):\n\u001B[0;32m--> 139\u001B[0m     \u001B[43mparse_syntax_doc\u001B[49m\u001B[43m(\u001B[49m\u001B[38;5;28;43mself\u001B[39;49m\u001B[43m,\u001B[49m\u001B[43m \u001B[49m\u001B[43mparser\u001B[49m\u001B[43m)\u001B[49m\n",
      "File \u001B[0;32m~/PycharmProjects/Hack2023_CheckOut/venv/lib/python3.10/site-packages/natasha/doc.py:239\u001B[0m, in \u001B[0;36mparse_syntax_doc\u001B[0;34m(doc, parser)\u001B[0m\n\u001B[1;32m    237\u001B[0m chunk \u001B[38;5;241m=\u001B[39m [sent_words(_) \u001B[38;5;28;01mfor\u001B[39;00m _ \u001B[38;5;129;01min\u001B[39;00m doc\u001B[38;5;241m.\u001B[39msents]\n\u001B[1;32m    238\u001B[0m markups \u001B[38;5;241m=\u001B[39m parser\u001B[38;5;241m.\u001B[39mmap(chunk)\n\u001B[0;32m--> 239\u001B[0m \u001B[38;5;28;01mfor\u001B[39;00m sent_id, (sent, markup) \u001B[38;5;129;01min\u001B[39;00m \u001B[38;5;28menumerate\u001B[39m(\u001B[38;5;28mzip\u001B[39m(doc\u001B[38;5;241m.\u001B[39msents, markups), \u001B[38;5;241m1\u001B[39m):\n\u001B[1;32m    240\u001B[0m     inject_syntax(sent\u001B[38;5;241m.\u001B[39mtokens, markup\u001B[38;5;241m.\u001B[39mtokens)\n\u001B[1;32m    241\u001B[0m     offset_syntax(sent_id, sent\u001B[38;5;241m.\u001B[39mtokens)\n",
      "File \u001B[0;32m~/PycharmProjects/Hack2023_CheckOut/venv/lib/python3.10/site-packages/natasha/syntax.py:79\u001B[0m, in \u001B[0;36mSyntaxParser.map\u001B[0;34m(self, items)\u001B[0m\n\u001B[1;32m     77\u001B[0m \u001B[38;5;28;01mdef\u001B[39;00m \u001B[38;5;21mmap\u001B[39m(\u001B[38;5;28mself\u001B[39m, items):\n\u001B[1;32m     78\u001B[0m     markups \u001B[38;5;241m=\u001B[39m SlovnetSyntax\u001B[38;5;241m.\u001B[39mmap(\u001B[38;5;28mself\u001B[39m, items)\n\u001B[0;32m---> 79\u001B[0m     \u001B[38;5;28;01mfor\u001B[39;00m markup \u001B[38;5;129;01min\u001B[39;00m markups:\n\u001B[1;32m     80\u001B[0m         \u001B[38;5;28;01myield\u001B[39;00m adapt_markup(markup)\n",
      "File \u001B[0;32m~/PycharmProjects/Hack2023_CheckOut/venv/lib/python3.10/site-packages/slovnet/api.py:35\u001B[0m, in \u001B[0;36mAPI.map\u001B[0;34m(self, items)\u001B[0m\n\u001B[1;32m     33\u001B[0m \u001B[38;5;28;01mdef\u001B[39;00m \u001B[38;5;21mmap\u001B[39m(\u001B[38;5;28mself\u001B[39m, items):\n\u001B[1;32m     34\u001B[0m     \u001B[38;5;28;01mfor\u001B[39;00m chunk \u001B[38;5;129;01min\u001B[39;00m chop(items, \u001B[38;5;28mself\u001B[39m\u001B[38;5;241m.\u001B[39mbatch_size):\n\u001B[0;32m---> 35\u001B[0m         \u001B[38;5;28;01myield from\u001B[39;00m \u001B[38;5;28mself\u001B[39m\u001B[38;5;241m.\u001B[39minfer(chunk)\n",
      "File \u001B[0;32m~/PycharmProjects/Hack2023_CheckOut/venv/lib/python3.10/site-packages/slovnet/exec/infer.py:109\u001B[0m, in \u001B[0;36mSyntaxInfer.__call__\u001B[0;34m(self, items)\u001B[0m\n\u001B[1;32m    106\u001B[0m preds \u001B[38;5;241m=\u001B[39m \u001B[38;5;28mself\u001B[39m\u001B[38;5;241m.\u001B[39mprocess(inputs)\n\u001B[1;32m    107\u001B[0m preds \u001B[38;5;241m=\u001B[39m \u001B[38;5;28mself\u001B[39m\u001B[38;5;241m.\u001B[39mdecoder(preds)\n\u001B[0;32m--> 109\u001B[0m \u001B[38;5;28;01mfor\u001B[39;00m item, pred \u001B[38;5;129;01min\u001B[39;00m \u001B[38;5;28mzip\u001B[39m(items, preds):\n\u001B[1;32m    110\u001B[0m     ids, head_ids, rels \u001B[38;5;241m=\u001B[39m pred\n\u001B[1;32m    111\u001B[0m     tuples \u001B[38;5;241m=\u001B[39m \u001B[38;5;28mzip\u001B[39m(ids, item, head_ids, rels)\n",
      "File \u001B[0;32m~/PycharmProjects/Hack2023_CheckOut/venv/lib/python3.10/site-packages/slovnet/exec/infer.py:82\u001B[0m, in \u001B[0;36mSyntaxDecoder.__call__\u001B[0;34m(self, preds)\u001B[0m\n\u001B[1;32m     81\u001B[0m \u001B[38;5;28;01mdef\u001B[39;00m \u001B[38;5;21m__call__\u001B[39m(\u001B[38;5;28mself\u001B[39m, preds):\n\u001B[0;32m---> 82\u001B[0m     \u001B[38;5;28;01mfor\u001B[39;00m pred \u001B[38;5;129;01min\u001B[39;00m preds:\n\u001B[1;32m     83\u001B[0m         head_ids, rel_ids \u001B[38;5;241m=\u001B[39m pred\n\u001B[1;32m     84\u001B[0m         ids \u001B[38;5;241m=\u001B[39m [\u001B[38;5;28mstr\u001B[39m(_ \u001B[38;5;241m+\u001B[39m \u001B[38;5;241m1\u001B[39m) \u001B[38;5;28;01mfor\u001B[39;00m _ \u001B[38;5;129;01min\u001B[39;00m \u001B[38;5;28mrange\u001B[39m(\u001B[38;5;28mlen\u001B[39m(head_ids))]\n",
      "File \u001B[0;32m~/PycharmProjects/Hack2023_CheckOut/venv/lib/python3.10/site-packages/slovnet/exec/infer.py:93\u001B[0m, in \u001B[0;36mSyntaxInfer.process\u001B[0;34m(self, inputs)\u001B[0m\n\u001B[1;32m     91\u001B[0m \u001B[38;5;28;01mdef\u001B[39;00m \u001B[38;5;21mprocess\u001B[39m(\u001B[38;5;28mself\u001B[39m, inputs):\n\u001B[1;32m     92\u001B[0m     \u001B[38;5;28;01mfor\u001B[39;00m \u001B[38;5;28minput\u001B[39m \u001B[38;5;129;01min\u001B[39;00m inputs:\n\u001B[0;32m---> 93\u001B[0m         pred \u001B[38;5;241m=\u001B[39m \u001B[38;5;28;43mself\u001B[39;49m\u001B[38;5;241;43m.\u001B[39;49m\u001B[43mmodel\u001B[49m\u001B[43m(\u001B[49m\u001B[38;5;28;43minput\u001B[39;49m\u001B[38;5;241;43m.\u001B[39;49m\u001B[43mword_id\u001B[49m\u001B[43m,\u001B[49m\u001B[43m \u001B[49m\u001B[38;5;28;43minput\u001B[39;49m\u001B[38;5;241;43m.\u001B[39;49m\u001B[43mshape_id\u001B[49m\u001B[43m,\u001B[49m\u001B[43m \u001B[49m\u001B[38;5;28;43minput\u001B[39;49m\u001B[38;5;241;43m.\u001B[39;49m\u001B[43mpad_mask\u001B[49m\u001B[43m)\u001B[49m\n\u001B[1;32m     94\u001B[0m         mask \u001B[38;5;241m=\u001B[39m \u001B[38;5;241m~\u001B[39m\u001B[38;5;28minput\u001B[39m\u001B[38;5;241m.\u001B[39mpad_mask\n\u001B[1;32m     96\u001B[0m         head_id \u001B[38;5;241m=\u001B[39m \u001B[38;5;28mself\u001B[39m\u001B[38;5;241m.\u001B[39mmodel\u001B[38;5;241m.\u001B[39mhead\u001B[38;5;241m.\u001B[39mdecode(pred\u001B[38;5;241m.\u001B[39mhead_id, mask)\n",
      "File \u001B[0;32m~/PycharmProjects/Hack2023_CheckOut/venv/lib/python3.10/site-packages/slovnet/exec/model.py:481\u001B[0m, in \u001B[0;36mSyntax.__call__\u001B[0;34m(self, word_id, shape_id, pad_mask)\u001B[0m\n\u001B[1;32m    479\u001B[0m head_id \u001B[38;5;241m=\u001B[39m \u001B[38;5;28mself\u001B[39m\u001B[38;5;241m.\u001B[39mhead(x)\n\u001B[1;32m    480\u001B[0m target_head_id \u001B[38;5;241m=\u001B[39m \u001B[38;5;28mself\u001B[39m\u001B[38;5;241m.\u001B[39mhead\u001B[38;5;241m.\u001B[39mdecode(head_id, \u001B[38;5;241m~\u001B[39mpad_mask)\n\u001B[0;32m--> 481\u001B[0m rel_id \u001B[38;5;241m=\u001B[39m \u001B[38;5;28;43mself\u001B[39;49m\u001B[38;5;241;43m.\u001B[39;49m\u001B[43mrel\u001B[49m\u001B[43m(\u001B[49m\u001B[43mx\u001B[49m\u001B[43m,\u001B[49m\u001B[43m \u001B[49m\u001B[43mtarget_head_id\u001B[49m\u001B[43m)\u001B[49m\n\u001B[1;32m    482\u001B[0m \u001B[38;5;28;01mreturn\u001B[39;00m SyntaxPred(head_id, rel_id)\n",
      "File \u001B[0;32m~/PycharmProjects/Hack2023_CheckOut/venv/lib/python3.10/site-packages/slovnet/exec/model.py:449\u001B[0m, in \u001B[0;36mSyntaxRel.__call__\u001B[0;34m(self, input, head_id)\u001B[0m\n\u001B[1;32m    448\u001B[0m \u001B[38;5;28;01mdef\u001B[39;00m \u001B[38;5;21m__call__\u001B[39m(\u001B[38;5;28mself\u001B[39m, \u001B[38;5;28minput\u001B[39m, head_id):\n\u001B[0;32m--> 449\u001B[0m     head \u001B[38;5;241m=\u001B[39m \u001B[38;5;28mself\u001B[39m\u001B[38;5;241m.\u001B[39mhead(\u001B[43mgather_head\u001B[49m\u001B[43m(\u001B[49m\u001B[38;5;28;43minput\u001B[39;49m\u001B[43m,\u001B[49m\u001B[43m \u001B[49m\u001B[38;5;28;43mself\u001B[39;49m\u001B[38;5;241;43m.\u001B[39;49m\u001B[43mroot\u001B[49m\u001B[38;5;241;43m.\u001B[39;49m\u001B[43marray\u001B[49m\u001B[43m,\u001B[49m\u001B[43m \u001B[49m\u001B[43mhead_id\u001B[49m\u001B[43m)\u001B[49m)\n\u001B[1;32m    450\u001B[0m     tail \u001B[38;5;241m=\u001B[39m \u001B[38;5;28mself\u001B[39m\u001B[38;5;241m.\u001B[39mtail(\u001B[38;5;28minput\u001B[39m)\n\u001B[1;32m    452\u001B[0m     batch_size, seq_len, _ \u001B[38;5;241m=\u001B[39m \u001B[38;5;28minput\u001B[39m\u001B[38;5;241m.\u001B[39mshape\n",
      "File \u001B[0;32m~/PycharmProjects/Hack2023_CheckOut/venv/lib/python3.10/site-packages/slovnet/exec/model.py:419\u001B[0m, in \u001B[0;36mgather_head\u001B[0;34m(input, root, index)\u001B[0m\n\u001B[1;32m    416\u001B[0m batch_size, seq_len, emb_dim \u001B[38;5;241m=\u001B[39m \u001B[38;5;28minput\u001B[39m\u001B[38;5;241m.\u001B[39mshape\n\u001B[1;32m    417\u001B[0m \u001B[38;5;28minput\u001B[39m \u001B[38;5;241m=\u001B[39m append_root(\u001B[38;5;28minput\u001B[39m, root)\n\u001B[0;32m--> 419\u001B[0m zero \u001B[38;5;241m=\u001B[39m np\u001B[38;5;241m.\u001B[39mzeros((batch_size, \u001B[38;5;241m1\u001B[39m), dtype\u001B[38;5;241m=\u001B[39m\u001B[43mnp\u001B[49m\u001B[38;5;241;43m.\u001B[39;49m\u001B[43mlong\u001B[49m)\n\u001B[1;32m    420\u001B[0m index \u001B[38;5;241m=\u001B[39m np\u001B[38;5;241m.\u001B[39mconcatenate((zero, index), axis\u001B[38;5;241m=\u001B[39m\u001B[38;5;241m-\u001B[39m\u001B[38;5;241m1\u001B[39m)\n\u001B[1;32m    422\u001B[0m \u001B[38;5;66;03m# flatten input, absolute indexing\u001B[39;00m\n",
      "File \u001B[0;32m~/PycharmProjects/Hack2023_CheckOut/venv/lib/python3.10/site-packages/numpy/__init__.py:284\u001B[0m, in \u001B[0;36m__getattr__\u001B[0;34m(attr)\u001B[0m\n\u001B[1;32m    281\u001B[0m     \u001B[38;5;28;01mfrom\u001B[39;00m \u001B[38;5;21;01m.\u001B[39;00m\u001B[38;5;21;01mtesting\u001B[39;00m \u001B[38;5;28;01mimport\u001B[39;00m Tester\n\u001B[1;32m    282\u001B[0m     \u001B[38;5;28;01mreturn\u001B[39;00m Tester\n\u001B[0;32m--> 284\u001B[0m \u001B[38;5;28;01mraise\u001B[39;00m \u001B[38;5;167;01mAttributeError\u001B[39;00m(\u001B[38;5;124m\"\u001B[39m\u001B[38;5;124mmodule \u001B[39m\u001B[38;5;132;01m{!r}\u001B[39;00m\u001B[38;5;124m has no attribute \u001B[39m\u001B[38;5;124m\"\u001B[39m\n\u001B[1;32m    285\u001B[0m                      \u001B[38;5;124m\"\u001B[39m\u001B[38;5;132;01m{!r}\u001B[39;00m\u001B[38;5;124m\"\u001B[39m\u001B[38;5;241m.\u001B[39mformat(\u001B[38;5;18m__name__\u001B[39m, attr))\n",
      "\u001B[0;31mAttributeError\u001B[0m: module 'numpy' has no attribute 'long'"
     ]
    }
   ],
   "source": [
    "doc_n.parse_syntax(syntax_parser)"
   ]
  },
  {
   "cell_type": "code",
   "execution_count": 21,
   "id": "509f0a54-bdf9-45ce-9e72-e0b29c291170",
   "metadata": {},
   "outputs": [],
   "source": [
    "#display(doc_n.tokens[:5])"
   ]
  },
  {
   "cell_type": "code",
   "execution_count": 208,
   "id": "bb932d03-ef36-486f-b2ea-865ed793ff29",
   "metadata": {},
   "outputs": [
    {
     "data": {
      "text/plain": "[DocSent(stop=333, text=\"[['К о н т р о л ь   н а д   в ы п о л н е н и е ..., tokens=[...], spans=[...])]"
     },
     "metadata": {},
     "output_type": "display_data"
    }
   ],
   "source": [
    "display(doc_n.sents)"
   ]
  },
  {
   "cell_type": "code",
   "execution_count": 139,
   "id": "6ffb3e30-86aa-4941-b3b2-da84fe218218",
   "metadata": {},
   "outputs": [],
   "source": [
    "#display(doc_n.tokens)"
   ]
  },
  {
   "cell_type": "code",
   "execution_count": 209,
   "id": "ccf38647-28da-4477-9488-99a018fedb1f",
   "metadata": {},
   "outputs": [
    {
     "name": "stdout",
     "output_type": "stream",
     "text": [
      "DocSpan(start=320, stop=323, type='PER', text='А .', tokens=[...], normal='А .')\n"
     ]
    }
   ],
   "source": [
    "for span in doc_n.spans:\n",
    "    span.normalize(morph_vocab)\n",
    "\n",
    "keywords = {_.text: _.normal for _ in doc_n.spans if _.text != _.normal}\n",
    "print(span)"
   ]
  },
  {
   "cell_type": "code",
   "execution_count": 210,
   "id": "e83dbdf5-b2e6-4fda-9035-563cd0b6ffea",
   "metadata": {},
   "outputs": [
    {
     "data": {
      "text/plain": "{}"
     },
     "execution_count": 210,
     "metadata": {},
     "output_type": "execute_result"
    }
   ],
   "source": [
    "keywords"
   ]
  },
  {
   "cell_type": "code",
   "execution_count": 169,
   "id": "f182124c-5f19-4408-93e6-fccd5c63a363",
   "metadata": {},
   "outputs": [
    {
     "data": {
      "text/plain": "{'[': '[',\n \"'\": \"'\",\n 'К': 'к',\n 'о': 'о',\n 'н': 'н',\n 'т': 'т',\n 'р': 'р',\n 'л': 'л',\n 'ь': 'ь',\n 'а': 'а',\n 'д': 'д',\n 'в': 'в',\n 'ы': 'ы',\n 'п': 'п',\n 'е': 'е',\n 'и': 'и',\n 'м': 'м',\n 'с': 'с',\n 'я': 'я',\n 'щ': 'щ',\n 'г': 'г',\n 'ж': 'ж',\n 'ю': 'ю',\n 'з': 'з',\n 'б': 'б',\n 'й': 'й',\n ']': ']',\n ',': ',',\n 'О': 'о',\n 'ч': 'ч',\n 'ц': 'ц',\n 'к': 'к',\n 'у': 'у',\n 'х': 'х',\n 'А': 'а',\n '.': '.',\n 'С': 'с'}"
     },
     "execution_count": 169,
     "metadata": {},
     "output_type": "execute_result"
    }
   ],
   "source": [
    "for token in doc_n.tokens:\n",
    "    token.lemmatize(morph_vocab)\n",
    "    \n",
    "{_.text: _.lemma for _ in doc_n.tokens}"
   ]
  },
  {
   "cell_type": "markdown",
   "id": "f1b893ff-a51f-4c2e-a486-44fdde171f90",
   "metadata": {},
   "source": [
    "### Создание дистрибутивно-семантической модели."
   ]
  },
  {
   "cell_type": "code",
   "execution_count": 61,
   "id": "33809636-0bf8-4e34-8acd-1cbd4121f145",
   "metadata": {},
   "outputs": [
    {
     "name": "stdout",
     "output_type": "stream",
     "text": [
      "  % Total    % Received % Xferd  Average Speed   Time    Time     Time  Current\n",
      "                                 Dload  Upload   Total   Spent    Left  Speed\n",
      "100 50.5M  100 50.5M    0     0  15.5M      0  0:00:03  0:00:03 --:--:-- 15.6M\n",
      "curl: (6) Could not resolve host: navec_hudlit_v1_12B_500K_300d_100q.tar\n"
     ]
    }
   ],
   "source": [
    "#!curl https://storage.yandexcloud.net/natasha-navec/packs/navec_hudlit_v1_12B_500K_300d_100q.tar -O navec_hudlit_v1_12B_500K_300d_100q.tar"
   ]
  },
  {
   "cell_type": "code",
   "execution_count": 14,
   "id": "179795b8-c8d1-4ede-b7d3-cc19bc3f4c9e",
   "metadata": {},
   "outputs": [],
   "source": [
    "navec = Navec.load('navec_hudlit_v1_12B_500K_300d_100q.tar')"
   ]
  },
  {
   "cell_type": "code",
   "execution_count": 76,
   "id": "db0c719d-4791-4703-bfa6-2e2d898bcda4",
   "metadata": {},
   "outputs": [],
   "source": [
    "#navec['абакумов']"
   ]
  },
  {
   "cell_type": "markdown",
   "id": "82243c8d-9271-4b37-9903-a85e0bff171a",
   "metadata": {},
   "source": [
    "# Решение.\n",
    "\n",
    "1. task_text: разбить на предложения. Выявить функционал.\n",
    "2. task_responsibles_people: - вывявить ФИО, должность, task_responsibles_groups: добавить отдел.\n",
    "3. Собрать мешок слов: ФИО, должность, функционал, отдел.\n",
    "4. Векторизировать мешок слов.\n",
    "5. Из отделов построить 8 классов.\n",
    "6. Обучить реккурентную нейросеть LSTM или GRU.\n",
    "7. Протестировать на тестовом наборе данных.\n",
    "8. Построить граф знаний.\n",
    "9. Написать функцию соответствия предсказания с графом знаний.\n",
    "10. Сделать презентацию проекта."
   ]
  },
  {
   "cell_type": "markdown",
   "id": "f2557f9e-c01b-4c1b-a250-2bbd65b02800",
   "metadata": {},
   "source": [
    "### Построение датафрейма"
   ]
  },
  {
   "cell_type": "markdown",
   "id": "435c30be-3028-4eeb-8a05-3f38f0c3816b",
   "metadata": {},
   "source": [
    "1. Весь текст.\n",
    "2. Мешок слов.\n",
    "3.  Классы - отделы компании."
   ]
  },
  {
   "cell_type": "markdown",
   "id": "4169d587-881d-4c43-842e-09757e01a769",
   "metadata": {},
   "source": [
    "### Структура датафрейма \n",
    "1:текст;       2:FIO_POSITION;       3: TASK;       4: FIO;       5: 8 отделов;"
   ]
  },
  {
   "cell_type": "markdown",
   "id": "8e25a39d-3393-4dd4-b951-45263ea0bda7",
   "metadata": {},
   "source": [
    "### Создание дата фрейма и векторизация слов."
   ]
  },
  {
   "cell_type": "code",
   "execution_count": 170,
   "id": "ce16d439-ca13-4c8e-899b-dd5e620fe5c3",
   "metadata": {},
   "outputs": [],
   "source": [
    "DEPARTMENTS = set(DEPARTMENTS)\n",
    "DEPARTMENTS_list = list(DEPARTMENTS)"
   ]
  },
  {
   "cell_type": "markdown",
   "id": "d89eab97-fb99-43d0-9864-3ece4f7d5000",
   "metadata": {},
   "source": [
    "#### Строим классы"
   ]
  },
  {
   "cell_type": "code",
   "execution_count": 171,
   "id": "4f05fd8a-a20d-4694-8393-c933ddce8d8e",
   "metadata": {},
   "outputs": [
    {
     "data": {
      "text/plain": "['Административно-хозяйственный отдел',\n 'Отдел разработки систем',\n 'Отдел тестирования',\n 'Бухгалтерия',\n 'Отдел архитектуры',\n 'Отдел проектирования',\n 'Служба ИТ',\n 'Отдел эксплуатации']"
     },
     "execution_count": 171,
     "metadata": {},
     "output_type": "execute_result"
    }
   ],
   "source": [
    "value = []\n",
    "for i in range(1,9):\n",
    "    value.append(i)\n",
    "DEPARTMENTS_list"
   ]
  },
  {
   "cell_type": "code",
   "execution_count": 172,
   "id": "5a44af49-ad5a-4cb9-8088-34c23070c67c",
   "metadata": {},
   "outputs": [],
   "source": [
    "def classes(list: list) -> dict:\n",
    "    result = {}\n",
    "\n",
    "    for n in range(8):\n",
    "        dep = list[n]\n",
    "        result[dep] = value[n]\n",
    "\n",
    "    return result"
   ]
  },
  {
   "cell_type": "code",
   "execution_count": 173,
   "id": "17d55add-15df-4d86-abf3-df5a42b67101",
   "metadata": {},
   "outputs": [
    {
     "data": {
      "text/plain": "{'Административно-хозяйственный отдел': 1,\n 'Отдел разработки систем': 2,\n 'Отдел тестирования': 3,\n 'Бухгалтерия': 4,\n 'Отдел архитектуры': 5,\n 'Отдел проектирования': 6,\n 'Служба ИТ': 7,\n 'Отдел эксплуатации': 8}"
     },
     "execution_count": 173,
     "metadata": {},
     "output_type": "execute_result"
    }
   ],
   "source": [
    "classes_dep = classes(DEPARTMENTS_list)\n",
    "classes_dep"
   ]
  },
  {
   "cell_type": "code",
   "execution_count": 174,
   "id": "6960bd26-2c12-4c19-a7d9-00c853dd4f96",
   "metadata": {},
   "outputs": [
    {
     "data": {
      "text/plain": "Empty DataFrame\nColumns: []\nIndex: []",
      "text/html": "<div>\n<style scoped>\n    .dataframe tbody tr th:only-of-type {\n        vertical-align: middle;\n    }\n\n    .dataframe tbody tr th {\n        vertical-align: top;\n    }\n\n    .dataframe thead th {\n        text-align: right;\n    }\n</style>\n<table border=\"1\" class=\"dataframe\">\n  <thead>\n    <tr style=\"text-align: right;\">\n      <th></th>\n    </tr>\n  </thead>\n  <tbody>\n  </tbody>\n</table>\n</div>"
     },
     "execution_count": 174,
     "metadata": {},
     "output_type": "execute_result"
    }
   ],
   "source": [
    "df_classes = pd.DataFrame()\n",
    "df_classes"
   ]
  },
  {
   "cell_type": "code",
   "execution_count": 400,
   "id": "fd6a6d7f-c417-4b15-a338-f6b76bf69fc7",
   "metadata": {},
   "outputs": [
    {
     "name": "stderr",
     "output_type": "stream",
     "text": [
      "/var/folders/5g/7vyd0lbj2w52qz6789tj57hc0000gn/T/ipykernel_9897/1511422914.py:1: DtypeWarning: Columns (40,41,42,43,44,45,46,47,48,49,50,51,52,53,54,55,56,57,58,59,60,61,62,63,64,65,66,67,68,69,70,71,72,73,74,75,76,77,78,79,80,81,82,83,84,85,86,87,88,89,90,91,92,93,94) have mixed types. Specify dtype option on import or set low_memory=False.\n",
      "  df = pd.read_csv('df_key_n.csv')\n"
     ]
    }
   ],
   "source": [
    "df = pd.read_csv('df_key_n.csv')"
   ]
  },
  {
   "cell_type": "code",
   "execution_count": 401,
   "id": "4d73b785-27f0-4870-ac75-2b1b251aa4e2",
   "metadata": {},
   "outputs": [
    {
     "data": {
      "text/html": [
       "<div>\n",
       "<style scoped>\n",
       "    .dataframe tbody tr th:only-of-type {\n",
       "        vertical-align: middle;\n",
       "    }\n",
       "\n",
       "    .dataframe tbody tr th {\n",
       "        vertical-align: top;\n",
       "    }\n",
       "\n",
       "    .dataframe thead th {\n",
       "        text-align: right;\n",
       "    }\n",
       "</style>\n",
       "<table border=\"1\" class=\"dataframe\">\n",
       "  <thead>\n",
       "    <tr style=\"text-align: right;\">\n",
       "      <th></th>\n",
       "      <th>Unnamed: 0</th>\n",
       "      <th>id</th>\n",
       "      <th>Task1.task_text</th>\n",
       "      <th>Task1.task_responsibles_people</th>\n",
       "      <th>Task1.task_responsibles_groups</th>\n",
       "      <th>Task1.task_deadline</th>\n",
       "      <th>Global_supervisor</th>\n",
       "      <th>Global_deadline</th>\n",
       "      <th>Task2.task_text</th>\n",
       "      <th>Task2.task_responsibles_people</th>\n",
       "      <th>...</th>\n",
       "      <th>45</th>\n",
       "      <th>46</th>\n",
       "      <th>47</th>\n",
       "      <th>48</th>\n",
       "      <th>49</th>\n",
       "      <th>50</th>\n",
       "      <th>51</th>\n",
       "      <th>52</th>\n",
       "      <th>53</th>\n",
       "      <th>54</th>\n",
       "    </tr>\n",
       "  </thead>\n",
       "  <tbody>\n",
       "    <tr>\n",
       "      <th>0</th>\n",
       "      <td>0</td>\n",
       "      <td>0</td>\n",
       "      <td>Закупить книги</td>\n",
       "      <td>Ответственность за исполнение распоряжения воз...</td>\n",
       "      <td>1</td>\n",
       "      <td>['19 апр 15', 1429383600.0]</td>\n",
       "      <td>['Ответственность за исполнение распоряжения в...</td>\n",
       "      <td>['11 апреля 2013 года', 1365616800.0]</td>\n",
       "      <td>NaN</td>\n",
       "      <td>NaN</td>\n",
       "      <td>...</td>\n",
       "      <td>NaN</td>\n",
       "      <td>NaN</td>\n",
       "      <td>NaN</td>\n",
       "      <td>NaN</td>\n",
       "      <td>NaN</td>\n",
       "      <td>NaN</td>\n",
       "      <td>NaN</td>\n",
       "      <td>NaN</td>\n",
       "      <td>NaN</td>\n",
       "      <td>NaN</td>\n",
       "    </tr>\n",
       "    <tr>\n",
       "      <th>1</th>\n",
       "      <td>1</td>\n",
       "      <td>1</td>\n",
       "      <td>Провести анализ поставщиков для замены вышедше...</td>\n",
       "      <td>Ответственность за исполнение распоряжения воз...</td>\n",
       "      <td>7</td>\n",
       "      <td>['24 октября 12', 1351015200.0]</td>\n",
       "      <td>['Ответственность за исполнение распоряжения в...</td>\n",
       "      <td>['03 июня 2013 года', 1370196000.0]</td>\n",
       "      <td>Выполнить ремонт кабеля сети передачи данных м...</td>\n",
       "      <td>Контроль над выполнением приказа возложить на ...</td>\n",
       "      <td>...</td>\n",
       "      <td>NaN</td>\n",
       "      <td>NaN</td>\n",
       "      <td>NaN</td>\n",
       "      <td>NaN</td>\n",
       "      <td>NaN</td>\n",
       "      <td>NaN</td>\n",
       "      <td>NaN</td>\n",
       "      <td>NaN</td>\n",
       "      <td>NaN</td>\n",
       "      <td>NaN</td>\n",
       "    </tr>\n",
       "    <tr>\n",
       "      <th>2</th>\n",
       "      <td>2</td>\n",
       "      <td>2</td>\n",
       "      <td>Провести рефакторинг программного обеспечения ...</td>\n",
       "      <td>Контроль над исполнением распоряжения оставить...</td>\n",
       "      <td>8</td>\n",
       "      <td>['24.12.20', 1608750000.0]</td>\n",
       "      <td>['Контроль над исполнением распоряжения остави...</td>\n",
       "      <td>['08 окт 2014 г.', 1412704800.0]</td>\n",
       "      <td>Провести рефакторинг программного обеспечения ...</td>\n",
       "      <td>Ответственным за исполнение настоящего приказа...</td>\n",
       "      <td>...</td>\n",
       "      <td>NaN</td>\n",
       "      <td>NaN</td>\n",
       "      <td>NaN</td>\n",
       "      <td>NaN</td>\n",
       "      <td>NaN</td>\n",
       "      <td>NaN</td>\n",
       "      <td>NaN</td>\n",
       "      <td>NaN</td>\n",
       "      <td>NaN</td>\n",
       "      <td>NaN</td>\n",
       "    </tr>\n",
       "    <tr>\n",
       "      <th>3</th>\n",
       "      <td>3</td>\n",
       "      <td>3</td>\n",
       "      <td>Оплатить командировочные расходы</td>\n",
       "      <td>Контроль над выполнением настоящего распоряжен...</td>\n",
       "      <td>2</td>\n",
       "      <td>['26 июля 2019 г.', 1564081200.0]</td>\n",
       "      <td>['Контроль над выполнением настоящего распоряж...</td>\n",
       "      <td>['10.12.18', 1544382000.0]</td>\n",
       "      <td>Провести аудит персональных данных в информаци...</td>\n",
       "      <td>Обеспечение выполнения возложить на специалист...</td>\n",
       "      <td>...</td>\n",
       "      <td>NaN</td>\n",
       "      <td>NaN</td>\n",
       "      <td>NaN</td>\n",
       "      <td>NaN</td>\n",
       "      <td>NaN</td>\n",
       "      <td>NaN</td>\n",
       "      <td>NaN</td>\n",
       "      <td>NaN</td>\n",
       "      <td>NaN</td>\n",
       "      <td>NaN</td>\n",
       "    </tr>\n",
       "    <tr>\n",
       "      <th>4</th>\n",
       "      <td>4</td>\n",
       "      <td>4</td>\n",
       "      <td>Согласовать смету на выполнение работ компание...</td>\n",
       "      <td>Контроль над выполнением настоящего распоряжен...</td>\n",
       "      <td>2</td>\n",
       "      <td>['12 янв 2019 г.', 1547233200.0]</td>\n",
       "      <td>['Контроль над выполнением настоящего распоряж...</td>\n",
       "      <td>['19.03.2016', 1458327600.0]</td>\n",
       "      <td>Выделить средства на проведение обучения</td>\n",
       "      <td>Ответственным за исполнение настоящего приказа...</td>\n",
       "      <td>...</td>\n",
       "      <td>NaN</td>\n",
       "      <td>NaN</td>\n",
       "      <td>NaN</td>\n",
       "      <td>NaN</td>\n",
       "      <td>NaN</td>\n",
       "      <td>NaN</td>\n",
       "      <td>NaN</td>\n",
       "      <td>NaN</td>\n",
       "      <td>NaN</td>\n",
       "      <td>NaN</td>\n",
       "    </tr>\n",
       "  </tbody>\n",
       "</table>\n",
       "<p>5 rows × 95 columns</p>\n",
       "</div>"
      ],
      "text/plain": [
       "   Unnamed: 0  id                                    Task1.task_text  \\\n",
       "0           0   0                                     Закупить книги   \n",
       "1           1   1  Провести анализ поставщиков для замены вышедше...   \n",
       "2           2   2  Провести рефакторинг программного обеспечения ...   \n",
       "3           3   3                   Оплатить командировочные расходы   \n",
       "4           4   4  Согласовать смету на выполнение работ компание...   \n",
       "\n",
       "                      Task1.task_responsibles_people  \\\n",
       "0  Ответственность за исполнение распоряжения воз...   \n",
       "1  Ответственность за исполнение распоряжения воз...   \n",
       "2  Контроль над исполнением распоряжения оставить...   \n",
       "3  Контроль над выполнением настоящего распоряжен...   \n",
       "4  Контроль над выполнением настоящего распоряжен...   \n",
       "\n",
       "   Task1.task_responsibles_groups                Task1.task_deadline  \\\n",
       "0                               1        ['19 апр 15', 1429383600.0]   \n",
       "1                               7    ['24 октября 12', 1351015200.0]   \n",
       "2                               8         ['24.12.20', 1608750000.0]   \n",
       "3                               2  ['26 июля 2019 г.', 1564081200.0]   \n",
       "4                               2   ['12 янв 2019 г.', 1547233200.0]   \n",
       "\n",
       "                                   Global_supervisor  \\\n",
       "0  ['Ответственность за исполнение распоряжения в...   \n",
       "1  ['Ответственность за исполнение распоряжения в...   \n",
       "2  ['Контроль над исполнением распоряжения остави...   \n",
       "3  ['Контроль над выполнением настоящего распоряж...   \n",
       "4  ['Контроль над выполнением настоящего распоряж...   \n",
       "\n",
       "                         Global_deadline  \\\n",
       "0  ['11 апреля 2013 года', 1365616800.0]   \n",
       "1    ['03 июня 2013 года', 1370196000.0]   \n",
       "2       ['08 окт 2014 г.', 1412704800.0]   \n",
       "3             ['10.12.18', 1544382000.0]   \n",
       "4           ['19.03.2016', 1458327600.0]   \n",
       "\n",
       "                                     Task2.task_text  \\\n",
       "0                                                NaN   \n",
       "1  Выполнить ремонт кабеля сети передачи данных м...   \n",
       "2  Провести рефакторинг программного обеспечения ...   \n",
       "3  Провести аудит персональных данных в информаци...   \n",
       "4           Выделить средства на проведение обучения   \n",
       "\n",
       "                      Task2.task_responsibles_people  ...   45   46   47   48  \\\n",
       "0                                                NaN  ...  NaN  NaN  NaN  NaN   \n",
       "1  Контроль над выполнением приказа возложить на ...  ...  NaN  NaN  NaN  NaN   \n",
       "2  Ответственным за исполнение настоящего приказа...  ...  NaN  NaN  NaN  NaN   \n",
       "3  Обеспечение выполнения возложить на специалист...  ...  NaN  NaN  NaN  NaN   \n",
       "4  Ответственным за исполнение настоящего приказа...  ...  NaN  NaN  NaN  NaN   \n",
       "\n",
       "    49   50   51   52   53   54  \n",
       "0  NaN  NaN  NaN  NaN  NaN  NaN  \n",
       "1  NaN  NaN  NaN  NaN  NaN  NaN  \n",
       "2  NaN  NaN  NaN  NaN  NaN  NaN  \n",
       "3  NaN  NaN  NaN  NaN  NaN  NaN  \n",
       "4  NaN  NaN  NaN  NaN  NaN  NaN  \n",
       "\n",
       "[5 rows x 95 columns]"
      ]
     },
     "execution_count": 401,
     "metadata": {},
     "output_type": "execute_result"
    }
   ],
   "source": [
    "df.head()"
   ]
  },
  {
   "cell_type": "code",
   "execution_count": 175,
   "id": "53e91487-ae0c-4f7f-81be-141f2c966c6f",
   "metadata": {},
   "outputs": [
    {
     "ename": "KeyError",
     "evalue": "\"None of ['id'] are in the columns\"",
     "output_type": "error",
     "traceback": [
      "\u001B[0;31m---------------------------------------------------------------------------\u001B[0m",
      "\u001B[0;31mKeyError\u001B[0m                                  Traceback (most recent call last)",
      "Cell \u001B[0;32mIn[175], line 3\u001B[0m\n\u001B[1;32m      1\u001B[0m df \u001B[38;5;241m=\u001B[39m pd\u001B[38;5;241m.\u001B[39mjson_normalize(merge_data)\n\u001B[0;32m----> 3\u001B[0m \u001B[43mdf\u001B[49m\u001B[38;5;241;43m.\u001B[39;49m\u001B[43mset_index\u001B[49m\u001B[43m(\u001B[49m\u001B[38;5;124;43m'\u001B[39;49m\u001B[38;5;124;43mid\u001B[39;49m\u001B[38;5;124;43m'\u001B[39;49m\u001B[43m,\u001B[49m\u001B[43m \u001B[49m\u001B[43minplace\u001B[49m\u001B[38;5;241;43m=\u001B[39;49m\u001B[38;5;28;43;01mTrue\u001B[39;49;00m\u001B[43m)\u001B[49m\n\u001B[1;32m      4\u001B[0m df\u001B[38;5;241m.\u001B[39msort_index(inplace\u001B[38;5;241m=\u001B[39m\u001B[38;5;28;01mTrue\u001B[39;00m) \u001B[38;5;66;03m# сортировка по индексу=id\u001B[39;00m\n\u001B[1;32m      6\u001B[0m df\u001B[38;5;241m.\u001B[39mcolumns \u001B[38;5;241m=\u001B[39m df\u001B[38;5;241m.\u001B[39mcolumns\u001B[38;5;241m.\u001B[39mstr\u001B[38;5;241m.\u001B[39mreplace(\u001B[38;5;124m\"\u001B[39m\u001B[38;5;124mTasks.\u001B[39m\u001B[38;5;124m\"\u001B[39m, \u001B[38;5;124m\"\u001B[39m\u001B[38;5;124m\"\u001B[39m)\n",
      "File \u001B[0;32m~/PycharmProjects/Hack2023_CheckOut/venv/lib/python3.10/site-packages/pandas/util/_decorators.py:331\u001B[0m, in \u001B[0;36mdeprecate_nonkeyword_arguments.<locals>.decorate.<locals>.wrapper\u001B[0;34m(*args, **kwargs)\u001B[0m\n\u001B[1;32m    325\u001B[0m \u001B[38;5;28;01mif\u001B[39;00m \u001B[38;5;28mlen\u001B[39m(args) \u001B[38;5;241m>\u001B[39m num_allow_args:\n\u001B[1;32m    326\u001B[0m     warnings\u001B[38;5;241m.\u001B[39mwarn(\n\u001B[1;32m    327\u001B[0m         msg\u001B[38;5;241m.\u001B[39mformat(arguments\u001B[38;5;241m=\u001B[39m_format_argument_list(allow_args)),\n\u001B[1;32m    328\u001B[0m         \u001B[38;5;167;01mFutureWarning\u001B[39;00m,\n\u001B[1;32m    329\u001B[0m         stacklevel\u001B[38;5;241m=\u001B[39mfind_stack_level(),\n\u001B[1;32m    330\u001B[0m     )\n\u001B[0;32m--> 331\u001B[0m \u001B[38;5;28;01mreturn\u001B[39;00m \u001B[43mfunc\u001B[49m\u001B[43m(\u001B[49m\u001B[38;5;241;43m*\u001B[39;49m\u001B[43margs\u001B[49m\u001B[43m,\u001B[49m\u001B[43m \u001B[49m\u001B[38;5;241;43m*\u001B[39;49m\u001B[38;5;241;43m*\u001B[39;49m\u001B[43mkwargs\u001B[49m\u001B[43m)\u001B[49m\n",
      "File \u001B[0;32m~/PycharmProjects/Hack2023_CheckOut/venv/lib/python3.10/site-packages/pandas/core/frame.py:6012\u001B[0m, in \u001B[0;36mDataFrame.set_index\u001B[0;34m(self, keys, drop, append, inplace, verify_integrity)\u001B[0m\n\u001B[1;32m   6009\u001B[0m                 missing\u001B[38;5;241m.\u001B[39mappend(col)\n\u001B[1;32m   6011\u001B[0m \u001B[38;5;28;01mif\u001B[39;00m missing:\n\u001B[0;32m-> 6012\u001B[0m     \u001B[38;5;28;01mraise\u001B[39;00m \u001B[38;5;167;01mKeyError\u001B[39;00m(\u001B[38;5;124mf\u001B[39m\u001B[38;5;124m\"\u001B[39m\u001B[38;5;124mNone of \u001B[39m\u001B[38;5;132;01m{\u001B[39;00mmissing\u001B[38;5;132;01m}\u001B[39;00m\u001B[38;5;124m are in the columns\u001B[39m\u001B[38;5;124m\"\u001B[39m)\n\u001B[1;32m   6014\u001B[0m \u001B[38;5;28;01mif\u001B[39;00m inplace:\n\u001B[1;32m   6015\u001B[0m     frame \u001B[38;5;241m=\u001B[39m \u001B[38;5;28mself\u001B[39m\n",
      "\u001B[0;31mKeyError\u001B[0m: \"None of ['id'] are in the columns\""
     ]
    }
   ],
   "source": [
    "df = pd.json_normalize(merge_data)\n",
    "\n",
    "df.set_index('id', inplace=True)\n",
    "df.sort_index(inplace=True) # сортировка по индексу=id\n",
    "\n",
    "df.columns = df.columns.str.replace(\"Tasks.\", \"\")"
   ]
  },
  {
   "cell_type": "code",
   "execution_count": 176,
   "id": "a3dafcb6-e8c4-4e42-ae00-1ef6ff72ba87",
   "metadata": {},
   "outputs": [
    {
     "data": {
      "text/plain": "                                  Tasks.Task1.task_text  \\\n0           Закупить книги. Срок завершения: 19 апр 15.   \n1     Провести анализ поставщиков для замены вышедше...   \n2     Провести рефакторинг программного обеспечения ...   \n3     Оплатить командировочные расходы.\\nОпределить ...   \n4     Согласовать смету на выполнение работ компание...   \n...                                                 ...   \n9995  Подготовить отчеты для налоговой службы.\\nПрис...   \n9996  Закупить необходимое количество лицензий офисн...   \n9997  Скорректировать проектно-сметную документацию ...   \n9998  Доработать функцию сохранения информации в баз...   \n9999  Установить дополнительные источники освещения ...   \n\n                   Tasks.Task1.task_responsibles_people  \\\n0     Ответственность за исполнение распоряжения воз...   \n1     Ответственность за исполнение распоряжения воз...   \n2     Контроль над исполнением распоряжения оставить...   \n3     Контроль над выполнением настоящего распоряжен...   \n4     Контроль над выполнением настоящего распоряжен...   \n...                                                 ...   \n9995  Ответственным за исполнение настоящего приказа...   \n9996  Контроль над исполнением распоряжения оставить...   \n9997  Контроль над выполнением настоящего распоряжен...   \n9998  Обеспечение выполнения возложить на специалист...   \n9999  Ответственность за исполнение распоряжения воз...   \n\n      Tasks.Task1.task_responsibles_groups  \\\n0                                        1   \n1                                        7   \n2                                        2   \n3                                        4   \n4                                        4   \n...                                    ...   \n9995                                     4   \n9996                                     7   \n9997                                     6   \n9998                                     2   \n9999                                     1   \n\n                 Tasks.Task1.task_deadline  \\\n0                [19 апр 15, 1429383600.0]   \n1            [24 октября 12, 1351015200.0]   \n2                 [24.12.20, 1608750000.0]   \n3          [26 июля 2019 г., 1564081200.0]   \n4           [12 янв 2019 г., 1547233200.0]   \n...                                    ...   \n9995        [14 сен 2017 г., 1505329200.0]   \n9996  [03 октября 2020 года, 1601665200.0]   \n9997        [04 мар 2012 г., 1330797600.0]   \n9998            [27.12.2012, 1356544800.0]   \n9999             [18 янв 15, 1421521200.0]   \n\n                                Tasks.Global_supervisor  \\\n0     [Ответственность за исполнение распоряжения во...   \n1     [Ответственность за исполнение распоряжения во...   \n2     [Контроль над исполнением распоряжения оставит...   \n3     [Контроль над выполнением настоящего распоряже...   \n4     [Контроль над выполнением настоящего распоряже...   \n...                                                 ...   \n9995  [Ответственным за исполнение настоящего приказ...   \n9996  [Контроль над исполнением распоряжения оставит...   \n9997  [Контроль над выполнением настоящего распоряже...   \n9998  [Обеспечение выполнения возложить на специалис...   \n9999  [Ответственность за исполнение распоряжения во...   \n\n                     Tasks.Global_deadline  \\\n0      [11 апреля 2013 года, 1365616800.0]   \n1        [03 июня 2013 года, 1370196000.0]   \n2           [08 окт 2014 г., 1412704800.0]   \n3                 [10.12.18, 1544382000.0]   \n4               [19.03.2016, 1458327600.0]   \n...                                    ...   \n9995  [22 августа 2016 года, 1471806000.0]   \n9996            [26 июля 12, 1343239200.0]   \n9997              [10.02.18, 1518202800.0]   \n9998              [14.03.15, 1426273200.0]   \n9999              [12.07.14, 1405101600.0]   \n\n                                  Tasks.Task2.task_text  \\\n0                                                   NaN   \n1     Выполнить ремонт кабеля сети передачи данных м...   \n2     Провести рефакторинг программного обеспечения ...   \n3     Провести аудит персональных данных в информаци...   \n4     Выделить средства на проведение обучения.\\nУст...   \n...                                                 ...   \n9995  Перечислить необходимые средства для проведени...   \n9996  Закупить необходимое количество клавиатур и ма...   \n9997  Подготовить спецификацию необходимого аппаратн...   \n9998  Провести анализ неисправности работы API и обе...   \n9999  Выполнить ремонт замка дверей входной секции. ...   \n\n                   Tasks.Task2.task_responsibles_people  \\\n0                                                   NaN   \n1     Контроль над выполнением приказа возложить на ...   \n2     Ответственным за исполнение настоящего приказа...   \n3     Обеспечение выполнения возложить на специалист...   \n4     Ответственным за исполнение настоящего приказа...   \n...                                                 ...   \n9995  За контроль над исполнением распоряжения назна...   \n9996  Ответственным за контролем над исполнением выш...   \n9997  Ответственность за исполнение распоряжения воз...   \n9998  За контроль над исполнением распоряжения назна...   \n9999  Обеспечение выполнения возложить на специалист...   \n\n      Tasks.Task2.task_responsibles_groups  \\\n0                                      NaN   \n1                                      7.0   \n2                                      2.0   \n3                                      4.0   \n4                                      4.0   \n...                                    ...   \n9995                                   4.0   \n9996                                   7.0   \n9997                                   6.0   \n9998                                   2.0   \n9999                                   1.0   \n\n                 Tasks.Task2.task_deadline  ...  \\\n0                                      NaN  ...   \n1                [12 авг 13, 1376244000.0]  ...   \n2      [01 января 2018 года, 1514746800.0]  ...   \n3                 [17.09.13, 1379354400.0]  ...   \n4               [26.09.2016, 1474830000.0]  ...   \n...                                    ...  ...   \n9995       [20 июля 2013 г., 1374256800.0]  ...   \n9996  [16 августа 2012 года, 1345053600.0]  ...   \n9997            [19.04.2020, 1587236400.0]  ...   \n9998              [20.01.21, 1611082800.0]  ...   \n9999             [04 ноя 15, 1446577200.0]  ...   \n\n     Tasks.Task7.task_responsibles_groups Tasks.Task7.task_deadline  \\\n0                                     NaN                       NaN   \n1                                     NaN                       NaN   \n2                                     NaN                       NaN   \n3                                     NaN                       NaN   \n4                                     NaN                       NaN   \n...                                   ...                       ...   \n9995                                  NaN                       NaN   \n9996                                  7.0  [02.12.14, 1417460400.0]   \n9997                                  NaN                       NaN   \n9998                                  2.0  [04.01.13, 1357236000.0]   \n9999                                  NaN                       NaN   \n\n                                  Tasks.Task8.task_text  \\\n0                                                   NaN   \n1                                                   NaN   \n2                                                   NaN   \n3                                                   NaN   \n4                                                   NaN   \n...                                                 ...   \n9995                                                NaN   \n9996  Подключить и настроить видеокамеру для работы ...   \n9997                                                NaN   \n9998                                                NaN   \n9999                                                NaN   \n\n                   Tasks.Task8.task_responsibles_people  \\\n0                                                   NaN   \n1                                                   NaN   \n2                                                   NaN   \n3                                                   NaN   \n4                                                   NaN   \n...                                                 ...   \n9995                                                NaN   \n9996  За контроль над исполнением распоряжения назна...   \n9997                                                NaN   \n9998                                                NaN   \n9999                                                NaN   \n\n     Tasks.Task8.task_responsibles_groups  Tasks.Task8.task_deadline  \\\n0                                     NaN                        NaN   \n1                                     NaN                        NaN   \n2                                     NaN                        NaN   \n3                                     NaN                        NaN   \n4                                     NaN                        NaN   \n...                                   ...                        ...   \n9995                                  NaN                        NaN   \n9996                                  7.0  [07 апр 15, 1428346800.0]   \n9997                                  NaN                        NaN   \n9998                                  NaN                        NaN   \n9999                                  NaN                        NaN   \n\n                                  Tasks.Task9.task_text  \\\n0                                                   NaN   \n1                                                   NaN   \n2                                                   NaN   \n3                                                   NaN   \n4                                                   NaN   \n...                                                 ...   \n9995                                                NaN   \n9996  Провести централизованную смену паролей для до...   \n9997                                                NaN   \n9998                                                NaN   \n9999                                                NaN   \n\n                   Tasks.Task9.task_responsibles_people  \\\n0                                                   NaN   \n1                                                   NaN   \n2                                                   NaN   \n3                                                   NaN   \n4                                                   NaN   \n...                                                 ...   \n9995                                                NaN   \n9996  Контроль над выполнением настоящего распоряжен...   \n9997                                                NaN   \n9998                                                NaN   \n9999                                                NaN   \n\n     Tasks.Task9.task_responsibles_groups   Tasks.Task9.task_deadline  \n0                                     NaN                         NaN  \n1                                     NaN                         NaN  \n2                                     NaN                         NaN  \n3                                     NaN                         NaN  \n4                                     NaN                         NaN  \n...                                   ...                         ...  \n9995                                  NaN                         NaN  \n9996                                  7.0  [08.10.2019, 1570474800.0]  \n9997                                  NaN                         NaN  \n9998                                  NaN                         NaN  \n9999                                  NaN                         NaN  \n\n[10000 rows x 38 columns]",
      "text/html": "<div>\n<style scoped>\n    .dataframe tbody tr th:only-of-type {\n        vertical-align: middle;\n    }\n\n    .dataframe tbody tr th {\n        vertical-align: top;\n    }\n\n    .dataframe thead th {\n        text-align: right;\n    }\n</style>\n<table border=\"1\" class=\"dataframe\">\n  <thead>\n    <tr style=\"text-align: right;\">\n      <th></th>\n      <th>Tasks.Task1.task_text</th>\n      <th>Tasks.Task1.task_responsibles_people</th>\n      <th>Tasks.Task1.task_responsibles_groups</th>\n      <th>Tasks.Task1.task_deadline</th>\n      <th>Tasks.Global_supervisor</th>\n      <th>Tasks.Global_deadline</th>\n      <th>Tasks.Task2.task_text</th>\n      <th>Tasks.Task2.task_responsibles_people</th>\n      <th>Tasks.Task2.task_responsibles_groups</th>\n      <th>Tasks.Task2.task_deadline</th>\n      <th>...</th>\n      <th>Tasks.Task7.task_responsibles_groups</th>\n      <th>Tasks.Task7.task_deadline</th>\n      <th>Tasks.Task8.task_text</th>\n      <th>Tasks.Task8.task_responsibles_people</th>\n      <th>Tasks.Task8.task_responsibles_groups</th>\n      <th>Tasks.Task8.task_deadline</th>\n      <th>Tasks.Task9.task_text</th>\n      <th>Tasks.Task9.task_responsibles_people</th>\n      <th>Tasks.Task9.task_responsibles_groups</th>\n      <th>Tasks.Task9.task_deadline</th>\n    </tr>\n  </thead>\n  <tbody>\n    <tr>\n      <th>0</th>\n      <td>Закупить книги. Срок завершения: 19 апр 15.</td>\n      <td>Ответственность за исполнение распоряжения воз...</td>\n      <td>1</td>\n      <td>[19 апр 15, 1429383600.0]</td>\n      <td>[Ответственность за исполнение распоряжения во...</td>\n      <td>[11 апреля 2013 года, 1365616800.0]</td>\n      <td>NaN</td>\n      <td>NaN</td>\n      <td>NaN</td>\n      <td>NaN</td>\n      <td>...</td>\n      <td>NaN</td>\n      <td>NaN</td>\n      <td>NaN</td>\n      <td>NaN</td>\n      <td>NaN</td>\n      <td>NaN</td>\n      <td>NaN</td>\n      <td>NaN</td>\n      <td>NaN</td>\n      <td>NaN</td>\n    </tr>\n    <tr>\n      <th>1</th>\n      <td>Провести анализ поставщиков для замены вышедше...</td>\n      <td>Ответственность за исполнение распоряжения воз...</td>\n      <td>7</td>\n      <td>[24 октября 12, 1351015200.0]</td>\n      <td>[Ответственность за исполнение распоряжения во...</td>\n      <td>[03 июня 2013 года, 1370196000.0]</td>\n      <td>Выполнить ремонт кабеля сети передачи данных м...</td>\n      <td>Контроль над выполнением приказа возложить на ...</td>\n      <td>7.0</td>\n      <td>[12 авг 13, 1376244000.0]</td>\n      <td>...</td>\n      <td>NaN</td>\n      <td>NaN</td>\n      <td>NaN</td>\n      <td>NaN</td>\n      <td>NaN</td>\n      <td>NaN</td>\n      <td>NaN</td>\n      <td>NaN</td>\n      <td>NaN</td>\n      <td>NaN</td>\n    </tr>\n    <tr>\n      <th>2</th>\n      <td>Провести рефакторинг программного обеспечения ...</td>\n      <td>Контроль над исполнением распоряжения оставить...</td>\n      <td>2</td>\n      <td>[24.12.20, 1608750000.0]</td>\n      <td>[Контроль над исполнением распоряжения оставит...</td>\n      <td>[08 окт 2014 г., 1412704800.0]</td>\n      <td>Провести рефакторинг программного обеспечения ...</td>\n      <td>Ответственным за исполнение настоящего приказа...</td>\n      <td>2.0</td>\n      <td>[01 января 2018 года, 1514746800.0]</td>\n      <td>...</td>\n      <td>NaN</td>\n      <td>NaN</td>\n      <td>NaN</td>\n      <td>NaN</td>\n      <td>NaN</td>\n      <td>NaN</td>\n      <td>NaN</td>\n      <td>NaN</td>\n      <td>NaN</td>\n      <td>NaN</td>\n    </tr>\n    <tr>\n      <th>3</th>\n      <td>Оплатить командировочные расходы.\\nОпределить ...</td>\n      <td>Контроль над выполнением настоящего распоряжен...</td>\n      <td>4</td>\n      <td>[26 июля 2019 г., 1564081200.0]</td>\n      <td>[Контроль над выполнением настоящего распоряже...</td>\n      <td>[10.12.18, 1544382000.0]</td>\n      <td>Провести аудит персональных данных в информаци...</td>\n      <td>Обеспечение выполнения возложить на специалист...</td>\n      <td>4.0</td>\n      <td>[17.09.13, 1379354400.0]</td>\n      <td>...</td>\n      <td>NaN</td>\n      <td>NaN</td>\n      <td>NaN</td>\n      <td>NaN</td>\n      <td>NaN</td>\n      <td>NaN</td>\n      <td>NaN</td>\n      <td>NaN</td>\n      <td>NaN</td>\n      <td>NaN</td>\n    </tr>\n    <tr>\n      <th>4</th>\n      <td>Согласовать смету на выполнение работ компание...</td>\n      <td>Контроль над выполнением настоящего распоряжен...</td>\n      <td>4</td>\n      <td>[12 янв 2019 г., 1547233200.0]</td>\n      <td>[Контроль над выполнением настоящего распоряже...</td>\n      <td>[19.03.2016, 1458327600.0]</td>\n      <td>Выделить средства на проведение обучения.\\nУст...</td>\n      <td>Ответственным за исполнение настоящего приказа...</td>\n      <td>4.0</td>\n      <td>[26.09.2016, 1474830000.0]</td>\n      <td>...</td>\n      <td>NaN</td>\n      <td>NaN</td>\n      <td>NaN</td>\n      <td>NaN</td>\n      <td>NaN</td>\n      <td>NaN</td>\n      <td>NaN</td>\n      <td>NaN</td>\n      <td>NaN</td>\n      <td>NaN</td>\n    </tr>\n    <tr>\n      <th>...</th>\n      <td>...</td>\n      <td>...</td>\n      <td>...</td>\n      <td>...</td>\n      <td>...</td>\n      <td>...</td>\n      <td>...</td>\n      <td>...</td>\n      <td>...</td>\n      <td>...</td>\n      <td>...</td>\n      <td>...</td>\n      <td>...</td>\n      <td>...</td>\n      <td>...</td>\n      <td>...</td>\n      <td>...</td>\n      <td>...</td>\n      <td>...</td>\n      <td>...</td>\n      <td>...</td>\n    </tr>\n    <tr>\n      <th>9995</th>\n      <td>Подготовить отчеты для налоговой службы.\\nПрис...</td>\n      <td>Ответственным за исполнение настоящего приказа...</td>\n      <td>4</td>\n      <td>[14 сен 2017 г., 1505329200.0]</td>\n      <td>[Ответственным за исполнение настоящего приказ...</td>\n      <td>[22 августа 2016 года, 1471806000.0]</td>\n      <td>Перечислить необходимые средства для проведени...</td>\n      <td>За контроль над исполнением распоряжения назна...</td>\n      <td>4.0</td>\n      <td>[20 июля 2013 г., 1374256800.0]</td>\n      <td>...</td>\n      <td>NaN</td>\n      <td>NaN</td>\n      <td>NaN</td>\n      <td>NaN</td>\n      <td>NaN</td>\n      <td>NaN</td>\n      <td>NaN</td>\n      <td>NaN</td>\n      <td>NaN</td>\n      <td>NaN</td>\n    </tr>\n    <tr>\n      <th>9996</th>\n      <td>Закупить необходимое количество лицензий офисн...</td>\n      <td>Контроль над исполнением распоряжения оставить...</td>\n      <td>7</td>\n      <td>[03 октября 2020 года, 1601665200.0]</td>\n      <td>[Контроль над исполнением распоряжения оставит...</td>\n      <td>[26 июля 12, 1343239200.0]</td>\n      <td>Закупить необходимое количество клавиатур и ма...</td>\n      <td>Ответственным за контролем над исполнением выш...</td>\n      <td>7.0</td>\n      <td>[16 августа 2012 года, 1345053600.0]</td>\n      <td>...</td>\n      <td>7.0</td>\n      <td>[02.12.14, 1417460400.0]</td>\n      <td>Подключить и настроить видеокамеру для работы ...</td>\n      <td>За контроль над исполнением распоряжения назна...</td>\n      <td>7.0</td>\n      <td>[07 апр 15, 1428346800.0]</td>\n      <td>Провести централизованную смену паролей для до...</td>\n      <td>Контроль над выполнением настоящего распоряжен...</td>\n      <td>7.0</td>\n      <td>[08.10.2019, 1570474800.0]</td>\n    </tr>\n    <tr>\n      <th>9997</th>\n      <td>Скорректировать проектно-сметную документацию ...</td>\n      <td>Контроль над выполнением настоящего распоряжен...</td>\n      <td>6</td>\n      <td>[04 мар 2012 г., 1330797600.0]</td>\n      <td>[Контроль над выполнением настоящего распоряже...</td>\n      <td>[10.02.18, 1518202800.0]</td>\n      <td>Подготовить спецификацию необходимого аппаратн...</td>\n      <td>Ответственность за исполнение распоряжения воз...</td>\n      <td>6.0</td>\n      <td>[19.04.2020, 1587236400.0]</td>\n      <td>...</td>\n      <td>NaN</td>\n      <td>NaN</td>\n      <td>NaN</td>\n      <td>NaN</td>\n      <td>NaN</td>\n      <td>NaN</td>\n      <td>NaN</td>\n      <td>NaN</td>\n      <td>NaN</td>\n      <td>NaN</td>\n    </tr>\n    <tr>\n      <th>9998</th>\n      <td>Доработать функцию сохранения информации в баз...</td>\n      <td>Обеспечение выполнения возложить на специалист...</td>\n      <td>2</td>\n      <td>[27.12.2012, 1356544800.0]</td>\n      <td>[Обеспечение выполнения возложить на специалис...</td>\n      <td>[14.03.15, 1426273200.0]</td>\n      <td>Провести анализ неисправности работы API и обе...</td>\n      <td>За контроль над исполнением распоряжения назна...</td>\n      <td>2.0</td>\n      <td>[20.01.21, 1611082800.0]</td>\n      <td>...</td>\n      <td>2.0</td>\n      <td>[04.01.13, 1357236000.0]</td>\n      <td>NaN</td>\n      <td>NaN</td>\n      <td>NaN</td>\n      <td>NaN</td>\n      <td>NaN</td>\n      <td>NaN</td>\n      <td>NaN</td>\n      <td>NaN</td>\n    </tr>\n    <tr>\n      <th>9999</th>\n      <td>Установить дополнительные источники освещения ...</td>\n      <td>Ответственность за исполнение распоряжения воз...</td>\n      <td>1</td>\n      <td>[18 янв 15, 1421521200.0]</td>\n      <td>[Ответственность за исполнение распоряжения во...</td>\n      <td>[12.07.14, 1405101600.0]</td>\n      <td>Выполнить ремонт замка дверей входной секции. ...</td>\n      <td>Обеспечение выполнения возложить на специалист...</td>\n      <td>1.0</td>\n      <td>[04 ноя 15, 1446577200.0]</td>\n      <td>...</td>\n      <td>NaN</td>\n      <td>NaN</td>\n      <td>NaN</td>\n      <td>NaN</td>\n      <td>NaN</td>\n      <td>NaN</td>\n      <td>NaN</td>\n      <td>NaN</td>\n      <td>NaN</td>\n      <td>NaN</td>\n    </tr>\n  </tbody>\n</table>\n<p>10000 rows × 38 columns</p>\n</div>"
     },
     "execution_count": 176,
     "metadata": {},
     "output_type": "execute_result"
    }
   ],
   "source": [
    "df = df.replace(classes_dep)\n",
    "df"
   ]
  },
  {
   "cell_type": "code",
   "execution_count": 69,
   "id": "1ac74202-2985-47c9-827b-c4a1ea374263",
   "metadata": {},
   "outputs": [],
   "source": [
    "#df = df.replace({'Task1.task_responsibles_groups':classes_dep, 'Task2.task_responsibles_groups': classes_dep, ##\n",
    "#                'Task3.task_responsibles_groups': classes_dep, 'Task4.task_responsibles_groups': classes_dep,\n",
    "#                'Task5.task_responsibles_groups': classes_dep, 'Task6.task_responsibles_groups': classes_dep,\n",
    "#                'Task7.task_responsibles_groups': classes_dep, 'Task8.task_responsibles_groups': classes_dep,\n",
    "#                'Task9.task_responsibles_groups': classes_dep,})"
   ]
  },
  {
   "cell_type": "code",
   "execution_count": 216,
   "id": "0019a287-de68-4579-8faf-d921ebf2a5f1",
   "metadata": {},
   "outputs": [],
   "source": [
    "#df_new = lambda: pd.DataFrame([df.replace({'Task{}.task_responsibles_groups'.format(n):classes_dep}) for n in range(10)])"
   ]
  },
  {
   "cell_type": "code",
   "execution_count": 224,
   "id": "86d7e74d-4329-4b1b-a43e-9ffa74cc6ae2",
   "metadata": {},
   "outputs": [],
   "source": [
    "#df = df.drop(['Global_deadline','Task1.task_deadline','Task2.task_deadline','Task3.task_deadline','Task4.task_deadline',\n",
    "#              'Task5.task_deadline','Task6.task_deadline','Task7.task_deadline',\n",
    "#             'Task8.task_deadline','Task9.task_deadline'], axis = 1)\n"
   ]
  },
  {
   "cell_type": "code",
   "execution_count": 192,
   "id": "818924af-7fdd-4a36-86c6-68365ea2126a",
   "metadata": {},
   "outputs": [
    {
     "data": {
      "text/plain": "                                  Tasks.Task1.task_text  \\\n0           Закупить книги. Срок завершения: 19 апр 15.   \n1     Провести анализ поставщиков для замены вышедше...   \n2     Провести рефакторинг программного обеспечения ...   \n3     Оплатить командировочные расходы.\\nОпределить ...   \n4     Согласовать смету на выполнение работ компание...   \n...                                                 ...   \n9995  Подготовить отчеты для налоговой службы.\\nПрис...   \n9996  Закупить необходимое количество лицензий офисн...   \n9997  Скорректировать проектно-сметную документацию ...   \n9998  Доработать функцию сохранения информации в баз...   \n9999  Установить дополнительные источники освещения ...   \n\n                   Tasks.Task1.task_responsibles_people  \\\n0     Ответственность за исполнение распоряжения воз...   \n1     Ответственность за исполнение распоряжения воз...   \n2     Контроль над исполнением распоряжения оставить...   \n3     Контроль над выполнением настоящего распоряжен...   \n4     Контроль над выполнением настоящего распоряжен...   \n...                                                 ...   \n9995  Ответственным за исполнение настоящего приказа...   \n9996  Контроль над исполнением распоряжения оставить...   \n9997  Контроль над выполнением настоящего распоряжен...   \n9998  Обеспечение выполнения возложить на специалист...   \n9999  Ответственность за исполнение распоряжения воз...   \n\n      Tasks.Task1.task_responsibles_groups  \\\n0                                        1   \n1                                        7   \n2                                        2   \n3                                        4   \n4                                        4   \n...                                    ...   \n9995                                     4   \n9996                                     7   \n9997                                     6   \n9998                                     2   \n9999                                     1   \n\n                 Tasks.Task1.task_deadline  \\\n0                [19 апр 15, 1429383600.0]   \n1            [24 октября 12, 1351015200.0]   \n2                 [24.12.20, 1608750000.0]   \n3          [26 июля 2019 г., 1564081200.0]   \n4           [12 янв 2019 г., 1547233200.0]   \n...                                    ...   \n9995        [14 сен 2017 г., 1505329200.0]   \n9996  [03 октября 2020 года, 1601665200.0]   \n9997        [04 мар 2012 г., 1330797600.0]   \n9998            [27.12.2012, 1356544800.0]   \n9999             [18 янв 15, 1421521200.0]   \n\n                                Tasks.Global_supervisor  \\\n0     [Ответственность за исполнение распоряжения во...   \n1     [Ответственность за исполнение распоряжения во...   \n2     [Контроль над исполнением распоряжения оставит...   \n3     [Контроль над выполнением настоящего распоряже...   \n4     [Контроль над выполнением настоящего распоряже...   \n...                                                 ...   \n9995  [Ответственным за исполнение настоящего приказ...   \n9996  [Контроль над исполнением распоряжения оставит...   \n9997  [Контроль над выполнением настоящего распоряже...   \n9998  [Обеспечение выполнения возложить на специалис...   \n9999  [Ответственность за исполнение распоряжения во...   \n\n                     Tasks.Global_deadline  \\\n0      [11 апреля 2013 года, 1365616800.0]   \n1        [03 июня 2013 года, 1370196000.0]   \n2           [08 окт 2014 г., 1412704800.0]   \n3                 [10.12.18, 1544382000.0]   \n4               [19.03.2016, 1458327600.0]   \n...                                    ...   \n9995  [22 августа 2016 года, 1471806000.0]   \n9996            [26 июля 12, 1343239200.0]   \n9997              [10.02.18, 1518202800.0]   \n9998              [14.03.15, 1426273200.0]   \n9999              [12.07.14, 1405101600.0]   \n\n                                  Tasks.Task2.task_text  \\\n0                                                     0   \n1     Выполнить ремонт кабеля сети передачи данных м...   \n2     Провести рефакторинг программного обеспечения ...   \n3     Провести аудит персональных данных в информаци...   \n4     Выделить средства на проведение обучения.\\nУст...   \n...                                                 ...   \n9995  Перечислить необходимые средства для проведени...   \n9996  Закупить необходимое количество клавиатур и ма...   \n9997  Подготовить спецификацию необходимого аппаратн...   \n9998  Провести анализ неисправности работы API и обе...   \n9999  Выполнить ремонт замка дверей входной секции. ...   \n\n                   Tasks.Task2.task_responsibles_people  \\\n0                                                     0   \n1     Контроль над выполнением приказа возложить на ...   \n2     Ответственным за исполнение настоящего приказа...   \n3     Обеспечение выполнения возложить на специалист...   \n4     Ответственным за исполнение настоящего приказа...   \n...                                                 ...   \n9995  За контроль над исполнением распоряжения назна...   \n9996  Ответственным за контролем над исполнением выш...   \n9997  Ответственность за исполнение распоряжения воз...   \n9998  За контроль над исполнением распоряжения назна...   \n9999  Обеспечение выполнения возложить на специалист...   \n\n      Tasks.Task2.task_responsibles_groups  \\\n0                                      0.0   \n1                                      7.0   \n2                                      2.0   \n3                                      4.0   \n4                                      4.0   \n...                                    ...   \n9995                                   4.0   \n9996                                   7.0   \n9997                                   6.0   \n9998                                   2.0   \n9999                                   1.0   \n\n                 Tasks.Task2.task_deadline  ...  \\\n0                                        0  ...   \n1                [12 авг 13, 1376244000.0]  ...   \n2      [01 января 2018 года, 1514746800.0]  ...   \n3                 [17.09.13, 1379354400.0]  ...   \n4               [26.09.2016, 1474830000.0]  ...   \n...                                    ...  ...   \n9995       [20 июля 2013 г., 1374256800.0]  ...   \n9996  [16 августа 2012 года, 1345053600.0]  ...   \n9997            [19.04.2020, 1587236400.0]  ...   \n9998              [20.01.21, 1611082800.0]  ...   \n9999             [04 ноя 15, 1446577200.0]  ...   \n\n     Tasks.Task7.task_responsibles_groups Tasks.Task7.task_deadline  \\\n0                                     0.0                         0   \n1                                     0.0                         0   \n2                                     0.0                         0   \n3                                     0.0                         0   \n4                                     0.0                         0   \n...                                   ...                       ...   \n9995                                  0.0                         0   \n9996                                  7.0  [02.12.14, 1417460400.0]   \n9997                                  0.0                         0   \n9998                                  2.0  [04.01.13, 1357236000.0]   \n9999                                  0.0                         0   \n\n                                  Tasks.Task8.task_text  \\\n0                                                     0   \n1                                                     0   \n2                                                     0   \n3                                                     0   \n4                                                     0   \n...                                                 ...   \n9995                                                  0   \n9996  Подключить и настроить видеокамеру для работы ...   \n9997                                                  0   \n9998                                                  0   \n9999                                                  0   \n\n                   Tasks.Task8.task_responsibles_people  \\\n0                                                     0   \n1                                                     0   \n2                                                     0   \n3                                                     0   \n4                                                     0   \n...                                                 ...   \n9995                                                  0   \n9996  За контроль над исполнением распоряжения назна...   \n9997                                                  0   \n9998                                                  0   \n9999                                                  0   \n\n     Tasks.Task8.task_responsibles_groups  Tasks.Task8.task_deadline  \\\n0                                     0.0                          0   \n1                                     0.0                          0   \n2                                     0.0                          0   \n3                                     0.0                          0   \n4                                     0.0                          0   \n...                                   ...                        ...   \n9995                                  0.0                          0   \n9996                                  7.0  [07 апр 15, 1428346800.0]   \n9997                                  0.0                          0   \n9998                                  0.0                          0   \n9999                                  0.0                          0   \n\n                                  Tasks.Task9.task_text  \\\n0                                                     0   \n1                                                     0   \n2                                                     0   \n3                                                     0   \n4                                                     0   \n...                                                 ...   \n9995                                                  0   \n9996  Провести централизованную смену паролей для до...   \n9997                                                  0   \n9998                                                  0   \n9999                                                  0   \n\n                   Tasks.Task9.task_responsibles_people  \\\n0                                                     0   \n1                                                     0   \n2                                                     0   \n3                                                     0   \n4                                                     0   \n...                                                 ...   \n9995                                                  0   \n9996  Контроль над выполнением настоящего распоряжен...   \n9997                                                  0   \n9998                                                  0   \n9999                                                  0   \n\n     Tasks.Task9.task_responsibles_groups   Tasks.Task9.task_deadline  \n0                                     0.0                           0  \n1                                     0.0                           0  \n2                                     0.0                           0  \n3                                     0.0                           0  \n4                                     0.0                           0  \n...                                   ...                         ...  \n9995                                  0.0                           0  \n9996                                  7.0  [08.10.2019, 1570474800.0]  \n9997                                  0.0                           0  \n9998                                  0.0                           0  \n9999                                  0.0                           0  \n\n[10000 rows x 38 columns]",
      "text/html": "<div>\n<style scoped>\n    .dataframe tbody tr th:only-of-type {\n        vertical-align: middle;\n    }\n\n    .dataframe tbody tr th {\n        vertical-align: top;\n    }\n\n    .dataframe thead th {\n        text-align: right;\n    }\n</style>\n<table border=\"1\" class=\"dataframe\">\n  <thead>\n    <tr style=\"text-align: right;\">\n      <th></th>\n      <th>Tasks.Task1.task_text</th>\n      <th>Tasks.Task1.task_responsibles_people</th>\n      <th>Tasks.Task1.task_responsibles_groups</th>\n      <th>Tasks.Task1.task_deadline</th>\n      <th>Tasks.Global_supervisor</th>\n      <th>Tasks.Global_deadline</th>\n      <th>Tasks.Task2.task_text</th>\n      <th>Tasks.Task2.task_responsibles_people</th>\n      <th>Tasks.Task2.task_responsibles_groups</th>\n      <th>Tasks.Task2.task_deadline</th>\n      <th>...</th>\n      <th>Tasks.Task7.task_responsibles_groups</th>\n      <th>Tasks.Task7.task_deadline</th>\n      <th>Tasks.Task8.task_text</th>\n      <th>Tasks.Task8.task_responsibles_people</th>\n      <th>Tasks.Task8.task_responsibles_groups</th>\n      <th>Tasks.Task8.task_deadline</th>\n      <th>Tasks.Task9.task_text</th>\n      <th>Tasks.Task9.task_responsibles_people</th>\n      <th>Tasks.Task9.task_responsibles_groups</th>\n      <th>Tasks.Task9.task_deadline</th>\n    </tr>\n  </thead>\n  <tbody>\n    <tr>\n      <th>0</th>\n      <td>Закупить книги. Срок завершения: 19 апр 15.</td>\n      <td>Ответственность за исполнение распоряжения воз...</td>\n      <td>1</td>\n      <td>[19 апр 15, 1429383600.0]</td>\n      <td>[Ответственность за исполнение распоряжения во...</td>\n      <td>[11 апреля 2013 года, 1365616800.0]</td>\n      <td>0</td>\n      <td>0</td>\n      <td>0.0</td>\n      <td>0</td>\n      <td>...</td>\n      <td>0.0</td>\n      <td>0</td>\n      <td>0</td>\n      <td>0</td>\n      <td>0.0</td>\n      <td>0</td>\n      <td>0</td>\n      <td>0</td>\n      <td>0.0</td>\n      <td>0</td>\n    </tr>\n    <tr>\n      <th>1</th>\n      <td>Провести анализ поставщиков для замены вышедше...</td>\n      <td>Ответственность за исполнение распоряжения воз...</td>\n      <td>7</td>\n      <td>[24 октября 12, 1351015200.0]</td>\n      <td>[Ответственность за исполнение распоряжения во...</td>\n      <td>[03 июня 2013 года, 1370196000.0]</td>\n      <td>Выполнить ремонт кабеля сети передачи данных м...</td>\n      <td>Контроль над выполнением приказа возложить на ...</td>\n      <td>7.0</td>\n      <td>[12 авг 13, 1376244000.0]</td>\n      <td>...</td>\n      <td>0.0</td>\n      <td>0</td>\n      <td>0</td>\n      <td>0</td>\n      <td>0.0</td>\n      <td>0</td>\n      <td>0</td>\n      <td>0</td>\n      <td>0.0</td>\n      <td>0</td>\n    </tr>\n    <tr>\n      <th>2</th>\n      <td>Провести рефакторинг программного обеспечения ...</td>\n      <td>Контроль над исполнением распоряжения оставить...</td>\n      <td>2</td>\n      <td>[24.12.20, 1608750000.0]</td>\n      <td>[Контроль над исполнением распоряжения оставит...</td>\n      <td>[08 окт 2014 г., 1412704800.0]</td>\n      <td>Провести рефакторинг программного обеспечения ...</td>\n      <td>Ответственным за исполнение настоящего приказа...</td>\n      <td>2.0</td>\n      <td>[01 января 2018 года, 1514746800.0]</td>\n      <td>...</td>\n      <td>0.0</td>\n      <td>0</td>\n      <td>0</td>\n      <td>0</td>\n      <td>0.0</td>\n      <td>0</td>\n      <td>0</td>\n      <td>0</td>\n      <td>0.0</td>\n      <td>0</td>\n    </tr>\n    <tr>\n      <th>3</th>\n      <td>Оплатить командировочные расходы.\\nОпределить ...</td>\n      <td>Контроль над выполнением настоящего распоряжен...</td>\n      <td>4</td>\n      <td>[26 июля 2019 г., 1564081200.0]</td>\n      <td>[Контроль над выполнением настоящего распоряже...</td>\n      <td>[10.12.18, 1544382000.0]</td>\n      <td>Провести аудит персональных данных в информаци...</td>\n      <td>Обеспечение выполнения возложить на специалист...</td>\n      <td>4.0</td>\n      <td>[17.09.13, 1379354400.0]</td>\n      <td>...</td>\n      <td>0.0</td>\n      <td>0</td>\n      <td>0</td>\n      <td>0</td>\n      <td>0.0</td>\n      <td>0</td>\n      <td>0</td>\n      <td>0</td>\n      <td>0.0</td>\n      <td>0</td>\n    </tr>\n    <tr>\n      <th>4</th>\n      <td>Согласовать смету на выполнение работ компание...</td>\n      <td>Контроль над выполнением настоящего распоряжен...</td>\n      <td>4</td>\n      <td>[12 янв 2019 г., 1547233200.0]</td>\n      <td>[Контроль над выполнением настоящего распоряже...</td>\n      <td>[19.03.2016, 1458327600.0]</td>\n      <td>Выделить средства на проведение обучения.\\nУст...</td>\n      <td>Ответственным за исполнение настоящего приказа...</td>\n      <td>4.0</td>\n      <td>[26.09.2016, 1474830000.0]</td>\n      <td>...</td>\n      <td>0.0</td>\n      <td>0</td>\n      <td>0</td>\n      <td>0</td>\n      <td>0.0</td>\n      <td>0</td>\n      <td>0</td>\n      <td>0</td>\n      <td>0.0</td>\n      <td>0</td>\n    </tr>\n    <tr>\n      <th>...</th>\n      <td>...</td>\n      <td>...</td>\n      <td>...</td>\n      <td>...</td>\n      <td>...</td>\n      <td>...</td>\n      <td>...</td>\n      <td>...</td>\n      <td>...</td>\n      <td>...</td>\n      <td>...</td>\n      <td>...</td>\n      <td>...</td>\n      <td>...</td>\n      <td>...</td>\n      <td>...</td>\n      <td>...</td>\n      <td>...</td>\n      <td>...</td>\n      <td>...</td>\n      <td>...</td>\n    </tr>\n    <tr>\n      <th>9995</th>\n      <td>Подготовить отчеты для налоговой службы.\\nПрис...</td>\n      <td>Ответственным за исполнение настоящего приказа...</td>\n      <td>4</td>\n      <td>[14 сен 2017 г., 1505329200.0]</td>\n      <td>[Ответственным за исполнение настоящего приказ...</td>\n      <td>[22 августа 2016 года, 1471806000.0]</td>\n      <td>Перечислить необходимые средства для проведени...</td>\n      <td>За контроль над исполнением распоряжения назна...</td>\n      <td>4.0</td>\n      <td>[20 июля 2013 г., 1374256800.0]</td>\n      <td>...</td>\n      <td>0.0</td>\n      <td>0</td>\n      <td>0</td>\n      <td>0</td>\n      <td>0.0</td>\n      <td>0</td>\n      <td>0</td>\n      <td>0</td>\n      <td>0.0</td>\n      <td>0</td>\n    </tr>\n    <tr>\n      <th>9996</th>\n      <td>Закупить необходимое количество лицензий офисн...</td>\n      <td>Контроль над исполнением распоряжения оставить...</td>\n      <td>7</td>\n      <td>[03 октября 2020 года, 1601665200.0]</td>\n      <td>[Контроль над исполнением распоряжения оставит...</td>\n      <td>[26 июля 12, 1343239200.0]</td>\n      <td>Закупить необходимое количество клавиатур и ма...</td>\n      <td>Ответственным за контролем над исполнением выш...</td>\n      <td>7.0</td>\n      <td>[16 августа 2012 года, 1345053600.0]</td>\n      <td>...</td>\n      <td>7.0</td>\n      <td>[02.12.14, 1417460400.0]</td>\n      <td>Подключить и настроить видеокамеру для работы ...</td>\n      <td>За контроль над исполнением распоряжения назна...</td>\n      <td>7.0</td>\n      <td>[07 апр 15, 1428346800.0]</td>\n      <td>Провести централизованную смену паролей для до...</td>\n      <td>Контроль над выполнением настоящего распоряжен...</td>\n      <td>7.0</td>\n      <td>[08.10.2019, 1570474800.0]</td>\n    </tr>\n    <tr>\n      <th>9997</th>\n      <td>Скорректировать проектно-сметную документацию ...</td>\n      <td>Контроль над выполнением настоящего распоряжен...</td>\n      <td>6</td>\n      <td>[04 мар 2012 г., 1330797600.0]</td>\n      <td>[Контроль над выполнением настоящего распоряже...</td>\n      <td>[10.02.18, 1518202800.0]</td>\n      <td>Подготовить спецификацию необходимого аппаратн...</td>\n      <td>Ответственность за исполнение распоряжения воз...</td>\n      <td>6.0</td>\n      <td>[19.04.2020, 1587236400.0]</td>\n      <td>...</td>\n      <td>0.0</td>\n      <td>0</td>\n      <td>0</td>\n      <td>0</td>\n      <td>0.0</td>\n      <td>0</td>\n      <td>0</td>\n      <td>0</td>\n      <td>0.0</td>\n      <td>0</td>\n    </tr>\n    <tr>\n      <th>9998</th>\n      <td>Доработать функцию сохранения информации в баз...</td>\n      <td>Обеспечение выполнения возложить на специалист...</td>\n      <td>2</td>\n      <td>[27.12.2012, 1356544800.0]</td>\n      <td>[Обеспечение выполнения возложить на специалис...</td>\n      <td>[14.03.15, 1426273200.0]</td>\n      <td>Провести анализ неисправности работы API и обе...</td>\n      <td>За контроль над исполнением распоряжения назна...</td>\n      <td>2.0</td>\n      <td>[20.01.21, 1611082800.0]</td>\n      <td>...</td>\n      <td>2.0</td>\n      <td>[04.01.13, 1357236000.0]</td>\n      <td>0</td>\n      <td>0</td>\n      <td>0.0</td>\n      <td>0</td>\n      <td>0</td>\n      <td>0</td>\n      <td>0.0</td>\n      <td>0</td>\n    </tr>\n    <tr>\n      <th>9999</th>\n      <td>Установить дополнительные источники освещения ...</td>\n      <td>Ответственность за исполнение распоряжения воз...</td>\n      <td>1</td>\n      <td>[18 янв 15, 1421521200.0]</td>\n      <td>[Ответственность за исполнение распоряжения во...</td>\n      <td>[12.07.14, 1405101600.0]</td>\n      <td>Выполнить ремонт замка дверей входной секции. ...</td>\n      <td>Обеспечение выполнения возложить на специалист...</td>\n      <td>1.0</td>\n      <td>[04 ноя 15, 1446577200.0]</td>\n      <td>...</td>\n      <td>0.0</td>\n      <td>0</td>\n      <td>0</td>\n      <td>0</td>\n      <td>0.0</td>\n      <td>0</td>\n      <td>0</td>\n      <td>0</td>\n      <td>0.0</td>\n      <td>0</td>\n    </tr>\n  </tbody>\n</table>\n<p>10000 rows × 38 columns</p>\n</div>"
     },
     "execution_count": 192,
     "metadata": {},
     "output_type": "execute_result"
    }
   ],
   "source": [
    "df = df.fillna(0)\n",
    "df.iloc[:,:60]"
   ]
  },
  {
   "cell_type": "code",
   "execution_count": 193,
   "id": "ac0373ef-41e7-4fa2-a8df-15743445add6",
   "metadata": {},
   "outputs": [
    {
     "ename": "KeyError",
     "evalue": "'Task9.task_text'",
     "output_type": "error",
     "traceback": [
      "\u001B[0;31m---------------------------------------------------------------------------\u001B[0m",
      "\u001B[0;31mKeyError\u001B[0m                                  Traceback (most recent call last)",
      "File \u001B[0;32m~/PycharmProjects/Hack2023_CheckOut/venv/lib/python3.10/site-packages/pandas/core/indexes/base.py:3802\u001B[0m, in \u001B[0;36mIndex.get_loc\u001B[0;34m(self, key, method, tolerance)\u001B[0m\n\u001B[1;32m   3801\u001B[0m \u001B[38;5;28;01mtry\u001B[39;00m:\n\u001B[0;32m-> 3802\u001B[0m     \u001B[38;5;28;01mreturn\u001B[39;00m \u001B[38;5;28;43mself\u001B[39;49m\u001B[38;5;241;43m.\u001B[39;49m\u001B[43m_engine\u001B[49m\u001B[38;5;241;43m.\u001B[39;49m\u001B[43mget_loc\u001B[49m\u001B[43m(\u001B[49m\u001B[43mcasted_key\u001B[49m\u001B[43m)\u001B[49m\n\u001B[1;32m   3803\u001B[0m \u001B[38;5;28;01mexcept\u001B[39;00m \u001B[38;5;167;01mKeyError\u001B[39;00m \u001B[38;5;28;01mas\u001B[39;00m err:\n",
      "File \u001B[0;32m~/PycharmProjects/Hack2023_CheckOut/venv/lib/python3.10/site-packages/pandas/_libs/index.pyx:138\u001B[0m, in \u001B[0;36mpandas._libs.index.IndexEngine.get_loc\u001B[0;34m()\u001B[0m\n",
      "File \u001B[0;32m~/PycharmProjects/Hack2023_CheckOut/venv/lib/python3.10/site-packages/pandas/_libs/index.pyx:165\u001B[0m, in \u001B[0;36mpandas._libs.index.IndexEngine.get_loc\u001B[0;34m()\u001B[0m\n",
      "File \u001B[0;32mpandas/_libs/hashtable_class_helper.pxi:5745\u001B[0m, in \u001B[0;36mpandas._libs.hashtable.PyObjectHashTable.get_item\u001B[0;34m()\u001B[0m\n",
      "File \u001B[0;32mpandas/_libs/hashtable_class_helper.pxi:5753\u001B[0m, in \u001B[0;36mpandas._libs.hashtable.PyObjectHashTable.get_item\u001B[0;34m()\u001B[0m\n",
      "\u001B[0;31mKeyError\u001B[0m: 'Task9.task_text'",
      "\nThe above exception was the direct cause of the following exception:\n",
      "\u001B[0;31mKeyError\u001B[0m                                  Traceback (most recent call last)",
      "Cell \u001B[0;32mIn[193], line 3\u001B[0m\n\u001B[1;32m      1\u001B[0m \u001B[38;5;28;01mfor\u001B[39;00m n \u001B[38;5;129;01min\u001B[39;00m \u001B[38;5;28mrange\u001B[39m(\u001B[38;5;28mlen\u001B[39m(df)):\n\u001B[1;32m      2\u001B[0m     \u001B[38;5;28;01mtry\u001B[39;00m:\n\u001B[0;32m----> 3\u001B[0m         df[\u001B[38;5;124m'\u001B[39m\u001B[38;5;124mTask9.task_text\u001B[39m\u001B[38;5;124m'\u001B[39m][n] \u001B[38;5;241m=\u001B[39m \u001B[43mdf\u001B[49m\u001B[43m[\u001B[49m\u001B[38;5;124;43m'\u001B[39;49m\u001B[38;5;124;43mTask9.task_text\u001B[39;49m\u001B[38;5;124;43m'\u001B[39;49m\u001B[43m]\u001B[49m[n]\u001B[38;5;241m.\u001B[39msplit(\u001B[38;5;124m'\u001B[39m\u001B[38;5;124m.\u001B[39m\u001B[38;5;124m'\u001B[39m)[\u001B[38;5;241m0\u001B[39m]\n\u001B[1;32m      4\u001B[0m     \u001B[38;5;28;01mexcept\u001B[39;00m \u001B[38;5;167;01mTypeError\u001B[39;00m:\n\u001B[1;32m      5\u001B[0m         \u001B[38;5;28;01mcontinue\u001B[39;00m\n",
      "File \u001B[0;32m~/PycharmProjects/Hack2023_CheckOut/venv/lib/python3.10/site-packages/pandas/core/frame.py:3807\u001B[0m, in \u001B[0;36mDataFrame.__getitem__\u001B[0;34m(self, key)\u001B[0m\n\u001B[1;32m   3805\u001B[0m \u001B[38;5;28;01mif\u001B[39;00m \u001B[38;5;28mself\u001B[39m\u001B[38;5;241m.\u001B[39mcolumns\u001B[38;5;241m.\u001B[39mnlevels \u001B[38;5;241m>\u001B[39m \u001B[38;5;241m1\u001B[39m:\n\u001B[1;32m   3806\u001B[0m     \u001B[38;5;28;01mreturn\u001B[39;00m \u001B[38;5;28mself\u001B[39m\u001B[38;5;241m.\u001B[39m_getitem_multilevel(key)\n\u001B[0;32m-> 3807\u001B[0m indexer \u001B[38;5;241m=\u001B[39m \u001B[38;5;28;43mself\u001B[39;49m\u001B[38;5;241;43m.\u001B[39;49m\u001B[43mcolumns\u001B[49m\u001B[38;5;241;43m.\u001B[39;49m\u001B[43mget_loc\u001B[49m\u001B[43m(\u001B[49m\u001B[43mkey\u001B[49m\u001B[43m)\u001B[49m\n\u001B[1;32m   3808\u001B[0m \u001B[38;5;28;01mif\u001B[39;00m is_integer(indexer):\n\u001B[1;32m   3809\u001B[0m     indexer \u001B[38;5;241m=\u001B[39m [indexer]\n",
      "File \u001B[0;32m~/PycharmProjects/Hack2023_CheckOut/venv/lib/python3.10/site-packages/pandas/core/indexes/base.py:3804\u001B[0m, in \u001B[0;36mIndex.get_loc\u001B[0;34m(self, key, method, tolerance)\u001B[0m\n\u001B[1;32m   3802\u001B[0m     \u001B[38;5;28;01mreturn\u001B[39;00m \u001B[38;5;28mself\u001B[39m\u001B[38;5;241m.\u001B[39m_engine\u001B[38;5;241m.\u001B[39mget_loc(casted_key)\n\u001B[1;32m   3803\u001B[0m \u001B[38;5;28;01mexcept\u001B[39;00m \u001B[38;5;167;01mKeyError\u001B[39;00m \u001B[38;5;28;01mas\u001B[39;00m err:\n\u001B[0;32m-> 3804\u001B[0m     \u001B[38;5;28;01mraise\u001B[39;00m \u001B[38;5;167;01mKeyError\u001B[39;00m(key) \u001B[38;5;28;01mfrom\u001B[39;00m \u001B[38;5;21;01merr\u001B[39;00m\n\u001B[1;32m   3805\u001B[0m \u001B[38;5;28;01mexcept\u001B[39;00m \u001B[38;5;167;01mTypeError\u001B[39;00m:\n\u001B[1;32m   3806\u001B[0m     \u001B[38;5;66;03m# If we have a listlike key, _check_indexing_error will raise\u001B[39;00m\n\u001B[1;32m   3807\u001B[0m     \u001B[38;5;66;03m#  InvalidIndexError. Otherwise we fall through and re-raise\u001B[39;00m\n\u001B[1;32m   3808\u001B[0m     \u001B[38;5;66;03m#  the TypeError.\u001B[39;00m\n\u001B[1;32m   3809\u001B[0m     \u001B[38;5;28mself\u001B[39m\u001B[38;5;241m.\u001B[39m_check_indexing_error(key)\n",
      "\u001B[0;31mKeyError\u001B[0m: 'Task9.task_text'"
     ]
    }
   ],
   "source": [
    "for n in range(len(df)):\n",
    "    try:\n",
    "        df['Task9.task_text'][n] = df['Task9.task_text'][n].split('.')[0]\n",
    "    except TypeError:\n",
    "        continue\n",
    "    except AttributeError:\n",
    "        continue\n",
    "    except IndexError:\n",
    "        continue"
   ]
  },
  {
   "cell_type": "code",
   "execution_count": 179,
   "id": "859199c2-9282-4f09-b753-70aa32a3aa74",
   "metadata": {},
   "outputs": [
    {
     "ename": "TypeError",
     "evalue": "'list' object cannot be interpreted as an integer",
     "output_type": "error",
     "traceback": [
      "\u001B[0;31m---------------------------------------------------------------------------\u001B[0m",
      "\u001B[0;31mTypeError\u001B[0m                                 Traceback (most recent call last)",
      "Cell \u001B[0;32mIn[179], line 4\u001B[0m\n\u001B[1;32m      2\u001B[0m keywords_resp \u001B[38;5;241m=\u001B[39m []\n\u001B[1;32m      3\u001B[0m keywords_resp_min \u001B[38;5;241m=\u001B[39m []\n\u001B[0;32m----> 4\u001B[0m \u001B[38;5;28;01mfor\u001B[39;00m n \u001B[38;5;129;01min\u001B[39;00m \u001B[38;5;28;43mrange\u001B[39;49m\u001B[43m(\u001B[49m\u001B[43mtext\u001B[49m\u001B[43m)\u001B[49m:\n\u001B[1;32m      5\u001B[0m     doc \u001B[38;5;241m=\u001B[39m nlp(text[n])\n\u001B[1;32m      7\u001B[0m     span \u001B[38;5;241m=\u001B[39m doc[doc[\u001B[38;5;241m3\u001B[39m]\u001B[38;5;241m.\u001B[39mleft_edge\u001B[38;5;241m.\u001B[39mi : doc[\u001B[38;5;241m3\u001B[39m]\u001B[38;5;241m.\u001B[39mright_edge\u001B[38;5;241m.\u001B[39mi\u001B[38;5;241m+\u001B[39m\u001B[38;5;241m1\u001B[39m]\n",
      "\u001B[0;31mTypeError\u001B[0m: 'list' object cannot be interpreted as an integer"
     ]
    }
   ],
   "source": [
    "text = FIO_POSITION[:20]\n",
    "keywords_resp = []\n",
    "keywords_resp_min = []\n",
    "for n in range(text):\n",
    "    doc = nlp(text[n])\n",
    " \n",
    "    span = doc[doc[3].left_edge.i : doc[3].right_edge.i+1]\n",
    "    with doc.retokenize() as retokenizer:\n",
    "        retokenizer.merge(span)\n",
    "    for token in doc:\n",
    "        keywords_resp_min.append(token.head)\n",
    "    keywords_resp.append(set(keywords_resp_min))\n",
    "\n",
    "keywords_resp"
   ]
  },
  {
   "cell_type": "code",
   "execution_count": 180,
   "id": "665bf473-387a-4a01-a309-12698861cc05",
   "metadata": {},
   "outputs": [
    {
     "ename": "KeyError",
     "evalue": "\"['Global_deadline', 'Task1.task_deadline', 'Task2.task_deadline', 'Task2.task_deadline', 'Task3.task_deadline', 'Task4.task_deadline', 'Task5.task_deadline', 'Task6.task_deadline', 'Task7.task_deadline', 'Task8.task_deadline', 'Task9.task_deadline'] not found in axis\"",
     "output_type": "error",
     "traceback": [
      "\u001B[0;31m---------------------------------------------------------------------------\u001B[0m",
      "\u001B[0;31mKeyError\u001B[0m                                  Traceback (most recent call last)",
      "Cell \u001B[0;32mIn[180], line 1\u001B[0m\n\u001B[0;32m----> 1\u001B[0m df_no_deadline \u001B[38;5;241m=\u001B[39m \u001B[43mdf\u001B[49m\u001B[38;5;241;43m.\u001B[39;49m\u001B[43mdrop\u001B[49m\u001B[43m(\u001B[49m\u001B[43m[\u001B[49m\u001B[38;5;124;43m'\u001B[39;49m\u001B[38;5;124;43mGlobal_deadline\u001B[39;49m\u001B[38;5;124;43m'\u001B[39;49m\u001B[43m,\u001B[49m\u001B[38;5;124;43m'\u001B[39;49m\u001B[38;5;124;43mTask1.task_deadline\u001B[39;49m\u001B[38;5;124;43m'\u001B[39;49m\u001B[43m,\u001B[49m\u001B[38;5;124;43m'\u001B[39;49m\u001B[38;5;124;43mTask2.task_deadline\u001B[39;49m\u001B[38;5;124;43m'\u001B[39;49m\u001B[43m,\u001B[49m\n\u001B[1;32m      2\u001B[0m \u001B[43m              \u001B[49m\u001B[38;5;124;43m'\u001B[39;49m\u001B[38;5;124;43mTask2.task_deadline\u001B[39;49m\u001B[38;5;124;43m'\u001B[39;49m\u001B[43m,\u001B[49m\u001B[38;5;124;43m'\u001B[39;49m\u001B[38;5;124;43mTask3.task_deadline\u001B[39;49m\u001B[38;5;124;43m'\u001B[39;49m\u001B[43m,\u001B[49m\n\u001B[1;32m      3\u001B[0m \u001B[43m              \u001B[49m\u001B[38;5;124;43m'\u001B[39;49m\u001B[38;5;124;43mTask4.task_deadline\u001B[39;49m\u001B[38;5;124;43m'\u001B[39;49m\u001B[43m,\u001B[49m\u001B[38;5;124;43m'\u001B[39;49m\u001B[38;5;124;43mTask5.task_deadline\u001B[39;49m\u001B[38;5;124;43m'\u001B[39;49m\u001B[43m,\u001B[49m\n\u001B[1;32m      4\u001B[0m \u001B[43m              \u001B[49m\u001B[38;5;124;43m'\u001B[39;49m\u001B[38;5;124;43mTask6.task_deadline\u001B[39;49m\u001B[38;5;124;43m'\u001B[39;49m\u001B[43m,\u001B[49m\u001B[38;5;124;43m'\u001B[39;49m\u001B[38;5;124;43mTask7.task_deadline\u001B[39;49m\u001B[38;5;124;43m'\u001B[39;49m\u001B[43m,\u001B[49m\n\u001B[1;32m      5\u001B[0m \u001B[43m              \u001B[49m\u001B[38;5;124;43m'\u001B[39;49m\u001B[38;5;124;43mTask8.task_deadline\u001B[39;49m\u001B[38;5;124;43m'\u001B[39;49m\u001B[43m,\u001B[49m\u001B[38;5;124;43m'\u001B[39;49m\u001B[38;5;124;43mTask9.task_deadline\u001B[39;49m\u001B[38;5;124;43m'\u001B[39;49m\u001B[43m]\u001B[49m\u001B[43m,\u001B[49m\n\u001B[1;32m      6\u001B[0m \u001B[43m              \u001B[49m\u001B[43maxis\u001B[49m\u001B[43m \u001B[49m\u001B[38;5;241;43m=\u001B[39;49m\u001B[43m \u001B[49m\u001B[38;5;241;43m1\u001B[39;49m\u001B[43m)\u001B[49m\n",
      "File \u001B[0;32m~/PycharmProjects/Hack2023_CheckOut/venv/lib/python3.10/site-packages/pandas/util/_decorators.py:331\u001B[0m, in \u001B[0;36mdeprecate_nonkeyword_arguments.<locals>.decorate.<locals>.wrapper\u001B[0;34m(*args, **kwargs)\u001B[0m\n\u001B[1;32m    325\u001B[0m \u001B[38;5;28;01mif\u001B[39;00m \u001B[38;5;28mlen\u001B[39m(args) \u001B[38;5;241m>\u001B[39m num_allow_args:\n\u001B[1;32m    326\u001B[0m     warnings\u001B[38;5;241m.\u001B[39mwarn(\n\u001B[1;32m    327\u001B[0m         msg\u001B[38;5;241m.\u001B[39mformat(arguments\u001B[38;5;241m=\u001B[39m_format_argument_list(allow_args)),\n\u001B[1;32m    328\u001B[0m         \u001B[38;5;167;01mFutureWarning\u001B[39;00m,\n\u001B[1;32m    329\u001B[0m         stacklevel\u001B[38;5;241m=\u001B[39mfind_stack_level(),\n\u001B[1;32m    330\u001B[0m     )\n\u001B[0;32m--> 331\u001B[0m \u001B[38;5;28;01mreturn\u001B[39;00m \u001B[43mfunc\u001B[49m\u001B[43m(\u001B[49m\u001B[38;5;241;43m*\u001B[39;49m\u001B[43margs\u001B[49m\u001B[43m,\u001B[49m\u001B[43m \u001B[49m\u001B[38;5;241;43m*\u001B[39;49m\u001B[38;5;241;43m*\u001B[39;49m\u001B[43mkwargs\u001B[49m\u001B[43m)\u001B[49m\n",
      "File \u001B[0;32m~/PycharmProjects/Hack2023_CheckOut/venv/lib/python3.10/site-packages/pandas/core/frame.py:5399\u001B[0m, in \u001B[0;36mDataFrame.drop\u001B[0;34m(self, labels, axis, index, columns, level, inplace, errors)\u001B[0m\n\u001B[1;32m   5251\u001B[0m \u001B[38;5;129m@deprecate_nonkeyword_arguments\u001B[39m(version\u001B[38;5;241m=\u001B[39m\u001B[38;5;28;01mNone\u001B[39;00m, allowed_args\u001B[38;5;241m=\u001B[39m[\u001B[38;5;124m\"\u001B[39m\u001B[38;5;124mself\u001B[39m\u001B[38;5;124m\"\u001B[39m, \u001B[38;5;124m\"\u001B[39m\u001B[38;5;124mlabels\u001B[39m\u001B[38;5;124m\"\u001B[39m])\n\u001B[1;32m   5252\u001B[0m \u001B[38;5;28;01mdef\u001B[39;00m \u001B[38;5;21mdrop\u001B[39m(  \u001B[38;5;66;03m# type: ignore[override]\u001B[39;00m\n\u001B[1;32m   5253\u001B[0m     \u001B[38;5;28mself\u001B[39m,\n\u001B[0;32m   (...)\u001B[0m\n\u001B[1;32m   5260\u001B[0m     errors: IgnoreRaise \u001B[38;5;241m=\u001B[39m \u001B[38;5;124m\"\u001B[39m\u001B[38;5;124mraise\u001B[39m\u001B[38;5;124m\"\u001B[39m,\n\u001B[1;32m   5261\u001B[0m ) \u001B[38;5;241m-\u001B[39m\u001B[38;5;241m>\u001B[39m DataFrame \u001B[38;5;241m|\u001B[39m \u001B[38;5;28;01mNone\u001B[39;00m:\n\u001B[1;32m   5262\u001B[0m \u001B[38;5;250m    \u001B[39m\u001B[38;5;124;03m\"\"\"\u001B[39;00m\n\u001B[1;32m   5263\u001B[0m \u001B[38;5;124;03m    Drop specified labels from rows or columns.\u001B[39;00m\n\u001B[1;32m   5264\u001B[0m \n\u001B[0;32m   (...)\u001B[0m\n\u001B[1;32m   5397\u001B[0m \u001B[38;5;124;03m            weight  1.0     0.8\u001B[39;00m\n\u001B[1;32m   5398\u001B[0m \u001B[38;5;124;03m    \"\"\"\u001B[39;00m\n\u001B[0;32m-> 5399\u001B[0m     \u001B[38;5;28;01mreturn\u001B[39;00m \u001B[38;5;28;43msuper\u001B[39;49m\u001B[43m(\u001B[49m\u001B[43m)\u001B[49m\u001B[38;5;241;43m.\u001B[39;49m\u001B[43mdrop\u001B[49m\u001B[43m(\u001B[49m\n\u001B[1;32m   5400\u001B[0m \u001B[43m        \u001B[49m\u001B[43mlabels\u001B[49m\u001B[38;5;241;43m=\u001B[39;49m\u001B[43mlabels\u001B[49m\u001B[43m,\u001B[49m\n\u001B[1;32m   5401\u001B[0m \u001B[43m        \u001B[49m\u001B[43maxis\u001B[49m\u001B[38;5;241;43m=\u001B[39;49m\u001B[43maxis\u001B[49m\u001B[43m,\u001B[49m\n\u001B[1;32m   5402\u001B[0m \u001B[43m        \u001B[49m\u001B[43mindex\u001B[49m\u001B[38;5;241;43m=\u001B[39;49m\u001B[43mindex\u001B[49m\u001B[43m,\u001B[49m\n\u001B[1;32m   5403\u001B[0m \u001B[43m        \u001B[49m\u001B[43mcolumns\u001B[49m\u001B[38;5;241;43m=\u001B[39;49m\u001B[43mcolumns\u001B[49m\u001B[43m,\u001B[49m\n\u001B[1;32m   5404\u001B[0m \u001B[43m        \u001B[49m\u001B[43mlevel\u001B[49m\u001B[38;5;241;43m=\u001B[39;49m\u001B[43mlevel\u001B[49m\u001B[43m,\u001B[49m\n\u001B[1;32m   5405\u001B[0m \u001B[43m        \u001B[49m\u001B[43minplace\u001B[49m\u001B[38;5;241;43m=\u001B[39;49m\u001B[43minplace\u001B[49m\u001B[43m,\u001B[49m\n\u001B[1;32m   5406\u001B[0m \u001B[43m        \u001B[49m\u001B[43merrors\u001B[49m\u001B[38;5;241;43m=\u001B[39;49m\u001B[43merrors\u001B[49m\u001B[43m,\u001B[49m\n\u001B[1;32m   5407\u001B[0m \u001B[43m    \u001B[49m\u001B[43m)\u001B[49m\n",
      "File \u001B[0;32m~/PycharmProjects/Hack2023_CheckOut/venv/lib/python3.10/site-packages/pandas/util/_decorators.py:331\u001B[0m, in \u001B[0;36mdeprecate_nonkeyword_arguments.<locals>.decorate.<locals>.wrapper\u001B[0;34m(*args, **kwargs)\u001B[0m\n\u001B[1;32m    325\u001B[0m \u001B[38;5;28;01mif\u001B[39;00m \u001B[38;5;28mlen\u001B[39m(args) \u001B[38;5;241m>\u001B[39m num_allow_args:\n\u001B[1;32m    326\u001B[0m     warnings\u001B[38;5;241m.\u001B[39mwarn(\n\u001B[1;32m    327\u001B[0m         msg\u001B[38;5;241m.\u001B[39mformat(arguments\u001B[38;5;241m=\u001B[39m_format_argument_list(allow_args)),\n\u001B[1;32m    328\u001B[0m         \u001B[38;5;167;01mFutureWarning\u001B[39;00m,\n\u001B[1;32m    329\u001B[0m         stacklevel\u001B[38;5;241m=\u001B[39mfind_stack_level(),\n\u001B[1;32m    330\u001B[0m     )\n\u001B[0;32m--> 331\u001B[0m \u001B[38;5;28;01mreturn\u001B[39;00m \u001B[43mfunc\u001B[49m\u001B[43m(\u001B[49m\u001B[38;5;241;43m*\u001B[39;49m\u001B[43margs\u001B[49m\u001B[43m,\u001B[49m\u001B[43m \u001B[49m\u001B[38;5;241;43m*\u001B[39;49m\u001B[38;5;241;43m*\u001B[39;49m\u001B[43mkwargs\u001B[49m\u001B[43m)\u001B[49m\n",
      "File \u001B[0;32m~/PycharmProjects/Hack2023_CheckOut/venv/lib/python3.10/site-packages/pandas/core/generic.py:4505\u001B[0m, in \u001B[0;36mNDFrame.drop\u001B[0;34m(self, labels, axis, index, columns, level, inplace, errors)\u001B[0m\n\u001B[1;32m   4503\u001B[0m \u001B[38;5;28;01mfor\u001B[39;00m axis, labels \u001B[38;5;129;01min\u001B[39;00m axes\u001B[38;5;241m.\u001B[39mitems():\n\u001B[1;32m   4504\u001B[0m     \u001B[38;5;28;01mif\u001B[39;00m labels \u001B[38;5;129;01mis\u001B[39;00m \u001B[38;5;129;01mnot\u001B[39;00m \u001B[38;5;28;01mNone\u001B[39;00m:\n\u001B[0;32m-> 4505\u001B[0m         obj \u001B[38;5;241m=\u001B[39m \u001B[43mobj\u001B[49m\u001B[38;5;241;43m.\u001B[39;49m\u001B[43m_drop_axis\u001B[49m\u001B[43m(\u001B[49m\u001B[43mlabels\u001B[49m\u001B[43m,\u001B[49m\u001B[43m \u001B[49m\u001B[43maxis\u001B[49m\u001B[43m,\u001B[49m\u001B[43m \u001B[49m\u001B[43mlevel\u001B[49m\u001B[38;5;241;43m=\u001B[39;49m\u001B[43mlevel\u001B[49m\u001B[43m,\u001B[49m\u001B[43m \u001B[49m\u001B[43merrors\u001B[49m\u001B[38;5;241;43m=\u001B[39;49m\u001B[43merrors\u001B[49m\u001B[43m)\u001B[49m\n\u001B[1;32m   4507\u001B[0m \u001B[38;5;28;01mif\u001B[39;00m inplace:\n\u001B[1;32m   4508\u001B[0m     \u001B[38;5;28mself\u001B[39m\u001B[38;5;241m.\u001B[39m_update_inplace(obj)\n",
      "File \u001B[0;32m~/PycharmProjects/Hack2023_CheckOut/venv/lib/python3.10/site-packages/pandas/core/generic.py:4546\u001B[0m, in \u001B[0;36mNDFrame._drop_axis\u001B[0;34m(self, labels, axis, level, errors, only_slice)\u001B[0m\n\u001B[1;32m   4544\u001B[0m         new_axis \u001B[38;5;241m=\u001B[39m axis\u001B[38;5;241m.\u001B[39mdrop(labels, level\u001B[38;5;241m=\u001B[39mlevel, errors\u001B[38;5;241m=\u001B[39merrors)\n\u001B[1;32m   4545\u001B[0m     \u001B[38;5;28;01melse\u001B[39;00m:\n\u001B[0;32m-> 4546\u001B[0m         new_axis \u001B[38;5;241m=\u001B[39m \u001B[43maxis\u001B[49m\u001B[38;5;241;43m.\u001B[39;49m\u001B[43mdrop\u001B[49m\u001B[43m(\u001B[49m\u001B[43mlabels\u001B[49m\u001B[43m,\u001B[49m\u001B[43m \u001B[49m\u001B[43merrors\u001B[49m\u001B[38;5;241;43m=\u001B[39;49m\u001B[43merrors\u001B[49m\u001B[43m)\u001B[49m\n\u001B[1;32m   4547\u001B[0m     indexer \u001B[38;5;241m=\u001B[39m axis\u001B[38;5;241m.\u001B[39mget_indexer(new_axis)\n\u001B[1;32m   4549\u001B[0m \u001B[38;5;66;03m# Case for non-unique axis\u001B[39;00m\n\u001B[1;32m   4550\u001B[0m \u001B[38;5;28;01melse\u001B[39;00m:\n",
      "File \u001B[0;32m~/PycharmProjects/Hack2023_CheckOut/venv/lib/python3.10/site-packages/pandas/core/indexes/base.py:6934\u001B[0m, in \u001B[0;36mIndex.drop\u001B[0;34m(self, labels, errors)\u001B[0m\n\u001B[1;32m   6932\u001B[0m \u001B[38;5;28;01mif\u001B[39;00m mask\u001B[38;5;241m.\u001B[39many():\n\u001B[1;32m   6933\u001B[0m     \u001B[38;5;28;01mif\u001B[39;00m errors \u001B[38;5;241m!=\u001B[39m \u001B[38;5;124m\"\u001B[39m\u001B[38;5;124mignore\u001B[39m\u001B[38;5;124m\"\u001B[39m:\n\u001B[0;32m-> 6934\u001B[0m         \u001B[38;5;28;01mraise\u001B[39;00m \u001B[38;5;167;01mKeyError\u001B[39;00m(\u001B[38;5;124mf\u001B[39m\u001B[38;5;124m\"\u001B[39m\u001B[38;5;132;01m{\u001B[39;00m\u001B[38;5;28mlist\u001B[39m(labels[mask])\u001B[38;5;132;01m}\u001B[39;00m\u001B[38;5;124m not found in axis\u001B[39m\u001B[38;5;124m\"\u001B[39m)\n\u001B[1;32m   6935\u001B[0m     indexer \u001B[38;5;241m=\u001B[39m indexer[\u001B[38;5;241m~\u001B[39mmask]\n\u001B[1;32m   6936\u001B[0m \u001B[38;5;28;01mreturn\u001B[39;00m \u001B[38;5;28mself\u001B[39m\u001B[38;5;241m.\u001B[39mdelete(indexer)\n",
      "\u001B[0;31mKeyError\u001B[0m: \"['Global_deadline', 'Task1.task_deadline', 'Task2.task_deadline', 'Task2.task_deadline', 'Task3.task_deadline', 'Task4.task_deadline', 'Task5.task_deadline', 'Task6.task_deadline', 'Task7.task_deadline', 'Task8.task_deadline', 'Task9.task_deadline'] not found in axis\""
     ]
    }
   ],
   "source": [
    "df_no_deadline = df.drop(['Global_deadline','Task1.task_deadline','Task2.task_deadline',\n",
    "              'Task2.task_deadline','Task3.task_deadline',\n",
    "              'Task4.task_deadline','Task5.task_deadline',\n",
    "              'Task6.task_deadline','Task7.task_deadline',\n",
    "              'Task8.task_deadline','Task9.task_deadline'],\n",
    "              axis = 1)"
   ]
  },
  {
   "cell_type": "code",
   "execution_count": 181,
   "id": "1ca8be65-2796-4112-b44c-944bdeb8bbfa",
   "metadata": {},
   "outputs": [
    {
     "ename": "NameError",
     "evalue": "name 'df_no_deadline' is not defined",
     "output_type": "error",
     "traceback": [
      "\u001B[0;31m---------------------------------------------------------------------------\u001B[0m",
      "\u001B[0;31mNameError\u001B[0m                                 Traceback (most recent call last)",
      "Cell \u001B[0;32mIn[181], line 1\u001B[0m\n\u001B[0;32m----> 1\u001B[0m df_no_deadline \u001B[38;5;241m=\u001B[39m \u001B[43mdf_no_deadline\u001B[49m\u001B[38;5;241m.\u001B[39mfillna(\u001B[38;5;241m0\u001B[39m)\n\u001B[1;32m      2\u001B[0m df_no_deadline \u001B[38;5;241m=\u001B[39m df_no_deadline\u001B[38;5;241m.\u001B[39mdrop([\u001B[38;5;124m'\u001B[39m\u001B[38;5;124mTask2.task_responsibles_groups\u001B[39m\u001B[38;5;124m'\u001B[39m,\u001B[38;5;124m'\u001B[39m\u001B[38;5;124mTask3.task_responsibles_groups\u001B[39m\u001B[38;5;124m'\u001B[39m,\n\u001B[1;32m      3\u001B[0m              \u001B[38;5;124m'\u001B[39m\u001B[38;5;124mTask4.task_responsibles_groups\u001B[39m\u001B[38;5;124m'\u001B[39m,\n\u001B[1;32m      4\u001B[0m             \u001B[38;5;124m'\u001B[39m\u001B[38;5;124mTask5.task_responsibles_groups\u001B[39m\u001B[38;5;124m'\u001B[39m,\u001B[38;5;124m'\u001B[39m\u001B[38;5;124mTask6.task_responsibles_groups\u001B[39m\u001B[38;5;124m'\u001B[39m,\u001B[38;5;124m'\u001B[39m\u001B[38;5;124mTask7.task_responsibles_groups\u001B[39m\u001B[38;5;124m'\u001B[39m,\n\u001B[1;32m      5\u001B[0m             \u001B[38;5;124m'\u001B[39m\u001B[38;5;124mTask8.task_responsibles_groups\u001B[39m\u001B[38;5;124m'\u001B[39m,\u001B[38;5;124m'\u001B[39m\u001B[38;5;124mTask9.task_responsibles_groups\u001B[39m\u001B[38;5;124m'\u001B[39m], axis \u001B[38;5;241m=\u001B[39m\u001B[38;5;241m1\u001B[39m)\n",
      "\u001B[0;31mNameError\u001B[0m: name 'df_no_deadline' is not defined"
     ]
    }
   ],
   "source": [
    "df_no_deadline = df_no_deadline.fillna(0)\n",
    "df_no_deadline = df_no_deadline.drop(['Task2.task_responsibles_groups','Task3.task_responsibles_groups',\n",
    "             'Task4.task_responsibles_groups',\n",
    "            'Task5.task_responsibles_groups','Task6.task_responsibles_groups','Task7.task_responsibles_groups',\n",
    "            'Task8.task_responsibles_groups','Task9.task_responsibles_groups'], axis =1)"
   ]
  },
  {
   "cell_type": "code",
   "execution_count": 236,
   "id": "463891da-e882-426b-b7b6-1d325defd155",
   "metadata": {},
   "outputs": [],
   "source": [
    "#df_no_deadline.to_csv('df_no_deadline.csv')"
   ]
  },
  {
   "cell_type": "code",
   "execution_count": 182,
   "id": "d899d778-e8f3-451b-b506-5b3b575ee367",
   "metadata": {},
   "outputs": [
    {
     "data": {
      "text/plain": "Index(['Tasks.Task1.task_text', 'Tasks.Task1.task_responsibles_people',\n       'Tasks.Task1.task_responsibles_groups', 'Tasks.Task1.task_deadline',\n       'Tasks.Global_supervisor', 'Tasks.Global_deadline',\n       'Tasks.Task2.task_text', 'Tasks.Task2.task_responsibles_people',\n       'Tasks.Task2.task_responsibles_groups', 'Tasks.Task2.task_deadline',\n       'Tasks.Task3.task_text', 'Tasks.Task3.task_responsibles_people',\n       'Tasks.Task3.task_responsibles_groups', 'Tasks.Task3.task_deadline',\n       'Tasks.Task4.task_text', 'Tasks.Task4.task_responsibles_people',\n       'Tasks.Task4.task_responsibles_groups', 'Tasks.Task4.task_deadline',\n       'Tasks.Task5.task_text', 'Tasks.Task5.task_responsibles_people',\n       'Tasks.Task5.task_responsibles_groups', 'Tasks.Task5.task_deadline',\n       'Tasks.Task6.task_text', 'Tasks.Task6.task_responsibles_people',\n       'Tasks.Task6.task_responsibles_groups', 'Tasks.Task6.task_deadline',\n       'Tasks.Task7.task_text', 'Tasks.Task7.task_responsibles_people',\n       'Tasks.Task7.task_responsibles_groups', 'Tasks.Task7.task_deadline',\n       'Tasks.Task8.task_text', 'Tasks.Task8.task_responsibles_people',\n       'Tasks.Task8.task_responsibles_groups', 'Tasks.Task8.task_deadline',\n       'Tasks.Task9.task_text', 'Tasks.Task9.task_responsibles_people',\n       'Tasks.Task9.task_responsibles_groups', 'Tasks.Task9.task_deadline'],\n      dtype='object')"
     },
     "execution_count": 182,
     "metadata": {},
     "output_type": "execute_result"
    }
   ],
   "source": [
    "df.columns"
   ]
  },
  {
   "cell_type": "code",
   "execution_count": 191,
   "id": "4406e674-0875-4d51-9912-6ccbc252e38b",
   "metadata": {},
   "outputs": [
    {
     "ename": "KeyError",
     "evalue": "\"['Unnamed: 0', 'Task1.task_responsibles_groups', 'Task2.task_responsibles_groups', 'Task3.task_responsibles_groups', 'Task4.task_responsibles_groups', 'Task5.task_responsibles_groups', 'Task6.task_responsibles_groups', 'Task7.task_responsibles_groups', 'Task8.task_responsibles_groups', 'Task9.task_responsibles_groups'] not found in axis\"",
     "output_type": "error",
     "traceback": [
      "\u001B[0;31m---------------------------------------------------------------------------\u001B[0m",
      "\u001B[0;31mKeyError\u001B[0m                                  Traceback (most recent call last)",
      "Cell \u001B[0;32mIn[191], line 1\u001B[0m\n\u001B[0;32m----> 1\u001B[0m X \u001B[38;5;241m=\u001B[39m \u001B[43mdf\u001B[49m\u001B[38;5;241;43m.\u001B[39;49m\u001B[43mdrop\u001B[49m\u001B[43m(\u001B[49m\u001B[43m[\u001B[49m\u001B[38;5;124;43m'\u001B[39;49m\u001B[38;5;124;43mUnnamed: 0\u001B[39;49m\u001B[38;5;124;43m'\u001B[39;49m\u001B[43m,\u001B[49m\u001B[38;5;124;43m'\u001B[39;49m\u001B[38;5;124;43mTask1.task_responsibles_groups\u001B[39;49m\u001B[38;5;124;43m'\u001B[39;49m\u001B[43m,\u001B[49m\u001B[38;5;124;43m'\u001B[39;49m\u001B[38;5;124;43mTask2.task_responsibles_groups\u001B[39;49m\u001B[38;5;124;43m'\u001B[39;49m\u001B[43m,\u001B[49m\u001B[38;5;124;43m'\u001B[39;49m\u001B[38;5;124;43mTask3.task_responsibles_groups\u001B[39;49m\u001B[38;5;124;43m'\u001B[39;49m\u001B[43m,\u001B[49m\n\u001B[1;32m      2\u001B[0m \u001B[43m             \u001B[49m\u001B[38;5;124;43m'\u001B[39;49m\u001B[38;5;124;43mTask4.task_responsibles_groups\u001B[39;49m\u001B[38;5;124;43m'\u001B[39;49m\u001B[43m,\u001B[49m\n\u001B[1;32m      3\u001B[0m \u001B[43m             \u001B[49m\u001B[38;5;124;43m'\u001B[39;49m\u001B[38;5;124;43mTask5.task_responsibles_groups\u001B[39;49m\u001B[38;5;124;43m'\u001B[39;49m\u001B[43m,\u001B[49m\u001B[38;5;124;43m'\u001B[39;49m\u001B[38;5;124;43mTask6.task_responsibles_groups\u001B[39;49m\u001B[38;5;124;43m'\u001B[39;49m\u001B[43m,\u001B[49m\u001B[38;5;124;43m'\u001B[39;49m\u001B[38;5;124;43mTask7.task_responsibles_groups\u001B[39;49m\u001B[38;5;124;43m'\u001B[39;49m\u001B[43m,\u001B[49m\n\u001B[1;32m      4\u001B[0m \u001B[43m             \u001B[49m\u001B[38;5;124;43m'\u001B[39;49m\u001B[38;5;124;43mTask8.task_responsibles_groups\u001B[39;49m\u001B[38;5;124;43m'\u001B[39;49m\u001B[43m,\u001B[49m\u001B[38;5;124;43m'\u001B[39;49m\u001B[38;5;124;43mTask9.task_responsibles_groups\u001B[39;49m\u001B[38;5;124;43m'\u001B[39;49m\u001B[43m]\u001B[49m\u001B[43m,\u001B[49m\u001B[43m \u001B[49m\u001B[43maxis\u001B[49m\u001B[43m \u001B[49m\u001B[38;5;241;43m=\u001B[39;49m\u001B[43m \u001B[49m\u001B[38;5;241;43m1\u001B[39;49m\u001B[43m)\u001B[49m\n\u001B[1;32m      5\u001B[0m X\u001B[38;5;241m.\u001B[39mhead()\n",
      "File \u001B[0;32m~/PycharmProjects/Hack2023_CheckOut/venv/lib/python3.10/site-packages/pandas/util/_decorators.py:331\u001B[0m, in \u001B[0;36mdeprecate_nonkeyword_arguments.<locals>.decorate.<locals>.wrapper\u001B[0;34m(*args, **kwargs)\u001B[0m\n\u001B[1;32m    325\u001B[0m \u001B[38;5;28;01mif\u001B[39;00m \u001B[38;5;28mlen\u001B[39m(args) \u001B[38;5;241m>\u001B[39m num_allow_args:\n\u001B[1;32m    326\u001B[0m     warnings\u001B[38;5;241m.\u001B[39mwarn(\n\u001B[1;32m    327\u001B[0m         msg\u001B[38;5;241m.\u001B[39mformat(arguments\u001B[38;5;241m=\u001B[39m_format_argument_list(allow_args)),\n\u001B[1;32m    328\u001B[0m         \u001B[38;5;167;01mFutureWarning\u001B[39;00m,\n\u001B[1;32m    329\u001B[0m         stacklevel\u001B[38;5;241m=\u001B[39mfind_stack_level(),\n\u001B[1;32m    330\u001B[0m     )\n\u001B[0;32m--> 331\u001B[0m \u001B[38;5;28;01mreturn\u001B[39;00m \u001B[43mfunc\u001B[49m\u001B[43m(\u001B[49m\u001B[38;5;241;43m*\u001B[39;49m\u001B[43margs\u001B[49m\u001B[43m,\u001B[49m\u001B[43m \u001B[49m\u001B[38;5;241;43m*\u001B[39;49m\u001B[38;5;241;43m*\u001B[39;49m\u001B[43mkwargs\u001B[49m\u001B[43m)\u001B[49m\n",
      "File \u001B[0;32m~/PycharmProjects/Hack2023_CheckOut/venv/lib/python3.10/site-packages/pandas/core/frame.py:5399\u001B[0m, in \u001B[0;36mDataFrame.drop\u001B[0;34m(self, labels, axis, index, columns, level, inplace, errors)\u001B[0m\n\u001B[1;32m   5251\u001B[0m \u001B[38;5;129m@deprecate_nonkeyword_arguments\u001B[39m(version\u001B[38;5;241m=\u001B[39m\u001B[38;5;28;01mNone\u001B[39;00m, allowed_args\u001B[38;5;241m=\u001B[39m[\u001B[38;5;124m\"\u001B[39m\u001B[38;5;124mself\u001B[39m\u001B[38;5;124m\"\u001B[39m, \u001B[38;5;124m\"\u001B[39m\u001B[38;5;124mlabels\u001B[39m\u001B[38;5;124m\"\u001B[39m])\n\u001B[1;32m   5252\u001B[0m \u001B[38;5;28;01mdef\u001B[39;00m \u001B[38;5;21mdrop\u001B[39m(  \u001B[38;5;66;03m# type: ignore[override]\u001B[39;00m\n\u001B[1;32m   5253\u001B[0m     \u001B[38;5;28mself\u001B[39m,\n\u001B[0;32m   (...)\u001B[0m\n\u001B[1;32m   5260\u001B[0m     errors: IgnoreRaise \u001B[38;5;241m=\u001B[39m \u001B[38;5;124m\"\u001B[39m\u001B[38;5;124mraise\u001B[39m\u001B[38;5;124m\"\u001B[39m,\n\u001B[1;32m   5261\u001B[0m ) \u001B[38;5;241m-\u001B[39m\u001B[38;5;241m>\u001B[39m DataFrame \u001B[38;5;241m|\u001B[39m \u001B[38;5;28;01mNone\u001B[39;00m:\n\u001B[1;32m   5262\u001B[0m \u001B[38;5;250m    \u001B[39m\u001B[38;5;124;03m\"\"\"\u001B[39;00m\n\u001B[1;32m   5263\u001B[0m \u001B[38;5;124;03m    Drop specified labels from rows or columns.\u001B[39;00m\n\u001B[1;32m   5264\u001B[0m \n\u001B[0;32m   (...)\u001B[0m\n\u001B[1;32m   5397\u001B[0m \u001B[38;5;124;03m            weight  1.0     0.8\u001B[39;00m\n\u001B[1;32m   5398\u001B[0m \u001B[38;5;124;03m    \"\"\"\u001B[39;00m\n\u001B[0;32m-> 5399\u001B[0m     \u001B[38;5;28;01mreturn\u001B[39;00m \u001B[38;5;28;43msuper\u001B[39;49m\u001B[43m(\u001B[49m\u001B[43m)\u001B[49m\u001B[38;5;241;43m.\u001B[39;49m\u001B[43mdrop\u001B[49m\u001B[43m(\u001B[49m\n\u001B[1;32m   5400\u001B[0m \u001B[43m        \u001B[49m\u001B[43mlabels\u001B[49m\u001B[38;5;241;43m=\u001B[39;49m\u001B[43mlabels\u001B[49m\u001B[43m,\u001B[49m\n\u001B[1;32m   5401\u001B[0m \u001B[43m        \u001B[49m\u001B[43maxis\u001B[49m\u001B[38;5;241;43m=\u001B[39;49m\u001B[43maxis\u001B[49m\u001B[43m,\u001B[49m\n\u001B[1;32m   5402\u001B[0m \u001B[43m        \u001B[49m\u001B[43mindex\u001B[49m\u001B[38;5;241;43m=\u001B[39;49m\u001B[43mindex\u001B[49m\u001B[43m,\u001B[49m\n\u001B[1;32m   5403\u001B[0m \u001B[43m        \u001B[49m\u001B[43mcolumns\u001B[49m\u001B[38;5;241;43m=\u001B[39;49m\u001B[43mcolumns\u001B[49m\u001B[43m,\u001B[49m\n\u001B[1;32m   5404\u001B[0m \u001B[43m        \u001B[49m\u001B[43mlevel\u001B[49m\u001B[38;5;241;43m=\u001B[39;49m\u001B[43mlevel\u001B[49m\u001B[43m,\u001B[49m\n\u001B[1;32m   5405\u001B[0m \u001B[43m        \u001B[49m\u001B[43minplace\u001B[49m\u001B[38;5;241;43m=\u001B[39;49m\u001B[43minplace\u001B[49m\u001B[43m,\u001B[49m\n\u001B[1;32m   5406\u001B[0m \u001B[43m        \u001B[49m\u001B[43merrors\u001B[49m\u001B[38;5;241;43m=\u001B[39;49m\u001B[43merrors\u001B[49m\u001B[43m,\u001B[49m\n\u001B[1;32m   5407\u001B[0m \u001B[43m    \u001B[49m\u001B[43m)\u001B[49m\n",
      "File \u001B[0;32m~/PycharmProjects/Hack2023_CheckOut/venv/lib/python3.10/site-packages/pandas/util/_decorators.py:331\u001B[0m, in \u001B[0;36mdeprecate_nonkeyword_arguments.<locals>.decorate.<locals>.wrapper\u001B[0;34m(*args, **kwargs)\u001B[0m\n\u001B[1;32m    325\u001B[0m \u001B[38;5;28;01mif\u001B[39;00m \u001B[38;5;28mlen\u001B[39m(args) \u001B[38;5;241m>\u001B[39m num_allow_args:\n\u001B[1;32m    326\u001B[0m     warnings\u001B[38;5;241m.\u001B[39mwarn(\n\u001B[1;32m    327\u001B[0m         msg\u001B[38;5;241m.\u001B[39mformat(arguments\u001B[38;5;241m=\u001B[39m_format_argument_list(allow_args)),\n\u001B[1;32m    328\u001B[0m         \u001B[38;5;167;01mFutureWarning\u001B[39;00m,\n\u001B[1;32m    329\u001B[0m         stacklevel\u001B[38;5;241m=\u001B[39mfind_stack_level(),\n\u001B[1;32m    330\u001B[0m     )\n\u001B[0;32m--> 331\u001B[0m \u001B[38;5;28;01mreturn\u001B[39;00m \u001B[43mfunc\u001B[49m\u001B[43m(\u001B[49m\u001B[38;5;241;43m*\u001B[39;49m\u001B[43margs\u001B[49m\u001B[43m,\u001B[49m\u001B[43m \u001B[49m\u001B[38;5;241;43m*\u001B[39;49m\u001B[38;5;241;43m*\u001B[39;49m\u001B[43mkwargs\u001B[49m\u001B[43m)\u001B[49m\n",
      "File \u001B[0;32m~/PycharmProjects/Hack2023_CheckOut/venv/lib/python3.10/site-packages/pandas/core/generic.py:4505\u001B[0m, in \u001B[0;36mNDFrame.drop\u001B[0;34m(self, labels, axis, index, columns, level, inplace, errors)\u001B[0m\n\u001B[1;32m   4503\u001B[0m \u001B[38;5;28;01mfor\u001B[39;00m axis, labels \u001B[38;5;129;01min\u001B[39;00m axes\u001B[38;5;241m.\u001B[39mitems():\n\u001B[1;32m   4504\u001B[0m     \u001B[38;5;28;01mif\u001B[39;00m labels \u001B[38;5;129;01mis\u001B[39;00m \u001B[38;5;129;01mnot\u001B[39;00m \u001B[38;5;28;01mNone\u001B[39;00m:\n\u001B[0;32m-> 4505\u001B[0m         obj \u001B[38;5;241m=\u001B[39m \u001B[43mobj\u001B[49m\u001B[38;5;241;43m.\u001B[39;49m\u001B[43m_drop_axis\u001B[49m\u001B[43m(\u001B[49m\u001B[43mlabels\u001B[49m\u001B[43m,\u001B[49m\u001B[43m \u001B[49m\u001B[43maxis\u001B[49m\u001B[43m,\u001B[49m\u001B[43m \u001B[49m\u001B[43mlevel\u001B[49m\u001B[38;5;241;43m=\u001B[39;49m\u001B[43mlevel\u001B[49m\u001B[43m,\u001B[49m\u001B[43m \u001B[49m\u001B[43merrors\u001B[49m\u001B[38;5;241;43m=\u001B[39;49m\u001B[43merrors\u001B[49m\u001B[43m)\u001B[49m\n\u001B[1;32m   4507\u001B[0m \u001B[38;5;28;01mif\u001B[39;00m inplace:\n\u001B[1;32m   4508\u001B[0m     \u001B[38;5;28mself\u001B[39m\u001B[38;5;241m.\u001B[39m_update_inplace(obj)\n",
      "File \u001B[0;32m~/PycharmProjects/Hack2023_CheckOut/venv/lib/python3.10/site-packages/pandas/core/generic.py:4546\u001B[0m, in \u001B[0;36mNDFrame._drop_axis\u001B[0;34m(self, labels, axis, level, errors, only_slice)\u001B[0m\n\u001B[1;32m   4544\u001B[0m         new_axis \u001B[38;5;241m=\u001B[39m axis\u001B[38;5;241m.\u001B[39mdrop(labels, level\u001B[38;5;241m=\u001B[39mlevel, errors\u001B[38;5;241m=\u001B[39merrors)\n\u001B[1;32m   4545\u001B[0m     \u001B[38;5;28;01melse\u001B[39;00m:\n\u001B[0;32m-> 4546\u001B[0m         new_axis \u001B[38;5;241m=\u001B[39m \u001B[43maxis\u001B[49m\u001B[38;5;241;43m.\u001B[39;49m\u001B[43mdrop\u001B[49m\u001B[43m(\u001B[49m\u001B[43mlabels\u001B[49m\u001B[43m,\u001B[49m\u001B[43m \u001B[49m\u001B[43merrors\u001B[49m\u001B[38;5;241;43m=\u001B[39;49m\u001B[43merrors\u001B[49m\u001B[43m)\u001B[49m\n\u001B[1;32m   4547\u001B[0m     indexer \u001B[38;5;241m=\u001B[39m axis\u001B[38;5;241m.\u001B[39mget_indexer(new_axis)\n\u001B[1;32m   4549\u001B[0m \u001B[38;5;66;03m# Case for non-unique axis\u001B[39;00m\n\u001B[1;32m   4550\u001B[0m \u001B[38;5;28;01melse\u001B[39;00m:\n",
      "File \u001B[0;32m~/PycharmProjects/Hack2023_CheckOut/venv/lib/python3.10/site-packages/pandas/core/indexes/base.py:6934\u001B[0m, in \u001B[0;36mIndex.drop\u001B[0;34m(self, labels, errors)\u001B[0m\n\u001B[1;32m   6932\u001B[0m \u001B[38;5;28;01mif\u001B[39;00m mask\u001B[38;5;241m.\u001B[39many():\n\u001B[1;32m   6933\u001B[0m     \u001B[38;5;28;01mif\u001B[39;00m errors \u001B[38;5;241m!=\u001B[39m \u001B[38;5;124m\"\u001B[39m\u001B[38;5;124mignore\u001B[39m\u001B[38;5;124m\"\u001B[39m:\n\u001B[0;32m-> 6934\u001B[0m         \u001B[38;5;28;01mraise\u001B[39;00m \u001B[38;5;167;01mKeyError\u001B[39;00m(\u001B[38;5;124mf\u001B[39m\u001B[38;5;124m\"\u001B[39m\u001B[38;5;132;01m{\u001B[39;00m\u001B[38;5;28mlist\u001B[39m(labels[mask])\u001B[38;5;132;01m}\u001B[39;00m\u001B[38;5;124m not found in axis\u001B[39m\u001B[38;5;124m\"\u001B[39m)\n\u001B[1;32m   6935\u001B[0m     indexer \u001B[38;5;241m=\u001B[39m indexer[\u001B[38;5;241m~\u001B[39mmask]\n\u001B[1;32m   6936\u001B[0m \u001B[38;5;28;01mreturn\u001B[39;00m \u001B[38;5;28mself\u001B[39m\u001B[38;5;241m.\u001B[39mdelete(indexer)\n",
      "\u001B[0;31mKeyError\u001B[0m: \"['Unnamed: 0', 'Task1.task_responsibles_groups', 'Task2.task_responsibles_groups', 'Task3.task_responsibles_groups', 'Task4.task_responsibles_groups', 'Task5.task_responsibles_groups', 'Task6.task_responsibles_groups', 'Task7.task_responsibles_groups', 'Task8.task_responsibles_groups', 'Task9.task_responsibles_groups'] not found in axis\""
     ]
    }
   ],
   "source": [
    "X = df.drop(['Unnamed: 0','Task1.task_responsibles_groups','Task2.task_responsibles_groups','Task3.task_responsibles_groups',\n",
    "             'Task4.task_responsibles_groups',\n",
    "             'Task5.task_responsibles_groups','Task6.task_responsibles_groups','Task7.task_responsibles_groups',\n",
    "             'Task8.task_responsibles_groups','Task9.task_responsibles_groups'], axis = 1)\n",
    "X.head()"
   ]
  },
  {
   "cell_type": "code",
   "execution_count": 184,
   "id": "2b5ab2d2-67ed-47ba-b3c5-4d465cb4d7a2",
   "metadata": {},
   "outputs": [
    {
     "ename": "NameError",
     "evalue": "name 'X' is not defined",
     "output_type": "error",
     "traceback": [
      "\u001B[0;31m---------------------------------------------------------------------------\u001B[0m",
      "\u001B[0;31mNameError\u001B[0m                                 Traceback (most recent call last)",
      "Cell \u001B[0;32mIn[184], line 1\u001B[0m\n\u001B[0;32m----> 1\u001B[0m \u001B[43mX\u001B[49m\u001B[38;5;241m.\u001B[39mcolumns\n",
      "\u001B[0;31mNameError\u001B[0m: name 'X' is not defined"
     ]
    }
   ],
   "source": [
    "X.columns"
   ]
  },
  {
   "cell_type": "code",
   "execution_count": 185,
   "id": "3dbcad1d-b162-4d4f-aa3e-9dd87f03dede",
   "metadata": {},
   "outputs": [
    {
     "ename": "KeyError",
     "evalue": "'Task1.task_responsibles_groups'",
     "output_type": "error",
     "traceback": [
      "\u001B[0;31m---------------------------------------------------------------------------\u001B[0m",
      "\u001B[0;31mKeyError\u001B[0m                                  Traceback (most recent call last)",
      "File \u001B[0;32m~/PycharmProjects/Hack2023_CheckOut/venv/lib/python3.10/site-packages/pandas/core/indexes/base.py:3802\u001B[0m, in \u001B[0;36mIndex.get_loc\u001B[0;34m(self, key, method, tolerance)\u001B[0m\n\u001B[1;32m   3801\u001B[0m \u001B[38;5;28;01mtry\u001B[39;00m:\n\u001B[0;32m-> 3802\u001B[0m     \u001B[38;5;28;01mreturn\u001B[39;00m \u001B[38;5;28;43mself\u001B[39;49m\u001B[38;5;241;43m.\u001B[39;49m\u001B[43m_engine\u001B[49m\u001B[38;5;241;43m.\u001B[39;49m\u001B[43mget_loc\u001B[49m\u001B[43m(\u001B[49m\u001B[43mcasted_key\u001B[49m\u001B[43m)\u001B[49m\n\u001B[1;32m   3803\u001B[0m \u001B[38;5;28;01mexcept\u001B[39;00m \u001B[38;5;167;01mKeyError\u001B[39;00m \u001B[38;5;28;01mas\u001B[39;00m err:\n",
      "File \u001B[0;32m~/PycharmProjects/Hack2023_CheckOut/venv/lib/python3.10/site-packages/pandas/_libs/index.pyx:138\u001B[0m, in \u001B[0;36mpandas._libs.index.IndexEngine.get_loc\u001B[0;34m()\u001B[0m\n",
      "File \u001B[0;32m~/PycharmProjects/Hack2023_CheckOut/venv/lib/python3.10/site-packages/pandas/_libs/index.pyx:165\u001B[0m, in \u001B[0;36mpandas._libs.index.IndexEngine.get_loc\u001B[0;34m()\u001B[0m\n",
      "File \u001B[0;32mpandas/_libs/hashtable_class_helper.pxi:5745\u001B[0m, in \u001B[0;36mpandas._libs.hashtable.PyObjectHashTable.get_item\u001B[0;34m()\u001B[0m\n",
      "File \u001B[0;32mpandas/_libs/hashtable_class_helper.pxi:5753\u001B[0m, in \u001B[0;36mpandas._libs.hashtable.PyObjectHashTable.get_item\u001B[0;34m()\u001B[0m\n",
      "\u001B[0;31mKeyError\u001B[0m: 'Task1.task_responsibles_groups'",
      "\nThe above exception was the direct cause of the following exception:\n",
      "\u001B[0;31mKeyError\u001B[0m                                  Traceback (most recent call last)",
      "Cell \u001B[0;32mIn[185], line 1\u001B[0m\n\u001B[0;32m----> 1\u001B[0m y \u001B[38;5;241m=\u001B[39m \u001B[43mdf\u001B[49m\u001B[43m[\u001B[49m\u001B[38;5;124;43m'\u001B[39;49m\u001B[38;5;124;43mTask1.task_responsibles_groups\u001B[39;49m\u001B[38;5;124;43m'\u001B[39;49m\u001B[43m]\u001B[49m\n",
      "File \u001B[0;32m~/PycharmProjects/Hack2023_CheckOut/venv/lib/python3.10/site-packages/pandas/core/frame.py:3807\u001B[0m, in \u001B[0;36mDataFrame.__getitem__\u001B[0;34m(self, key)\u001B[0m\n\u001B[1;32m   3805\u001B[0m \u001B[38;5;28;01mif\u001B[39;00m \u001B[38;5;28mself\u001B[39m\u001B[38;5;241m.\u001B[39mcolumns\u001B[38;5;241m.\u001B[39mnlevels \u001B[38;5;241m>\u001B[39m \u001B[38;5;241m1\u001B[39m:\n\u001B[1;32m   3806\u001B[0m     \u001B[38;5;28;01mreturn\u001B[39;00m \u001B[38;5;28mself\u001B[39m\u001B[38;5;241m.\u001B[39m_getitem_multilevel(key)\n\u001B[0;32m-> 3807\u001B[0m indexer \u001B[38;5;241m=\u001B[39m \u001B[38;5;28;43mself\u001B[39;49m\u001B[38;5;241;43m.\u001B[39;49m\u001B[43mcolumns\u001B[49m\u001B[38;5;241;43m.\u001B[39;49m\u001B[43mget_loc\u001B[49m\u001B[43m(\u001B[49m\u001B[43mkey\u001B[49m\u001B[43m)\u001B[49m\n\u001B[1;32m   3808\u001B[0m \u001B[38;5;28;01mif\u001B[39;00m is_integer(indexer):\n\u001B[1;32m   3809\u001B[0m     indexer \u001B[38;5;241m=\u001B[39m [indexer]\n",
      "File \u001B[0;32m~/PycharmProjects/Hack2023_CheckOut/venv/lib/python3.10/site-packages/pandas/core/indexes/base.py:3804\u001B[0m, in \u001B[0;36mIndex.get_loc\u001B[0;34m(self, key, method, tolerance)\u001B[0m\n\u001B[1;32m   3802\u001B[0m     \u001B[38;5;28;01mreturn\u001B[39;00m \u001B[38;5;28mself\u001B[39m\u001B[38;5;241m.\u001B[39m_engine\u001B[38;5;241m.\u001B[39mget_loc(casted_key)\n\u001B[1;32m   3803\u001B[0m \u001B[38;5;28;01mexcept\u001B[39;00m \u001B[38;5;167;01mKeyError\u001B[39;00m \u001B[38;5;28;01mas\u001B[39;00m err:\n\u001B[0;32m-> 3804\u001B[0m     \u001B[38;5;28;01mraise\u001B[39;00m \u001B[38;5;167;01mKeyError\u001B[39;00m(key) \u001B[38;5;28;01mfrom\u001B[39;00m \u001B[38;5;21;01merr\u001B[39;00m\n\u001B[1;32m   3805\u001B[0m \u001B[38;5;28;01mexcept\u001B[39;00m \u001B[38;5;167;01mTypeError\u001B[39;00m:\n\u001B[1;32m   3806\u001B[0m     \u001B[38;5;66;03m# If we have a listlike key, _check_indexing_error will raise\u001B[39;00m\n\u001B[1;32m   3807\u001B[0m     \u001B[38;5;66;03m#  InvalidIndexError. Otherwise we fall through and re-raise\u001B[39;00m\n\u001B[1;32m   3808\u001B[0m     \u001B[38;5;66;03m#  the TypeError.\u001B[39;00m\n\u001B[1;32m   3809\u001B[0m     \u001B[38;5;28mself\u001B[39m\u001B[38;5;241m.\u001B[39m_check_indexing_error(key)\n",
      "\u001B[0;31mKeyError\u001B[0m: 'Task1.task_responsibles_groups'"
     ]
    }
   ],
   "source": [
    "y = df['Task1.task_responsibles_groups']\n"
   ]
  },
  {
   "cell_type": "code",
   "execution_count": 186,
   "id": "f18089c5-cc7b-463d-9dd1-d2c7dbbc41b0",
   "metadata": {},
   "outputs": [
    {
     "ename": "NameError",
     "evalue": "name 'y' is not defined",
     "output_type": "error",
     "traceback": [
      "\u001B[0;31m---------------------------------------------------------------------------\u001B[0m",
      "\u001B[0;31mNameError\u001B[0m                                 Traceback (most recent call last)",
      "Cell \u001B[0;32mIn[186], line 1\u001B[0m\n\u001B[0;32m----> 1\u001B[0m \u001B[43my\u001B[49m\u001B[38;5;241m.\u001B[39mhead()\n",
      "\u001B[0;31mNameError\u001B[0m: name 'y' is not defined"
     ]
    }
   ],
   "source": [
    "y.head()\n",
    "\n"
   ]
  },
  {
   "cell_type": "code",
   "execution_count": 409,
   "id": "91b60ead-7148-451d-aea9-04b416127f7a",
   "metadata": {},
   "outputs": [
    {
     "data": {
      "text/plain": [
       "((9999, 85), (9999,))"
      ]
     },
     "execution_count": 409,
     "metadata": {},
     "output_type": "execute_result"
    }
   ],
   "source": [
    "X.shape, y.shape"
   ]
  },
  {
   "cell_type": "code",
   "execution_count": 187,
   "id": "1efab0c1-5ce1-4a5f-b43b-b8484fcd6799",
   "metadata": {},
   "outputs": [],
   "source": [
    "num_words = 10000\n",
    "max_review_len = 100\n",
    "tokenizer = Tokenizer(num_words=num_words)"
   ]
  },
  {
   "cell_type": "code",
   "execution_count": 188,
   "id": "286be3c5-fad8-448a-a455-f77fe6769515",
   "metadata": {},
   "outputs": [
    {
     "ename": "NameError",
     "evalue": "name 'X' is not defined",
     "output_type": "error",
     "traceback": [
      "\u001B[0;31m---------------------------------------------------------------------------\u001B[0m",
      "\u001B[0;31mNameError\u001B[0m                                 Traceback (most recent call last)",
      "Cell \u001B[0;32mIn[188], line 1\u001B[0m\n\u001B[0;32m----> 1\u001B[0m task_1 \u001B[38;5;241m=\u001B[39m \u001B[43mX\u001B[49m[\u001B[38;5;124m'\u001B[39m\u001B[38;5;124mTask1.task_text\u001B[39m\u001B[38;5;124m'\u001B[39m]\n\u001B[1;32m      2\u001B[0m task_2 \u001B[38;5;241m=\u001B[39m X[\u001B[38;5;124m'\u001B[39m\u001B[38;5;124mTask2.task_text\u001B[39m\u001B[38;5;124m'\u001B[39m]\n\u001B[1;32m      3\u001B[0m task_3 \u001B[38;5;241m=\u001B[39m X[\u001B[38;5;124m'\u001B[39m\u001B[38;5;124mTask3.task_text\u001B[39m\u001B[38;5;124m'\u001B[39m]\n",
      "\u001B[0;31mNameError\u001B[0m: name 'X' is not defined"
     ]
    }
   ],
   "source": [
    "task_1 = X['Task1.task_text']\n",
    "task_2 = X['Task2.task_text']\n",
    "task_3 = X['Task3.task_text']\n",
    "task_4 = X['Task4.task_text']\n",
    "task_5 = X['Task5.task_text']\n",
    "task_6 = X['Task6.task_text']\n",
    "task_7 = X['Task7.task_text']\n",
    "task_8 = X['Task8.task_text']\n",
    "task_9 = X['Task9.task_text']\n",
    "\n",
    "Task1_task_responsibles_people = X['Task1.task_responsibles_people']\n",
    "Task2_task_responsibles_people = X['Task2.task_responsibles_people']\n",
    "Task3_task_responsibles_people = X['Task3.task_responsibles_people']\n",
    "Task4_task_responsibles_people = X['Task4.task_responsibles_people']\n",
    "Task5_task_responsibles_people = X['Task5.task_responsibles_people']\n",
    "Task6_task_responsibles_people = X['Task6.task_responsibles_people']\n",
    "Task7_task_responsibles_people = X['Task7.task_responsibles_people']\n",
    "Task8_task_responsibles_people = X['Task8.task_responsibles_people']\n",
    "Task9_task_responsibles_people = X['Task9.task_responsibles_people']\n",
    "\n",
    "Global_supervisor = X['Global_supervisor']"
   ]
  },
  {
   "cell_type": "code",
   "execution_count": 412,
   "id": "01594160-91ff-44e2-85ba-411f8d5a0774",
   "metadata": {},
   "outputs": [],
   "source": [
    "tokenizer.fit_on_texts(Task1_task_responsibles_people)"
   ]
  },
  {
   "cell_type": "code",
   "execution_count": 413,
   "id": "e3bf1194-782c-4c2f-ad77-09ed316ff1ed",
   "metadata": {},
   "outputs": [],
   "source": [
    "sequences = tokenizer.texts_to_sequences(Task1_task_responsibles_people)"
   ]
  },
  {
   "cell_type": "code",
   "execution_count": 414,
   "id": "8c4f962c-5cca-4b8d-a742-f1f5d72fddba",
   "metadata": {},
   "outputs": [],
   "source": [
    "X = utils.pad_sequences(sequences, maxlen=max_review_len)"
   ]
  },
  {
   "cell_type": "code",
   "execution_count": 415,
   "id": "9e055081-48c1-4e5c-b6a4-c8182509de0e",
   "metadata": {},
   "outputs": [
    {
     "data": {
      "text/plain": [
       "((8999, 100), (8999,))"
      ]
     },
     "execution_count": 415,
     "metadata": {},
     "output_type": "execute_result"
    }
   ],
   "source": [
    "X_train, X_test, y_train, y_test = train_test_split(X,\n",
    "                                                    y,\n",
    "                                                    \n",
    "                                                    test_size=0.1,\n",
    "                                                    random_state=50)\n",
    "X_train.shape, y_train.shape"
   ]
  },
  {
   "cell_type": "code",
   "execution_count": 416,
   "id": "07aead23-e5c0-4744-9f1c-e54760a25e1a",
   "metadata": {},
   "outputs": [
    {
     "data": {
      "text/plain": [
       "((8999, 100), (8999,))"
      ]
     },
     "execution_count": 416,
     "metadata": {},
     "output_type": "execute_result"
    }
   ],
   "source": [
    "X_train = np.asarray(X_train).astype(np.float32)\n",
    "y_train = np.asarray(y_train).astype(np.float32)\n",
    "X_train.shape, y_train.shape"
   ]
  },
  {
   "cell_type": "markdown",
   "id": "6113f24a-69fe-4172-88e4-bcdeb95c31ba",
   "metadata": {},
   "source": [
    "### Создаём нейросеть"
   ]
  },
  {
   "cell_type": "code",
   "execution_count": 145,
   "id": "e88f219a-f035-4925-bb61-bc3ced1d02dc",
   "metadata": {},
   "outputs": [],
   "source": [
    "# Максимальное количество слов \n",
    "num_words = 10000\n",
    "# Максимальная длина задания\n",
    "max_news_len = 100\n",
    "# Количество классов отделов\n",
    "nb_classes = 8"
   ]
  },
  {
   "cell_type": "code",
   "execution_count": 146,
   "id": "fe831506-5133-4b94-96b2-14b07ec5b900",
   "metadata": {},
   "outputs": [
    {
     "ename": "NameError",
     "evalue": "name 'y_train' is not defined",
     "output_type": "error",
     "traceback": [
      "\u001B[0;31m---------------------------------------------------------------------------\u001B[0m",
      "\u001B[0;31mNameError\u001B[0m                                 Traceback (most recent call last)",
      "Cell \u001B[0;32mIn[146], line 1\u001B[0m\n\u001B[0;32m----> 1\u001B[0m y_train \u001B[38;5;241m=\u001B[39m utils\u001B[38;5;241m.\u001B[39mto_categorical(\u001B[43my_train\u001B[49m \u001B[38;5;241m-\u001B[39m \u001B[38;5;241m1\u001B[39m, nb_classes)\n\u001B[1;32m      2\u001B[0m y_test \u001B[38;5;241m=\u001B[39m utils\u001B[38;5;241m.\u001B[39mto_categorical(y_test \u001B[38;5;241m-\u001B[39m \u001B[38;5;241m1\u001B[39m, nb_classes)\n",
      "\u001B[0;31mNameError\u001B[0m: name 'y_train' is not defined"
     ]
    }
   ],
   "source": [
    "y_train = utils.to_categorical(y_train - 1, nb_classes)\n",
    "y_test = utils.to_categorical(y_test - 1, nb_classes)"
   ]
  },
  {
   "cell_type": "markdown",
   "id": "ddaa38a4-0e37-4652-b654-60886081f062",
   "metadata": {},
   "source": [
    "### Простая свёрточная сеть\n"
   ]
  },
  {
   "cell_type": "code",
   "execution_count": 143,
   "outputs": [],
   "source": [
    "model_cnn = Sequential()"
   ],
   "metadata": {
    "collapsed": false
   }
  },
  {
   "cell_type": "code",
   "execution_count": 144,
   "id": "27612331-7403-433f-bae1-ccbe3f4f3c83",
   "metadata": {},
   "outputs": [
    {
     "ename": "NameError",
     "evalue": "name 'max_news_len' is not defined",
     "output_type": "error",
     "traceback": [
      "\u001B[0;31m---------------------------------------------------------------------------\u001B[0m",
      "\u001B[0;31mNameError\u001B[0m                                 Traceback (most recent call last)",
      "Cell \u001B[0;32mIn[144], line 1\u001B[0m\n\u001B[0;32m----> 1\u001B[0m model_cnn\u001B[38;5;241m.\u001B[39madd(Embedding(num_words, \u001B[38;5;241m32\u001B[39m, input_length\u001B[38;5;241m=\u001B[39m\u001B[43mmax_news_len\u001B[49m))\n\u001B[1;32m      2\u001B[0m model_cnn\u001B[38;5;241m.\u001B[39madd(Conv1D(\u001B[38;5;241m250\u001B[39m, \u001B[38;5;241m5\u001B[39m, padding\u001B[38;5;241m=\u001B[39m\u001B[38;5;124m'\u001B[39m\u001B[38;5;124mvalid\u001B[39m\u001B[38;5;124m'\u001B[39m, activation\u001B[38;5;241m=\u001B[39m\u001B[38;5;124m'\u001B[39m\u001B[38;5;124mrelu\u001B[39m\u001B[38;5;124m'\u001B[39m))\n\u001B[1;32m      3\u001B[0m model_cnn\u001B[38;5;241m.\u001B[39madd(GlobalMaxPooling1D())\n",
      "\u001B[0;31mNameError\u001B[0m: name 'max_news_len' is not defined"
     ]
    }
   ],
   "source": [
    "model_cnn.add(Embedding(num_words, 32, input_length=max_news_len))\n",
    "model_cnn.add(Conv1D(250, 5, padding='valid', activation='relu'))\n",
    "model_cnn.add(GlobalMaxPooling1D())\n",
    "model_cnn.add(Dense(128, activation='relu'))\n",
    "model_cnn.add(Dense(8, activation='softmax'))\n",
    "\n",
    "model_cnn.compile(optimizer='adam', \n",
    "              loss='categorical_crossentropy', \n",
    "              metrics=['accuracy'])\n",
    "\n",
    "history_cnn = model_cnn.fit(X_train, \n",
    "                            y_train, \n",
    "                            epochs=5,\n",
    "                            batch_size=128,\n",
    "                            validation_split=0.1,\n",
    "                            )"
   ]
  },
  {
   "cell_type": "code",
   "execution_count": 421,
   "id": "86d22060-62b9-440a-acba-286cae10dd33",
   "metadata": {},
   "outputs": [
    {
     "name": "stdout",
     "output_type": "stream",
     "text": [
      "Model: \"sequential_13\"\n",
      "_________________________________________________________________\n",
      " Layer (type)                Output Shape              Param #   \n",
      "=================================================================\n",
      " embedding_15 (Embedding)    (None, 100, 32)           320000    \n",
      "                                                                 \n",
      " conv1d_5 (Conv1D)           (None, 96, 250)           40250     \n",
      "                                                                 \n",
      " global_max_pooling1d_5 (Glo  (None, 250)              0         \n",
      " balMaxPooling1D)                                                \n",
      "                                                                 \n",
      " dense_16 (Dense)            (None, 128)               32128     \n",
      "                                                                 \n",
      " dense_17 (Dense)            (None, 8)                 1032      \n",
      "                                                                 \n",
      "=================================================================\n",
      "Total params: 393,410\n",
      "Trainable params: 393,410\n",
      "Non-trainable params: 0\n",
      "_________________________________________________________________\n"
     ]
    }
   ],
   "source": [
    "model_cnn.summary()"
   ]
  },
  {
   "cell_type": "markdown",
   "id": "27f77304-3dde-4ad1-8db5-5e884ed6c480",
   "metadata": {},
   "source": [
    "### Смотрим переобучение"
   ]
  },
  {
   "cell_type": "code",
   "execution_count": 423,
   "id": "d5c2515b-5db5-4501-8096-2f9b8f3a0614",
   "metadata": {},
   "outputs": [
    {
     "data": {
      "image/png": "[encoded data removed]",
      "text/plain": [
       "<Figure size 640x480 with 1 Axes>"
      ]
     },
     "metadata": {},
     "output_type": "display_data"
    }
   ],
   "source": [
    "plt.plot(history_cnn.history['accuracy'], \n",
    "         label='Доля верных ответов на обучающем наборе')\n",
    "plt.plot(history_cnn.history['val_accuracy'], \n",
    "         label='Доля верных ответов на проверочном наборе')\n",
    "plt.xlabel('Эпоха обучения')\n",
    "plt.ylabel('Доля верных ответов')\n",
    "plt.legend()\n",
    "plt.show()"
   ]
  },
  {
   "cell_type": "markdown",
   "id": "b1dd0f4b-6eaf-4dfa-bb43-a646672232e5",
   "metadata": {},
   "source": [
    "# Сеть LSTM"
   ]
  },
  {
   "cell_type": "code",
   "execution_count": 424,
   "id": "34ec20a8-0daf-414f-9baf-6ac68d8b7d46",
   "metadata": {},
   "outputs": [],
   "source": [
    "model_lstm = Sequential()\n",
    "model_lstm.add(Embedding(num_words, 32, input_length=max_news_len))\n",
    "model_lstm.add(LSTM(16))\n",
    "model_lstm.add(Dense(8, activation='softmax'))"
   ]
  },
  {
   "cell_type": "code",
   "execution_count": 425,
   "id": "0c7acbd3-5e62-4a52-9485-8cf622229ae6",
   "metadata": {},
   "outputs": [],
   "source": [
    "model_lstm.compile(optimizer='adam', \n",
    "              loss='categorical_crossentropy', \n",
    "              metrics=['accuracy'])"
   ]
  },
  {
   "cell_type": "code",
   "execution_count": 426,
   "id": "65733e77-97a2-4f52-b63e-744f6811bc9e",
   "metadata": {},
   "outputs": [
    {
     "name": "stdout",
     "output_type": "stream",
     "text": [
      "Epoch 1/10\n",
      "64/64 [==============================] - 23s 164ms/step - loss: 1.8464 - accuracy: 0.3800 - val_loss: 1.5033 - val_accuracy: 0.6144\n",
      "Epoch 2/10\n",
      "64/64 [==============================] - 7s 102ms/step - loss: 1.1736 - accuracy: 0.6377 - val_loss: 0.8494 - val_accuracy: 0.7833\n",
      "Epoch 3/10\n",
      "64/64 [==============================] - 7s 102ms/step - loss: 0.7298 - accuracy: 0.8103 - val_loss: 0.5638 - val_accuracy: 0.8767\n",
      "Epoch 4/10\n",
      "64/64 [==============================] - 7s 102ms/step - loss: 0.5134 - accuracy: 0.8913 - val_loss: 0.3919 - val_accuracy: 0.9378\n",
      "Epoch 5/10\n",
      "64/64 [==============================] - 6s 102ms/step - loss: 0.3653 - accuracy: 0.9147 - val_loss: 0.2837 - val_accuracy: 0.9211\n",
      "Epoch 6/10\n",
      "64/64 [==============================] - 6s 93ms/step - loss: 0.2815 - accuracy: 0.9151 - val_loss: 0.2198 - val_accuracy: 0.9378\n",
      "Epoch 7/10\n",
      "64/64 [==============================] - 6s 100ms/step - loss: 0.2514 - accuracy: 0.9170 - val_loss: 0.1991 - val_accuracy: 0.9378\n",
      "Epoch 8/10\n",
      "64/64 [==============================] - 6s 93ms/step - loss: 0.2345 - accuracy: 0.9136 - val_loss: 0.1946 - val_accuracy: 0.9233\n",
      "Epoch 9/10\n",
      "64/64 [==============================] - 6s 100ms/step - loss: 0.2255 - accuracy: 0.9152 - val_loss: 0.1828 - val_accuracy: 0.9311\n",
      "Epoch 10/10\n",
      "64/64 [==============================] - 6s 96ms/step - loss: 0.2192 - accuracy: 0.9168 - val_loss: 0.1868 - val_accuracy: 0.9311\n"
     ]
    }
   ],
   "source": [
    "history_lstm = model_lstm.fit(X_train, \n",
    "                              y_train, \n",
    "                              epochs=10,\n",
    "                              batch_size=128,\n",
    "                              validation_split=0.1,\n",
    "                              )"
   ]
  },
  {
   "cell_type": "markdown",
   "id": "617b27e4-a056-4049-87c0-8e835a2ec82e",
   "metadata": {},
   "source": [
    "### Смотрим переобучение"
   ]
  },
  {
   "cell_type": "code",
   "execution_count": 427,
   "id": "c2f50094-be0e-444d-8e0a-9cc85054f168",
   "metadata": {},
   "outputs": [
    {
     "data": {
      "image/png": "[encoded data removed]",
      "text/plain": [
       "<Figure size 640x480 with 1 Axes>"
      ]
     },
     "metadata": {},
     "output_type": "display_data"
    }
   ],
   "source": [
    "plt.plot(history_lstm.history['accuracy'], \n",
    "         label='Доля верных ответов на обучающем наборе')\n",
    "plt.plot(history_lstm.history['val_accuracy'], \n",
    "         label='Доля верных ответов на проверочном наборе')\n",
    "plt.xlabel('Эпоха обучения')\n",
    "plt.ylabel('Доля верных ответов')\n",
    "plt.legend()\n",
    "plt.show()"
   ]
  },
  {
   "cell_type": "markdown",
   "id": "9fb59b3e-59f1-486e-ac5f-77082074d0db",
   "metadata": {},
   "source": [
    "### Сеть GRU"
   ]
  },
  {
   "cell_type": "code",
   "execution_count": 428,
   "id": "fc08f86c-6516-4659-9d36-78b4d5fee441",
   "metadata": {},
   "outputs": [],
   "source": [
    "model_gru = Sequential()\n",
    "model_gru.add(Embedding(num_words, 32, input_length=max_news_len))\n",
    "model_gru.add(GRU(32))\n",
    "model_gru.add(GRU(16))\n",
    "model_gru.add(Dense(8, activation='softmax'))"
   ]
  },
  {
   "cell_type": "code",
   "execution_count": 429,
   "id": "e6d20758-8508-4eda-bf81-fee60c74099a",
   "metadata": {},
   "outputs": [],
   "source": [
    "model_gru.compile(optimizer='adam', \n",
    "              loss='categorical_crossentropy', \n",
    "              metrics=['accuracy'])"
   ]
  },
  {
   "cell_type": "code",
   "execution_count": 430,
   "id": "baa44a3e-3f05-4604-a066-9813b880b8c0",
   "metadata": {},
   "outputs": [
    {
     "name": "stdout",
     "output_type": "stream",
     "text": [
      "Model: \"sequential_15\"\n",
      "_________________________________________________________________\n",
      " Layer (type)                Output Shape              Param #   \n",
      "=================================================================\n",
      " embedding_17 (Embedding)    (None, 100, 32)           320000    \n",
      "                                                                 \n",
      " gru_3 (GRU)                 (None, 16)                2400      \n",
      "                                                                 \n",
      " dense_19 (Dense)            (None, 8)                 136       \n",
      "                                                                 \n",
      "=================================================================\n",
      "Total params: 322,536\n",
      "Trainable params: 322,536\n",
      "Non-trainable params: 0\n",
      "_________________________________________________________________\n"
     ]
    }
   ],
   "source": [
    "model_gru.summary()"
   ]
  },
  {
   "cell_type": "code",
   "execution_count": 431,
   "id": "87669ac4-c1b9-4045-b51d-9a7befd4aafa",
   "metadata": {},
   "outputs": [
    {
     "name": "stdout",
     "output_type": "stream",
     "text": [
      "Epoch 1/5\n",
      "64/64 [==============================] - 25s 137ms/step - loss: 1.8608 - accuracy: 0.4676 - val_loss: 1.5193 - val_accuracy: 0.6978\n",
      "Epoch 2/5\n",
      "64/64 [==============================] - 7s 102ms/step - loss: 1.0553 - accuracy: 0.7737 - val_loss: 0.6370 - val_accuracy: 0.8411\n",
      "Epoch 3/5\n",
      "64/64 [==============================] - 7s 106ms/step - loss: 0.5353 - accuracy: 0.8679 - val_loss: 0.4101 - val_accuracy: 0.8944\n",
      "Epoch 4/5\n",
      "64/64 [==============================] - 7s 102ms/step - loss: 0.3858 - accuracy: 0.9096 - val_loss: 0.3018 - val_accuracy: 0.9211\n",
      "Epoch 5/5\n",
      "64/64 [==============================] - 6s 99ms/step - loss: 0.3057 - accuracy: 0.9153 - val_loss: 0.2508 - val_accuracy: 0.9211\n"
     ]
    }
   ],
   "source": [
    "history_gru = model_gru.fit(X_train, \n",
    "                              y_train, \n",
    "                              epochs=5,\n",
    "                              batch_size=128,\n",
    "                              validation_split=0.1,\n",
    "                              )"
   ]
  },
  {
   "cell_type": "markdown",
   "id": "781b36ce-1f71-452d-803e-a996f13f2121",
   "metadata": {},
   "source": [
    "### Смотрим переобучение"
   ]
  },
  {
   "cell_type": "code",
   "execution_count": 432,
   "id": "e3a4a6aa-3a4a-4036-ad87-3d59019f0436",
   "metadata": {},
   "outputs": [
    {
     "data": {
      "image/png": "[encoded data removed]",
      "text/plain": [
       "<Figure size 640x480 with 1 Axes>"
      ]
     },
     "metadata": {},
     "output_type": "display_data"
    }
   ],
   "source": [
    "plt.plot(history_gru.history['accuracy'], \n",
    "         label='Доля верных ответов на обучающем наборе')\n",
    "plt.plot(history_gru.history['val_accuracy'], \n",
    "         label='Доля верных ответов на проверочном наборе')\n",
    "plt.xlabel('Эпоха обучения')\n",
    "plt.ylabel('Доля верных ответов')\n",
    "plt.legend()\n",
    "plt.show()"
   ]
  },
  {
   "cell_type": "markdown",
   "id": "fcf15417-15c9-45d7-85ba-11ac1fff4db3",
   "metadata": {},
   "source": [
    "### Свёрточная сеть"
   ]
  },
  {
   "cell_type": "code",
   "execution_count": 433,
   "id": "2c596814-7599-4600-99b8-d1df1abe0e75",
   "metadata": {},
   "outputs": [
    {
     "name": "stdout",
     "output_type": "stream",
     "text": [
      "32/32 [==============================] - 2s 47ms/step - loss: 0.1822 - accuracy: 0.9240\n"
     ]
    },
    {
     "data": {
      "text/plain": [
       "[0.18216225504875183, 0.9240000247955322]"
      ]
     },
     "execution_count": 433,
     "metadata": {},
     "output_type": "execute_result"
    }
   ],
   "source": [
    "model_cnn.evaluate(X_test, y_test, verbose=1)"
   ]
  },
  {
   "cell_type": "markdown",
   "id": "35d33ef3-73fc-4ad5-9f80-be8cc37d0406",
   "metadata": {},
   "source": [
    "### Сеть LSTM"
   ]
  },
  {
   "cell_type": "code",
   "execution_count": 434,
   "id": "061a3c02-45e1-4f4e-b399-d938cde413e6",
   "metadata": {},
   "outputs": [
    {
     "name": "stdout",
     "output_type": "stream",
     "text": [
      "32/32 [==============================] - 6s 60ms/step - loss: 0.1998 - accuracy: 0.9270\n"
     ]
    },
    {
     "data": {
      "text/plain": [
       "[0.19979402422904968, 0.9269999861717224]"
      ]
     },
     "execution_count": 434,
     "metadata": {},
     "output_type": "execute_result"
    }
   ],
   "source": [
    "model_lstm.evaluate(X_test, y_test, verbose=1)"
   ]
  },
  {
   "cell_type": "markdown",
   "id": "be0eb423-cc1a-43e1-866f-6e95dbf50b97",
   "metadata": {},
   "source": [
    "### Сеть GRU"
   ]
  },
  {
   "cell_type": "code",
   "execution_count": 435,
   "id": "8de959b5-7723-4fd0-8f66-a97b3c2acb0c",
   "metadata": {},
   "outputs": [
    {
     "name": "stdout",
     "output_type": "stream",
     "text": [
      "32/32 [==============================] - 5s 46ms/step - loss: 0.2655 - accuracy: 0.9240\n"
     ]
    },
    {
     "data": {
      "text/plain": [
       "[0.26548585295677185, 0.9240000247955322]"
      ]
     },
     "execution_count": 435,
     "metadata": {},
     "output_type": "execute_result"
    }
   ],
   "source": [
    "model_gru.evaluate(X_test, y_test, verbose=1)"
   ]
  },
  {
   "cell_type": "markdown",
   "id": "0339c7a6-db66-4798-bbaa-9370e35a8b9d",
   "metadata": {},
   "source": [
    "### Проверка документа на фразе"
   ]
  },
  {
   "cell_type": "code",
   "execution_count": 508,
   "id": "b6187100-2c53-468e-b696-45a77a2acb65",
   "metadata": {},
   "outputs": [],
   "source": [
    "text = \"\"\"Отдел внедрения Департамента внедрения и обслуживания\n",
    "О закупке\n",
    "Внести изменения в ОРД согласно прилагаемому Перечню.\n",
    "ПЕРЕЧЕНЬ ИЗМЕНЕНИЙ, ВНОСИМЫХ В ОРД Контроль над выполнением вышеуказанного\n",
    "поручения возложить на администратора вычислительной сети Турова Савву.\n",
    "Определить срок исполнения задачи вплоть до 20 декабря 03. 1. пункт 2.4.1.3 изложить в следующей редакции:\n",
    "\"2.4.1.3. Входящие документы на иностранных языках регистрируются только после осуществления\n",
    "их перевода в сроки, указанные в пункте 2.4.1.2, за исключением документов, поступающих из\n",
    "межгосударственных органов, иностранных и международных (межгосударственных) судов,\n",
    "иностранных и международных третейских судов (арбитражей) по вопросам обеспечения\n",
    "представительства и защиты интересов Российской Федерации, которые без перевода на русский язык\n",
    "регистрируются в отделе документационного обеспечения Главного управления международно-\n",
    "правового сотрудничества.\" Определить срок исполнения задачи вплоть до 06 февраля 2014 года.\n",
    "Контроль над выполнением задачи возложить на системного аналитика Сыроварова Акифа.\n",
    "i). Внести в Регламент, утвержденный приказом Генерального директора от 11.05.2016\n",
    "N 276, изменение, исключив из пункта 1.11 слова \"а также деятельность Руководителя удаленного\n",
    "офиса\".Ответственность за исполнение задачи возложить на Контент менеджера Роговцова Беньямина.\n",
    "Установить срок выполнения задачи до 19.08.22.\n",
    "\"\"\""
   ]
  },
  {
   "cell_type": "code",
   "execution_count": 142,
   "outputs": [
    {
     "name": "stdout",
     "output_type": "stream",
     "text": [
      "\n",
      "ООО \"Мегасофт\"\n",
      "\n",
      "\n",
      "Приказ\n",
      "Для организации мероприятия \"День заказчика\" приказываю:\n",
      "a. Закупить книги. Срок завершения: 19 апр 15.\n",
      "Ответственность за исполнение распоряжения возложить на специалиста первой категории административно-хозяйственного отдела Кравцову И.Е.\n",
      "и.о. генерального директора Сердитый А.И.\n",
      "11 апреля 2013 года\n",
      "\n",
      "\n",
      "\n"
     ]
    }
   ],
   "source": [
    "directory = 'hackaton_2023_01/task_3/full_dataset/docx/'\n",
    "series = []\n",
    "filesText = []\n",
    "\n",
    "for fileIndex in range(1):\n",
    "    name = str(fileIndex) + '.docx'\n",
    "    fileText = ''\n",
    "\n",
    "    document = Document(directory + name)\n",
    "    for paragraph in document.paragraphs:\n",
    "        fileText += paragraph.text + '\\n'\n",
    "    print(fileText)\n",
    "    filesText.append(fileText)"
   ],
   "metadata": {
    "collapsed": false
   }
  },
  {
   "cell_type": "code",
   "execution_count": 133,
   "id": "366e73d1-01d4-413e-bbc0-97a4675f0b3a",
   "metadata": {},
   "outputs": [],
   "source": [
    "sequence = tokenizer.texts_to_sequences([filesText])"
   ]
  },
  {
   "cell_type": "code",
   "execution_count": 134,
   "id": "ccb97bbc-0978-48cb-8d5d-b9ac75859e38",
   "metadata": {},
   "outputs": [],
   "source": [
    "data = utils.pad_sequences(sequence, maxlen=max_review_len)"
   ]
  },
  {
   "cell_type": "code",
   "execution_count": 135,
   "id": "e26a133e-6762-4fab-b144-b39b3abd7b15",
   "metadata": {},
   "outputs": [
    {
     "name": "stdout",
     "output_type": "stream",
     "text": [
      "1/1 [==============================] - 0s 69ms/step\n"
     ]
    }
   ],
   "source": [
    "result = model_cnn.predict(data)"
   ]
  },
  {
   "cell_type": "code",
   "execution_count": 136,
   "id": "f2453029-cc11-4fca-8c2d-b7a3a7e0423b",
   "metadata": {},
   "outputs": [
    {
     "data": {
      "text/plain": "array([[0, 0, 0, 0, 0, 0, 0, 0, 0, 0, 0, 0, 0, 0, 0, 0, 0, 0, 0, 0, 0, 0,\n        0, 0, 0, 0, 0, 0, 0, 0, 0, 0, 0, 0, 0, 0, 0, 0, 0, 0, 0, 0, 0, 0,\n        0, 0, 0, 0, 0, 0, 0, 0, 0, 0, 0, 0, 0, 0, 0, 0, 0, 0, 0, 0, 0, 0,\n        0, 0, 0, 0, 0, 0, 0, 0, 0, 0, 0, 0, 0, 0, 0, 0, 0, 0, 0, 0, 0, 0,\n        0, 0, 0, 0, 0, 0, 0, 0, 0, 0, 0, 0]], dtype=int32)"
     },
     "execution_count": 136,
     "metadata": {},
     "output_type": "execute_result"
    }
   ],
   "source": [
    "np.round(result, 3)"
   ]
  },
  {
   "cell_type": "code",
   "execution_count": 442,
   "id": "72006145-766d-491e-8188-e72f1e23314a",
   "metadata": {},
   "outputs": [
    {
     "data": {
      "text/plain": [
       "{'Административно-хозяйственный отдел': 1,\n",
       " 'Бухгалтерия': 2,\n",
       " 'Отдел эксплуатации': 3,\n",
       " 'Отдел тестирования': 4,\n",
       " 'Отдел архитектуры': 5,\n",
       " 'Отдел проектирования': 6,\n",
       " 'Служба ИТ': 7,\n",
       " 'Отдел разработки систем': 8}"
      ]
     },
     "execution_count": 442,
     "metadata": {},
     "output_type": "execute_result"
    }
   ],
   "source": [
    "classes_dep"
   ]
  },
  {
   "cell_type": "markdown",
   "id": "63bef61a-a290-4e44-9de8-375f24a5a0e4",
   "metadata": {},
   "source": [
    "### Находим уникальные значения департаментов."
   ]
  },
  {
   "cell_type": "code",
   "execution_count": 443,
   "id": "1dddc3a8-9c92-4e2c-91a5-9f63542446f4",
   "metadata": {},
   "outputs": [
    {
     "data": {
      "text/plain": [
       "['Административно-хозяйственный отдел',\n",
       " 'Бухгалтерия',\n",
       " 'Отдел эксплуатации',\n",
       " 'Отдел тестирования',\n",
       " 'Отдел архитектуры',\n",
       " 'Отдел проектирования',\n",
       " 'Служба ИТ',\n",
       " 'Отдел разработки систем']"
      ]
     },
     "execution_count": 443,
     "metadata": {},
     "output_type": "execute_result"
    }
   ],
   "source": [
    "departments_set = set(DEPARTMENTS)\n",
    "departments_Unique_list = list(departments_set)\n",
    "departments_Unique_list"
   ]
  },
  {
   "cell_type": "markdown",
   "id": "f41654f5-343a-4ae3-a005-04b02e84e7ee",
   "metadata": {},
   "source": [
    "### Строим однонаправленный граф."
   ]
  },
  {
   "cell_type": "code",
   "execution_count": 444,
   "id": "72f8da09-5275-4802-80fc-b0b2d1a605a3",
   "metadata": {},
   "outputs": [
    {
     "data": {
      "image/png": "[encoded data removed]",
      "text/plain": [
       "<Figure size 640x480 with 1 Axes>"
      ]
     },
     "metadata": {},
     "output_type": "display_data"
    }
   ],
   "source": [
    "DG = nx.DiGraph()\n",
    "\n",
    "\n",
    "DG.add_edge('ООО \"Мегасофт\"', departments_Unique_list[0]) \n",
    "DG.add_edge('ООО \"Мегасофт\"', departments_Unique_list[1]) \n",
    "DG.add_edge('ООО \"Мегасофт\"', departments_Unique_list[2]) \n",
    "DG.add_edge('ООО \"Мегасофт\"', departments_Unique_list[3]) \n",
    "DG.add_edge('ООО \"Мегасофт\"', departments_Unique_list[4]) \n",
    "DG.add_edge('ООО \"Мегасофт\"', departments_Unique_list[5]) \n",
    "DG.add_edge('ООО \"Мегасофт\"', departments_Unique_list[6]) \n",
    "DG.add_edge('ООО \"Мегасофт\"', departments_Unique_list[7]) \n",
    "\n",
    "nx.draw(DG, with_labels=True, font_weight='bold')"
   ]
  },
  {
   "cell_type": "markdown",
   "id": "604bfab9-2499-4e5b-bbc5-d0e6c0f559c3",
   "metadata": {},
   "source": [
    "### Создаём мешок слов"
   ]
  },
  {
   "cell_type": "code",
   "execution_count": 445,
   "id": "de4c97da-80ba-4a5a-9947-1f6d23fcd8d4",
   "metadata": {},
   "outputs": [],
   "source": [
    "def vectorize_sequences(sequences, dimension=10000):\n",
    "    results = np.zeros((len(sequences), dimension))\n",
    "    for i, sequence in enumerate(sequences):\n",
    "        for index in sequence:\n",
    "            results[i, index] += 1.\n",
    "    return results"
   ]
  },
  {
   "cell_type": "code",
   "execution_count": null,
   "id": "1e798429-fe15-4a43-8405-128498fe6499",
   "metadata": {},
   "outputs": [],
   "source": []
  }
 ],
 "metadata": {
  "kernelspec": {
   "display_name": "Python 3 (ipykernel)",
   "language": "python",
   "name": "python3"
  },
  "language_info": {
   "codemirror_mode": {
    "name": "ipython",
    "version": 3
   },
   "file_extension": ".py",
   "mimetype": "text/x-python",
   "name": "python",
   "nbconvert_exporter": "python",
   "pygments_lexer": "ipython3",
   "version": "3.8.13"
  }
 },
 "nbformat": 4,
 "nbformat_minor": 5
}
