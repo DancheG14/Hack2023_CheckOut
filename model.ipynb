{
 "cells": [
  {
   "cell_type": "markdown",
   "id": "74b7058e-acea-4f99-8b8b-15aa39dca187",
   "metadata": {},
   "source": [
    "### Устанавливаем библиотеки \n"
   ]
  },
  {
   "cell_type": "markdown",
   "id": "174d5ffe-9636-412a-ac3d-1a9a5a9a4465",
   "metadata": {},
   "source": [
    "\n",
    "\n",
    "Задача № 3 (для 2 курса)\n",
    " \n",
    "Название: Автоматизация обработки машиночитаемых документов.\n",
    " \n",
    "Описание: Вам будет выдан набор данных документов из системы документооборота небольшой вымышленной компании. На основе этого набора данных вам нужно построить граф знаний о компании, который включает:\n",
    "\n",
    "● \tОрганизационную структуру (список подразделений). Есть\n",
    "\n",
    "● \tСписок сотрудников \n",
    "\n",
    "●  и их должностей. \n",
    "\n",
    "● \tДолжностные обязанности и полномочия сотрудников.\n",
    "\n",
    "На основе построенного графа знаний нужно разработать систему, которая ищет ошибки в проверочных документах (10 правильных документов, 10 документов с ошибками), например:\n",
    "\n",
    "● \tОпечатки в названиях подразделений или ФИО сотрудников.\n",
    "\n",
    "● \tНесуществующие подразделения или сотрудники, ошибки в должностях.\n",
    "\n",
    "● \tНесоответствие тематики документа подразделению, в которое он направлен для исполнения (в бухгалтерию направлен документ с задачей по ИТ).\n",
    " \n",
    "Ссылка на набор данных – https://www.dropbox.com/sh/d5h5f3yrql8x392/AACQ2WYa5qYCqjC8QuVZ5TJ4a?dl=1 \n",
    "\n",
    "Вам будет передана открытая часть датасета с разметкой, закрытая часть датасета без разметки и проверочные документы (20 документов для подзадачи обнаружения ошибок в документах).\n",
    " \n",
    "Требования к решению:\n",
    "1.   Код программы построения графа знаний о компании (ссылка на GitHub), с помощью которого можно ответить на вопросы:\n",
    "a.   Количество отделов.\n",
    "b.   Количество сотрудников.\n",
    "c.\tК какому отделу относится конкретная задача.\n",
    "2.   Код программы поиска документов с ошибками на основе графа знаний (ссылка на GitHub).\n",
    "3.   Документы, в которых найдены ошибки.\n",
    " \n",
    "Критерии оценки:\n",
    "● \tЗа каждый найденный документ с ошибкой начисляется 10 баллов.\n",
    "● \tЗа каждый документ, представленный как ошибочный, но в котором ошибки на самом деле нет, назначается штраф -1 балл.\n",
    " \n",
    "Советы по реализации:\n",
    "1.   Извлечь именованные сущности (NER) из текста можно с помощью библиотеки spacy (https://spacy.io/), pullenti, natasha или соответствующих моделей с huggingface (https://huggingface.co/).\n",
    "2.   Для сущностей, для которых не удастся найти типовые предобученные модели (например, сущность «Задача» или «Департамент») организовать обучение модели с использованием открытой части датасета.\n",
    "3.   Для построения графа связей в организации рекомендуется использовать библиотеку NetworkX - https://networkx.org/\n",
    "\n"
   ]
  },
  {
   "cell_type": "markdown",
   "id": "ae73bdcc-09a9-4fa4-8719-7bf900da97db",
   "metadata": {},
   "source": [
    "# Решение.\n",
    "\n",
    "1. task_text: разбить на предложения. Выявить функционал. FIO_POSITION: ФИО, должность, функционал, отдел (не необходимо).\n",
    "2. task_responsibles_people: - вывявить ФИО, должность, task_responsibles_groups: добавить отдел.\n",
    "3. Собрать мешок слов: ФИО, должность, функционал, отдел.\n",
    "4. Векторизировать мешок слов.\n",
    "5. Из отделов построить 8 классов.\n",
    "6. Обучить реккурентную нейросеть LSTM или GRU.\n",
    "7. Протестировать на тестовом наборе данных.\n",
    "8. Построить граф знаний.\n",
    "9. Написать функцию соответствия предсказания с графом знаний.\n",
    "10. Сделать презентацию проекта.\n"
   ]
  },
  {
   "cell_type": "code",
   "execution_count": null,
   "id": "02d66d60-e4a7-476f-bbf6-ee5a286ab22c",
   "metadata": {},
   "outputs": [],
   "source": [
    "#!pip install networkx\n",
    "#!pip install --upgrade networkx\n",
    "#!pip install pygraphviz pydot lxml\n",
    "#!pip install pygraphviz\n",
    "#!pytest networkx\n",
    "#!pytest --pyargs networkx\n",
    "#! pip install pymorphy2\n",
    "#! pip install -U pip setuptools wheel\n",
    "#! pip install -U spacy \n",
    "#! python -m spacy download en_core_web_sm\n",
    "#! python -m spacy download ru_core_news_sm\n",
    "#! pip install --user -U nltk\n",
    "#! pip install -U liblinear-official\n",
    "#! pip install natasha\n",
    "#! pip install ipymarkup\n",
    "#! pip install transformers sentencepiece sacremoses\n",
    "#!pip install pymorphy2[fast]\n",
    "#!pip install natasha spacy==3.3\n",
    "\n",
    "#!python -m spacy download ru_core_news_sm\n",
    "#!pip install tensorflow-text spacy==3.3\n",
    "#!python -m spacy download ru_core_news_sm\n",
    "#!pip install pymorphy2[fast] \n"
   ]
  },
  {
   "cell_type": "code",
   "execution_count": 123,
   "id": "3652d991-12f0-439a-9d10-45ac12ea7beb",
   "metadata": {},
   "outputs": [],
   "source": [
    "import json\n",
    "import networkx as nx\n",
    "import matplotlib.pyplot as plt\n",
    "import numpy as np\n",
    "import pandas as pd\n",
    "\n",
    "from yargy.tokenizer import MorphTokenizer\n",
    "from yargy import rule, or_, Parser\n",
    "from yargy.predicates import eq, type as _t, normalized, gram\n",
    "from ipymarkup import show_span_box_markup, show_span_line_markup\n",
    "from yargy.pipelines import morph_pipeline as mp, caseless_pipeline as cp\n",
    "from yargy.interpretation import fact\n",
    "from IPython.display import display\n",
    "\n",
    "from transformers import pipeline, AutoTokenizer, AutoConfig, AutoModelForTokenClassification\n",
    "\n",
    "# Морфологический анализ\n",
    "import pymorphy2\n",
    "\n",
    "# Синтаксический анализ\n",
    "import spacy\n",
    "from spacy import displacy\n",
    "\n",
    "import pandas as pd\n",
    "import pymorphy2\n",
    "import nltk\n",
    "from nltk.tokenize import word_tokenize\n",
    "from nltk.corpus import stopwords\n",
    "\n",
    "\n",
    "import io\n",
    "import re\n",
    "import string\n",
    "import tqdm\n",
    "\n",
    "import numpy as np\n",
    "\n",
    "import tensorflow as tf\n",
    "from tensorflow.keras import layers\n",
    "import gensim.models\n",
    "\n",
    "\n",
    "import requests\n",
    "import nltk\n",
    "import spacy\n",
    "import tensorflow as tf\n",
    "import tensorflow_text as tf_text\n",
    "from nltk.tokenize import sent_tokenize, word_tokenize\n",
    "\n",
    "import pymorphy2\n",
    "\n",
    "import spacy\n",
    "from spacy import displacy\n",
    "\n",
    "\n",
    "import pandas as pd\n",
    "import json \n",
    "import spacy\n",
    "from spacy.symbols import nsubj, VERB\n"
   ]
  },
  {
   "cell_type": "code",
   "execution_count": null,
   "id": "ef525a55-2675-42f6-ab00-7b8d9a809a18",
   "metadata": {},
   "outputs": [],
   "source": [
    "directory = 'hackaton_2023_01/task_3/full_dataset/json/'\n",
    "data = []\n",
    "for n in range(9999):\n",
    "    name = str(n) + '.json'\n",
    "    try:\n",
    "        with open(directory + name, \"r\") as readFile:\n",
    "            jsonData = json.load(readFile)\n",
    "            jsonData[\"id\"] = n\n",
    "            data.append(jsonData)\n",
    "    except ValueError:\n",
    "        continue"
   ]
  },
  {
   "cell_type": "code",
   "execution_count": null,
   "id": "038d3959-5c21-4a26-8abb-9be0f8044f90",
   "metadata": {},
   "outputs": [],
   "source": [
    "with open('merged_data.json', \"r\") as readFile:\n",
    "            merge_data = json.load(readFile)"
   ]
  },
  {
   "cell_type": "markdown",
   "id": "5fdedeb9-f25a-4cb1-a815-d51b0a277969",
   "metadata": {},
   "source": [
    "### Определяем количество департаментов в компании"
   ]
  },
  {
   "cell_type": "code",
   "execution_count": null,
   "id": "95d0fc0d-1463-4a4a-8b0c-421354132d8b",
   "metadata": {},
   "outputs": [],
   "source": [
    "#data"
   ]
  },
  {
   "cell_type": "code",
   "execution_count": null,
   "id": "881c5a60-8bae-4b0f-a12e-63c6a84759e1",
   "metadata": {},
   "outputs": [],
   "source": [
    "DEPARTMENTS = []\n",
    "for n in range(10000):\n",
    "    try:\n",
    "        for i in range(1,30):\n",
    "            DEPARTMENTS.append(data[n]['Tasks']['Task{}'.format(i)]['task_responsibles_groups'])\n",
    "    except KeyError:\n",
    "        continue\n",
    "    except IndexError:\n",
    "        continue\n"
   ]
  },
  {
   "cell_type": "code",
   "execution_count": null,
   "id": "c45083da-2600-411f-9f37-2724d997e2dc",
   "metadata": {},
   "outputs": [],
   "source": [
    "FIO_POSITION = []\n",
    "for n in range(10000):\n",
    "    try:\n",
    "        for i in range(1,20):\n",
    "            FIO_POSITION.append(data[n]['Tasks']['Task{}'.format(i)]['task_responsibles_people'])\n",
    "    except KeyError:\n",
    "        continue\n",
    "    except IndexError:\n",
    "        continue"
   ]
  },
  {
   "cell_type": "code",
   "execution_count": null,
   "id": "5d89081d-c417-4ba2-99b0-c22ab7b7593d",
   "metadata": {},
   "outputs": [],
   "source": [
    "TASK = []\n",
    "for n in range(10000):\n",
    "    try:\n",
    "        for i in range(1,30):\n",
    "            TASK.append(data[n]['Tasks']['Task{}'.format(i)]['task_text'])\n",
    "    except KeyError:\n",
    "        continue\n",
    "    except IndexError:\n",
    "        continue"
   ]
  },
  {
   "cell_type": "code",
   "execution_count": null,
   "id": "dee9f29a-af7f-4025-9b1e-e911565e1a4f",
   "metadata": {},
   "outputs": [],
   "source": [
    "POSITION = []\n",
    "for n in range(10000):\n",
    "    try:\n",
    "        for i in range(1,30):\n",
    "            POSITION.append(data[n]['Tasks']['Global_supervisor'][i])\n",
    "    except KeyError:\n",
    "        continue\n",
    "    except IndexError:\n",
    "        continue"
   ]
  },
  {
   "cell_type": "markdown",
   "id": "ab5abf53-8eaa-487b-8742-2098c7664c61",
   "metadata": {},
   "source": [
    "### Очищаем данные"
   ]
  },
  {
   "cell_type": "code",
   "execution_count": null,
   "id": "3c4de681-ad7a-4005-a902-e84147b20de7",
   "metadata": {},
   "outputs": [],
   "source": [
    "def text_split(text: str):\n",
    "    pouch_of_words = []\n",
    "    for line in text:\n",
    "        line = line.split()\n",
    "        pouch_of_words.append(line)\n",
    "    return pouch_of_words\n",
    "     "
   ]
  },
  {
   "cell_type": "code",
   "execution_count": null,
   "id": "d29e3a91-cfa4-4207-9d21-377d0066aa8f",
   "metadata": {},
   "outputs": [],
   "source": [
    "text_split(FIO_POSITION[:2])"
   ]
  },
  {
   "cell_type": "code",
   "execution_count": null,
   "id": "c5dffc84-108f-4582-babb-f75a793f8ab4",
   "metadata": {},
   "outputs": [],
   "source": [
    "def token_words_split(text: str):\n",
    "    pouch_of_words = []\n",
    "    if type(text) == list:\n",
    "        for line in text:\n",
    "            TOKENIZER = word_tokenize(line)\n",
    "            pouch_of_words.append(TOKENIZER)\n",
    "        return pouch_of_words\n",
    "\n",
    "pouch_of_words = token_words_split(FIO_POSITION[:2])\n",
    "pouch_of_words"
   ]
  },
  {
   "cell_type": "code",
   "execution_count": null,
   "id": "f9141003-3db2-435a-a9d2-65be545479db",
   "metadata": {},
   "outputs": [],
   "source": [
    "text = FIO_POSITION[:2]\n",
    "text"
   ]
  },
  {
   "cell_type": "code",
   "execution_count": null,
   "id": "314fc52f-577b-416f-b7bc-1ee93dddf9f4",
   "metadata": {},
   "outputs": [],
   "source": [
    "def split_spacy(text: str):\n",
    "    pouch_of_words = []\n",
    "    nlp = spacy.load('ru_core_news_sm')\n",
    "    if type(text) == list:\n",
    "        for line in text:\n",
    "            doc = nlp(line)\n",
    "            for token in doc:\n",
    "                pouch_of_words.append(token)\n",
    "    return pouch_of_words\n"
   ]
  },
  {
   "cell_type": "code",
   "execution_count": null,
   "id": "291a36cf-1e71-4e71-9b4e-4c0217cea5d1",
   "metadata": {},
   "outputs": [],
   "source": [
    "FIO_POSITION[:2]"
   ]
  },
  {
   "cell_type": "code",
   "execution_count": null,
   "id": "406ac96b-a240-486a-a078-22e440b7cb3f",
   "metadata": {},
   "outputs": [],
   "source": [
    "nltk.download('punkt')\n",
    "def sentence(text: str):\n",
    "   \n",
    "\n",
    "    sentences = sent_tokenize(text)\n",
    "    return sentences\n",
    "sentence(FIO_POSITION[:1])"
   ]
  },
  {
   "cell_type": "markdown",
   "id": "e001be42-9e01-4d46-84eb-d1266a40bd35",
   "metadata": {},
   "source": [
    "### Морфологический анализ"
   ]
  },
  {
   "cell_type": "code",
   "execution_count": null,
   "id": "c9847f24-2c25-44b1-ad3a-833b92164331",
   "metadata": {},
   "outputs": [],
   "source": [
    "morph = pymorphy2.MorphAnalyzer()"
   ]
  },
  {
   "cell_type": "code",
   "execution_count": null,
   "id": "60395f35-a7de-4b2e-b7ea-9afaf43f336b",
   "metadata": {},
   "outputs": [],
   "source": [
    "def morph_word(words: str):\n",
    "    words = split_spacy(words)\n",
    "    morph_words = []\n",
    "    for word in words:\n",
    "        print(word)\n",
    "\n",
    "morph_word(POSITION[:1])"
   ]
  },
  {
   "cell_type": "markdown",
   "id": "cf7bfaab-481e-4149-b652-e5be17cd01d6",
   "metadata": {},
   "source": [
    "### Синтаксический анализ"
   ]
  },
  {
   "cell_type": "code",
   "execution_count": null,
   "id": "d8202846-269f-410e-8298-2831691042f3",
   "metadata": {},
   "outputs": [],
   "source": [
    "#nlp_synt = spacy.load('ru_core_news_sm')"
   ]
  },
  {
   "cell_type": "markdown",
   "id": "758170b0-6131-465f-8019-37d511f442ae",
   "metadata": {},
   "source": [
    "### Разделяем текст на предложения."
   ]
  },
  {
   "cell_type": "code",
   "execution_count": null,
   "id": "6429f4cc-6a65-4c37-a558-610f4b8b68e9",
   "metadata": {},
   "outputs": [],
   "source": [
    "def sentence(text: str):\n",
    "    pouch_of_sentence = []\n",
    "    if type(text) == list:\n",
    "        for line in text:\n",
    "            line = \" \".join(line)\n",
    "            nltk.download('punkt')\n",
    "            sentences = sent_tokenize(line)\n",
    "            pouch_of_sentence.append(sentences)\n",
    "    return str(pouch_of_sentence)\n",
    "    \n",
    "text = sentence(FIO_POSITION[10:12])"
   ]
  },
  {
   "cell_type": "code",
   "execution_count": null,
   "id": "ecf8761f-2c66-4288-aabb-d4d196934e56",
   "metadata": {},
   "outputs": [],
   "source": [
    "from natasha import (\n",
    "    Segmenter,\n",
    "    MorphVocab,\n",
    "    \n",
    "    NewsEmbedding,\n",
    "    NewsMorphTagger,\n",
    "    NewsSyntaxParser,\n",
    "    \n",
    "    NewsNERTagger,\n",
    "    \n",
    "    PER,\n",
    "    LOC,\n",
    "    NamesExtractor,\n",
    "    DatesExtractor,\n",
    "    MoneyExtractor,\n",
    "    AddrExtractor,\n",
    " \n",
    "    Doc\n",
    ")\n"
   ]
  },
  {
   "cell_type": "code",
   "execution_count": null,
   "id": "e54bf6e0-436b-40be-bfb9-3bfa4c4dc434",
   "metadata": {},
   "outputs": [],
   "source": [
    " \n",
    "segmenter = Segmenter()\n",
    "morph_vocab = MorphVocab()\n",
    "\n",
    "emb = NewsEmbedding()\n",
    "morph_tagger = NewsMorphTagger(emb)\n",
    "syntax_parser = NewsSyntaxParser(emb)\n",
    "ner_tagger = NewsNERTagger(emb)\n",
    "\n",
    "names_extractor = NamesExtractor(morph_vocab)\n",
    "dates_extractor = DatesExtractor(morph_vocab)\n",
    "money_extractor = MoneyExtractor(morph_vocab)\n",
    "addr_extractor = AddrExtractor(morph_vocab)"
   ]
  },
  {
   "cell_type": "code",
   "execution_count": null,
   "id": "f1da78ec-9c1f-43ea-9597-b6ce4556632d",
   "metadata": {},
   "outputs": [],
   "source": [
    "syntax_parser = NewsSyntaxParser(emb)\n"
   ]
  },
  {
   "cell_type": "code",
   "execution_count": null,
   "id": "bedf55ce-5641-46ea-aa2f-009cc74b1330",
   "metadata": {},
   "outputs": [],
   "source": [
    "doc_n = Doc(text)"
   ]
  },
  {
   "cell_type": "code",
   "execution_count": null,
   "id": "3b294365-295f-4241-95dd-a8319a740197",
   "metadata": {},
   "outputs": [],
   "source": [
    "#for tocken in doc_n.tokens:\n",
    "#    print(tocken)"
   ]
  },
  {
   "cell_type": "code",
   "execution_count": null,
   "id": "f38821db-3e52-41ca-8520-c31746fd2f2d",
   "metadata": {},
   "outputs": [],
   "source": [
    "#doc_n.parse_syntax(syntax_parser)"
   ]
  },
  {
   "cell_type": "code",
   "execution_count": null,
   "id": "1efb5161-3938-412d-aa77-fa7393ab46be",
   "metadata": {},
   "outputs": [],
   "source": [
    "#for tocken in doc_n.tokens:\n",
    "#    print(tocken)"
   ]
  },
  {
   "cell_type": "code",
   "execution_count": null,
   "id": "aec95c8a-f571-4d1e-9367-8263d6fc586c",
   "metadata": {},
   "outputs": [],
   "source": [
    "#doc_n.sents[0].syntax.print()"
   ]
  },
  {
   "cell_type": "markdown",
   "id": "d0493dfd-4f4c-45ac-a228-b13a78523b76",
   "metadata": {},
   "source": [
    "### Выявление ФИО"
   ]
  },
  {
   "cell_type": "code",
   "execution_count": null,
   "id": "82e62351-4f05-4854-b73c-897e466ca57b",
   "metadata": {},
   "outputs": [],
   "source": [
    "FIO = []\n",
    "\n",
    "for tocken in doc_n.tokens:\n",
    "    if tocken.rel == 'flat:name' or tocken.rel == 'appos':\n",
    "        if tocken.rel == 'appos':\n",
    "            surn = tocken.text \n",
    "            if surn in FIO:\n",
    "                pass\n",
    "            else:\n",
    "                FIO.append(surn)\n",
    "        elif tocken.rel == 'flat:name':\n",
    "            IO = tocken.text + '.'      \n",
    "            FIO.append(IO)\n",
    "           \n"
   ]
  },
  {
   "cell_type": "code",
   "execution_count": null,
   "id": "40678c19-4a34-430f-95e5-ebb693e16fd4",
   "metadata": {},
   "outputs": [],
   "source": [
    "doc_n.segment(segmenter) "
   ]
  },
  {
   "cell_type": "code",
   "execution_count": null,
   "id": "1581aa45-90d4-49c4-b938-350c5e93c487",
   "metadata": {},
   "outputs": [],
   "source": [
    "doc_n.tag_morph(morph_tagger)"
   ]
  },
  {
   "cell_type": "code",
   "execution_count": null,
   "id": "4c085c32-01d3-4698-b4b6-a69b13b6488b",
   "metadata": {},
   "outputs": [],
   "source": [
    "doc_n.tag_ner(ner_tagger)"
   ]
  },
  {
   "cell_type": "code",
   "execution_count": null,
   "id": "7100e7ea-88dd-4c19-8b19-15b59ae2f539",
   "metadata": {},
   "outputs": [],
   "source": [
    "doc_n.parse_syntax(syntax_parser)"
   ]
  },
  {
   "cell_type": "code",
   "execution_count": null,
   "id": "509f0a54-bdf9-45ce-9e72-e0b29c291170",
   "metadata": {},
   "outputs": [],
   "source": [
    "#display(doc_n.tokens[:5])"
   ]
  },
  {
   "cell_type": "code",
   "execution_count": null,
   "id": "bb932d03-ef36-486f-b2ea-865ed793ff29",
   "metadata": {},
   "outputs": [],
   "source": [
    "display(doc_n.sents)"
   ]
  },
  {
   "cell_type": "code",
   "execution_count": null,
   "id": "6ffb3e30-86aa-4941-b3b2-da84fe218218",
   "metadata": {},
   "outputs": [],
   "source": [
    "#display(doc_n.tokens)"
   ]
  },
  {
   "cell_type": "code",
   "execution_count": null,
   "id": "ccf38647-28da-4477-9488-99a018fedb1f",
   "metadata": {},
   "outputs": [],
   "source": [
    "for span in doc_n.spans:\n",
    "    span.normalize(morph_vocab)\n",
    "   \n",
    "\n",
    "keywords = {_.text: _.normal for _ in doc_n.spans if _.text != _.normal}\n",
    "print(span)"
   ]
  },
  {
   "cell_type": "code",
   "execution_count": null,
   "id": "e83dbdf5-b2e6-4fda-9035-563cd0b6ffea",
   "metadata": {},
   "outputs": [],
   "source": [
    "\n",
    "keywords\n"
   ]
  },
  {
   "cell_type": "code",
   "execution_count": null,
   "id": "f182124c-5f19-4408-93e6-fccd5c63a363",
   "metadata": {},
   "outputs": [],
   "source": [
    "for token in doc_n.tokens:\n",
    "    token.lemmatize(morph_vocab)\n",
    "    \n",
    "{_.text: _.lemma for _ in doc_n.tokens}"
   ]
  },
  {
   "cell_type": "markdown",
   "id": "f1b893ff-a51f-4c2e-a486-44fdde171f90",
   "metadata": {},
   "source": [
    "### Создание дистрибутивно-семантической модели."
   ]
  },
  {
   "cell_type": "code",
   "execution_count": null,
   "id": "b974abc6-59fc-461f-8647-dee598b07da6",
   "metadata": {},
   "outputs": [],
   "source": [
    "#!pip install navec"
   ]
  },
  {
   "cell_type": "code",
   "execution_count": null,
   "id": "33809636-0bf8-4e34-8acd-1cbd4121f145",
   "metadata": {},
   "outputs": [],
   "source": [
    "#!curl https://storage.yandexcloud.net/natasha-navec/packs/navec_hudlit_v1_12B_500K_300d_100q.tar -O navec_hudlit_v1_12B_500K_300d_100q.tar"
   ]
  },
  {
   "cell_type": "code",
   "execution_count": null,
   "id": "966d5d4b-9f66-491f-ac55-8c2963cbc437",
   "metadata": {},
   "outputs": [],
   "source": [
    "from navec import Navec"
   ]
  },
  {
   "cell_type": "code",
   "execution_count": null,
   "id": "179795b8-c8d1-4ede-b7d3-cc19bc3f4c9e",
   "metadata": {},
   "outputs": [],
   "source": [
    "navec = Navec.load('navec_hudlit_v1_12B_500K_300d_100q.tar')"
   ]
  },
  {
   "cell_type": "code",
   "execution_count": null,
   "id": "db0c719d-4791-4703-bfa6-2e2d898bcda4",
   "metadata": {},
   "outputs": [],
   "source": [
    "#navec['абакумов']"
   ]
  },
  {
   "cell_type": "code",
   "execution_count": null,
   "id": "ebbfec21-12d0-4dea-b668-62becee9646e",
   "metadata": {},
   "outputs": [],
   "source": [
    "#!pip install pymorphy2[fast] "
   ]
  },
  {
   "cell_type": "markdown",
   "id": "82243c8d-9271-4b37-9903-a85e0bff171a",
   "metadata": {},
   "source": [
    "# Решение.\n",
    "\n",
    "1. task_text: разбить на предложения. Выявить функционал.\n",
    "2. task_responsibles_people: - вывявить ФИО, должность, task_responsibles_groups: добавить отдел.\n",
    "3. Собрать мешок слов: ФИО, должность, функционал, отдел.\n",
    "4. Векторизировать мешок слов.\n",
    "5. Из отделов построить 8 классов.\n",
    "6. Обучить реккурентную нейросеть LSTM или GRU.\n",
    "7. Протестировать на тестовом наборе данных.\n",
    "8. Построить граф знаний.\n",
    "9. Написать функцию соответствия предсказания с графом знаний.\n",
    "10. Сделать презентацию проекта.\n"
   ]
  },
  {
   "cell_type": "markdown",
   "id": "f2557f9e-c01b-4c1b-a250-2bbd65b02800",
   "metadata": {},
   "source": [
    "### Построение датафрейма"
   ]
  },
  {
   "cell_type": "markdown",
   "id": "435c30be-3028-4eeb-8a05-3f38f0c3816b",
   "metadata": {},
   "source": [
    "1. Весь текст.\n",
    "2. Мешок слов.\n",
    "3.  Классы - отделы компании."
   ]
  },
  {
   "cell_type": "markdown",
   "id": "4169d587-881d-4c43-842e-09757e01a769",
   "metadata": {},
   "source": [
    "### Структура датафрейма \n",
    "1:текст;       2:FIO_POSITION;       3: TASK;       4: FIO;       5: 8 отделов;"
   ]
  },
  {
   "cell_type": "markdown",
   "id": "8e25a39d-3393-4dd4-b951-45263ea0bda7",
   "metadata": {},
   "source": [
    "### Создание дата фрейма и векторизация слов."
   ]
  },
  {
   "cell_type": "code",
   "execution_count": null,
   "id": "ce16d439-ca13-4c8e-899b-dd5e620fe5c3",
   "metadata": {},
   "outputs": [],
   "source": [
    "DEPARTMENTS = set(DEPARTMENTS)\n",
    "DEPARTMENTS_list = list(DEPARTMENTS)"
   ]
  },
  {
   "cell_type": "markdown",
   "id": "d89eab97-fb99-43d0-9864-3ece4f7d5000",
   "metadata": {},
   "source": [
    "#### Строим классы"
   ]
  },
  {
   "cell_type": "code",
   "execution_count": null,
   "id": "4f05fd8a-a20d-4694-8393-c933ddce8d8e",
   "metadata": {},
   "outputs": [],
   "source": [
    "value = []\n",
    "for i in range(1,9):\n",
    "    value.append(i)\n",
    "DEPARTMENTS_list"
   ]
  },
  {
   "cell_type": "code",
   "execution_count": null,
   "id": "5a44af49-ad5a-4cb9-8088-34c23070c67c",
   "metadata": {},
   "outputs": [],
   "source": [
    "def classes(list: list) -> dict:\n",
    "    result = {}\n",
    "\n",
    "    for n in range(8):\n",
    "        dep = list[n]\n",
    "        result[dep] = value[n]\n",
    "\n",
    "    return result"
   ]
  },
  {
   "cell_type": "code",
   "execution_count": null,
   "id": "17d55add-15df-4d86-abf3-df5a42b67101",
   "metadata": {},
   "outputs": [],
   "source": [
    "classes_dep = classes(DEPARTMENTS_list)\n",
    "classes_dep"
   ]
  },
  {
   "cell_type": "code",
   "execution_count": null,
   "id": "6960bd26-2c12-4c19-a7d9-00c853dd4f96",
   "metadata": {},
   "outputs": [],
   "source": [
    "df_classes = pd.DataFrame()\n",
    "df_classes"
   ]
  },
  {
   "cell_type": "code",
   "execution_count": 130,
   "id": "53e91487-ae0c-4f7f-81be-141f2c966c6f",
   "metadata": {},
   "outputs": [
    {
     "name": "stderr",
     "output_type": "stream",
     "text": [
      "/var/folders/5g/7vyd0lbj2w52qz6789tj57hc0000gn/T/ipykernel_4184/2129567716.py:9: FutureWarning: The default value of regex will change from True to False in a future version.\n",
      "  df.columns = df.columns.str.replace(\"Tasks.\", \"\")\n"
     ]
    }
   ],
   "source": [
    "df = pd.json_normalize(merge_data)\n",
    "\n",
    "     \n",
    "\n",
    "df.set_index('id', inplace=True)\n",
    "df.sort_index(inplace=True) # сортировка по индексу=id \n",
    "     \n",
    "\n",
    "df.columns = df.columns.str.replace(\"Tasks.\", \"\")"
   ]
  },
  {
   "cell_type": "markdown",
   "id": "8058a6d1-2692-43d7-a941-17a76c08ed9b",
   "metadata": {},
   "source": [
    "### Начало работы с моделью."
   ]
  },
  {
   "cell_type": "code",
   "execution_count": 139,
   "id": "fd6a6d7f-c417-4b15-a338-f6b76bf69fc7",
   "metadata": {},
   "outputs": [],
   "source": [
    "df = pd.read_csv('df_all.csv')"
   ]
  },
  {
   "cell_type": "code",
   "execution_count": 140,
   "id": "4d73b785-27f0-4870-ac75-2b1b251aa4e2",
   "metadata": {},
   "outputs": [
    {
     "data": {
      "text/html": [
       "<div>\n",
       "<style scoped>\n",
       "    .dataframe tbody tr th:only-of-type {\n",
       "        vertical-align: middle;\n",
       "    }\n",
       "\n",
       "    .dataframe tbody tr th {\n",
       "        vertical-align: top;\n",
       "    }\n",
       "\n",
       "    .dataframe thead th {\n",
       "        text-align: right;\n",
       "    }\n",
       "</style>\n",
       "<table border=\"1\" class=\"dataframe\">\n",
       "  <thead>\n",
       "    <tr style=\"text-align: right;\">\n",
       "      <th></th>\n",
       "      <th>id</th>\n",
       "      <th>Task1.task_text</th>\n",
       "      <th>Task1.task_responsibles_people</th>\n",
       "      <th>Task1.task_responsibles_groups</th>\n",
       "      <th>Task1.task_deadline</th>\n",
       "      <th>Global_supervisor</th>\n",
       "      <th>Global_deadline</th>\n",
       "      <th>Task2.task_text</th>\n",
       "      <th>Task2.task_responsibles_people</th>\n",
       "      <th>Task2.task_responsibles_groups</th>\n",
       "      <th>...</th>\n",
       "      <th>Task7.task_responsibles_groups</th>\n",
       "      <th>Task7.task_deadline</th>\n",
       "      <th>Task8.task_text</th>\n",
       "      <th>Task8.task_responsibles_people</th>\n",
       "      <th>Task8.task_responsibles_groups</th>\n",
       "      <th>Task8.task_deadline</th>\n",
       "      <th>Task9.task_text</th>\n",
       "      <th>Task9.task_responsibles_people</th>\n",
       "      <th>Task9.task_responsibles_groups</th>\n",
       "      <th>Task9.task_deadline</th>\n",
       "    </tr>\n",
       "  </thead>\n",
       "  <tbody>\n",
       "    <tr>\n",
       "      <th>0</th>\n",
       "      <td>0</td>\n",
       "      <td>Закупить книги. Срок завершения: 19 апр 15.</td>\n",
       "      <td>Ответственность за исполнение распоряжения воз...</td>\n",
       "      <td>8</td>\n",
       "      <td>['19 апр 15', 1429383600.0]</td>\n",
       "      <td>['Ответственность за исполнение распоряжения в...</td>\n",
       "      <td>['11 апреля 2013 года', 1365616800.0]</td>\n",
       "      <td>0</td>\n",
       "      <td>0</td>\n",
       "      <td>0.0</td>\n",
       "      <td>...</td>\n",
       "      <td>0.0</td>\n",
       "      <td>0</td>\n",
       "      <td>0</td>\n",
       "      <td>0</td>\n",
       "      <td>0.0</td>\n",
       "      <td>0</td>\n",
       "      <td>0</td>\n",
       "      <td>0</td>\n",
       "      <td>0.0</td>\n",
       "      <td>0</td>\n",
       "    </tr>\n",
       "    <tr>\n",
       "      <th>1</th>\n",
       "      <td>1</td>\n",
       "      <td>Провести анализ поставщиков для замены вышедше...</td>\n",
       "      <td>Ответственность за исполнение распоряжения воз...</td>\n",
       "      <td>1</td>\n",
       "      <td>['24 октября 12', 1351015200.0]</td>\n",
       "      <td>['Ответственность за исполнение распоряжения в...</td>\n",
       "      <td>['03 июня 2013 года', 1370196000.0]</td>\n",
       "      <td>Выполнить ремонт кабеля сети передачи данных м...</td>\n",
       "      <td>Контроль над выполнением приказа возложить на ...</td>\n",
       "      <td>1.0</td>\n",
       "      <td>...</td>\n",
       "      <td>0.0</td>\n",
       "      <td>0</td>\n",
       "      <td>0</td>\n",
       "      <td>0</td>\n",
       "      <td>0.0</td>\n",
       "      <td>0</td>\n",
       "      <td>0</td>\n",
       "      <td>0</td>\n",
       "      <td>0.0</td>\n",
       "      <td>0</td>\n",
       "    </tr>\n",
       "    <tr>\n",
       "      <th>2</th>\n",
       "      <td>2</td>\n",
       "      <td>Провести рефакторинг программного обеспечения ...</td>\n",
       "      <td>Контроль над исполнением распоряжения оставить...</td>\n",
       "      <td>7</td>\n",
       "      <td>['24.12.20', 1608750000.0]</td>\n",
       "      <td>['Контроль над исполнением распоряжения остави...</td>\n",
       "      <td>['08 окт 2014 г.', 1412704800.0]</td>\n",
       "      <td>Провести рефакторинг программного обеспечения ...</td>\n",
       "      <td>Ответственным за исполнение настоящего приказа...</td>\n",
       "      <td>7.0</td>\n",
       "      <td>...</td>\n",
       "      <td>0.0</td>\n",
       "      <td>0</td>\n",
       "      <td>0</td>\n",
       "      <td>0</td>\n",
       "      <td>0.0</td>\n",
       "      <td>0</td>\n",
       "      <td>0</td>\n",
       "      <td>0</td>\n",
       "      <td>0.0</td>\n",
       "      <td>0</td>\n",
       "    </tr>\n",
       "    <tr>\n",
       "      <th>3</th>\n",
       "      <td>3</td>\n",
       "      <td>Оплатить командировочные расходы.\\nОпределить ...</td>\n",
       "      <td>Контроль над выполнением настоящего распоряжен...</td>\n",
       "      <td>4</td>\n",
       "      <td>['26 июля 2019 г.', 1564081200.0]</td>\n",
       "      <td>['Контроль над выполнением настоящего распоряж...</td>\n",
       "      <td>['10.12.18', 1544382000.0]</td>\n",
       "      <td>Провести аудит персональных данных в информаци...</td>\n",
       "      <td>Обеспечение выполнения возложить на специалист...</td>\n",
       "      <td>4.0</td>\n",
       "      <td>...</td>\n",
       "      <td>0.0</td>\n",
       "      <td>0</td>\n",
       "      <td>0</td>\n",
       "      <td>0</td>\n",
       "      <td>0.0</td>\n",
       "      <td>0</td>\n",
       "      <td>0</td>\n",
       "      <td>0</td>\n",
       "      <td>0.0</td>\n",
       "      <td>0</td>\n",
       "    </tr>\n",
       "    <tr>\n",
       "      <th>4</th>\n",
       "      <td>4</td>\n",
       "      <td>Согласовать смету на выполнение работ компание...</td>\n",
       "      <td>Контроль над выполнением настоящего распоряжен...</td>\n",
       "      <td>4</td>\n",
       "      <td>['12 янв 2019 г.', 1547233200.0]</td>\n",
       "      <td>['Контроль над выполнением настоящего распоряж...</td>\n",
       "      <td>['19.03.2016', 1458327600.0]</td>\n",
       "      <td>Выделить средства на проведение обучения.\\nУст...</td>\n",
       "      <td>Ответственным за исполнение настоящего приказа...</td>\n",
       "      <td>4.0</td>\n",
       "      <td>...</td>\n",
       "      <td>0.0</td>\n",
       "      <td>0</td>\n",
       "      <td>0</td>\n",
       "      <td>0</td>\n",
       "      <td>0.0</td>\n",
       "      <td>0</td>\n",
       "      <td>0</td>\n",
       "      <td>0</td>\n",
       "      <td>0.0</td>\n",
       "      <td>0</td>\n",
       "    </tr>\n",
       "  </tbody>\n",
       "</table>\n",
       "<p>5 rows × 39 columns</p>\n",
       "</div>"
      ],
      "text/plain": [
       "   id                                    Task1.task_text  \\\n",
       "0   0        Закупить книги. Срок завершения: 19 апр 15.   \n",
       "1   1  Провести анализ поставщиков для замены вышедше...   \n",
       "2   2  Провести рефакторинг программного обеспечения ...   \n",
       "3   3  Оплатить командировочные расходы.\\nОпределить ...   \n",
       "4   4  Согласовать смету на выполнение работ компание...   \n",
       "\n",
       "                      Task1.task_responsibles_people  \\\n",
       "0  Ответственность за исполнение распоряжения воз...   \n",
       "1  Ответственность за исполнение распоряжения воз...   \n",
       "2  Контроль над исполнением распоряжения оставить...   \n",
       "3  Контроль над выполнением настоящего распоряжен...   \n",
       "4  Контроль над выполнением настоящего распоряжен...   \n",
       "\n",
       "   Task1.task_responsibles_groups                Task1.task_deadline  \\\n",
       "0                               8        ['19 апр 15', 1429383600.0]   \n",
       "1                               1    ['24 октября 12', 1351015200.0]   \n",
       "2                               7         ['24.12.20', 1608750000.0]   \n",
       "3                               4  ['26 июля 2019 г.', 1564081200.0]   \n",
       "4                               4   ['12 янв 2019 г.', 1547233200.0]   \n",
       "\n",
       "                                   Global_supervisor  \\\n",
       "0  ['Ответственность за исполнение распоряжения в...   \n",
       "1  ['Ответственность за исполнение распоряжения в...   \n",
       "2  ['Контроль над исполнением распоряжения остави...   \n",
       "3  ['Контроль над выполнением настоящего распоряж...   \n",
       "4  ['Контроль над выполнением настоящего распоряж...   \n",
       "\n",
       "                         Global_deadline  \\\n",
       "0  ['11 апреля 2013 года', 1365616800.0]   \n",
       "1    ['03 июня 2013 года', 1370196000.0]   \n",
       "2       ['08 окт 2014 г.', 1412704800.0]   \n",
       "3             ['10.12.18', 1544382000.0]   \n",
       "4           ['19.03.2016', 1458327600.0]   \n",
       "\n",
       "                                     Task2.task_text  \\\n",
       "0                                                  0   \n",
       "1  Выполнить ремонт кабеля сети передачи данных м...   \n",
       "2  Провести рефакторинг программного обеспечения ...   \n",
       "3  Провести аудит персональных данных в информаци...   \n",
       "4  Выделить средства на проведение обучения.\\nУст...   \n",
       "\n",
       "                      Task2.task_responsibles_people  \\\n",
       "0                                                  0   \n",
       "1  Контроль над выполнением приказа возложить на ...   \n",
       "2  Ответственным за исполнение настоящего приказа...   \n",
       "3  Обеспечение выполнения возложить на специалист...   \n",
       "4  Ответственным за исполнение настоящего приказа...   \n",
       "\n",
       "   Task2.task_responsibles_groups  ... Task7.task_responsibles_groups  \\\n",
       "0                             0.0  ...                            0.0   \n",
       "1                             1.0  ...                            0.0   \n",
       "2                             7.0  ...                            0.0   \n",
       "3                             4.0  ...                            0.0   \n",
       "4                             4.0  ...                            0.0   \n",
       "\n",
       "  Task7.task_deadline Task8.task_text  Task8.task_responsibles_people  \\\n",
       "0                   0               0                               0   \n",
       "1                   0               0                               0   \n",
       "2                   0               0                               0   \n",
       "3                   0               0                               0   \n",
       "4                   0               0                               0   \n",
       "\n",
       "  Task8.task_responsibles_groups Task8.task_deadline Task9.task_text  \\\n",
       "0                            0.0                   0               0   \n",
       "1                            0.0                   0               0   \n",
       "2                            0.0                   0               0   \n",
       "3                            0.0                   0               0   \n",
       "4                            0.0                   0               0   \n",
       "\n",
       "   Task9.task_responsibles_people Task9.task_responsibles_groups  \\\n",
       "0                               0                            0.0   \n",
       "1                               0                            0.0   \n",
       "2                               0                            0.0   \n",
       "3                               0                            0.0   \n",
       "4                               0                            0.0   \n",
       "\n",
       "  Task9.task_deadline  \n",
       "0                   0  \n",
       "1                   0  \n",
       "2                   0  \n",
       "3                   0  \n",
       "4                   0  \n",
       "\n",
       "[5 rows x 39 columns]"
      ]
     },
     "execution_count": 140,
     "metadata": {},
     "output_type": "execute_result"
    }
   ],
   "source": [
    "df.head()\n"
   ]
  },
  {
   "cell_type": "code",
   "execution_count": 131,
   "id": "a3dafcb6-e8c4-4e42-ae00-1ef6ff72ba87",
   "metadata": {},
   "outputs": [],
   "source": [
    "#df = df.replace(classes_dep)\n",
    "#df"
   ]
  },
  {
   "cell_type": "code",
   "execution_count": null,
   "id": "1ac74202-2985-47c9-827b-c4a1ea374263",
   "metadata": {},
   "outputs": [],
   "source": [
    "#df = df.replace({'Task1.task_responsibles_groups':classes_dep, 'Task2.task_responsibles_groups': classes_dep, ##\n",
    "#                'Task3.task_responsibles_groups': classes_dep, 'Task4.task_responsibles_groups': classes_dep,\n",
    "#                'Task5.task_responsibles_groups': classes_dep, 'Task6.task_responsibles_groups': classes_dep,\n",
    "#                'Task7.task_responsibles_groups': classes_dep, 'Task8.task_responsibles_groups': classes_dep,\n",
    "#                'Task9.task_responsibles_groups': classes_dep,})"
   ]
  },
  {
   "cell_type": "code",
   "execution_count": null,
   "id": "0019a287-de68-4579-8faf-d921ebf2a5f1",
   "metadata": {},
   "outputs": [],
   "source": [
    "#df_new = lambda: pd.DataFrame([df.replace({'Task{}.task_responsibles_groups'.format(n):classes_dep}) for n in range(10)])"
   ]
  },
  {
   "cell_type": "code",
   "execution_count": 142,
   "id": "86d7e74d-4329-4b1b-a43e-9ffa74cc6ae2",
   "metadata": {},
   "outputs": [],
   "source": [
    "#df = df.drop(['Global_deadline','Task1.task_deadline','Task2.task_deadline','Task3.task_deadline','Task4.task_deadline',\n",
    "#              'Task5.task_deadline','Task6.task_deadline','Task7.task_deadline',\n",
    "#             'Task8.task_deadline','Task9.task_deadline'], axis = 1)\n"
   ]
  },
  {
   "cell_type": "code",
   "execution_count": 141,
   "id": "818924af-7fdd-4a36-86c6-68365ea2126a",
   "metadata": {},
   "outputs": [],
   "source": [
    "#df = df.fillna(0)\n",
    "#df = df.iloc[:,:60]"
   ]
  },
  {
   "cell_type": "code",
   "execution_count": null,
   "id": "ac0373ef-41e7-4fa2-a8df-15743445add6",
   "metadata": {},
   "outputs": [],
   "source": [
    "#for n in range(len(df)):\n",
    "#    try:\n",
    "#        df['Task9.task_text'][n] = df['Task9.task_text'][n].split('.')[0]\n",
    "#    except TypeError:\n",
    "#        continue\n",
    "#except AttributeError:\n",
    "#        continue\n",
    "#    except IndexError:\n",
    "#        continue"
   ]
  },
  {
   "cell_type": "code",
   "execution_count": null,
   "id": "859199c2-9282-4f09-b753-70aa32a3aa74",
   "metadata": {},
   "outputs": [],
   "source": [
    "#text = FIO_POSITION[:20]\n",
    "#keywords_resp = []\n",
    "#keywords_resp_min = []\n",
    "#for n in range(text):\n",
    " #   doc = nlp(text[n])\n",
    " #\n",
    "  #  span = doc[doc[3].left_edge.i : doc[3].right_edge.i+1]\n",
    "  #  with doc.retokenize() as retokenizer:\n",
    "  #      retokenizer.merge(span)\n",
    " #   for token in doc:\n",
    " #       keywords_resp_min.append(token.head)\n",
    " #   keywords_resp.append(set(keywords_resp_min))\n",
    "\n",
    "#keywords_resp\n"
   ]
  },
  {
   "cell_type": "code",
   "execution_count": 137,
   "id": "665bf473-387a-4a01-a309-12698861cc05",
   "metadata": {},
   "outputs": [],
   "source": [
    "#df_no_deadline = df.drop(['Global_deadline','Task1.task_deadline','Task2.task_deadline',\n",
    "#              'Task2.task_deadline','Task3.task_deadline',\n",
    "#              'Task4.task_deadline','Task5.task_deadline',\n",
    "#              'Task6.task_deadline','Task7.task_deadline',\n",
    "#              'Task8.task_deadline','Task9.task_deadline'],\n",
    "#              axis = 1)"
   ]
  },
  {
   "cell_type": "code",
   "execution_count": 136,
   "id": "1ca8be65-2796-4112-b44c-944bdeb8bbfa",
   "metadata": {},
   "outputs": [],
   "source": [
    "#df_no_deadline = df_no_deadline.fillna(0)\n",
    "#df_no_deadline = df_no_deadline.drop(['Task2.task_responsibles_groups','Task3.task_responsibles_groups',\n",
    "#             'Task4.task_responsibles_groups',\n",
    "#            'Task5.task_responsibles_groups','Task6.task_responsibles_groups','Task7.task_responsibles_groups',\n",
    "#            'Task8.task_responsibles_groups','Task9.task_responsibles_groups'], axis =1)"
   ]
  },
  {
   "cell_type": "code",
   "execution_count": null,
   "id": "463891da-e882-426b-b7b6-1d325defd155",
   "metadata": {},
   "outputs": [],
   "source": [
    "#df_no_deadline.to_csv('df_no_deadline.csv')"
   ]
  },
  {
   "cell_type": "code",
   "execution_count": 143,
   "id": "1f6fd5eb-62d3-445e-b8f5-153c156eb8c7",
   "metadata": {},
   "outputs": [],
   "source": [
    "#!install tensorflow_version 2.x\n",
    "from tensorflow.keras.models import Sequential\n",
    "from tensorflow.keras.layers import Dense, Embedding, GRU, LSTM\n",
    "from tensorflow.keras import utils\n",
    "from tensorflow.keras.preprocessing.sequence import pad_sequences\n",
    "from tensorflow.keras.preprocessing.text import Tokenizer\n",
    "from tensorflow.keras.callbacks import ModelCheckpoint\n",
    "import pandas as pd\n",
    "import numpy as np\n",
    "import matplotlib.pyplot as plt\n",
    "%matplotlib inline \n",
    "\n",
    "from sklearn.model_selection import train_test_split"
   ]
  },
  {
   "cell_type": "code",
   "execution_count": null,
   "id": "4406e674-0875-4d51-9912-6ccbc252e38b",
   "metadata": {},
   "outputs": [],
   "source": [
    "#X = df.drop(['Unnamed: 0','Task1.task_responsibles_groups','Task2.task_responsibles_groups','Task3.task_responsibles_groups',\n",
    "#             'Task4.task_responsibles_groups',\n",
    "#            'Task5.task_responsibles_groups','Task6.task_responsibles_groups','Task7.task_responsibles_groups',\n",
    "#            'Task8.task_responsibles_groups','Task9.task_responsibles_groups'], axis = 1)\n",
    "#X.head()\n"
   ]
  },
  {
   "cell_type": "code",
   "execution_count": 145,
   "id": "2b5ab2d2-67ed-47ba-b3c5-4d465cb4d7a2",
   "metadata": {},
   "outputs": [
    {
     "data": {
      "text/html": [
       "<div>\n",
       "<style scoped>\n",
       "    .dataframe tbody tr th:only-of-type {\n",
       "        vertical-align: middle;\n",
       "    }\n",
       "\n",
       "    .dataframe tbody tr th {\n",
       "        vertical-align: top;\n",
       "    }\n",
       "\n",
       "    .dataframe thead th {\n",
       "        text-align: right;\n",
       "    }\n",
       "</style>\n",
       "<table border=\"1\" class=\"dataframe\">\n",
       "  <thead>\n",
       "    <tr style=\"text-align: right;\">\n",
       "      <th></th>\n",
       "      <th>id</th>\n",
       "      <th>Task1.task_text</th>\n",
       "      <th>Task1.task_responsibles_people</th>\n",
       "      <th>Task1.task_deadline</th>\n",
       "      <th>Global_supervisor</th>\n",
       "      <th>Global_deadline</th>\n",
       "      <th>Task2.task_text</th>\n",
       "      <th>Task2.task_responsibles_people</th>\n",
       "      <th>Task2.task_deadline</th>\n",
       "      <th>Task3.task_text</th>\n",
       "      <th>...</th>\n",
       "      <th>Task6.task_deadline</th>\n",
       "      <th>Task7.task_text</th>\n",
       "      <th>Task7.task_responsibles_people</th>\n",
       "      <th>Task7.task_deadline</th>\n",
       "      <th>Task8.task_text</th>\n",
       "      <th>Task8.task_responsibles_people</th>\n",
       "      <th>Task8.task_deadline</th>\n",
       "      <th>Task9.task_text</th>\n",
       "      <th>Task9.task_responsibles_people</th>\n",
       "      <th>Task9.task_deadline</th>\n",
       "    </tr>\n",
       "  </thead>\n",
       "  <tbody>\n",
       "    <tr>\n",
       "      <th>0</th>\n",
       "      <td>0</td>\n",
       "      <td>Закупить книги. Срок завершения: 19 апр 15.</td>\n",
       "      <td>Ответственность за исполнение распоряжения воз...</td>\n",
       "      <td>['19 апр 15', 1429383600.0]</td>\n",
       "      <td>['Ответственность за исполнение распоряжения в...</td>\n",
       "      <td>['11 апреля 2013 года', 1365616800.0]</td>\n",
       "      <td>0</td>\n",
       "      <td>0</td>\n",
       "      <td>0</td>\n",
       "      <td>0</td>\n",
       "      <td>...</td>\n",
       "      <td>0</td>\n",
       "      <td>0</td>\n",
       "      <td>0</td>\n",
       "      <td>0</td>\n",
       "      <td>0</td>\n",
       "      <td>0</td>\n",
       "      <td>0</td>\n",
       "      <td>0</td>\n",
       "      <td>0</td>\n",
       "      <td>0</td>\n",
       "    </tr>\n",
       "    <tr>\n",
       "      <th>1</th>\n",
       "      <td>1</td>\n",
       "      <td>Провести анализ поставщиков для замены вышедше...</td>\n",
       "      <td>Ответственность за исполнение распоряжения воз...</td>\n",
       "      <td>['24 октября 12', 1351015200.0]</td>\n",
       "      <td>['Ответственность за исполнение распоряжения в...</td>\n",
       "      <td>['03 июня 2013 года', 1370196000.0]</td>\n",
       "      <td>Выполнить ремонт кабеля сети передачи данных м...</td>\n",
       "      <td>Контроль над выполнением приказа возложить на ...</td>\n",
       "      <td>['12 авг 13', 1376244000.0]</td>\n",
       "      <td>Создать и настроить виртуальную машину в соотв...</td>\n",
       "      <td>...</td>\n",
       "      <td>0</td>\n",
       "      <td>0</td>\n",
       "      <td>0</td>\n",
       "      <td>0</td>\n",
       "      <td>0</td>\n",
       "      <td>0</td>\n",
       "      <td>0</td>\n",
       "      <td>0</td>\n",
       "      <td>0</td>\n",
       "      <td>0</td>\n",
       "    </tr>\n",
       "    <tr>\n",
       "      <th>2</th>\n",
       "      <td>2</td>\n",
       "      <td>Провести рефакторинг программного обеспечения ...</td>\n",
       "      <td>Контроль над исполнением распоряжения оставить...</td>\n",
       "      <td>['24.12.20', 1608750000.0]</td>\n",
       "      <td>['Контроль над исполнением распоряжения остави...</td>\n",
       "      <td>['08 окт 2014 г.', 1412704800.0]</td>\n",
       "      <td>Провести рефакторинг программного обеспечения ...</td>\n",
       "      <td>Ответственным за исполнение настоящего приказа...</td>\n",
       "      <td>['01 января 2018 года', 1514746800.0]</td>\n",
       "      <td>Провести анализ накопленного технического долг...</td>\n",
       "      <td>...</td>\n",
       "      <td>['18.11.17', 1510945200.0]</td>\n",
       "      <td>0</td>\n",
       "      <td>0</td>\n",
       "      <td>0</td>\n",
       "      <td>0</td>\n",
       "      <td>0</td>\n",
       "      <td>0</td>\n",
       "      <td>0</td>\n",
       "      <td>0</td>\n",
       "      <td>0</td>\n",
       "    </tr>\n",
       "    <tr>\n",
       "      <th>3</th>\n",
       "      <td>3</td>\n",
       "      <td>Оплатить командировочные расходы.\\nОпределить ...</td>\n",
       "      <td>Контроль над выполнением настоящего распоряжен...</td>\n",
       "      <td>['26 июля 2019 г.', 1564081200.0]</td>\n",
       "      <td>['Контроль над выполнением настоящего распоряж...</td>\n",
       "      <td>['10.12.18', 1544382000.0]</td>\n",
       "      <td>Провести аудит персональных данных в информаци...</td>\n",
       "      <td>Обеспечение выполнения возложить на специалист...</td>\n",
       "      <td>['17.09.13', 1379354400.0]</td>\n",
       "      <td>Перечислить необходимые средства на закупку об...</td>\n",
       "      <td>...</td>\n",
       "      <td>0</td>\n",
       "      <td>0</td>\n",
       "      <td>0</td>\n",
       "      <td>0</td>\n",
       "      <td>0</td>\n",
       "      <td>0</td>\n",
       "      <td>0</td>\n",
       "      <td>0</td>\n",
       "      <td>0</td>\n",
       "      <td>0</td>\n",
       "    </tr>\n",
       "    <tr>\n",
       "      <th>4</th>\n",
       "      <td>4</td>\n",
       "      <td>Согласовать смету на выполнение работ компание...</td>\n",
       "      <td>Контроль над выполнением настоящего распоряжен...</td>\n",
       "      <td>['12 янв 2019 г.', 1547233200.0]</td>\n",
       "      <td>['Контроль над выполнением настоящего распоряж...</td>\n",
       "      <td>['19.03.2016', 1458327600.0]</td>\n",
       "      <td>Выделить средства на проведение обучения.\\nУст...</td>\n",
       "      <td>Ответственным за исполнение настоящего приказа...</td>\n",
       "      <td>['26.09.2016', 1474830000.0]</td>\n",
       "      <td>0</td>\n",
       "      <td>...</td>\n",
       "      <td>0</td>\n",
       "      <td>0</td>\n",
       "      <td>0</td>\n",
       "      <td>0</td>\n",
       "      <td>0</td>\n",
       "      <td>0</td>\n",
       "      <td>0</td>\n",
       "      <td>0</td>\n",
       "      <td>0</td>\n",
       "      <td>0</td>\n",
       "    </tr>\n",
       "    <tr>\n",
       "      <th>...</th>\n",
       "      <td>...</td>\n",
       "      <td>...</td>\n",
       "      <td>...</td>\n",
       "      <td>...</td>\n",
       "      <td>...</td>\n",
       "      <td>...</td>\n",
       "      <td>...</td>\n",
       "      <td>...</td>\n",
       "      <td>...</td>\n",
       "      <td>...</td>\n",
       "      <td>...</td>\n",
       "      <td>...</td>\n",
       "      <td>...</td>\n",
       "      <td>...</td>\n",
       "      <td>...</td>\n",
       "      <td>...</td>\n",
       "      <td>...</td>\n",
       "      <td>...</td>\n",
       "      <td>...</td>\n",
       "      <td>...</td>\n",
       "      <td>...</td>\n",
       "    </tr>\n",
       "    <tr>\n",
       "      <th>9994</th>\n",
       "      <td>9994</td>\n",
       "      <td>Выполнить ремонт кабеля сети передачи данных м...</td>\n",
       "      <td>Ответственным за исполнение настоящего приказа...</td>\n",
       "      <td>['21 июня 20', 1592679600.0]</td>\n",
       "      <td>['Ответственным за исполнение настоящего прика...</td>\n",
       "      <td>['11 января 2015 года', 1420916400.0]</td>\n",
       "      <td>Выполнить перезагрузку серверного оборудования...</td>\n",
       "      <td>За контроль над исполнением распоряжения назна...</td>\n",
       "      <td>['20.11.2021', 1637348400.0]</td>\n",
       "      <td>0</td>\n",
       "      <td>...</td>\n",
       "      <td>0</td>\n",
       "      <td>0</td>\n",
       "      <td>0</td>\n",
       "      <td>0</td>\n",
       "      <td>0</td>\n",
       "      <td>0</td>\n",
       "      <td>0</td>\n",
       "      <td>0</td>\n",
       "      <td>0</td>\n",
       "      <td>0</td>\n",
       "    </tr>\n",
       "    <tr>\n",
       "      <th>9995</th>\n",
       "      <td>9995</td>\n",
       "      <td>Подготовить отчеты для налоговой службы.\\nПрис...</td>\n",
       "      <td>Ответственным за исполнение настоящего приказа...</td>\n",
       "      <td>['14 сен 2017 г.', 1505329200.0]</td>\n",
       "      <td>['Ответственным за исполнение настоящего прика...</td>\n",
       "      <td>['22 августа 2016 года', 1471806000.0]</td>\n",
       "      <td>Перечислить необходимые средства для проведени...</td>\n",
       "      <td>За контроль над исполнением распоряжения назна...</td>\n",
       "      <td>['20 июля 2013 г.', 1374256800.0]</td>\n",
       "      <td>0</td>\n",
       "      <td>...</td>\n",
       "      <td>0</td>\n",
       "      <td>0</td>\n",
       "      <td>0</td>\n",
       "      <td>0</td>\n",
       "      <td>0</td>\n",
       "      <td>0</td>\n",
       "      <td>0</td>\n",
       "      <td>0</td>\n",
       "      <td>0</td>\n",
       "      <td>0</td>\n",
       "    </tr>\n",
       "    <tr>\n",
       "      <th>9996</th>\n",
       "      <td>9996</td>\n",
       "      <td>Закупить необходимое количество лицензий офисн...</td>\n",
       "      <td>Контроль над исполнением распоряжения оставить...</td>\n",
       "      <td>['03 октября 2020 года', 1601665200.0]</td>\n",
       "      <td>['Контроль над исполнением распоряжения остави...</td>\n",
       "      <td>['26 июля 12', 1343239200.0]</td>\n",
       "      <td>Закупить необходимое количество клавиатур и ма...</td>\n",
       "      <td>Ответственным за контролем над исполнением выш...</td>\n",
       "      <td>['16 августа 2012 года', 1345053600.0]</td>\n",
       "      <td>Выполнить ремонт кабеля сети передачи данных м...</td>\n",
       "      <td>...</td>\n",
       "      <td>['21 дек 16', 1482260400.0]</td>\n",
       "      <td>Установить антивирусное программное обеспечени...</td>\n",
       "      <td>Обеспечение выполнения возложить на мастера по...</td>\n",
       "      <td>['02.12.14', 1417460400.0]</td>\n",
       "      <td>Подключить и настроить видеокамеру для работы ...</td>\n",
       "      <td>За контроль над исполнением распоряжения назна...</td>\n",
       "      <td>['07 апр 15', 1428346800.0]</td>\n",
       "      <td>Провести централизованную смену паролей для до...</td>\n",
       "      <td>Контроль над выполнением настоящего распоряжен...</td>\n",
       "      <td>['08.10.2019', 1570474800.0]</td>\n",
       "    </tr>\n",
       "    <tr>\n",
       "      <th>9997</th>\n",
       "      <td>9997</td>\n",
       "      <td>Скорректировать проектно-сметную документацию ...</td>\n",
       "      <td>Контроль над выполнением настоящего распоряжен...</td>\n",
       "      <td>['04 мар 2012 г.', 1330797600.0]</td>\n",
       "      <td>['Контроль над выполнением настоящего распоряж...</td>\n",
       "      <td>['10.02.18', 1518202800.0]</td>\n",
       "      <td>Подготовить спецификацию необходимого аппаратн...</td>\n",
       "      <td>Ответственность за исполнение распоряжения воз...</td>\n",
       "      <td>['19.04.2020', 1587236400.0]</td>\n",
       "      <td>Организовать обучение сотрудников правилам про...</td>\n",
       "      <td>...</td>\n",
       "      <td>0</td>\n",
       "      <td>0</td>\n",
       "      <td>0</td>\n",
       "      <td>0</td>\n",
       "      <td>0</td>\n",
       "      <td>0</td>\n",
       "      <td>0</td>\n",
       "      <td>0</td>\n",
       "      <td>0</td>\n",
       "      <td>0</td>\n",
       "    </tr>\n",
       "    <tr>\n",
       "      <th>9998</th>\n",
       "      <td>9998</td>\n",
       "      <td>Доработать функцию сохранения информации в баз...</td>\n",
       "      <td>Обеспечение выполнения возложить на специалист...</td>\n",
       "      <td>['27.12.2012', 1356544800.0]</td>\n",
       "      <td>['Обеспечение выполнения возложить на специали...</td>\n",
       "      <td>['14.03.15', 1426273200.0]</td>\n",
       "      <td>Провести анализ неисправности работы API и обе...</td>\n",
       "      <td>За контроль над исполнением распоряжения назна...</td>\n",
       "      <td>['20.01.21', 1611082800.0]</td>\n",
       "      <td>Использовать автоматизированное тестирование п...</td>\n",
       "      <td>...</td>\n",
       "      <td>['03 января 14', 1388685600.0]</td>\n",
       "      <td>Разработать коннектор для интеграции со сторон...</td>\n",
       "      <td>Ответственность за исполнение распоряжения воз...</td>\n",
       "      <td>['04.01.13', 1357236000.0]</td>\n",
       "      <td>0</td>\n",
       "      <td>0</td>\n",
       "      <td>0</td>\n",
       "      <td>0</td>\n",
       "      <td>0</td>\n",
       "      <td>0</td>\n",
       "    </tr>\n",
       "  </tbody>\n",
       "</table>\n",
       "<p>9999 rows × 30 columns</p>\n",
       "</div>"
      ],
      "text/plain": [
       "        id                                    Task1.task_text  \\\n",
       "0        0        Закупить книги. Срок завершения: 19 апр 15.   \n",
       "1        1  Провести анализ поставщиков для замены вышедше...   \n",
       "2        2  Провести рефакторинг программного обеспечения ...   \n",
       "3        3  Оплатить командировочные расходы.\\nОпределить ...   \n",
       "4        4  Согласовать смету на выполнение работ компание...   \n",
       "...    ...                                                ...   \n",
       "9994  9994  Выполнить ремонт кабеля сети передачи данных м...   \n",
       "9995  9995  Подготовить отчеты для налоговой службы.\\nПрис...   \n",
       "9996  9996  Закупить необходимое количество лицензий офисн...   \n",
       "9997  9997  Скорректировать проектно-сметную документацию ...   \n",
       "9998  9998  Доработать функцию сохранения информации в баз...   \n",
       "\n",
       "                         Task1.task_responsibles_people  \\\n",
       "0     Ответственность за исполнение распоряжения воз...   \n",
       "1     Ответственность за исполнение распоряжения воз...   \n",
       "2     Контроль над исполнением распоряжения оставить...   \n",
       "3     Контроль над выполнением настоящего распоряжен...   \n",
       "4     Контроль над выполнением настоящего распоряжен...   \n",
       "...                                                 ...   \n",
       "9994  Ответственным за исполнение настоящего приказа...   \n",
       "9995  Ответственным за исполнение настоящего приказа...   \n",
       "9996  Контроль над исполнением распоряжения оставить...   \n",
       "9997  Контроль над выполнением настоящего распоряжен...   \n",
       "9998  Обеспечение выполнения возложить на специалист...   \n",
       "\n",
       "                         Task1.task_deadline  \\\n",
       "0                ['19 апр 15', 1429383600.0]   \n",
       "1            ['24 октября 12', 1351015200.0]   \n",
       "2                 ['24.12.20', 1608750000.0]   \n",
       "3          ['26 июля 2019 г.', 1564081200.0]   \n",
       "4           ['12 янв 2019 г.', 1547233200.0]   \n",
       "...                                      ...   \n",
       "9994            ['21 июня 20', 1592679600.0]   \n",
       "9995        ['14 сен 2017 г.', 1505329200.0]   \n",
       "9996  ['03 октября 2020 года', 1601665200.0]   \n",
       "9997        ['04 мар 2012 г.', 1330797600.0]   \n",
       "9998            ['27.12.2012', 1356544800.0]   \n",
       "\n",
       "                                      Global_supervisor  \\\n",
       "0     ['Ответственность за исполнение распоряжения в...   \n",
       "1     ['Ответственность за исполнение распоряжения в...   \n",
       "2     ['Контроль над исполнением распоряжения остави...   \n",
       "3     ['Контроль над выполнением настоящего распоряж...   \n",
       "4     ['Контроль над выполнением настоящего распоряж...   \n",
       "...                                                 ...   \n",
       "9994  ['Ответственным за исполнение настоящего прика...   \n",
       "9995  ['Ответственным за исполнение настоящего прика...   \n",
       "9996  ['Контроль над исполнением распоряжения остави...   \n",
       "9997  ['Контроль над выполнением настоящего распоряж...   \n",
       "9998  ['Обеспечение выполнения возложить на специали...   \n",
       "\n",
       "                             Global_deadline  \\\n",
       "0      ['11 апреля 2013 года', 1365616800.0]   \n",
       "1        ['03 июня 2013 года', 1370196000.0]   \n",
       "2           ['08 окт 2014 г.', 1412704800.0]   \n",
       "3                 ['10.12.18', 1544382000.0]   \n",
       "4               ['19.03.2016', 1458327600.0]   \n",
       "...                                      ...   \n",
       "9994   ['11 января 2015 года', 1420916400.0]   \n",
       "9995  ['22 августа 2016 года', 1471806000.0]   \n",
       "9996            ['26 июля 12', 1343239200.0]   \n",
       "9997              ['10.02.18', 1518202800.0]   \n",
       "9998              ['14.03.15', 1426273200.0]   \n",
       "\n",
       "                                        Task2.task_text  \\\n",
       "0                                                     0   \n",
       "1     Выполнить ремонт кабеля сети передачи данных м...   \n",
       "2     Провести рефакторинг программного обеспечения ...   \n",
       "3     Провести аудит персональных данных в информаци...   \n",
       "4     Выделить средства на проведение обучения.\\nУст...   \n",
       "...                                                 ...   \n",
       "9994  Выполнить перезагрузку серверного оборудования...   \n",
       "9995  Перечислить необходимые средства для проведени...   \n",
       "9996  Закупить необходимое количество клавиатур и ма...   \n",
       "9997  Подготовить спецификацию необходимого аппаратн...   \n",
       "9998  Провести анализ неисправности работы API и обе...   \n",
       "\n",
       "                         Task2.task_responsibles_people  \\\n",
       "0                                                     0   \n",
       "1     Контроль над выполнением приказа возложить на ...   \n",
       "2     Ответственным за исполнение настоящего приказа...   \n",
       "3     Обеспечение выполнения возложить на специалист...   \n",
       "4     Ответственным за исполнение настоящего приказа...   \n",
       "...                                                 ...   \n",
       "9994  За контроль над исполнением распоряжения назна...   \n",
       "9995  За контроль над исполнением распоряжения назна...   \n",
       "9996  Ответственным за контролем над исполнением выш...   \n",
       "9997  Ответственность за исполнение распоряжения воз...   \n",
       "9998  За контроль над исполнением распоряжения назна...   \n",
       "\n",
       "                         Task2.task_deadline  \\\n",
       "0                                          0   \n",
       "1                ['12 авг 13', 1376244000.0]   \n",
       "2      ['01 января 2018 года', 1514746800.0]   \n",
       "3                 ['17.09.13', 1379354400.0]   \n",
       "4               ['26.09.2016', 1474830000.0]   \n",
       "...                                      ...   \n",
       "9994            ['20.11.2021', 1637348400.0]   \n",
       "9995       ['20 июля 2013 г.', 1374256800.0]   \n",
       "9996  ['16 августа 2012 года', 1345053600.0]   \n",
       "9997            ['19.04.2020', 1587236400.0]   \n",
       "9998              ['20.01.21', 1611082800.0]   \n",
       "\n",
       "                                        Task3.task_text  ...  \\\n",
       "0                                                     0  ...   \n",
       "1     Создать и настроить виртуальную машину в соотв...  ...   \n",
       "2     Провести анализ накопленного технического долг...  ...   \n",
       "3     Перечислить необходимые средства на закупку об...  ...   \n",
       "4                                                     0  ...   \n",
       "...                                                 ...  ...   \n",
       "9994                                                  0  ...   \n",
       "9995                                                  0  ...   \n",
       "9996  Выполнить ремонт кабеля сети передачи данных м...  ...   \n",
       "9997  Организовать обучение сотрудников правилам про...  ...   \n",
       "9998  Использовать автоматизированное тестирование п...  ...   \n",
       "\n",
       "                 Task6.task_deadline  \\\n",
       "0                                  0   \n",
       "1                                  0   \n",
       "2         ['18.11.17', 1510945200.0]   \n",
       "3                                  0   \n",
       "4                                  0   \n",
       "...                              ...   \n",
       "9994                               0   \n",
       "9995                               0   \n",
       "9996     ['21 дек 16', 1482260400.0]   \n",
       "9997                               0   \n",
       "9998  ['03 января 14', 1388685600.0]   \n",
       "\n",
       "                                        Task7.task_text  \\\n",
       "0                                                     0   \n",
       "1                                                     0   \n",
       "2                                                     0   \n",
       "3                                                     0   \n",
       "4                                                     0   \n",
       "...                                                 ...   \n",
       "9994                                                  0   \n",
       "9995                                                  0   \n",
       "9996  Установить антивирусное программное обеспечени...   \n",
       "9997                                                  0   \n",
       "9998  Разработать коннектор для интеграции со сторон...   \n",
       "\n",
       "                         Task7.task_responsibles_people  \\\n",
       "0                                                     0   \n",
       "1                                                     0   \n",
       "2                                                     0   \n",
       "3                                                     0   \n",
       "4                                                     0   \n",
       "...                                                 ...   \n",
       "9994                                                  0   \n",
       "9995                                                  0   \n",
       "9996  Обеспечение выполнения возложить на мастера по...   \n",
       "9997                                                  0   \n",
       "9998  Ответственность за исполнение распоряжения воз...   \n",
       "\n",
       "             Task7.task_deadline  \\\n",
       "0                              0   \n",
       "1                              0   \n",
       "2                              0   \n",
       "3                              0   \n",
       "4                              0   \n",
       "...                          ...   \n",
       "9994                           0   \n",
       "9995                           0   \n",
       "9996  ['02.12.14', 1417460400.0]   \n",
       "9997                           0   \n",
       "9998  ['04.01.13', 1357236000.0]   \n",
       "\n",
       "                                        Task8.task_text  \\\n",
       "0                                                     0   \n",
       "1                                                     0   \n",
       "2                                                     0   \n",
       "3                                                     0   \n",
       "4                                                     0   \n",
       "...                                                 ...   \n",
       "9994                                                  0   \n",
       "9995                                                  0   \n",
       "9996  Подключить и настроить видеокамеру для работы ...   \n",
       "9997                                                  0   \n",
       "9998                                                  0   \n",
       "\n",
       "                         Task8.task_responsibles_people  \\\n",
       "0                                                     0   \n",
       "1                                                     0   \n",
       "2                                                     0   \n",
       "3                                                     0   \n",
       "4                                                     0   \n",
       "...                                                 ...   \n",
       "9994                                                  0   \n",
       "9995                                                  0   \n",
       "9996  За контроль над исполнением распоряжения назна...   \n",
       "9997                                                  0   \n",
       "9998                                                  0   \n",
       "\n",
       "              Task8.task_deadline  \\\n",
       "0                               0   \n",
       "1                               0   \n",
       "2                               0   \n",
       "3                               0   \n",
       "4                               0   \n",
       "...                           ...   \n",
       "9994                            0   \n",
       "9995                            0   \n",
       "9996  ['07 апр 15', 1428346800.0]   \n",
       "9997                            0   \n",
       "9998                            0   \n",
       "\n",
       "                                        Task9.task_text  \\\n",
       "0                                                     0   \n",
       "1                                                     0   \n",
       "2                                                     0   \n",
       "3                                                     0   \n",
       "4                                                     0   \n",
       "...                                                 ...   \n",
       "9994                                                  0   \n",
       "9995                                                  0   \n",
       "9996  Провести централизованную смену паролей для до...   \n",
       "9997                                                  0   \n",
       "9998                                                  0   \n",
       "\n",
       "                         Task9.task_responsibles_people  \\\n",
       "0                                                     0   \n",
       "1                                                     0   \n",
       "2                                                     0   \n",
       "3                                                     0   \n",
       "4                                                     0   \n",
       "...                                                 ...   \n",
       "9994                                                  0   \n",
       "9995                                                  0   \n",
       "9996  Контроль над выполнением настоящего распоряжен...   \n",
       "9997                                                  0   \n",
       "9998                                                  0   \n",
       "\n",
       "               Task9.task_deadline  \n",
       "0                                0  \n",
       "1                                0  \n",
       "2                                0  \n",
       "3                                0  \n",
       "4                                0  \n",
       "...                            ...  \n",
       "9994                             0  \n",
       "9995                             0  \n",
       "9996  ['08.10.2019', 1570474800.0]  \n",
       "9997                             0  \n",
       "9998                             0  \n",
       "\n",
       "[9999 rows x 30 columns]"
      ]
     },
     "execution_count": 145,
     "metadata": {},
     "output_type": "execute_result"
    }
   ],
   "source": [
    "X = df.drop(['Task1.task_responsibles_groups','Task2.task_responsibles_groups','Task3.task_responsibles_groups','Task4.task_responsibles_groups',\n",
    "            'Task5.task_responsibles_groups','Task6.task_responsibles_groups','Task7.task_responsibles_groups','Task8.task_responsibles_groups', 'Task9.task_responsibles_groups'], axis = 1)\n",
    "X"
   ]
  },
  {
   "cell_type": "code",
   "execution_count": 146,
   "id": "3dbcad1d-b162-4d4f-aa3e-9dd87f03dede",
   "metadata": {},
   "outputs": [],
   "source": [
    "y = df['Task1.task_responsibles_groups']\n"
   ]
  },
  {
   "cell_type": "code",
   "execution_count": 147,
   "id": "f18089c5-cc7b-463d-9dd1-d2c7dbbc41b0",
   "metadata": {},
   "outputs": [
    {
     "data": {
      "text/plain": [
       "0    8\n",
       "1    1\n",
       "2    7\n",
       "3    4\n",
       "4    4\n",
       "Name: Task1.task_responsibles_groups, dtype: int64"
      ]
     },
     "execution_count": 147,
     "metadata": {},
     "output_type": "execute_result"
    }
   ],
   "source": [
    "y.head()\n",
    "\n"
   ]
  },
  {
   "cell_type": "code",
   "execution_count": 148,
   "id": "91b60ead-7148-451d-aea9-04b416127f7a",
   "metadata": {},
   "outputs": [
    {
     "data": {
      "text/plain": [
       "((9999, 30), (9999,))"
      ]
     },
     "execution_count": 148,
     "metadata": {},
     "output_type": "execute_result"
    }
   ],
   "source": [
    "X.shape, y.shape"
   ]
  },
  {
   "cell_type": "code",
   "execution_count": 149,
   "id": "1efab0c1-5ce1-4a5f-b43b-b8484fcd6799",
   "metadata": {},
   "outputs": [],
   "source": [
    "num_words = 10000\n",
    "max_review_len = 100\n",
    "tokenizer = Tokenizer(num_words=num_words)"
   ]
  },
  {
   "cell_type": "code",
   "execution_count": 150,
   "id": "286be3c5-fad8-448a-a455-f77fe6769515",
   "metadata": {},
   "outputs": [],
   "source": [
    "task_1 = X['Task1.task_text']\n",
    "task_2 = X['Task2.task_text']\n",
    "task_3 = X['Task3.task_text']\n",
    "task_4 = X['Task4.task_text']\n",
    "task_5 = X['Task5.task_text']\n",
    "task_6 = X['Task6.task_text']\n",
    "task_7 = X['Task7.task_text']\n",
    "task_8 = X['Task8.task_text']\n",
    "task_9 = X['Task9.task_text']\n",
    "\n",
    "Task1_task_responsibles_people = X['Task1.task_responsibles_people']\n",
    "Task2_task_responsibles_people = X['Task2.task_responsibles_people']\n",
    "Task3_task_responsibles_people = X['Task3.task_responsibles_people']\n",
    "Task4_task_responsibles_people = X['Task4.task_responsibles_people']\n",
    "Task5_task_responsibles_people = X['Task5.task_responsibles_people']\n",
    "Task6_task_responsibles_people = X['Task6.task_responsibles_people']\n",
    "Task7_task_responsibles_people = X['Task7.task_responsibles_people']\n",
    "Task8_task_responsibles_people = X['Task8.task_responsibles_people']\n",
    "Task9_task_responsibles_people = X['Task9.task_responsibles_people']\n",
    "\n",
    "Global_supervisor = X['Global_supervisor']"
   ]
  },
  {
   "cell_type": "code",
   "execution_count": 151,
   "id": "01594160-91ff-44e2-85ba-411f8d5a0774",
   "metadata": {},
   "outputs": [],
   "source": [
    "tokenizer.fit_on_texts(Task1_task_responsibles_people)"
   ]
  },
  {
   "cell_type": "code",
   "execution_count": 152,
   "id": "e3bf1194-782c-4c2f-ad77-09ed316ff1ed",
   "metadata": {},
   "outputs": [],
   "source": [
    "sequences = tokenizer.texts_to_sequences(Task1_task_responsibles_people)"
   ]
  },
  {
   "cell_type": "code",
   "execution_count": 153,
   "id": "8c4f962c-5cca-4b8d-a742-f1f5d72fddba",
   "metadata": {},
   "outputs": [],
   "source": [
    "X = pad_sequences(sequences, maxlen=max_review_len)"
   ]
  },
  {
   "cell_type": "code",
   "execution_count": 154,
   "id": "9e055081-48c1-4e5c-b6a4-c8182509de0e",
   "metadata": {},
   "outputs": [
    {
     "data": {
      "text/plain": [
       "((8999, 100), (8999,))"
      ]
     },
     "execution_count": 154,
     "metadata": {},
     "output_type": "execute_result"
    }
   ],
   "source": [
    "X_train, X_test, y_train, y_test = train_test_split(X,\n",
    "                                                    y,\n",
    "                                                    \n",
    "                                                    test_size=0.1,\n",
    "                                                    random_state=50)\n",
    "X_train.shape, y_train.shape"
   ]
  },
  {
   "cell_type": "code",
   "execution_count": 155,
   "id": "07aead23-e5c0-4744-9f1c-e54760a25e1a",
   "metadata": {},
   "outputs": [
    {
     "data": {
      "text/plain": [
       "((8999, 100), (8999,))"
      ]
     },
     "execution_count": 155,
     "metadata": {},
     "output_type": "execute_result"
    }
   ],
   "source": [
    "X_train = np.asarray(X_train).astype(np.float32)\n",
    "y_train = np.asarray(y_train).astype(np.float32)\n",
    "X_train.shape, y_train.shape"
   ]
  },
  {
   "cell_type": "markdown",
   "id": "6113f24a-69fe-4172-88e4-bcdeb95c31ba",
   "metadata": {},
   "source": [
    "### Создаём нейросеть"
   ]
  },
  {
   "cell_type": "code",
   "execution_count": 156,
   "id": "46d686a9-370f-45e3-afd5-f1be49be9a47",
   "metadata": {},
   "outputs": [],
   "source": [
    "from tensorflow.keras.models import Sequential\n",
    "from tensorflow.keras.layers import Dense, Embedding, MaxPooling1D, Conv1D, GlobalMaxPooling1D, Dropout, LSTM, GRU\n",
    "from tensorflow.keras import utils\n",
    "from tensorflow.keras.preprocessing.sequence import pad_sequences\n",
    "from tensorflow.keras.preprocessing.text import Tokenizer\n",
    "from tensorflow.keras.callbacks import ModelCheckpoint\n",
    "from tensorflow.keras import utils\n",
    "import pandas as pd\n",
    "import numpy as np\n",
    "import matplotlib.pyplot as plt\n",
    "%matplotlib inline \n",
    "from keras.utils import to_categorical"
   ]
  },
  {
   "cell_type": "markdown",
   "id": "ddaa38a4-0e37-4652-b654-60886081f062",
   "metadata": {},
   "source": [
    "### Простая свёрточная сеть\n"
   ]
  },
  {
   "cell_type": "code",
   "execution_count": 157,
   "id": "e88f219a-f035-4925-bb61-bc3ced1d02dc",
   "metadata": {},
   "outputs": [],
   "source": [
    "# Максимальное количество слов \n",
    "num_words = 10000\n",
    "# Максимальная длина задания\n",
    "max_news_len = 100\n",
    "# Количество классов отделов\n",
    "nb_classes = 8"
   ]
  },
  {
   "cell_type": "code",
   "execution_count": 158,
   "id": "fe831506-5133-4b94-96b2-14b07ec5b900",
   "metadata": {},
   "outputs": [],
   "source": [
    "y_train = utils.to_categorical(y_train - 1, nb_classes)\n",
    "y_test = utils.to_categorical(y_test - 1, nb_classes)"
   ]
  },
  {
   "cell_type": "code",
   "execution_count": 159,
   "id": "27612331-7403-433f-bae1-ccbe3f4f3c83",
   "metadata": {},
   "outputs": [
    {
     "name": "stdout",
     "output_type": "stream",
     "text": [
      "Epoch 1/5\n",
      "64/64 [==============================] - 4s 50ms/step - loss: 1.3467 - accuracy: 0.6139 - val_loss: 0.5308 - val_accuracy: 0.8178\n",
      "Epoch 2/5\n",
      "64/64 [==============================] - 3s 44ms/step - loss: 0.3217 - accuracy: 0.8968 - val_loss: 0.1788 - val_accuracy: 0.9211\n",
      "Epoch 3/5\n",
      "64/64 [==============================] - 3s 44ms/step - loss: 0.2059 - accuracy: 0.9175 - val_loss: 0.1702 - val_accuracy: 0.9211\n",
      "Epoch 4/5\n",
      "64/64 [==============================] - 3s 43ms/step - loss: 0.2041 - accuracy: 0.9133 - val_loss: 0.1639 - val_accuracy: 0.9378\n",
      "Epoch 5/5\n",
      "64/64 [==============================] - 3s 43ms/step - loss: 0.2013 - accuracy: 0.9159 - val_loss: 0.1772 - val_accuracy: 0.9211\n"
     ]
    }
   ],
   "source": [
    "model_cnn = Sequential()\n",
    "model_cnn.add(Embedding(num_words, 32, input_length=max_news_len))\n",
    "model_cnn.add(Conv1D(250, 5, padding='valid', activation='relu'))\n",
    "model_cnn.add(GlobalMaxPooling1D())\n",
    "model_cnn.add(Dense(128, activation='relu'))\n",
    "model_cnn.add(Dense(8, activation='softmax'))\n",
    "\n",
    "model_cnn.compile(optimizer='adam', \n",
    "              loss='categorical_crossentropy', \n",
    "              metrics=['accuracy'])\n",
    "\n",
    "history_cnn = model_cnn.fit(X_train, \n",
    "                            y_train, \n",
    "                            epochs=5,\n",
    "                            batch_size=128,\n",
    "                            validation_split=0.1,\n",
    "                            )"
   ]
  },
  {
   "cell_type": "code",
   "execution_count": 160,
   "id": "86d22060-62b9-440a-acba-286cae10dd33",
   "metadata": {},
   "outputs": [
    {
     "name": "stdout",
     "output_type": "stream",
     "text": [
      "Model: \"sequential_4\"\n",
      "_________________________________________________________________\n",
      " Layer (type)                Output Shape              Param #   \n",
      "=================================================================\n",
      " embedding_4 (Embedding)     (None, 100, 32)           320000    \n",
      "                                                                 \n",
      " conv1d_1 (Conv1D)           (None, 96, 250)           40250     \n",
      "                                                                 \n",
      " global_max_pooling1d_1 (Glo  (None, 250)              0         \n",
      " balMaxPooling1D)                                                \n",
      "                                                                 \n",
      " dense_4 (Dense)             (None, 128)               32128     \n",
      "                                                                 \n",
      " dense_5 (Dense)             (None, 8)                 1032      \n",
      "                                                                 \n",
      "=================================================================\n",
      "Total params: 393,410\n",
      "Trainable params: 393,410\n",
      "Non-trainable params: 0\n",
      "_________________________________________________________________\n"
     ]
    }
   ],
   "source": [
    "model_cnn.summary()"
   ]
  },
  {
   "cell_type": "markdown",
   "id": "27f77304-3dde-4ad1-8db5-5e884ed6c480",
   "metadata": {},
   "source": [
    "### Смотрим переобучение"
   ]
  },
  {
   "cell_type": "code",
   "execution_count": 162,
   "id": "d5c2515b-5db5-4501-8096-2f9b8f3a0614",
   "metadata": {},
   "outputs": [
    {
     "data": {
      "image/png": "[encoded data removed]",
      "text/plain": [
       "<Figure size 640x480 with 1 Axes>"
      ]
     },
     "metadata": {},
     "output_type": "display_data"
    }
   ],
   "source": [
    "plt.plot(history_cnn.history['accuracy'], \n",
    "         label='Доля верных ответов на обучающем наборе')\n",
    "plt.plot(history_cnn.history['val_accuracy'], \n",
    "         label='Доля верных ответов на проверочном наборе')\n",
    "plt.xlabel('Эпоха обучения')\n",
    "plt.ylabel('Доля верных ответов')\n",
    "plt.legend()\n",
    "plt.show()"
   ]
  },
  {
   "cell_type": "markdown",
   "id": "b1dd0f4b-6eaf-4dfa-bb43-a646672232e5",
   "metadata": {},
   "source": [
    "# Сеть LSTM"
   ]
  },
  {
   "cell_type": "code",
   "execution_count": 163,
   "id": "34ec20a8-0daf-414f-9baf-6ac68d8b7d46",
   "metadata": {},
   "outputs": [],
   "source": [
    "model_lstm = Sequential()\n",
    "model_lstm.add(Embedding(num_words, 32, input_length=max_news_len))\n",
    "model_lstm.add(LSTM(16))\n",
    "model_lstm.add(Dense(8, activation='softmax'))"
   ]
  },
  {
   "cell_type": "code",
   "execution_count": 164,
   "id": "0c7acbd3-5e62-4a52-9485-8cf622229ae6",
   "metadata": {},
   "outputs": [],
   "source": [
    "model_lstm.compile(optimizer='adam', \n",
    "              loss='categorical_crossentropy', \n",
    "              metrics=['accuracy'])"
   ]
  },
  {
   "cell_type": "code",
   "execution_count": 165,
   "id": "65733e77-97a2-4f52-b63e-744f6811bc9e",
   "metadata": {},
   "outputs": [
    {
     "name": "stdout",
     "output_type": "stream",
     "text": [
      "Epoch 1/10\n",
      "64/64 [==============================] - 6s 46ms/step - loss: 1.8493 - accuracy: 0.6070 - val_loss: 1.4404 - val_accuracy: 0.7344\n",
      "Epoch 2/10\n",
      "64/64 [==============================] - 3s 39ms/step - loss: 1.0912 - accuracy: 0.7306 - val_loss: 0.7147 - val_accuracy: 0.7789\n",
      "Epoch 3/10\n",
      "64/64 [==============================] - 2s 35ms/step - loss: 0.5914 - accuracy: 0.8285 - val_loss: 0.4346 - val_accuracy: 0.8978\n",
      "Epoch 4/10\n",
      "64/64 [==============================] - 2s 37ms/step - loss: 0.3885 - accuracy: 0.9042 - val_loss: 0.3096 - val_accuracy: 0.9156\n",
      "Epoch 5/10\n",
      "64/64 [==============================] - 2s 38ms/step - loss: 0.2848 - accuracy: 0.9160 - val_loss: 0.2255 - val_accuracy: 0.9211\n",
      "Epoch 6/10\n",
      "64/64 [==============================] - 2s 38ms/step - loss: 0.2455 - accuracy: 0.9159 - val_loss: 0.2014 - val_accuracy: 0.9211\n",
      "Epoch 7/10\n",
      "64/64 [==============================] - 3s 39ms/step - loss: 0.2285 - accuracy: 0.9148 - val_loss: 0.1892 - val_accuracy: 0.9233\n",
      "Epoch 8/10\n",
      "64/64 [==============================] - 3s 42ms/step - loss: 0.2196 - accuracy: 0.9169 - val_loss: 0.1829 - val_accuracy: 0.9211\n",
      "Epoch 9/10\n",
      "64/64 [==============================] - 2s 38ms/step - loss: 0.2153 - accuracy: 0.9170 - val_loss: 0.1756 - val_accuracy: 0.9311\n",
      "Epoch 10/10\n",
      "64/64 [==============================] - 2s 37ms/step - loss: 0.2121 - accuracy: 0.9141 - val_loss: 0.1729 - val_accuracy: 0.9233\n"
     ]
    }
   ],
   "source": [
    "history_lstm = model_lstm.fit(X_train, \n",
    "                              y_train, \n",
    "                              epochs=10,\n",
    "                              batch_size=128,\n",
    "                              validation_split=0.1,\n",
    "                              )"
   ]
  },
  {
   "cell_type": "markdown",
   "id": "617b27e4-a056-4049-87c0-8e835a2ec82e",
   "metadata": {},
   "source": [
    "### Смотрим переобучение"
   ]
  },
  {
   "cell_type": "code",
   "execution_count": 166,
   "id": "c2f50094-be0e-444d-8e0a-9cc85054f168",
   "metadata": {},
   "outputs": [
    {
     "data": {
      "image/png": "[encoded data removed]",
      "text/plain": [
       "<Figure size 640x480 with 1 Axes>"
      ]
     },
     "metadata": {},
     "output_type": "display_data"
    }
   ],
   "source": [
    "plt.plot(history_lstm.history['accuracy'], \n",
    "         label='Доля верных ответов на обучающем наборе')\n",
    "plt.plot(history_lstm.history['val_accuracy'], \n",
    "         label='Доля верных ответов на проверочном наборе')\n",
    "plt.xlabel('Эпоха обучения')\n",
    "plt.ylabel('Доля верных ответов')\n",
    "plt.legend()\n",
    "plt.show()"
   ]
  },
  {
   "cell_type": "markdown",
   "id": "9fb59b3e-59f1-486e-ac5f-77082074d0db",
   "metadata": {},
   "source": [
    "### Сеть GRU"
   ]
  },
  {
   "cell_type": "code",
   "execution_count": 167,
   "id": "fc08f86c-6516-4659-9d36-78b4d5fee441",
   "metadata": {},
   "outputs": [],
   "source": [
    "model_gru = Sequential()\n",
    "model_gru.add(Embedding(num_words, 32, input_length=max_news_len))\n",
    "model_gru.add(GRU(32))\n",
    "model_gru.add(Dense(8, activation='softmax'))"
   ]
  },
  {
   "cell_type": "code",
   "execution_count": 168,
   "id": "e6d20758-8508-4eda-bf81-fee60c74099a",
   "metadata": {},
   "outputs": [],
   "source": [
    "model_gru.compile(optimizer='adam', \n",
    "              loss='categorical_crossentropy', \n",
    "              metrics=['accuracy'])"
   ]
  },
  {
   "cell_type": "code",
   "execution_count": 169,
   "id": "baa44a3e-3f05-4604-a066-9813b880b8c0",
   "metadata": {},
   "outputs": [
    {
     "name": "stdout",
     "output_type": "stream",
     "text": [
      "Model: \"sequential_6\"\n",
      "_________________________________________________________________\n",
      " Layer (type)                Output Shape              Param #   \n",
      "=================================================================\n",
      " embedding_6 (Embedding)     (None, 100, 32)           320000    \n",
      "                                                                 \n",
      " gru_3 (GRU)                 (None, 32)                6336      \n",
      "                                                                 \n",
      " dense_7 (Dense)             (None, 8)                 264       \n",
      "                                                                 \n",
      "=================================================================\n",
      "Total params: 326,600\n",
      "Trainable params: 326,600\n",
      "Non-trainable params: 0\n",
      "_________________________________________________________________\n"
     ]
    }
   ],
   "source": [
    "model_gru.summary()"
   ]
  },
  {
   "cell_type": "code",
   "execution_count": 170,
   "id": "87669ac4-c1b9-4045-b51d-9a7befd4aafa",
   "metadata": {},
   "outputs": [
    {
     "name": "stdout",
     "output_type": "stream",
     "text": [
      "Epoch 1/10\n",
      "64/64 [==============================] - 6s 51ms/step - loss: 1.7354 - accuracy: 0.6412 - val_loss: 1.1168 - val_accuracy: 0.7278\n",
      "Epoch 2/10\n",
      "64/64 [==============================] - 2s 39ms/step - loss: 0.7326 - accuracy: 0.7889 - val_loss: 0.4446 - val_accuracy: 0.8444\n",
      "Epoch 3/10\n",
      "64/64 [==============================] - 3s 44ms/step - loss: 0.3914 - accuracy: 0.8974 - val_loss: 0.2942 - val_accuracy: 0.9211\n",
      "Epoch 4/10\n",
      "64/64 [==============================] - 3s 49ms/step - loss: 0.2844 - accuracy: 0.9183 - val_loss: 0.2203 - val_accuracy: 0.9233\n",
      "Epoch 5/10\n",
      "64/64 [==============================] - 3s 48ms/step - loss: 0.2364 - accuracy: 0.9131 - val_loss: 0.1910 - val_accuracy: 0.9233\n",
      "Epoch 6/10\n",
      "64/64 [==============================] - 3s 43ms/step - loss: 0.2214 - accuracy: 0.9169 - val_loss: 0.1764 - val_accuracy: 0.9211\n",
      "Epoch 7/10\n",
      "64/64 [==============================] - 3s 41ms/step - loss: 0.2136 - accuracy: 0.9146 - val_loss: 0.1745 - val_accuracy: 0.9233\n",
      "Epoch 8/10\n",
      "64/64 [==============================] - 3s 44ms/step - loss: 0.2088 - accuracy: 0.9155 - val_loss: 0.1723 - val_accuracy: 0.9211\n",
      "Epoch 9/10\n",
      "64/64 [==============================] - 3s 42ms/step - loss: 0.2063 - accuracy: 0.9175 - val_loss: 0.1691 - val_accuracy: 0.9211\n",
      "Epoch 10/10\n",
      "64/64 [==============================] - 3s 41ms/step - loss: 0.2057 - accuracy: 0.9147 - val_loss: 0.1793 - val_accuracy: 0.9211\n"
     ]
    }
   ],
   "source": [
    "history_gru = model_gru.fit(X_train, \n",
    "                              y_train, \n",
    "                              epochs=10,\n",
    "                              batch_size=128,\n",
    "                              validation_split=0.1,\n",
    "                              )"
   ]
  },
  {
   "cell_type": "markdown",
   "id": "781b36ce-1f71-452d-803e-a996f13f2121",
   "metadata": {},
   "source": [
    "### Смотрим переобучение"
   ]
  },
  {
   "cell_type": "code",
   "execution_count": 171,
   "id": "e3a4a6aa-3a4a-4036-ad87-3d59019f0436",
   "metadata": {},
   "outputs": [
    {
     "data": {
      "image/png": "[encoded data removed]",
      "text/plain": [
       "<Figure size 640x480 with 1 Axes>"
      ]
     },
     "metadata": {},
     "output_type": "display_data"
    }
   ],
   "source": [
    "plt.plot(history_gru.history['accuracy'], \n",
    "         label='Доля верных ответов на обучающем наборе')\n",
    "plt.plot(history_gru.history['val_accuracy'], \n",
    "         label='Доля верных ответов на проверочном наборе')\n",
    "plt.xlabel('Эпоха обучения')\n",
    "plt.ylabel('Доля верных ответов')\n",
    "plt.legend()\n",
    "plt.show()"
   ]
  },
  {
   "cell_type": "markdown",
   "id": "fcf15417-15c9-45d7-85ba-11ac1fff4db3",
   "metadata": {},
   "source": [
    "### Свёрточная сеть"
   ]
  },
  {
   "cell_type": "code",
   "execution_count": 172,
   "id": "2c596814-7599-4600-99b8-d1df1abe0e75",
   "metadata": {},
   "outputs": [
    {
     "name": "stdout",
     "output_type": "stream",
     "text": [
      "32/32 [==============================] - 0s 4ms/step - loss: 0.1880 - accuracy: 0.9240\n"
     ]
    },
    {
     "data": {
      "text/plain": [
       "[0.18800990283489227, 0.9240000247955322]"
      ]
     },
     "execution_count": 172,
     "metadata": {},
     "output_type": "execute_result"
    }
   ],
   "source": [
    "model_cnn.evaluate(X_test, y_test, verbose=1)"
   ]
  },
  {
   "cell_type": "markdown",
   "id": "35d33ef3-73fc-4ad5-9f80-be8cc37d0406",
   "metadata": {},
   "source": [
    "### Сеть LSTM"
   ]
  },
  {
   "cell_type": "code",
   "execution_count": 173,
   "id": "061a3c02-45e1-4f4e-b399-d938cde413e6",
   "metadata": {},
   "outputs": [
    {
     "name": "stdout",
     "output_type": "stream",
     "text": [
      "32/32 [==============================] - 1s 8ms/step - loss: 0.1925 - accuracy: 0.9140\n"
     ]
    },
    {
     "data": {
      "text/plain": [
       "[0.19246947765350342, 0.9139999747276306]"
      ]
     },
     "execution_count": 173,
     "metadata": {},
     "output_type": "execute_result"
    }
   ],
   "source": [
    "model_lstm.evaluate(X_test, y_test, verbose=1)"
   ]
  },
  {
   "cell_type": "markdown",
   "id": "be0eb423-cc1a-43e1-866f-6e95dbf50b97",
   "metadata": {},
   "source": [
    "### Сеть GRU"
   ]
  },
  {
   "cell_type": "code",
   "execution_count": 174,
   "id": "8de959b5-7723-4fd0-8f66-a97b3c2acb0c",
   "metadata": {},
   "outputs": [
    {
     "name": "stdout",
     "output_type": "stream",
     "text": [
      "32/32 [==============================] - 1s 9ms/step - loss: 0.1909 - accuracy: 0.9240\n"
     ]
    },
    {
     "data": {
      "text/plain": [
       "[0.19090227782726288, 0.9240000247955322]"
      ]
     },
     "execution_count": 174,
     "metadata": {},
     "output_type": "execute_result"
    }
   ],
   "source": [
    "model_gru.evaluate(X_test, y_test, verbose=1)"
   ]
  },
  {
   "cell_type": "markdown",
   "id": "0339c7a6-db66-4798-bbaa-9370e35a8b9d",
   "metadata": {},
   "source": [
    "### Проверка документа на фразе"
   ]
  },
  {
   "cell_type": "code",
   "execution_count": 175,
   "id": "9a811753-16f6-4960-8ac2-e593e084825b",
   "metadata": {},
   "outputs": [],
   "source": [
    "#!pip install python-docx\n",
    "from docx import Document"
   ]
  },
  {
   "cell_type": "code",
   "execution_count": 183,
   "id": "b492ff27-71f7-441d-a97b-9dbce94c056c",
   "metadata": {},
   "outputs": [
    {
     "name": "stdout",
     "output_type": "stream",
     "text": [
      "Введите название файла: \n"
     ]
    },
    {
     "name": "stdin",
     "output_type": "stream",
     "text": [
      " 10.docx\n"
     ]
    },
    {
     "name": "stdout",
     "output_type": "stream",
     "text": [
      "\n",
      "Отдел тестирования Департамента разработки\n",
      "\n",
      "\n",
      "Информационное сообщение\n",
      "\n",
      "В связи с окончанием проекта \"Внедрение системы знаний\" поручаю обеспечить выполнение задач:\n",
      "1). Признать утратившими силу следующие организационно-распорядительные документы:\n",
      "приказ Генерального директора от 09.07.2021 N 398.\n",
      "Выполнить данное поручение до 20 ноя 18.\n",
      "\n",
      "\t○ дополнить пункт 2.4.1.3 приложением N 61 (прилагается).\n",
      "Ответственным за контролем над исполнением вышеизложенного поручения назначить специалиста по информационной безопасности Поварихина Владимира. Привести вышеизложенное поручение в исполнение к 05.01.2016.\n",
      "\n",
      "\t○ Дополнить новым подпунктом 10.6 следующего содержания:\n",
      "\"10.6. Осуществление контроля качества предоставления государственных услуг и обеспечения их доступности по линии безопасности дорожного движения.\". Приступить к исполнению поручения до 21 июня 2015 г..\n",
      "Ответственность за исполнение задачи возложить на Контент менеджера Хромеца Манего.\n",
      "\n",
      "\t\ta) Внести изменения в ОРД согласно прилагаемому Перечню.\n",
      "ПЕРЕЧЕНЬ ИЗМЕНЕНИЙ, ВНОСИМЫХ В ОРД Контроль над выполнением вышеуказанного поручения возложить на администратора вычислительной сети Турова Савву.\n",
      "Определить срок исполнения задачи вплоть до 20 декабря 03.\n",
      "\n",
      "2). Внести в Регламент, утвержденный приказом Генерального директора от 11.05.2016 N 276, изменение, исключив из пункта 1.11 слова \"а также деятельность Руководителя удаленного офиса\".\n",
      "Ответственность за исполнение задачи возложить на Контент менеджера Роговцова Беньямина.\n",
      "Установить срок выполнения задачи до 19.08.22.\n",
      "Контроль над выполнением настоящего распоряжения оставляю за собой\n",
      "Опокин А. В.\n",
      "26.07.2009\n",
      "\n",
      "\n",
      "\n"
     ]
    }
   ],
   "source": [
    "directory = 'hackaton_2023_01/task_3/output_decrees/docx/'\n",
    "series = []\n",
    "filesText = []\n",
    "\n",
    "#for fileIndex in range():\n",
    "#    name = str(fileIndex) + '.docx'\n",
    "print(\"Введите название файла: \")\n",
    "\n",
    "name = str(input())\n",
    "\n",
    "def file(name):\n",
    "    \n",
    "\n",
    "    fileText = ''\n",
    "\n",
    "    document = Document(directory + name)\n",
    "    for paragraph in document.paragraphs:\n",
    "        fileText += paragraph.text + '\\n'\n",
    "    print(fileText)\n",
    "    filesText.append(fileText)\n",
    "\n",
    "    return fileText\n",
    "\n",
    "fileText = file(name)"
   ]
  },
  {
   "cell_type": "code",
   "execution_count": 184,
   "id": "b6187100-2c53-468e-b696-45a77a2acb65",
   "metadata": {},
   "outputs": [
    {
     "data": {
      "text/plain": [
       "'\\nОтдел тестирования Департамента разработки\\n\\n\\nИнформационное сообщение\\n\\nВ связи с окончанием проекта \"Внедрение системы знаний\" поручаю обеспечить выполнение задач:\\n1). Признать утратившими силу следующие организационно-распорядительные документы:\\nприказ Генерального директора от 09.07.2021 N 398.\\nВыполнить данное поручение до 20 ноя 18.\\n\\n\\t○ дополнить пункт 2.4.1.3 приложением N 61 (прилагается).\\nОтветственным за контролем над исполнением вышеизложенного поручения назначить специалиста по информационной безопасности Поварихина Владимира. Привести вышеизложенное поручение в исполнение к 05.01.2016.\\n\\n\\t○ Дополнить новым подпунктом 10.6 следующего содержания:\\n\"10.6. Осуществление контроля качества предоставления государственных услуг и обеспечения их доступности по линии безопасности дорожного движения.\". Приступить к исполнению поручения до 21 июня 2015 г..\\nОтветственность за исполнение задачи возложить на Контент менеджера Хромеца Манего.\\n\\n\\t\\ta) Внести изменения в ОРД согласно прилагаемому Перечню.\\nПЕРЕЧЕНЬ ИЗМЕНЕНИЙ, ВНОСИМЫХ В ОРД Контроль над выполнением вышеуказанного поручения возложить на администратора вычислительной сети Турова Савву.\\nОпределить срок исполнения задачи вплоть до 20 декабря 03.\\n\\n2). Внести в Регламент, утвержденный приказом Генерального директора от 11.05.2016 N 276, изменение, исключив из пункта 1.11 слова \"а также деятельность Руководителя удаленного офиса\".\\nОтветственность за исполнение задачи возложить на Контент менеджера Роговцова Беньямина.\\nУстановить срок выполнения задачи до 19.08.22.\\nКонтроль над выполнением настоящего распоряжения оставляю за собой\\nОпокин А. В.\\n26.07.2009\\n\\n\\n'"
      ]
     },
     "execution_count": 184,
     "metadata": {},
     "output_type": "execute_result"
    }
   ],
   "source": [
    "fileText"
   ]
  },
  {
   "cell_type": "markdown",
   "id": "91f9d09e-1b18-4d20-a7d4-e8e2a933c563",
   "metadata": {},
   "source": [
    "# Векторизация текста"
   ]
  },
  {
   "cell_type": "code",
   "execution_count": 185,
   "id": "366e73d1-01d4-413e-bbc0-97a4675f0b3a",
   "metadata": {},
   "outputs": [],
   "source": [
    "sequence = tokenizer.texts_to_sequences([fileText])"
   ]
  },
  {
   "cell_type": "code",
   "execution_count": 186,
   "id": "ccb97bbc-0978-48cb-8d5d-b9ac75859e38",
   "metadata": {},
   "outputs": [],
   "source": [
    "data = pad_sequences(sequence, maxlen=max_review_len)"
   ]
  },
  {
   "cell_type": "code",
   "execution_count": 187,
   "id": "e26a133e-6762-4fab-b144-b39b3abd7b15",
   "metadata": {},
   "outputs": [
    {
     "name": "stdout",
     "output_type": "stream",
     "text": [
      "1/1 [==============================] - 0s 35ms/step\n"
     ]
    }
   ],
   "source": [
    "result = model_cnn.predict(data)"
   ]
  },
  {
   "cell_type": "code",
   "execution_count": 188,
   "id": "f2453029-cc11-4fca-8c2d-b7a3a7e0423b",
   "metadata": {},
   "outputs": [
    {
     "data": {
      "text/plain": [
       "array([[0.483, 0.018, 0.014, 0.07 , 0.024, 0.005, 0.364, 0.023]],\n",
       "      dtype=float32)"
      ]
     },
     "execution_count": 188,
     "metadata": {},
     "output_type": "execute_result"
    }
   ],
   "source": [
    "np.round(result, 3)"
   ]
  },
  {
   "cell_type": "code",
   "execution_count": 182,
   "id": "72006145-766d-491e-8188-e72f1e23314a",
   "metadata": {},
   "outputs": [
    {
     "data": {
      "text/plain": [
       "{'Служба ИТ': 1,\n",
       " 'Отдел архитектуры': 2,\n",
       " 'Отдел проектирования': 3,\n",
       " 'Бухгалтерия': 4,\n",
       " 'Отдел эксплуатации': 5,\n",
       " 'Отдел тестирования': 6,\n",
       " 'Отдел разработки систем': 7,\n",
       " 'Административно-хозяйственный отдел': 8}"
      ]
     },
     "execution_count": 182,
     "metadata": {},
     "output_type": "execute_result"
    }
   ],
   "source": [
    "classes_dep"
   ]
  },
  {
   "cell_type": "markdown",
   "id": "63bef61a-a290-4e44-9de8-375f24a5a0e4",
   "metadata": {},
   "source": [
    "### Находим уникальные значения департаментов."
   ]
  },
  {
   "cell_type": "code",
   "execution_count": null,
   "id": "1dddc3a8-9c92-4e2c-91a5-9f63542446f4",
   "metadata": {},
   "outputs": [],
   "source": [
    "departments_set = set(DEPARTMENTS)\n",
    "departments_Unique_list = list(departments_set)\n",
    "departments_Unique_list"
   ]
  },
  {
   "cell_type": "markdown",
   "id": "f41654f5-343a-4ae3-a005-04b02e84e7ee",
   "metadata": {},
   "source": [
    "### Строим однонаправленный граф."
   ]
  },
  {
   "cell_type": "code",
   "execution_count": null,
   "id": "72f8da09-5275-4802-80fc-b0b2d1a605a3",
   "metadata": {},
   "outputs": [],
   "source": [
    "DG = nx.DiGraph()\n",
    "\n",
    "\n",
    "DG.add_edge('ООО \"Мегасофт\"', departments_Unique_list[0]) \n",
    "DG.add_edge('ООО \"Мегасофт\"', departments_Unique_list[1]) \n",
    "DG.add_edge('ООО \"Мегасофт\"', departments_Unique_list[2]) \n",
    "DG.add_edge('ООО \"Мегасофт\"', departments_Unique_list[3]) \n",
    "DG.add_edge('ООО \"Мегасофт\"', departments_Unique_list[4]) \n",
    "DG.add_edge('ООО \"Мегасофт\"', departments_Unique_list[5]) \n",
    "DG.add_edge('ООО \"Мегасофт\"', departments_Unique_list[6]) \n",
    "DG.add_edge('ООО \"Мегасофт\"', departments_Unique_list[7]) \n",
    "\n",
    "nx.draw(DG, with_labels=True, font_weight='bold')"
   ]
  },
  {
   "cell_type": "markdown",
   "id": "604bfab9-2499-4e5b-bbc5-d0e6c0f559c3",
   "metadata": {},
   "source": [
    "### Создаём мешок слов"
   ]
  },
  {
   "cell_type": "code",
   "execution_count": null,
   "id": "de4c97da-80ba-4a5a-9947-1f6d23fcd8d4",
   "metadata": {},
   "outputs": [],
   "source": [
    "def vectorize_sequences(sequences, dimension=10000):\n",
    "    results = np.zeros((len(sequences), dimension))\n",
    "    for i, sequence in enumerate(sequences):\n",
    "        for index in sequence:\n",
    "            results[i, index] += 1.\n",
    "    return results"
   ]
  },
  {
   "cell_type": "code",
   "execution_count": null,
   "id": "1e798429-fe15-4a43-8405-128498fe6499",
   "metadata": {},
   "outputs": [],
   "source": []
  }
 ],
 "metadata": {
  "kernelspec": {
   "display_name": "Python 3 (ipykernel)",
   "language": "python",
   "name": "python3"
  },
  "language_info": {
   "codemirror_mode": {
    "name": "ipython",
    "version": 3
   },
   "file_extension": ".py",
   "mimetype": "text/x-python",
   "name": "python",
   "nbconvert_exporter": "python",
   "pygments_lexer": "ipython3",
   "version": "3.8.13"
  }
 },
 "nbformat": 4,
 "nbformat_minor": 5
}
